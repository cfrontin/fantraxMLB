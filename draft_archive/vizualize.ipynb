{
 "cells": [
  {
   "cell_type": "code",
   "execution_count": 1,
   "metadata": {},
   "outputs": [],
   "source": [
    "from pprint import pprint\n",
    "\n",
    "import numpy as np\n",
    "import pandas as pd\n",
    "\n",
    "import matplotlib.pyplot as plt\n",
    "import seaborn as sns\n",
    "import plotly.express as px\n",
    "\n",
    "from baseballprospectus import append_fantraxIDs\n",
    "from baseballprospectus import load_baseballprospectus_data\n",
    "from baseballprospectus import append_fantrax_scoring\n",
    "\n",
    "from utils import *\n",
    "from fantraxAPI import *\n",
    "\n",
    "import tools_cvf"
   ]
  },
  {
   "cell_type": "code",
   "execution_count": 2,
   "metadata": {},
   "outputs": [
    {
     "name": "stdout",
     "output_type": "stream",
     "text": [
      "\n",
      "loading player ID map... done.\n",
      "loading PECOTA hitting... done.\n",
      "loading PECOTA pitching... done.\n",
      "warning: ['gidp', 'ibb', 'pko', 'sf', 'sh'] not in hitting dataframe.\n",
      "warning: ['bk', 'bs', 'ir', 'irs', 'ibb', 'wp'] not in pitching dataframe.\n"
     ]
    }
   ],
   "source": [
    "from baseballprospectus import merge_hittingpitching\n",
    "\n",
    "\n",
    "plt.style.use(tools_cvf.get_stylesheets(dark=True))\n",
    "px.defaults.template = \"plotly_dark\"\n",
    "\n",
    "# get the map of player IDs\n",
    "df_idmap = load_playerIDMap()\n",
    "\n",
    "# get BP/PECOTA predictions, map to points projections\n",
    "df_pecota_hitting, df_pecota_pitching = load_baseballprospectus_data(50)\n",
    "\n",
    "# append fantrax info to BP dataframes\n",
    "df_pecota_hitting = append_fantraxIDs(df_pecota_hitting, df_idmap)\n",
    "df_pecota_pitching = append_fantraxIDs(df_pecota_pitching, df_idmap)\n",
    "df_pecota_hitting = append_fantrax_scoring(df_pecota_hitting, pitching=False)\n",
    "df_pecota_pitching = append_fantrax_scoring(df_pecota_pitching, pitching=True)\n",
    "\n",
    "# merge hitting and pitching\n",
    "df_pecota_all = merge_hittingpitching(df_pecota_hitting, df_pecota_pitching)"
   ]
  },
  {
   "cell_type": "code",
   "execution_count": 3,
   "metadata": {},
   "outputs": [
    {
     "data": {
      "text/html": [
       "<div>\n",
       "<style scoped>\n",
       "    .dataframe tbody tr th:only-of-type {\n",
       "        vertical-align: middle;\n",
       "    }\n",
       "\n",
       "    .dataframe tbody tr th {\n",
       "        vertical-align: top;\n",
       "    }\n",
       "\n",
       "    .dataframe thead th {\n",
       "        text-align: right;\n",
       "    }\n",
       "</style>\n",
       "<table border=\"1\" class=\"dataframe\">\n",
       "  <thead>\n",
       "    <tr style=\"text-align: right;\">\n",
       "      <th></th>\n",
       "      <th>bpid</th>\n",
       "      <th>mlbid</th>\n",
       "      <th>model_timestamp</th>\n",
       "      <th>percentile</th>\n",
       "      <th>name</th>\n",
       "      <th>first_name</th>\n",
       "      <th>last_name</th>\n",
       "      <th>pos</th>\n",
       "      <th>birthday</th>\n",
       "      <th>bats</th>\n",
       "      <th>...</th>\n",
       "      <th>era</th>\n",
       "      <th>fip</th>\n",
       "      <th>cfip</th>\n",
       "      <th>dra</th>\n",
       "      <th>dra_minus</th>\n",
       "      <th>warp_pitch</th>\n",
       "      <th>comparables_pitch</th>\n",
       "      <th>fpts_pitch</th>\n",
       "      <th>warp</th>\n",
       "      <th>fpts</th>\n",
       "    </tr>\n",
       "  </thead>\n",
       "  <tbody>\n",
       "    <tr>\n",
       "      <th>0</th>\n",
       "      <td>105454.0</td>\n",
       "      <td>660670.0</td>\n",
       "      <td>2024-03-11 08:25:38.566</td>\n",
       "      <td>50.0</td>\n",
       "      <td>Ronald Acuña Jr.</td>\n",
       "      <td>Ronald</td>\n",
       "      <td>Acuña</td>\n",
       "      <td>RF</td>\n",
       "      <td>1997-12-18</td>\n",
       "      <td>R</td>\n",
       "      <td>...</td>\n",
       "      <td>0.00</td>\n",
       "      <td>0.00</td>\n",
       "      <td>0.0</td>\n",
       "      <td>0.00</td>\n",
       "      <td>0.0</td>\n",
       "      <td>0.0</td>\n",
       "      <td>NaN</td>\n",
       "      <td>0.000000</td>\n",
       "      <td>6.8</td>\n",
       "      <td>243.750000</td>\n",
       "    </tr>\n",
       "    <tr>\n",
       "      <th>1</th>\n",
       "      <td>107182.0</td>\n",
       "      <td>665742.0</td>\n",
       "      <td>2024-03-11 08:25:38.566</td>\n",
       "      <td>50.0</td>\n",
       "      <td>Juan Soto</td>\n",
       "      <td>Juan</td>\n",
       "      <td>Soto</td>\n",
       "      <td>LF</td>\n",
       "      <td>1998-10-25</td>\n",
       "      <td>L</td>\n",
       "      <td>...</td>\n",
       "      <td>0.00</td>\n",
       "      <td>0.00</td>\n",
       "      <td>0.0</td>\n",
       "      <td>0.00</td>\n",
       "      <td>0.0</td>\n",
       "      <td>0.0</td>\n",
       "      <td>NaN</td>\n",
       "      <td>0.000000</td>\n",
       "      <td>6.5</td>\n",
       "      <td>262.250000</td>\n",
       "    </tr>\n",
       "    <tr>\n",
       "      <th>2</th>\n",
       "      <td>111306.0</td>\n",
       "      <td>660271.0</td>\n",
       "      <td>2024-03-11 08:25:38.566</td>\n",
       "      <td>50.0</td>\n",
       "      <td>Shohei Ohtani</td>\n",
       "      <td>Shohei</td>\n",
       "      <td>Ohtani</td>\n",
       "      <td>DH</td>\n",
       "      <td>1994-07-05</td>\n",
       "      <td>L</td>\n",
       "      <td>...</td>\n",
       "      <td>3.01</td>\n",
       "      <td>3.64</td>\n",
       "      <td>75.0</td>\n",
       "      <td>3.44</td>\n",
       "      <td>73.0</td>\n",
       "      <td>0.9</td>\n",
       "      <td>NaN</td>\n",
       "      <td>70.081102</td>\n",
       "      <td>6.5</td>\n",
       "      <td>292.081102</td>\n",
       "    </tr>\n",
       "    <tr>\n",
       "      <th>3</th>\n",
       "      <td>70430.0</td>\n",
       "      <td>605141.0</td>\n",
       "      <td>2024-03-11 08:25:38.566</td>\n",
       "      <td>50.0</td>\n",
       "      <td>Mookie Betts</td>\n",
       "      <td>Mookie</td>\n",
       "      <td>Betts</td>\n",
       "      <td>SS</td>\n",
       "      <td>1992-10-07</td>\n",
       "      <td>R</td>\n",
       "      <td>...</td>\n",
       "      <td>0.00</td>\n",
       "      <td>0.00</td>\n",
       "      <td>0.0</td>\n",
       "      <td>0.00</td>\n",
       "      <td>0.0</td>\n",
       "      <td>0.0</td>\n",
       "      <td>NaN</td>\n",
       "      <td>0.000000</td>\n",
       "      <td>5.1</td>\n",
       "      <td>226.500000</td>\n",
       "    </tr>\n",
       "    <tr>\n",
       "      <th>4</th>\n",
       "      <td>135527.0</td>\n",
       "      <td>668939.0</td>\n",
       "      <td>2024-03-11 08:25:38.566</td>\n",
       "      <td>50.0</td>\n",
       "      <td>Adley Rutschman</td>\n",
       "      <td>Adley</td>\n",
       "      <td>Rutschman</td>\n",
       "      <td>C</td>\n",
       "      <td>1998-02-06</td>\n",
       "      <td>S</td>\n",
       "      <td>...</td>\n",
       "      <td>0.00</td>\n",
       "      <td>0.00</td>\n",
       "      <td>0.0</td>\n",
       "      <td>0.00</td>\n",
       "      <td>0.0</td>\n",
       "      <td>0.0</td>\n",
       "      <td>NaN</td>\n",
       "      <td>0.000000</td>\n",
       "      <td>5.0</td>\n",
       "      <td>171.000000</td>\n",
       "    </tr>\n",
       "    <tr>\n",
       "      <th>...</th>\n",
       "      <td>...</td>\n",
       "      <td>...</td>\n",
       "      <td>...</td>\n",
       "      <td>...</td>\n",
       "      <td>...</td>\n",
       "      <td>...</td>\n",
       "      <td>...</td>\n",
       "      <td>...</td>\n",
       "      <td>...</td>\n",
       "      <td>...</td>\n",
       "      <td>...</td>\n",
       "      <td>...</td>\n",
       "      <td>...</td>\n",
       "      <td>...</td>\n",
       "      <td>...</td>\n",
       "      <td>...</td>\n",
       "      <td>...</td>\n",
       "      <td>...</td>\n",
       "      <td>...</td>\n",
       "      <td>...</td>\n",
       "      <td>...</td>\n",
       "    </tr>\n",
       "    <tr>\n",
       "      <th>1891</th>\n",
       "      <td>NaN</td>\n",
       "      <td>NaN</td>\n",
       "      <td>NaT</td>\n",
       "      <td>NaN</td>\n",
       "      <td>Ryan Castellani</td>\n",
       "      <td>Ryan</td>\n",
       "      <td>Castellani</td>\n",
       "      <td>NaN</td>\n",
       "      <td>NaN</td>\n",
       "      <td>NaN</td>\n",
       "      <td>...</td>\n",
       "      <td>6.91</td>\n",
       "      <td>6.26</td>\n",
       "      <td>150.0</td>\n",
       "      <td>6.77</td>\n",
       "      <td>144.0</td>\n",
       "      <td>-0.9</td>\n",
       "      <td>NaN</td>\n",
       "      <td>52.701045</td>\n",
       "      <td>-0.9</td>\n",
       "      <td>52.701045</td>\n",
       "    </tr>\n",
       "    <tr>\n",
       "      <th>1892</th>\n",
       "      <td>NaN</td>\n",
       "      <td>NaN</td>\n",
       "      <td>NaT</td>\n",
       "      <td>NaN</td>\n",
       "      <td>Joe Palumbo</td>\n",
       "      <td>Joe</td>\n",
       "      <td>Palumbo</td>\n",
       "      <td>NaN</td>\n",
       "      <td>NaN</td>\n",
       "      <td>NaN</td>\n",
       "      <td>...</td>\n",
       "      <td>7.12</td>\n",
       "      <td>6.25</td>\n",
       "      <td>149.0</td>\n",
       "      <td>6.89</td>\n",
       "      <td>147.0</td>\n",
       "      <td>-1.0</td>\n",
       "      <td>NaN</td>\n",
       "      <td>55.607373</td>\n",
       "      <td>-1.0</td>\n",
       "      <td>55.607373</td>\n",
       "    </tr>\n",
       "    <tr>\n",
       "      <th>1893</th>\n",
       "      <td>NaN</td>\n",
       "      <td>NaN</td>\n",
       "      <td>NaT</td>\n",
       "      <td>NaN</td>\n",
       "      <td>Noah Song</td>\n",
       "      <td>Noah</td>\n",
       "      <td>Song</td>\n",
       "      <td>NaN</td>\n",
       "      <td>NaN</td>\n",
       "      <td>NaN</td>\n",
       "      <td>...</td>\n",
       "      <td>6.83</td>\n",
       "      <td>5.90</td>\n",
       "      <td>145.0</td>\n",
       "      <td>6.80</td>\n",
       "      <td>145.0</td>\n",
       "      <td>-1.0</td>\n",
       "      <td>Charlie Haeger (30), Steven Wright (30), Austi...</td>\n",
       "      <td>53.038867</td>\n",
       "      <td>-1.0</td>\n",
       "      <td>53.038867</td>\n",
       "    </tr>\n",
       "    <tr>\n",
       "      <th>1894</th>\n",
       "      <td>NaN</td>\n",
       "      <td>NaN</td>\n",
       "      <td>NaT</td>\n",
       "      <td>NaN</td>\n",
       "      <td>Joe Wieland</td>\n",
       "      <td>Joe</td>\n",
       "      <td>Wieland</td>\n",
       "      <td>NaN</td>\n",
       "      <td>NaN</td>\n",
       "      <td>NaN</td>\n",
       "      <td>...</td>\n",
       "      <td>6.97</td>\n",
       "      <td>6.08</td>\n",
       "      <td>148.0</td>\n",
       "      <td>7.00</td>\n",
       "      <td>149.0</td>\n",
       "      <td>-1.1</td>\n",
       "      <td>NaN</td>\n",
       "      <td>51.949678</td>\n",
       "      <td>-1.1</td>\n",
       "      <td>51.949678</td>\n",
       "    </tr>\n",
       "    <tr>\n",
       "      <th>1895</th>\n",
       "      <td>NaN</td>\n",
       "      <td>NaN</td>\n",
       "      <td>NaT</td>\n",
       "      <td>NaN</td>\n",
       "      <td>Josh Rogers</td>\n",
       "      <td>Josh</td>\n",
       "      <td>Rogers</td>\n",
       "      <td>NaN</td>\n",
       "      <td>NaN</td>\n",
       "      <td>NaN</td>\n",
       "      <td>...</td>\n",
       "      <td>7.00</td>\n",
       "      <td>6.29</td>\n",
       "      <td>155.0</td>\n",
       "      <td>7.10</td>\n",
       "      <td>151.0</td>\n",
       "      <td>-1.1</td>\n",
       "      <td>NaN</td>\n",
       "      <td>48.532550</td>\n",
       "      <td>-1.1</td>\n",
       "      <td>48.532550</td>\n",
       "    </tr>\n",
       "  </tbody>\n",
       "</table>\n",
       "<p>1896 rows × 76 columns</p>\n",
       "</div>"
      ],
      "text/plain": [
       "          bpid     mlbid         model_timestamp  percentile  \\\n",
       "0     105454.0  660670.0 2024-03-11 08:25:38.566        50.0   \n",
       "1     107182.0  665742.0 2024-03-11 08:25:38.566        50.0   \n",
       "2     111306.0  660271.0 2024-03-11 08:25:38.566        50.0   \n",
       "3      70430.0  605141.0 2024-03-11 08:25:38.566        50.0   \n",
       "4     135527.0  668939.0 2024-03-11 08:25:38.566        50.0   \n",
       "...        ...       ...                     ...         ...   \n",
       "1891       NaN       NaN                     NaT         NaN   \n",
       "1892       NaN       NaN                     NaT         NaN   \n",
       "1893       NaN       NaN                     NaT         NaN   \n",
       "1894       NaN       NaN                     NaT         NaN   \n",
       "1895       NaN       NaN                     NaT         NaN   \n",
       "\n",
       "                  name first_name   last_name  pos    birthday bats  ...  \\\n",
       "0     Ronald Acuña Jr.     Ronald       Acuña   RF  1997-12-18    R  ...   \n",
       "1            Juan Soto       Juan        Soto   LF  1998-10-25    L  ...   \n",
       "2        Shohei Ohtani     Shohei      Ohtani   DH  1994-07-05    L  ...   \n",
       "3         Mookie Betts     Mookie       Betts   SS  1992-10-07    R  ...   \n",
       "4      Adley Rutschman      Adley   Rutschman    C  1998-02-06    S  ...   \n",
       "...                ...        ...         ...  ...         ...  ...  ...   \n",
       "1891   Ryan Castellani       Ryan  Castellani  NaN         NaN  NaN  ...   \n",
       "1892       Joe Palumbo        Joe     Palumbo  NaN         NaN  NaN  ...   \n",
       "1893         Noah Song       Noah        Song  NaN         NaN  NaN  ...   \n",
       "1894       Joe Wieland        Joe     Wieland  NaN         NaN  NaN  ...   \n",
       "1895       Josh Rogers       Josh      Rogers  NaN         NaN  NaN  ...   \n",
       "\n",
       "       era   fip   cfip   dra dra_minus  warp_pitch  \\\n",
       "0     0.00  0.00    0.0  0.00       0.0         0.0   \n",
       "1     0.00  0.00    0.0  0.00       0.0         0.0   \n",
       "2     3.01  3.64   75.0  3.44      73.0         0.9   \n",
       "3     0.00  0.00    0.0  0.00       0.0         0.0   \n",
       "4     0.00  0.00    0.0  0.00       0.0         0.0   \n",
       "...    ...   ...    ...   ...       ...         ...   \n",
       "1891  6.91  6.26  150.0  6.77     144.0        -0.9   \n",
       "1892  7.12  6.25  149.0  6.89     147.0        -1.0   \n",
       "1893  6.83  5.90  145.0  6.80     145.0        -1.0   \n",
       "1894  6.97  6.08  148.0  7.00     149.0        -1.1   \n",
       "1895  7.00  6.29  155.0  7.10     151.0        -1.1   \n",
       "\n",
       "                                      comparables_pitch fpts_pitch  warp  \\\n",
       "0                                                   NaN   0.000000   6.8   \n",
       "1                                                   NaN   0.000000   6.5   \n",
       "2                                                   NaN  70.081102   6.5   \n",
       "3                                                   NaN   0.000000   5.1   \n",
       "4                                                   NaN   0.000000   5.0   \n",
       "...                                                 ...        ...   ...   \n",
       "1891                                                NaN  52.701045  -0.9   \n",
       "1892                                                NaN  55.607373  -1.0   \n",
       "1893  Charlie Haeger (30), Steven Wright (30), Austi...  53.038867  -1.0   \n",
       "1894                                                NaN  51.949678  -1.1   \n",
       "1895                                                NaN  48.532550  -1.1   \n",
       "\n",
       "            fpts  \n",
       "0     243.750000  \n",
       "1     262.250000  \n",
       "2     292.081102  \n",
       "3     226.500000  \n",
       "4     171.000000  \n",
       "...          ...  \n",
       "1891   52.701045  \n",
       "1892   55.607373  \n",
       "1893   53.038867  \n",
       "1894   51.949678  \n",
       "1895   48.532550  \n",
       "\n",
       "[1896 rows x 76 columns]"
      ]
     },
     "execution_count": 3,
     "metadata": {},
     "output_type": "execute_result"
    }
   ],
   "source": [
    "df_pecota_all"
   ]
  },
  {
   "cell_type": "code",
   "execution_count": 4,
   "metadata": {},
   "outputs": [],
   "source": [
    "# df_pecota_hitting.columns"
   ]
  },
  {
   "cell_type": "code",
   "execution_count": 5,
   "metadata": {},
   "outputs": [],
   "source": [
    "# df_pecota_pitching.columns"
   ]
  },
  {
   "cell_type": "code",
   "execution_count": 6,
   "metadata": {},
   "outputs": [
    {
     "data": {
      "application/vnd.plotly.v1+json": {
       "config": {
        "plotlyServerURL": "https://plot.ly"
       },
       "data": [
        {
         "customdata": [
          [
           "Ronald Acuña Jr.",
           "RF",
           "*03wha*"
          ],
          [
           "Juan Soto",
           "LF",
           "*03ynj*"
          ],
          [
           "Shohei Ohtani",
           "DH",
           "*02yc4*"
          ],
          [
           "Mookie Betts",
           "SS",
           "*02btf*"
          ],
          [
           "Adley Rutschman",
           "C",
           "*04q2n*"
          ],
          [
           "Corbin Carroll",
           "RF",
           "*04y4e*"
          ],
          [
           "Yordan Alvarez",
           "DH",
           "*04355*"
          ],
          [
           "Aaron Judge",
           "CF",
           "*02z0s*"
          ],
          [
           "Matt Olson",
           "1B",
           "*02mwm*"
          ],
          [
           "Fernando Tatis Jr.",
           "RF",
           "*03zbh*"
          ],
          [
           "José Ramírez",
           "3B",
           "*01ub6*"
          ],
          [
           "Austin Riley",
           "3B",
           "*03pom*"
          ],
          [
           "Corey Seager",
           "SS",
           "*02mw6*"
          ],
          [
           "Freddie Freeman",
           "1B",
           "*01cgo*"
          ],
          [
           "Luis Arraez",
           "2B",
           "*03mew*"
          ],
          [
           "Alex Bregman",
           "3B",
           "*02w7p*"
          ],
          [
           "Steven Kwan",
           "LF",
           "*04pr1*"
          ],
          [
           "Vladimir Guerrero Jr.",
           "1B",
           "*03ojr*"
          ],
          [
           "Kyle Tucker",
           "RF",
           "*03pir*"
          ],
          [
           "Pete Alonso",
           "1B",
           "*041pz*"
          ],
          [
           "Manny Machado",
           "3B",
           "*01svq*"
          ],
          [
           "Mike Trout",
           "CF",
           "*01s8u*"
          ],
          [
           "Rafael Devers",
           "3B",
           "*030uc*"
          ],
          [
           "Marcus Semien",
           "2B",
           "*02bu9*"
          ],
          [
           "Brandon Nimmo",
           "LF",
           "*02bq2*"
          ],
          [
           "Bo Bichette",
           "SS",
           "*041qb*"
          ],
          [
           "Jose Altuve",
           "2B",
           "*024m0*"
          ],
          [
           "Bryan Reynolds",
           "LF",
           "*03e5m*"
          ],
          [
           "Dansby Swanson",
           "SS",
           "*03ae8*"
          ],
          [
           "Trea Turner",
           "SS",
           "*02c68*"
          ],
          [
           "Julio Rodríguez",
           "CF",
           "*04fhb*"
          ],
          [
           "Paul Goldschmidt",
           "1B",
           "*01ual*"
          ],
          [
           "J.P. Crawford",
           "SS",
           "*0310z*"
          ],
          [
           "Jazz Chisholm Jr.",
           "CF",
           "*045qo*"
          ],
          [
           "Francisco Alvarez",
           "C",
           "*04qnc*"
          ],
          [
           "Cal Raleigh",
           "C",
           "*04my4*"
          ],
          [
           "Xander Bogaerts",
           "2B",
           "*025gb*"
          ],
          [
           "Ketel Marte",
           "2B",
           "*0326s*"
          ],
          [
           "Willy Adames",
           "SS",
           "*03atq*"
          ],
          [
           "Nolan Arenado",
           "3B",
           "*01sy3*"
          ],
          [
           "Gunnar Henderson",
           "SS",
           "*050w9*"
          ],
          [
           "Francisco Lindor",
           "SS",
           "*02611*"
          ],
          [
           "Sean Murphy",
           "C",
           "*03aoy*"
          ],
          [
           "Will Smith",
           "C",
           "*042sz*"
          ],
          [
           "Yandy Díaz",
           "1B",
           "*03m6o*"
          ],
          [
           "Bryce Harper",
           "1B",
           "*01fh9*"
          ],
          [
           "Ozzie Albies",
           "2B",
           "*03fi0*"
          ],
          [
           "Seiya Suzuki",
           "RF",
           "*04b02*"
          ],
          [
           "Bobby Witt Jr.",
           "SS",
           "*04lgp*"
          ],
          [
           "Carlos Correa",
           "SS",
           "*02i2q*"
          ],
          [
           "Jung Hoo Lee",
           "CF",
           "*05m49*"
          ],
          [
           "Ian Happ",
           "LF",
           "*03nmw*"
          ],
          [
           "Kyle Schwarber",
           "DH",
           "*03cag*"
          ],
          [
           "Gleyber Torres",
           "2B",
           "*031t0*"
          ],
          [
           "Jonah Heim",
           "C",
           "*031b2*"
          ],
          [
           "Luis Robert Jr.",
           "CF",
           "*047l7*"
          ],
          [
           "Randy Arozarena",
           "LF",
           "*040b5*"
          ],
          [
           "Cedric Mullins",
           "CF",
           "*03qr0*"
          ],
          [
           "Alejandro Kirk",
           "C",
           "*04t3y*"
          ],
          [
           "Willson Contreras",
           "C",
           "*03oh0*"
          ],
          [
           "Ha-Seong Kim",
           "SS",
           "*05ajg*"
          ],
          [
           "Andrés Giménez",
           "2B",
           "*03pzn*"
          ],
          [
           "Lars Nootbaar",
           "LF",
           "*04pt2*"
          ],
          [
           "Masataka Yoshida",
           "DH",
           "*05rc3*"
          ],
          [
           "Tommy Edman",
           "CF",
           "*041sq*"
          ],
          [
           "J.T. Realmuto",
           "C",
           "*025i9*"
          ],
          [
           "Isaac Paredes",
           "3B",
           "*04071*"
          ],
          [
           "Christian Walker",
           "1B",
           "*02mw3*"
          ],
          [
           "Ke'Bryan Hayes",
           "3B",
           "*03pji*"
          ],
          [
           "Michael Harris II",
           "CF",
           "*0512v*"
          ],
          [
           "Byron Buxton",
           "CF",
           "*02i2k*"
          ],
          [
           "Christian Yelich",
           "LF",
           "*025dn*"
          ],
          [
           "Patrick Bailey",
           "C",
           "*04yuu*"
          ],
          [
           "Josh Naylor",
           "DH",
           "*03pjd*"
          ],
          [
           "William Contreras",
           "C",
           "*03yrz*"
          ],
          [
           "Marcell Ozuna",
           "DH",
           "*01usi*"
          ],
          [
           "Royce Lewis",
           "3B",
           "*04aeb*"
          ],
          [
           "Max Muncy",
           "3B",
           "*02mzg*"
          ],
          [
           "George Springer",
           "RF",
           "*025he*"
          ],
          [
           "Brandon Lowe",
           "2B",
           "*03qjy*"
          ],
          [
           "Jeff McNeil",
           "2B",
           "*0317o*"
          ],
          [
           "Josh Lowe",
           "RF",
           "*041ah*"
          ],
          [
           "Taylor Ward",
           "LF",
           "*03pje*"
          ],
          [
           "Jack Suwinski",
           "CF",
           "*041z2*"
          ],
          [
           "Matt McLain",
           "2B",
           "*04pks*"
          ],
          [
           "Adolis García",
           "RF",
           "*04aq4*"
          ],
          [
           "TJ Friedl",
           "CF",
           "*045gu*"
          ],
          [
           "Jorge Soler",
           "DH",
           "*02i11*"
          ],
          [
           "Vinnie Pasquantino",
           "1B",
           "*05184*"
          ],
          [
           "Edouard Julien",
           "2B",
           "*051dl*"
          ],
          [
           "Nico Hoerner",
           "2B",
           "*04pkr*"
          ],
          [
           "Eloy Jiménez",
           "DH",
           "*030ud*"
          ],
          [
           "Keibert Ruiz",
           "C",
           "*03rmz*"
          ],
          [
           "Gabriel Moreno",
           "C",
           "*04s1g*"
          ],
          [
           "Justin Turner",
           "DH",
           "*01lum*"
          ],
          [
           "Jorge Polanco",
           "2B",
           "*02yd1*"
          ],
          [
           "Chas McCormick",
           "LF",
           "*04esz*"
          ],
          [
           "Daulton Varsho",
           "LF",
           "*04efa*"
          ],
          [
           "Nathaniel Lowe",
           "1B",
           "*041xv*"
          ],
          [
           "Bryson Stott",
           "2B",
           "*04p10*"
          ],
          [
           "James Outman",
           "CF",
           "*04psu*"
          ],
          [
           "Wander Franco",
           "SS",
           "*04csx*"
          ],
          [
           "Danny Jansen",
           "C",
           "*031el*"
          ],
          [
           "Bo Naylor",
           "C",
           "*04mrn*"
          ],
          [
           "Ty France",
           "1B",
           "*03whq*"
          ],
          [
           "Jake Fraley",
           "RF",
           "*041qd*"
          ],
          [
           "Triston Casas",
           "1B",
           "*04de1*"
          ],
          [
           "Alex Verdugo",
           "RF",
           "*03d7g*"
          ],
          [
           "Zack Gelof",
           "2B",
           "*05ub0*"
          ],
          [
           "Matt Chapman",
           "3B",
           "*03d6s*"
          ],
          [
           "Alek Thomas",
           "CF",
           "*04pmw*"
          ],
          [
           "Austin Wells",
           "C",
           "*05ahg*"
          ],
          [
           "Tyler O'Neill",
           "LF",
           "*02yk4*"
          ],
          [
           "Cody Bellinger",
           "CF",
           "*03120*"
          ],
          [
           "Zach Neto",
           "SS",
           "*05xu5*"
          ],
          [
           "José Abreu",
           "1B",
           "*02i2e*"
          ],
          [
           "Nolan Jones",
           "LF",
           "*041q6*"
          ],
          [
           "Evan Carter",
           "LF",
           "*05mdt*"
          ],
          [
           "Joc Pederson",
           "DH",
           "*026qc*"
          ],
          [
           "Andrew Benintendi",
           "LF",
           "*03pdw*"
          ],
          [
           "Josh Bell",
           "1B",
           "*026lz*"
          ],
          [
           "Will Benson",
           "RF",
           "*03zcx*"
          ],
          [
           "Orlando Arcia",
           "SS",
           "*02i1q*"
          ],
          [
           "LaMonte Wade Jr.",
           "1B",
           "*03qo2*"
          ],
          [
           "Nick Madrigal",
           "3B",
           "*03qu7*"
          ],
          [
           "Max Kepler",
           "RF",
           "*01vja*"
          ],
          [
           "Brendan Rodgers",
           "2B",
           "*03lua*"
          ],
          [
           "Mark Canha",
           "LF",
           "*025eo*"
          ],
          [
           "Andrew Vaughn",
           "1B",
           "*04si2*"
          ],
          [
           "Lourdes Gurriel Jr.",
           "LF",
           "*03nri*"
          ],
          [
           "Brendan Donovan",
           "DH",
           "*04pse*"
          ],
          [
           "Jackson Holliday",
           "SS",
           "*05ybv*"
          ],
          [
           "Jonathan India",
           "2B",
           "*04nx3*"
          ],
          [
           "Yainer Diaz",
           "C",
           "*0524l*"
          ],
          [
           "CJ Abrams",
           "SS",
           "*04qk8*"
          ],
          [
           "Jarren Duran",
           "RF",
           "*04pst*"
          ],
          [
           "Luis Rengifo",
           "2B",
           "*03avk*"
          ],
          [
           "MJ Melendez",
           "LF",
           "*04eey*"
          ],
          [
           "Ryan McMahon",
           "3B",
           "*0310n*"
          ],
          [
           "Rhys Hoskins",
           "1B",
           "*03de9*"
          ],
          [
           "Starling Marte",
           "RF",
           "*01s9k*"
          ],
          [
           "Riley Greene",
           "RF",
           "*04nb2*"
          ],
          [
           "Leody Taveras",
           "CF",
           "*03pzo*"
          ],
          [
           "J.D. Martinez",
           "LF",
           "*02334*"
          ],
          [
           "Yoán Moncada",
           "3B",
           "*03eet*"
          ],
          [
           "Jesús Sánchez",
           "RF",
           "*03nru*"
          ],
          [
           "Austin Hays",
           "LF",
           "*041qs*"
          ],
          [
           "Jeimer Candelario",
           "3B",
           "*027fx*"
          ],
          [
           "Josh Jung",
           "3B",
           "*04y44*"
          ],
          [
           "Ryan Mountcastle",
           "1B",
           "*03pjl*"
          ],
          [
           "DJ LeMahieu",
           "3B",
           "*01sfi*"
          ],
          [
           "Daniel Vogelbach",
           "1B",
           "*02br5*"
          ],
          [
           "Christian Encarnacion-Strand",
           "1B",
           "*05xor*"
          ],
          [
           "Teoscar Hernández",
           "LF",
           "*02xic*"
          ],
          [
           "Jose Siri",
           "CF",
           "*039vx*"
          ],
          [
           "Anthony Santander",
           "RF",
           "*02w16*"
          ],
          [
           "Thairo Estrada",
           "2B",
           "*03aay*"
          ],
          [
           "Mike Yastrzemski",
           "RF",
           "*031dw*"
          ],
          [
           "Elly De La Cruz",
           "SS",
           "*05udp*"
          ],
          [
           "Alec Bohm",
           "3B",
           "*04mn5*"
          ],
          [
           "Kevin Kiermaier",
           "CF",
           "*0381o*"
          ],
          [
           "Wilmer Flores",
           "1B",
           "*01cgt*"
          ],
          [
           "Esteury Ruiz",
           "CF",
           "*0406v*"
          ],
          [
           "Christopher Morel",
           "DH",
           "*04pbp*"
          ],
          [
           "Brandon Belt",
           "1B",
           "*01uwk*"
          ],
          [
           "Max Stassi",
           "C",
           "*01sc7*"
          ],
          [
           "Mitch Garver",
           "DH",
           "*031cd*"
          ],
          [
           "Jeremy Peña",
           "SS",
           "*04ppj*"
          ],
          [
           "Matt Wallner",
           "LF",
           "*04o78*"
          ],
          [
           "Geraldo Perdomo",
           "SS",
           "*04pbq*"
          ],
          [
           "Jake Burger",
           "3B",
           "*04azv*"
          ],
          [
           "Jake Cronenworth",
           "1B",
           "*03qmh*"
          ],
          [
           "C.J. Cron",
           "1B",
           "*02bq4*"
          ],
          [
           "Spencer Steer",
           "LF",
           "*0512e*"
          ],
          [
           "Henry Davis",
           "C",
           "*05oxc*"
          ],
          [
           "Gavin Lux",
           "2B",
           "*041ai*"
          ],
          [
           "Jordan Walker",
           "RF",
           "*05gbf*"
          ],
          [
           "Myles Straw",
           "CF",
           "*03qqb*"
          ],
          [
           "Sal Frelick",
           "RF",
           "*05rb1*"
          ],
          [
           "Nolan Gorman",
           "2B",
           "*04ai4*"
          ],
          [
           "Jose Trevino",
           "C",
           "*03df0*"
          ],
          [
           "Brandon Marsh",
           "LF",
           "*041q8*"
          ],
          [
           "Javier Báez",
           "SS",
           "*026mn*"
          ],
          [
           "Brent Rooker",
           "DH",
           "*04e2u*"
          ],
          [
           "Charlie Blackmon",
           "DH",
           "*01sge*"
          ],
          [
           "Tyler Stephenson",
           "C",
           "*03pix*"
          ],
          [
           "Spencer Torkelson",
           "1B",
           "*04yk2*"
          ],
          [
           "Luis García Jr.",
           "2B",
           "*0414g*"
          ],
          [
           "Jordan Westburg",
           "3B",
           "*05gsc*"
          ],
          [
           "Travis d'Arnaud",
           "C",
           "*01s99*"
          ],
          [
           "Lane Thomas",
           "RF",
           "*03dei*"
          ],
          [
           "José Caballero",
           "SS",
           "*04eig*"
          ],
          [
           "Akil Baddoo",
           "LF",
           "*041qi*"
          ],
          [
           "Anthony Rizzo",
           "1B",
           "*01sea*"
          ],
          [
           "Vaughn Grissom",
           "2B",
           "*0518n*"
          ],
          [
           "Eugenio Suárez",
           "3B",
           "*02jh6*"
          ],
          [
           "Harrison Bader",
           "CF",
           "*03qjv*"
          ],
          [
           "Andrew McCutchen",
           "DH",
           "*01c1g*"
          ],
          [
           "Giancarlo Stanton",
           "DH",
           "*01cdf*"
          ],
          [
           "Miguel Amaya",
           "C",
           "*03xs3*"
          ],
          [
           "Kerry Carpenter",
           "DH",
           "*051em*"
          ],
          [
           "Trevor Story",
           "SS",
           "*02bqh*"
          ],
          [
           "Manny Piña",
           "C",
           "*01u5m*"
          ],
          [
           "Trent Grisham",
           "CF",
           "*03pit*"
          ],
          [
           "Victor Caratini",
           "C",
           "*0311f*"
          ],
          [
           "Salvador Perez",
           "C",
           "*01u75*"
          ],
          [
           "Yasmani Grandal",
           "C",
           "*01uqq*"
          ],
          [
           "Ryan Jeffers",
           "C",
           "*04pmu*"
          ],
          [
           "Brandon Drury",
           "DH",
           "*02hlw*"
          ],
          [
           "Davis Schneider",
           "2B",
           "*04o2x*"
          ],
          [
           "Colt Keith",
           "2B",
           "*05jrh*"
          ],
          [
           "Michael Conforto",
           "LF",
           "*02z0t*"
          ],
          [
           "Seth Brown",
           "RF",
           "*03qvr*"
          ],
          [
           "Luis Urías",
           "3B",
           "*03o43*"
          ],
          [
           "Amed Rosario",
           "SS",
           "*02yh5*"
          ],
          [
           "Luis Campusano",
           "C",
           "*04eep*"
          ],
          [
           "Will Brennan",
           "RF",
           "*05165*"
          ],
          [
           "Bryan De La Cruz",
           "LF",
           "*03bud*"
          ],
          [
           "Harold Ramírez",
           "DH",
           "*02i3m*"
          ],
          [
           "Hunter Renfroe",
           "RF",
           "*03022*"
          ],
          [
           "Elvis Andrus",
           "SS",
           "*01bv1*"
          ],
          [
           "Christian Vázquez",
           "C",
           "*029us*"
          ],
          [
           "Dominic Canzone",
           "RF",
           "*05161*"
          ],
          [
           "Edward Olivares",
           "RF",
           "*04c8q*"
          ],
          [
           "Joey Meneses",
           "1B",
           "*03et7*"
          ],
          [
           "Michael Brantley",
           "LF",
           "*01cil*"
          ],
          [
           "Michael Stefanic",
           "3B",
           "*05t5r*"
          ],
          [
           "Ryan Noda",
           "1B",
           "*04enw*"
          ],
          [
           "Alex Kirilloff",
           "1B",
           "*041m2*"
          ],
          [
           "Gavin Sheets",
           "DH",
           "*04eej*"
          ],
          [
           "Jake McCarthy",
           "RF",
           "*03qyv*"
          ],
          [
           "Kolten Wong",
           "2B",
           "*026m0*"
          ],
          [
           "Kris Bryant",
           "1B",
           "*01ubo*"
          ],
          [
           "Carlos Santana",
           "1B",
           "*01cfr*"
          ],
          [
           "René Pinto",
           "C",
           "*040fw*"
          ],
          [
           "Dylan Carlson",
           "CF",
           "*041mc*"
          ],
          [
           "Anthony Volpe",
           "SS",
           "*04y9p*"
          ],
          [
           "Isiah Kiner-Falefa",
           "3B",
           "*031b3*"
          ],
          [
           "Patrick Wisdom",
           "3B",
           "*02mws*"
          ],
          [
           "Jason Heyward",
           "RF",
           "*01c5o*"
          ],
          [
           "Wilyer Abreu",
           "RF",
           "*060x1*"
          ],
          [
           "Albert Pujols",
           "1B",
           "*000d4*"
          ],
          [
           "Abraham Almonte",
           "LF",
           "*037u4*"
          ],
          [
           "Nick Castellanos",
           "RF",
           "*01uc9*"
          ],
          [
           "Tyler Austin",
           null,
           "*02hma*"
          ],
          [
           "Anthony Rendon",
           "3B",
           "*01tt9*"
          ],
          [
           "Kyle Higashioka",
           "C",
           "*01usr*"
          ],
          [
           "Austin Hedges",
           "C",
           "*02brk*"
          ],
          [
           "Tim Anderson",
           "SS",
           "*03110*"
          ],
          [
           "Connor Joe",
           "1B",
           "*03d6y*"
          ],
          [
           "Michael Massey",
           "2B",
           "*05139*"
          ],
          [
           "Richie Palacios",
           "2B",
           "*04ppk*"
          ],
          [
           "Willians Astudillo",
           "3B",
           "*02ibc*"
          ],
          [
           "JJ Bleday",
           "LF",
           "*04y95*"
          ],
          [
           "Aaron Hicks",
           "RF",
           "*01cgr*"
          ],
          [
           "Jason Martin",
           "LF",
           "*0374g*"
          ],
          [
           "Jesse Winker",
           "LF",
           "*02mwg*"
          ],
          [
           "Rowdy Tellez",
           "1B",
           "*032gq*"
          ],
          [
           "Travis Jankowski",
           "LF",
           "*02j2v*"
          ],
          [
           "Austin Barnes",
           "C",
           "*02bwt*"
          ],
          [
           "Andrew Stevenson",
           "CF",
           "*03pox*"
          ],
          [
           "Adam Duvall",
           "CF",
           "*027ow*"
          ],
          [
           "Kyle Isbel",
           "CF",
           "*04ppo*"
          ],
          [
           "Jon Berti",
           "SS",
           "*02c4r*"
          ],
          [
           "Joshua Palacios",
           "RF",
           "*041ra*"
          ],
          [
           "AJ Pollock",
           "LF",
           "*01s8p*"
          ],
          [
           "Carson Kelly",
           "C",
           "*02mxf*"
          ],
          [
           "Mark Mathias",
           "2B",
           "*03qkb*"
          ],
          [
           "Logan O'Hoppe",
           "C",
           "*04q56*"
          ],
          [
           "Blake Dunn",
           "LF",
           "*05jr5*"
          ],
          [
           "Kyle Farmer",
           "2B",
           "*0312h*"
          ],
          [
           "Ben Rice",
           "C",
           "*05yo5*"
          ],
          [
           "Mauricio Dubón",
           "SS",
           "*03aqw*"
          ],
          [
           "Raimel Tapia",
           "LF",
           "*032pz*"
          ],
          [
           "Manuel Margot",
           "RF",
           "*02i3d*"
          ],
          [
           "Nolan Schanuel",
           "1B",
           "*05yj1*"
          ],
          [
           "Santiago Espinal",
           "2B",
           "*041vp*"
          ],
          [
           "Nick Allen",
           "SS",
           "*04efs*"
          ],
          [
           "Josh VanMeter",
           "2B",
           "*04p9m*"
          ],
          [
           "Nelson Velázquez",
           "RF",
           "*04eh9*"
          ],
          [
           "Masyn Winn",
           "SS",
           "*05gwy*"
          ],
          [
           "Josh Donaldson",
           "3B",
           "*01sjg*"
          ],
          [
           "Jonny DeLuca",
           "CF",
           "*04y94*"
          ],
          [
           "Ezequiel Tovar",
           "SS",
           "*04mra*"
          ],
          [
           "José Pirela",
           null,
           "*021wp*"
          ],
          [
           "Harry Ford",
           "C",
           "*05raw*"
          ],
          [
           "Shea Langeliers",
           "C",
           "*04o4s*"
          ],
          [
           "Jose Iglesias",
           "SS",
           "*01s98*"
          ],
          [
           "Jurickson Profar",
           "LF",
           "*01spl*"
          ],
          [
           "Gio Urshela",
           "3B",
           "*026rz*"
          ],
          [
           "Parker Meadows",
           "CF",
           "*04pmn*"
          ],
          [
           "Omar Narváez",
           "C",
           "*043f8*"
          ],
          [
           "Oneil Cruz",
           "SS",
           "*03zlh*"
          ],
          [
           "Jett Williams",
           "SS",
           "*060la*"
          ],
          [
           "Abraham Toro",
           "3B",
           "*041se*"
          ],
          [
           "Travis Blankenhorn",
           "LF",
           "*03qk2*"
          ],
          [
           "Jean Segura",
           "2B",
           "*01suo*"
          ],
          [
           "Michael Busch",
           "1B",
           "*04t9b*"
          ],
          [
           "Evan Longoria",
           "3B",
           "*004e1*"
          ],
          [
           "Austin Meadows",
           "LF",
           "*02k18*"
          ],
          [
           "Brian Serven",
           "C",
           "*041rz*"
          ],
          [
           "Iván Herrera",
           "C",
           "*04hyc*"
          ],
          [
           "Andy Ibáñez",
           "2B",
           "*03mm4*"
          ],
          [
           "Luke Raley",
           "RF",
           "*041ts*"
          ],
          [
           "Anthony Alford",
           "LF",
           "*02my8*"
          ],
          [
           "Andruw Monasterio",
           "3B",
           "*04vvy*"
          ],
          [
           "Sergio Alcántara",
           "SS",
           "*02yh9*"
          ],
          [
           "Ramón Urías",
           "2B",
           "*04de0*"
          ],
          [
           "Mark Vientos",
           "DH",
           "*03zcy*"
          ],
          [
           "Jed Lowrie",
           "2B",
           "*00587*"
          ],
          [
           "Freddy Fermin",
           "C",
           "*05lo5*"
          ],
          [
           "David Fletcher",
           "SS",
           "*03qlw*"
          ],
          [
           "Pedro León",
           "2B",
           "*05gdv*"
          ],
          [
           "Tommy La Stella",
           "2B",
           "*02bvq*"
          ],
          [
           "Luis Guillorme",
           "2B",
           "*0317b*"
          ],
          [
           "Donovan Solano",
           "2B",
           "*01te5*"
          ],
          [
           "Jake Meyers",
           "CF",
           "*04emt*"
          ],
          [
           "Ryan O'Hearn",
           "1B",
           "*03dgq*"
          ],
          [
           "Jake Rogers",
           "C",
           "*03av1*"
          ],
          [
           "Adam Engel",
           "CF",
           "*031fh*"
          ],
          [
           "Thomas Saggese",
           "1B",
           "*05mru*"
          ],
          [
           "Jonathan Aranda",
           "3B",
           "*05t9v*"
          ],
          [
           "Dae-Ho Lee",
           null,
           "*03xu9*"
          ],
          [
           "Wynton Bernard",
           "CF",
           "*03eq5*"
          ],
          [
           "Wyatt Langford",
           "DH",
           "*060pm*"
          ],
          [
           "Miguel Andujar",
           "DH",
           "*02i3l*"
          ],
          [
           "Domingo Santana",
           null,
           "*01spz*"
          ],
          [
           "Joey Votto",
           "1B",
           "*00031*"
          ],
          [
           "Dayan Viciedo",
           null,
           "*01but*"
          ],
          [
           "Ben Gamel",
           "LF",
           "*02hka*"
          ],
          [
           "David Peralta",
           "LF",
           "*03d1m*"
          ],
          [
           "Franchy Cordero",
           "LF",
           "*02k1f*"
          ],
          [
           "Kyle Manzardo",
           "1B",
           "*05rfu*"
          ],
          [
           "Eli White",
           "CF",
           "*041w3*"
          ],
          [
           "Adam Frazier",
           "2B",
           "*0316t*"
          ],
          [
           "Jackson Chourio",
           "CF",
           "*05m1e*"
          ],
          [
           "Matt Davidson",
           "3B",
           "*01sff*"
          ],
          [
           "Tyler Black",
           "3B",
           "*05u2u*"
          ],
          [
           "Gary Sánchez",
           "C",
           "*01t9q*"
          ],
          [
           "Ramón Laureano",
           "RF",
           "*03dp8*"
          ],
          [
           "José Miguel Fernández",
           null,
           "*03an6*"
          ],
          [
           "César Hernández",
           "2B",
           "*025gz*"
          ],
          [
           "Colton Cowser",
           "RF",
           "*05ras*"
          ],
          [
           "Tim Locastro",
           "CF",
           "*031dr*"
          ],
          [
           "Blake Sabol",
           "C",
           "*05158*"
          ],
          [
           "Tyrone Taylor",
           "CF",
           "*02mx2*"
          ],
          [
           "Garrett Cooper",
           "1B",
           "*03128*"
          ],
          [
           "Miguel Vargas",
           "3B",
           "*04ru7*"
          ],
          [
           "Chris Taylor",
           "2B",
           "*02u47*"
          ],
          [
           "Diego Cartaya",
           "C",
           "*04p0h*"
          ],
          [
           "Eric Hosmer",
           "1B",
           "*01cfp*"
          ],
          [
           "Jo Adell",
           "RF",
           "*04aee*"
          ],
          [
           "Nick Gonzales",
           "2B",
           "*0597k*"
          ],
          [
           "Ronald Torreyes",
           "SS",
           "*025i0*"
          ],
          [
           "Nicky Lopez",
           "2B",
           "*041sg*"
          ],
          [
           "Hyun Soo Kim",
           null,
           "*03yet*"
          ],
          [
           "Norichika Aoki",
           null,
           "*01t8d*"
          ],
          [
           "Jefry Marte",
           null,
           "*025hz*"
          ],
          [
           "Josh Rojas",
           "3B",
           "*04oct*"
          ],
          [
           "Cavan Biggio",
           "2B",
           "*041rv*"
          ],
          [
           "Lewis Brinson",
           "CF",
           "*02mwa*"
          ],
          [
           "Joey Ortiz",
           "3B",
           "*0513c*"
          ],
          [
           "Yonny Hernández",
           "SS",
           "*04yin*"
          ],
          [
           "Reese McGuire",
           "C",
           "*0310a*"
          ],
          [
           "Aramis Garcia",
           "C",
           "*02c6c*"
          ],
          [
           "Ji Hwan Bae",
           "CF",
           "*04lcq*"
          ],
          [
           "Dominic Smith",
           "1B",
           "*02z96*"
          ],
          [
           "Lawrence Butler",
           "CF",
           "*04prt*"
          ],
          [
           "Jacob Stallings",
           "C",
           "*02j7h*"
          ],
          [
           "Luis González",
           "RF",
           "*04gdv*"
          ],
          [
           "Jakob Marsee",
           "CF",
           "*065ji*"
          ],
          [
           "Tyler Freeman",
           "SS",
           "*04efc*"
          ],
          [
           "Tres Barrera",
           "C",
           "*041sn*"
          ],
          [
           "Odúbel Herrera",
           "CF",
           "*02i2s*"
          ],
          [
           "Ceddanne Rafaela",
           "CF",
           "*05gsi*"
          ],
          [
           "Preston Tucker",
           "LF",
           "*02c2k*"
          ],
          [
           "Oswaldo Cabrera",
           "3B",
           "*042no*"
          ],
          [
           "Eddy Alvarez",
           "2B",
           "*03mpn*"
          ],
          [
           "Tommy Pham",
           "LF",
           "*025fx*"
          ],
          [
           "J.D. Davis",
           "3B",
           "*02bu2*"
          ],
          [
           "Nick Martini",
           "RF",
           "*02bvk*"
          ],
          [
           "Yermín Mercedes",
           "1B",
           "*0414s*"
          ],
          [
           "Kevin Plawecki",
           "C",
           "*02mwl*"
          ],
          [
           "Robbie Grossman",
           "LF",
           "*01seb*"
          ],
          [
           "Willi Castro",
           "CF",
           "*03btu*"
          ],
          [
           "Kevin Pillar",
           "CF",
           "*02xi1*"
          ],
          [
           "Noelvi Marte",
           "3B",
           "*04qnd*"
          ],
          [
           "Eddie Rosario",
           "LF",
           "*025f7*"
          ],
          [
           "Jordan Lawlar",
           "SS",
           "*05r1m*"
          ],
          [
           "Terrin Vavra",
           "2B",
           "*04xon*"
          ],
          [
           "Miguel Rojas",
           "SS",
           "*01t5w*"
          ],
          [
           "Josh Harrison",
           "2B",
           "*01sjy*"
          ],
          [
           "Charles Leblanc",
           "3B",
           "*041r7*"
          ],
          [
           "Nelson Cruz",
           "1B",
           "*0001d*"
          ],
          [
           "Tony Kemp",
           "LF",
           "*031b8*"
          ],
          [
           "Austin Slater",
           "CF",
           "*03dg7*"
          ],
          [
           "Tim Beckham",
           "1B",
           "*01cfq*"
          ],
          [
           "Whit Merrifield",
           "LF",
           "*02hjk*"
          ],
          [
           "Enmanuel Valdez",
           "2B",
           "*042af*"
          ],
          [
           "Sam Haggerty",
           "2B",
           "*03qz9*"
          ],
          [
           "John Andreoli",
           "LF",
           "*02c3a*"
          ],
          [
           "Maikel Garcia",
           "3B",
           "*05g3x*"
          ],
          [
           "Nick Solak",
           "2B",
           "*041q1*"
          ],
          [
           "Paul McIntosh",
           "C",
           "*05yi0*"
          ],
          [
           "Taylor Jones",
           "1B",
           "*04222*"
          ],
          [
           "Corey Dickerson",
           "LF",
           "*025jn*"
          ],
          [
           "Spencer Horwitz",
           "1B",
           "*051ia*"
          ],
          [
           "Oscar Gonzalez",
           "RF",
           "*03nrk*"
          ],
          [
           "Robinson Canó",
           "2B",
           "*00068*"
          ],
          [
           "Yan Gomes",
           "C",
           "*024o9*"
          ],
          [
           "Yadier Molina",
           "C",
           "*000d8*"
          ],
          [
           "Roman Anthony",
           "LF",
           "*05u9z*"
          ],
          [
           "Ildemaro Vargas",
           "3B",
           "*0433b*"
          ],
          [
           "Keston Hiura",
           "1B",
           "*04e82*"
          ],
          [
           "Kyle Lewis",
           "LF",
           "*03z61*"
          ],
          [
           "Seby Zavala",
           "C",
           "*03qqd*"
          ],
          [
           "Derek Hill",
           "CF",
           "*03d6q*"
          ],
          [
           "Alex Call",
           "LF",
           "*041qv*"
          ],
          [
           "Logan Porter",
           "C",
           "*05j94*"
          ],
          [
           "Ben Rortvedt",
           "C",
           "*041q7*"
          ],
          [
           "Luke Voit",
           "1B",
           "*03199*"
          ],
          [
           "Josh Smith",
           "3B",
           "*052ru*"
          ],
          [
           "Stuart Fairchild",
           "RF",
           "*04eel*"
          ],
          [
           "Joey Wiemer",
           "RF",
           "*05jq3*"
          ],
          [
           "Mike Tauchman",
           "CF",
           "*0312v*"
          ],
          [
           "Billy McKinney",
           "RF",
           "*0310d*"
          ],
          [
           "Adael Amador",
           "2B",
           "*04ysv*"
          ],
          [
           "Hoy Park",
           "RF",
           "*03mky*"
          ],
          [
           "Garrett Mitchell",
           "CF",
           "*04en7*"
          ],
          [
           "Dixon Machado",
           "SS",
           "*027h1*"
          ],
          [
           "Brett Baty",
           "3B",
           "*04yib*"
          ],
          [
           "Moisés Gómez",
           "LF",
           "*03yuu*"
          ],
          [
           "Matt Vierling",
           "3B",
           "*04pqq*"
          ],
          [
           "Delino DeShields",
           "2B",
           "*01tji*"
          ],
          [
           "Frank Schwindel",
           "1B",
           "*031f9*"
          ],
          [
           "Yuli Gurriel",
           "1B",
           "*025jv*"
          ],
          [
           "Yasiel Puig",
           null,
           "*02muz*"
          ],
          [
           "Justyn-Henry Malloy",
           "RF",
           "*05uy1*"
          ],
          [
           "Bubba Thompson",
           "CF",
           "*04eeb*"
          ],
          [
           "Taylor Walls",
           "SS",
           "*04bpj*"
          ],
          [
           "Michael A. Taylor",
           "CF",
           "*02h9j*"
          ],
          [
           "Mike Zunino",
           "C",
           "*02i12*"
          ],
          [
           "José Osuna",
           null,
           "*02i55*"
          ],
          [
           "Forrest Wall",
           "LF",
           "*03d6z*"
          ],
          [
           "Junior Caminero",
           "3B",
           "*05xch*"
          ],
          [
           "Mickey Moniak",
           "RF",
           "*041e2*"
          ],
          [
           "Skye Bolt",
           "CF",
           "*03qkd*"
          ],
          [
           "Christian Bethancourt",
           "C",
           "*01sci*"
          ],
          [
           "DJ Stewart",
           "DH",
           "*03pj8*"
          ],
          [
           "Alec Burleson",
           "LF",
           "*05jr0*"
          ],
          [
           "Magneuris Sierra",
           "CF",
           "*03h8n*"
          ],
          [
           "Jordan Luplow",
           "RF",
           "*03dag*"
          ],
          [
           "Darin Ruf",
           "LF",
           "*02hh7*"
          ],
          [
           "Nick Fortes",
           "C",
           "*04pqf*"
          ],
          [
           "Edmundo Sosa",
           "SS",
           "*02zpf*"
          ],
          [
           "Alex Dickerson",
           "LF",
           "*0260x*"
          ],
          [
           "Luke Maile",
           "C",
           "*02n1q*"
          ],
          [
           "Willie Calhoun",
           "LF",
           "*0315r*"
          ],
          [
           "Dominic Fletcher",
           "RF",
           "*04y45*"
          ],
          [
           "Andrelton Simmons",
           "SS",
           "*025ei*"
          ],
          [
           "Yonathan Daza",
           "CF",
           "*03mwy*"
          ],
          [
           "Ezequiel Duran",
           "DH",
           "*04nqx*"
          ],
          [
           "Brandon Crawford",
           "SS",
           "*01sdl*"
          ],
          [
           "Nick Ahmed",
           "SS",
           "*02br3*"
          ],
          [
           "Jake Bauers",
           "1B",
           "*0316v*"
          ],
          [
           "Owen Miller",
           "3B",
           "*04ppl*"
          ],
          [
           "Joey Gallo",
           "1B",
           "*02i3v*"
          ],
          [
           "Zoilo Almonte",
           null,
           "*02i2v*"
          ],
          [
           "Christin Stewart",
           "LF",
           "*03pjk*"
          ],
          [
           "Marcelo Mayer",
           "3B",
           "*05r9j*"
          ],
          [
           "Nick Loftin",
           "3B",
           "*05gx0*"
          ],
          [
           "Dane Myers",
           "CF",
           "*04ehj*"
          ],
          [
           "James Wood",
           "DH",
           "*05rat*"
          ],
          [
           "Tom Murphy",
           "C",
           "*02t8m*"
          ],
          [
           "Diego Castillo",
           "SS",
           "*04vnr*"
          ],
          [
           "Addison Barger",
           "RF",
           "*04qii*"
          ],
          [
           "David Villar",
           "SS",
           "*04pvh*"
          ],
          [
           "Sam Huff",
           "C",
           "*041tq*"
          ],
          [
           "Oswald Peraza",
           "3B",
           "*04g7n*"
          ],
          [
           "Coby Mayo",
           "1B",
           "*05js5*"
          ],
          [
           "Jonah Bride",
           "3B",
           "*04q5b*"
          ],
          [
           "Kyle Teel",
           "C",
           "*05wxy*"
          ],
          [
           "Emmanuel Rivera",
           "3B",
           "*03qvs*"
          ],
          [
           "Jesús Aguilar",
           "1B",
           "*02jhn*"
          ],
          [
           "Jake Cave",
           "LF",
           "*02bul*"
          ],
          [
           "Aaron Zavala",
           "LF",
           "*05toy*"
          ],
          [
           "Dylan Moore",
           "SS",
           "*03qml*"
          ],
          [
           "Kevin Newman",
           "SS",
           "*03pj2*"
          ],
          [
           "Christian Arroyo",
           "2B",
           "*0310e*"
          ],
          [
           "Lenyn Sosa",
           "2B",
           "*04llv*"
          ],
          [
           "Kyle Stowers",
           "RF",
           "*04y97*"
          ],
          [
           "Matt Carpenter",
           "DH",
           "*021at*"
          ],
          [
           "Cal Stevenson",
           "CF",
           "*04pug*"
          ],
          [
           "Jon Singleton",
           "1B",
           "*01srk*"
          ],
          [
           "Pete Crow-Armstrong",
           "CF",
           "*051wv*"
          ],
          [
           "Robert Hassell III",
           "LF",
           "*05gbe*"
          ],
          [
           "Tucker Barnhart",
           "C",
           "*022vw*"
          ],
          [
           "Jared Young",
           "LF",
           "*04eoj*"
          ],
          [
           "Jorge Mateo",
           "SS",
           "*03b6k*"
          ],
          [
           "Aledmys Díaz",
           "SS",
           "*02y8t*"
          ],
          [
           "Victor Reyes",
           "RF",
           "*02zm9*"
          ],
          [
           "Pavin Smith",
           "RF",
           "*04alq*"
          ],
          [
           "Matt Duffy",
           "3B",
           "*02c5y*"
          ],
          [
           "Estevan Florial",
           "CF",
           "*03yth*"
          ],
          [
           "Joey Wendle",
           "2B",
           "*02mzu*"
          ],
          [
           "Jorge Bonifacio",
           "LF",
           "*029v2*"
          ],
          [
           "Blaze Alexander",
           "SS",
           "*04pvs*"
          ],
          [
           "Ernie Clement",
           "2B",
           "*04alp*"
          ],
          [
           "Kevin Smith",
           "SS",
           "*04eg3*"
          ],
          [
           "Trey Cabbage",
           "1B",
           "*03qko*"
          ],
          [
           "Isan Díaz",
           "2B",
           "*03da6*"
          ],
          [
           "Brad Miller",
           "LF",
           "*02brl*"
          ],
          [
           "Xavier Edwards",
           "2B",
           "*04n8z*"
          ],
          [
           "Rob Refsnyder",
           "RF",
           null
          ],
          [
           "Leonys Martin",
           null,
           "*026l3*"
          ],
          [
           "Shin-Soo Choo",
           null,
           "*000vp*"
          ],
          [
           "Rougned Odor",
           "2B",
           "*026ly*"
          ],
          [
           "David Freitas",
           "C",
           "*02hnu*"
          ],
          [
           "Sam Hilliard",
           "CF",
           "*03qs6*"
          ],
          [
           "Kyren Paris",
           "SS",
           "*050s0*"
          ],
          [
           "Tomás Nido",
           "C",
           "*02n1i*"
          ],
          [
           "Brenton Doyle",
           "CF",
           "*0513l*"
          ],
          [
           "Shogo Akiyama",
           "LF",
           "*058lu*"
          ],
          [
           "Jace Jung",
           "3B",
           "*05tzg*"
          ],
          [
           "Bobby Dalbec",
           "1B",
           "*03z62*"
          ],
          [
           "Jace Peterson",
           "2B",
           "*02bqo*"
          ],
          [
           "Darick Hall",
           "1B",
           "*041yc*"
          ],
          [
           "Jae-Gyun Hwang",
           null,
           "*03to7*"
          ],
          [
           "Matt Beaty",
           "LF",
           "*03qpz*"
          ],
          [
           "Lorenzo Cain",
           "CF",
           "*01c5f*"
          ],
          [
           "Gilberto Celestino",
           "CF",
           "*03vum*"
          ],
          [
           "Jordan Groshans",
           "3B",
           "*04n8x*"
          ],
          [
           "David Dahl",
           "RF",
           "*02i2m*"
          ],
          [
           "Chris Shaw",
           "1B",
           "*03pjh*"
          ],
          [
           "Brice Turang",
           "2B",
           "*04b00*"
          ],
          [
           "Nick Gordon",
           "2B",
           "*03c7z*"
          ],
          [
           "Miles Mastrobuoni",
           "2B",
           "*041yi*"
          ],
          [
           "Zack Short",
           "3B",
           "*0420g*"
          ],
          [
           "George Valera",
           "CF",
           "*04fqi*"
          ],
          [
           "Addison Russell",
           null,
           "*02mv2*"
          ],
          [
           "Tim Lopes",
           "2B",
           "*02n09*"
          ],
          [
           "Rece Hinds",
           "3B",
           "*04nb4*"
          ],
          [
           "Luisangel Acuña",
           "2B",
           "*04z6k*"
          ],
          [
           "Cade Marlowe",
           "RF",
           "*051fl*"
          ],
          [
           "Drew Ellis",
           "3B",
           "*04eet*"
          ],
          [
           "Óscar Mercado",
           "CF",
           "*02k19*"
          ],
          [
           "James McCann",
           "C",
           "*02bra*"
          ],
          [
           "Darell Hernaiz",
           "SS",
           "*05145*"
          ],
          [
           "Austin Martin",
           "CF",
           "*05249*"
          ],
          [
           "Webster Rivas",
           "C",
           "*05lnj*"
          ],
          [
           "Leandro Cedeño",
           "1B",
           "*04gge*"
          ],
          [
           "Trevor Larnach",
           "LF",
           "*04nky*"
          ],
          [
           "Jonathan Schoop",
           "2B",
           "*025g7*"
          ],
          [
           "Tyler Gentry",
           "RF",
           "*05jqw*"
          ],
          [
           "Jake Lamb",
           "3B",
           "*02mzn*"
          ],
          [
           "Buddy Kennedy",
           "2B",
           "*04egt*"
          ],
          [
           "Curt Casali",
           "C",
           "*02bxm*"
          ],
          [
           "J.P. Martínez",
           "CF",
           "*04m8w*"
          ],
          [
           "Orelvis Martinez",
           "SS",
           "*04mms*"
          ],
          [
           "Jared Walsh",
           "1B",
           "*04p9n*"
          ],
          [
           "Corey Julks",
           "LF",
           "*04eit*"
          ],
          [
           "Tyler White",
           "1B",
           "*03oxd*"
          ],
          [
           "Luis Matos",
           "LF",
           "*04y11*"
          ],
          [
           "Luke Williams",
           "LF",
           "*03qk3*"
          ],
          [
           "Edgar Quero",
           "C",
           "*05un2*"
          ],
          [
           "Juan Yepez",
           "LF",
           "*03ner*"
          ],
          [
           "Curtis Mead",
           "DH",
           "*05ahe*"
          ],
          [
           "Daniel Murphy",
           "1B",
           "*00um9*"
          ],
          [
           "Sócrates Brito",
           "LF",
           "*02zo4*"
          ],
          [
           "Randal Grichuk",
           "RF",
           "*01s9c*"
          ],
          [
           "Hunter Goodman",
           "RF",
           "*05u2v*"
          ],
          [
           "Ryan McKenna",
           "CF",
           "*03qkw*"
          ],
          [
           "Brandon Dixon",
           "RF",
           "*0311t*"
          ],
          [
           "Yohel Pozo",
           "C",
           "*03yr2*"
          ],
          [
           "Mike Ford",
           "1B",
           "*03mgg*"
          ],
          [
           "J.J. Matijevic",
           "1B",
           "*03dub*"
          ],
          [
           "Dairon Blanco",
           "CF",
           "*04mkt*"
          ],
          [
           "Beau Taylor",
           "1B",
           "*02btv*"
          ],
          [
           "Brian Anderson",
           "3B",
           "*02c63*"
          ],
          [
           "Zach McKinstry",
           "3B",
           "*0473m*"
          ],
          [
           "Colson Montgomery",
           "SS",
           "*05rch*"
          ],
          [
           "Joey Bart",
           "C",
           "*04mn4*"
          ],
          [
           "Hanser Alberto",
           "3B",
           "*02jtl*"
          ],
          [
           "Nomar Mazara",
           "RF",
           "*02i18*"
          ],
          [
           "Khalil Lee",
           "CF",
           "*041r6*"
          ],
          [
           "Jasson Domínguez",
           "CF",
           "*050c3*"
          ],
          [
           "ByungHo Park",
           null,
           "*03nxv*"
          ],
          [
           "Jose Miranda",
           "3B",
           "*041qh*"
          ],
          [
           "Ryan Kreidler",
           "SS",
           "*05132*"
          ],
          [
           "Yusniel Díaz",
           "RF",
           "*03vuk*"
          ],
          [
           "Austin Wynns",
           "C",
           "*031cs*"
          ],
          [
           "Tucupita Marcano",
           "2B",
           "*04t41*"
          ],
          [
           "Pablo Reyes",
           "SS",
           "*03azu*"
          ],
          [
           "Justin Foscue",
           "DH",
           "*05gsg*"
          ],
          [
           "Johan Camargo",
           "3B",
           "*03344*"
          ],
          [
           "Alexander Canario",
           "CF",
           "*04hi6*"
          ],
          [
           "Jarred Kelenic",
           "LF",
           "*04ggr*"
          ],
          [
           "Ryan Lavarnway",
           "C",
           "*01ujr*"
          ],
          [
           "Joey Loperfido",
           "LF",
           "*05yfl*"
          ],
          [
           "Max Schrock",
           "2B",
           "*03qqq*"
          ],
          [
           "Taylor Trammell",
           "RF",
           "*041pq*"
          ],
          [
           "Troy Johnston",
           "1B",
           "*051d0*"
          ],
          [
           "Alejo Lopez",
           "SS",
           "*03wkr*"
          ],
          [
           "Danny Mendick",
           "SS",
           "*03qxt*"
          ],
          [
           "Leury García",
           "2B",
           "*021oi*"
          ],
          [
           "Johan Rojas",
           "CF",
           "*04w4e*"
          ],
          [
           "Niko Goodrum",
           "SS",
           "*025fb*"
          ],
          [
           "Ji Man Choi",
           "1B",
           "*025jm*"
          ],
          [
           "Nick Dini",
           "C",
           "*03qry*"
          ],
          [
           "José Azocar",
           "CF",
           "*03yux*"
          ],
          [
           "Stone Garrett",
           "DH",
           "*03dgh*"
          ],
          [
           "Romy Gonzalez",
           "2B",
           "*04q0o*"
          ],
          [
           "Mike Moustakas",
           "3B",
           "*01c2r*"
          ],
          [
           "Tyler Nevin",
           "1B",
           "*03pok*"
          ],
          [
           "Michael Hermosillo",
           "CF",
           "*03mp0*"
          ],
          [
           "Eguy Rosario",
           "2B",
           "*045on*"
          ],
          [
           "Livan Soto",
           "2B",
           "*04am3*"
          ],
          [
           "Nick Senzel",
           "3B",
           "*03zc9*"
          ],
          [
           "Trey Mancini",
           "1B",
           "*031c4*"
          ],
          [
           "David Hensley",
           "3B",
           "*04vnd*"
          ],
          [
           "Justice Bigbie",
           "1B",
           "*05ylo*"
          ],
          [
           "Wil Myers",
           "RF",
           "*01s9f*"
          ],
          [
           "Samad Taylor",
           "LF",
           "*041vt*"
          ],
          [
           "Chris Herrmann",
           "C",
           "*02h9a*"
          ],
          [
           "Matt Thaiss",
           "C",
           "*04053*"
          ],
          [
           "Adeiny Hechavarría",
           "SS",
           "*01ss4*"
          ],
          [
           "Rio Ruiz",
           "2B",
           "*02myi*"
          ],
          [
           "Blake Perkins",
           "RF",
           "*03pp5*"
          ],
          [
           "Didi Gregorius",
           "SS",
           "*01ut0*"
          ],
          [
           "Daniel Johnson",
           "LF",
           "*041sd*"
          ],
          [
           "Ryan LaMarre",
           "1B",
           "*021s5*"
          ],
          [
           "Ryan Bliss",
           "2B",
           "*05tc7*"
          ],
          [
           "Tyler Wade",
           "SS",
           "*031b4*"
          ],
          [
           "Alan Trejo",
           "SS",
           "*04eoq*"
          ],
          [
           "Matt Shaw",
           "3B",
           "*063vu*"
          ],
          [
           "Cooper Hummel",
           "LF",
           "*0421c*"
          ],
          [
           "Luken Baker",
           "DH",
           "*04069*"
          ],
          [
           "Francisco Mejía",
           "C",
           "*03a95*"
          ],
          [
           "Enrique Hernández",
           "CF",
           "*02h98*"
          ],
          [
           "Jacob Young",
           "LF",
           "*05yaf*"
          ],
          [
           "Zac Veen",
           "RF",
           "*05gbg*"
          ],
          [
           "Drew Romo",
           "C",
           "*05gwr*"
          ],
          [
           "Jared Triolo",
           "3B",
           "*05128*"
          ],
          [
           "Garrett Hampson",
           "2B",
           "*041qk*"
          ],
          [
           "Kody Clemens",
           "1B",
           "*04ppi*"
          ],
          [
           "Nick Ciuffo",
           "C",
           "*0310b*"
          ],
          [
           "Luis Barrera",
           "CF",
           "*02yhc*"
          ],
          [
           "Travis Swaggerty",
           "CF",
           "*04mn3*"
          ],
          [
           "Tzu-Wei Lin",
           "2B",
           "*02no8*"
          ],
          [
           "Gabriel Arias",
           "SS",
           "*0414h*"
          ],
          [
           "Cam Gallagher",
           "C",
           "*02brd*"
          ],
          [
           "Tyler Heineman",
           "C",
           "*02n1c*"
          ],
          [
           "Matthew Batten",
           "1B",
           "*052im*"
          ],
          [
           "Elehuris Montero",
           "1B",
           "*03seg*"
          ],
          [
           "Oscar Colás",
           "RF",
           "*05g2r*"
          ],
          [
           "Michael Chavis",
           "1B",
           "*03d6t*"
          ],
          [
           "Jake Alu",
           "2B",
           "*051io*"
          ],
          [
           "Eduardo Escobar",
           "3B",
           "*021n3*"
          ],
          [
           "David Hamilton",
           "SS",
           "*0515v*"
          ],
          [
           "Anthony Bemboom",
           "C",
           "*02nbr*"
          ],
          [
           "Endy Rodríguez",
           "DH",
           "*0529l*"
          ],
          [
           "Jason Delay",
           "C",
           "*041w5*"
          ],
          [
           "Rodolfo Castro",
           "2B",
           "*042c1*"
          ],
          [
           "Jordan Diaz",
           "3B",
           "*04yub*"
          ],
          [
           "Alfonso Rivas",
           "DH",
           "*04pq6*"
          ],
          [
           "Brandon Laird",
           null,
           "*01slg*"
          ],
          [
           "Chad Wallach",
           "C",
           "*03121*"
          ],
          [
           "Conner Capel",
           "RF",
           "*041sb*"
          ],
          [
           "Heston Kjerstad",
           "DH",
           "*0596f*"
          ],
          [
           "Adalberto Mondesi",
           "SS",
           "*02i3g*"
          ],
          [
           "Nate Eaton",
           "LF",
           "*04q3n*"
          ],
          [
           "Everson Pereira",
           "RF",
           "*04is5*"
          ],
          [
           "Hiroyuki Nakajima",
           null,
           "*026ke*"
          ],
          [
           "Brooks Lee",
           "2B",
           "*04yig*"
          ],
          [
           "Jeferson Quero",
           "C",
           "*05gss*"
          ],
          [
           "P.J. Higgins",
           "C",
           "*03qqe*"
          ],
          [
           "Ronny Mauricio",
           "2B",
           "*04fyo*"
          ],
          [
           "Taylor Motter",
           "3B",
           "*02c3w*"
          ],
          [
           "Damiano Palmegiani",
           "3B",
           "*05wbq*"
          ],
          [
           "John Nogowski",
           "1B",
           "*03pio*"
          ],
          [
           "Kristian Robinson",
           "LF",
           "*04g7l*"
          ],
          [
           "Mitch Haniger",
           "LF",
           "*02mwj*"
          ],
          [
           "Jahmai Jones",
           "2B",
           "*03pp6*"
          ],
          [
           "Connor Norby",
           "2B",
           "*05tce*"
          ],
          [
           "Victor Scott II",
           "CF",
           "*0648z*"
          ],
          [
           "Drew Waters",
           "CF",
           "*04eer*"
          ],
          [
           "Yu Chang",
           "SS",
           "*039si*"
          ],
          [
           "Bligh Madris",
           "RF",
           "*04ejw*"
          ],
          [
           "Austin Nola",
           "C",
           "*02mzc*"
          ],
          [
           "Bradley Zimmer",
           "CF",
           "*03c8v*"
          ],
          [
           "Victor Robles",
           "CF",
           "*03c65*"
          ],
          [
           "Nick Maton",
           "2B",
           "*04ei5*"
          ],
          [
           "Mallex Smith",
           "LF",
           "*02c0a*"
          ],
          [
           "Matt Mervis",
           "1B",
           "*05ojj*"
          ],
          [
           "Drew Gilbert",
           "RF",
           "*05xu0*"
          ],
          [
           "Rangel Ravelo",
           "1B",
           "*02hhz*"
          ],
          [
           "Dustin Harris",
           "LF",
           "*0518r*"
          ],
          [
           "Aristides Aquino",
           "RF",
           "*03atj*"
          ],
          [
           "Jacob Amaya",
           "SS",
           "*04elh*"
          ],
          [
           "Wilson Ramos",
           "C",
           "*01cgf*"
          ],
          [
           "Greg Allen",
           "CF",
           "*03dez*"
          ],
          [
           "Canaan Smith-Njigba",
           "LF",
           "*04egd*"
          ],
          [
           "Tyler Naquin",
           "RF",
           "*02j2u*"
          ],
          [
           "Edwin Ríos",
           "3B",
           "*03qlr*"
          ],
          [
           "Ehire Adrianza",
           "3B",
           "*01t3l*"
          ],
          [
           "Eric Haase",
           "C",
           "*02bv2*"
          ],
          [
           "Garrett Stubbs",
           "C",
           "*03qn0*"
          ],
          [
           "Curtis Terry",
           "1B",
           "*03qr3*"
          ],
          [
           "Chase DeLauter",
           "LF",
           "*05uei*"
          ],
          [
           "Jared Oliva",
           "LF",
           "*04eia*"
          ],
          [
           "Richie Martin",
           "SS",
           "*03pj6*"
          ],
          [
           "Miguel Cabrera",
           "1B",
           "*0007c*"
          ],
          [
           "Elias Díaz",
           "C",
           "*03fhx*"
          ],
          [
           "Brady House",
           "3B",
           "*059bx*"
          ],
          [
           "Otto Lopez",
           "2B",
           "*04tjl*"
          ],
          [
           "Pedro Severino",
           "C",
           "*03ap0*"
          ],
          [
           "Stephen Vogt",
           "1B",
           "*0221b*"
          ],
          [
           "Jose Barrero",
           "CF",
           "*04dwv*"
          ],
          [
           "Chadwick Tromp",
           "C",
           "*056c8*"
          ],
          [
           "Mike Brosseau",
           "3B",
           "*04ylg*"
          ],
          [
           "Harold Castro",
           "2B",
           "*02zma*"
          ],
          [
           "Bryan Ramos",
           "2B",
           "*059bs*"
          ],
          [
           "Jerar Encarnación",
           "RF",
           "*04mdf*"
          ],
          [
           "Brett Phillips",
           "CF",
           "*02mzx*"
          ],
          [
           "Cole Tucker",
           "SS",
           "*03d6r*"
          ],
          [
           "José Rodríguez",
           "2B",
           "*03pzl*"
          ],
          [
           "Mark Contreras",
           "CF",
           "*04ejt*"
          ],
          [
           "Yairo Muñoz",
           "3B",
           "*03kux*"
          ],
          [
           "Casey Schmitt",
           "SS",
           "*05jp4*"
          ],
          [
           "Domingo Leyba",
           "2B",
           "*037ab*"
          ],
          [
           "Sean Bouchard",
           "LF",
           "*04ejn*"
          ],
          [
           "Michael Siani",
           "CF",
           "*04pqb*"
          ],
          [
           "Andrew Velazquez",
           "SS",
           "*02n0e*"
          ],
          [
           "David Bote",
           "2B",
           "*02n8i*"
          ],
          [
           "Robel García",
           "3B",
           "*02i3s*"
          ],
          [
           "Maikel Franco",
           "3B",
           "*02i2d*"
          ],
          [
           "Michael Toglia",
           "1B",
           "*04ok3*"
          ],
          [
           "Yoshi Tsutsugo",
           "1B",
           "*04b84*"
          ],
          [
           "Tyler Soderstrom",
           "C",
           "*05gtn*"
          ],
          [
           "Phil Gosselin",
           "3B",
           "*01uwe*"
          ],
          [
           "Jonathan Villar",
           "3B",
           "*025gy*"
          ],
          [
           "Corey Ray",
           "LF",
           "*03dem*"
          ],
          [
           "Colin Moran",
           "1B",
           "*026l2*"
          ],
          [
           "Alika Williams",
           "SS",
           "*05gs3*"
          ],
          [
           "Miguel Sanó",
           "1B",
           "*01s9d*"
          ],
          [
           "Rafael Ortega",
           "CF",
           "*022vt*"
          ],
          [
           "Osleivis Basabe",
           "SS",
           "*04ni5*"
          ],
          [
           "Yolmer Sánchez",
           "2B",
           "*02i35*"
          ],
          [
           "Wade Meckler",
           "LF",
           "*066cn*"
          ],
          [
           "Colton Welker",
           "3B",
           "*041rk*"
          ],
          [
           "Peyton Burdick",
           "CF",
           "*0512l*"
          ],
          [
           "Vidal Bruján",
           "SS",
           "*03yxd*"
          ],
          [
           "DJ Peters",
           "LF",
           "*o41rb*"
          ],
          [
           "Travis Demeritte",
           "RF",
           "*0310h*"
          ],
          [
           "Blake Rutherford",
           "LF",
           "*03zce*"
          ],
          [
           "Jonathan Araúz",
           "SS",
           "*03nrm*"
          ],
          [
           "Derek Dietrich",
           "1B",
           "*01uv4*"
          ],
          [
           "Malcom Nuñez",
           "1B",
           "*04rzr*"
          ],
          [
           "Matt Reynolds",
           "2B",
           "*01uv0*"
          ],
          [
           "Dylan Crews",
           "DH",
           "*0596e*"
          ],
          [
           "Brayan Rocchio",
           "SS",
           "*04si3*"
          ],
          [
           "Heliot Ramos",
           "LF",
           "*04ee8*"
          ],
          [
           "Cristian Pache",
           "CF",
           "*03xlc*"
          ],
          [
           "Alcides Escobar",
           "SS",
           "*013ub*"
          ],
          [
           "Dee Strange-Gordon",
           "SS",
           "*01s9j*"
          ],
          [
           "Jake Noll",
           "1B",
           "*041tg*"
          ],
          [
           "Dexter Fowler",
           "RF",
           "*013vx*"
          ],
          [
           "Alex Jackson",
           "C",
           "*02yoi*"
          ],
          [
           "Hernán Pérez",
           "2B",
           "*021wf*"
          ],
          [
           "Jose Rojas",
           "RF",
           "*04lo8*"
          ],
          [
           "Jacob Nottingham",
           "1B",
           "*031bm*"
          ],
          [
           "Greg Bird",
           "1B",
           "*02btu*"
          ],
          [
           "José Peraza",
           "2B",
           "*02y27*"
          ],
          [
           "Travis Shaw",
           "3B",
           "*02bwm*"
          ],
          [
           "Dustin Peterson",
           "1B",
           "*03114*"
          ],
          [
           "Cal Mitchell",
           "LF",
           "*04eex*"
          ],
          [
           "Jonathan Davis",
           "CF",
           "*0375e*"
          ],
          [
           "Phillip Evans",
           "3B",
           "*02610*"
          ],
          [
           "Cody Thomas",
           "RF",
           "*041xd*"
          ],
          [
           "Ty Kelly",
           "1B",
           null
          ],
          [
           "Tony Wolters",
           "1B",
           "*01vxk*"
          ],
          [
           "Luis Torrens",
           "C",
           "*02nqg*"
          ],
          [
           "Connor Wong",
           "C",
           "*04efi*"
          ],
          [
           "Brennen Davis",
           "LF",
           "*04pmv*"
          ],
          [
           "John Hicks",
           "C",
           "*02bt6*"
          ],
          [
           "Sheldon Neuse",
           "3B",
           "*041pu*"
          ],
          [
           "Vimael Machín",
           "3B",
           "*03qok*"
          ],
          [
           "Trayce Thompson",
           "CF",
           "*01sb1*"
          ],
          [
           "Jason Castro",
           "C",
           "*01cde*"
          ],
          [
           "Ka'ai Tom",
           "RF",
           "*03qlf*"
          ],
          [
           "Terrance Gore",
           "LF",
           "*02c5z*"
          ],
          [
           "Lewin Díaz",
           "1B",
           "*031ui*"
          ],
          [
           "Adrián Sanchez",
           "2B",
           "*02yla*"
          ],
          [
           "Scott Kingery",
           "2B",
           "*03pjc*"
          ],
          [
           "Daniel Palka",
           "1B",
           "*02hqd*"
          ],
          [
           "Ender Inciarte",
           "CF",
           "*02z95*"
          ],
          [
           "Evan White",
           "1B",
           "*04bpk*"
          ],
          [
           "Kean Wong",
           "2B",
           "*033lq*"
          ],
          [
           "Austin Allen",
           "C",
           "*03qkr*"
          ],
          [
           "Jake Marisnick",
           "CF",
           "*01sit*"
          ],
          [
           "Braden Shewmake",
           "SS",
           "*04qri*"
          ],
          [
           "Steven Duggar",
           "CF",
           "*03aab*"
          ],
          [
           "José Briceño",
           "C",
           "*031s7*"
          ],
          [
           "Andrew Knizner",
           "C",
           "*041t8*"
          ],
          [
           "Allen Córdoba",
           "1B",
           "*03ytv*"
          ],
          [
           "Dwight Smith Jr.",
           "LF",
           "*02br0*"
          ],
          [
           "Kevin Maitan",
           "1B",
           "*0401b*"
          ],
          [
           "Paul DeJong",
           "SS",
           "*03qkh*"
          ],
          [
           "Sandy León",
           "C",
           "*02jtq*"
          ],
          [
           "Deven Marrero",
           "3B",
           "*02hev*"
          ],
          [
           "Dustin Garneau",
           "C",
           "*02hgc*"
          ],
          [
           "Avisaíl García",
           "DH",
           "*01urw*"
          ],
          [
           "Francisco Arcia",
           "C",
           "*03muj*"
          ],
          [
           "Andrew Young",
           "2B",
           "*04anu*"
          ],
          [
           "Kyle Garlick",
           "RF",
           "*03v3t*"
          ],
          [
           "Austin Dean",
           "LF",
           "*02myl*"
          ],
          [
           "Meibrys Viloria",
           "C",
           "*03mpf*"
          ],
          [
           "Shed Long Jr.",
           "2B",
           "*03139*"
          ],
          [
           "D.J. Peterson",
           "1B",
           "*0373q*"
          ],
          [
           "Daz Cameron",
           "CF",
           "*02zg5*"
          ],
          [
           "Yadiel Hernandez",
           "LF",
           "*03ywd*"
          ],
          [
           "Jackson Merrill",
           "CF",
           "*05ua7*"
          ],
          [
           "Mark Payton",
           "CF",
           "*031eg*"
          ],
          [
           "Steven Souza Jr.",
           "RF",
           "*01t3g*"
          ],
          [
           "Guillermo Heredia",
           "CF",
           "*03mlu*"
          ],
          [
           "Erik González",
           "SS",
           "*03bnk*"
          ],
          [
           "Franklin Barreto",
           "1B",
           "*02ni1*"
          ],
          [
           "Billy Hamilton",
           "CF",
           "*01sy8*"
          ],
          [
           "Marwin Gonzalez",
           "2B",
           "*021oy*"
          ],
          [
           "Dom Nuñez",
           "C",
           "*03125*"
          ],
          [
           "Hunter Dozier",
           "RF",
           "*03108*"
          ],
          [
           "Patrick Kivlehan",
           "1B",
           "*02myu*"
          ],
          [
           "Roberto Pérez",
           "C",
           "*021wh*"
          ],
          [
           "Jason Vosler",
           "3B",
           "*03dpa*"
          ],
          [
           "Juan Lagares",
           "CF",
           "*021s2*"
          ],
          [
           "Eric Stamets",
           "1B",
           "*02mzz*"
          ],
          [
           "Stefen Romero",
           "LF",
           "*02hlt*"
          ],
          [
           "Jose Herrera",
           "C",
           "*05xz1*"
          ],
          [
           "Joshua Fuentes",
           "3B",
           "*0413a*"
          ],
          [
           "Chad Pinder",
           "LF",
           "*03160*"
          ],
          [
           "Michael Pérez",
           "C",
           "*02btc*"
          ],
          [
           "James Triantos",
           "2B",
           "*05ucf*"
          ],
          [
           "Scott Heineman",
           "1B",
           "*03dri*"
          ],
          [
           "Jorge Alfaro",
           "C",
           "*025iy*"
          ],
          [
           "Jack Mayfield",
           "3B",
           "*03vlg*"
          ],
          [
           "Chris Owings",
           "SS",
           "*01s8o*"
          ],
          [
           "Nick Pratto",
           "1B",
           "*04b08*"
          ],
          [
           "Zach Remillard",
           "SS",
           "*041va*"
          ],
          [
           "Juan Centeno",
           "1B",
           "*038hy*"
          ],
          [
           "Charlie Culberson",
           "3B",
           "*025fu*"
          ],
          [
           "Kurt Suzuki",
           "C",
           "*000cd*"
          ],
          [
           "Cory Spangenberg",
           "1B",
           "*02bq1*"
          ],
          [
           "Steele Walker",
           "RF",
           "*04n64*"
          ],
          [
           "Jaylin Davis",
           "CF",
           "*03qzb*"
          ],
          [
           "Adam Haseley",
           "CF",
           "*04cdd*"
          ],
          [
           "Lucius Fox",
           "SS",
           "*03pzm*"
          ],
          [
           "Justin Upton",
           "LF",
           "*0001p*"
          ],
          [
           "Derek Fisher",
           "LF",
           "*026m5*"
          ],
          [
           "Carter Kieboom",
           "3B",
           "*041m8*"
          ],
          [
           "Richard Urena",
           "1B",
           "*02xil*"
          ],
          [
           "Kelvin Gutiérrez",
           "3B",
           "*03nud*"
          ],
          [
           "Dérmis Garcia",
           "1B",
           "*03c8a*"
          ],
          [
           "Tomás Telis",
           "C",
           "*025gm*"
          ],
          [
           "Kole Calhoun",
           "RF",
           "*0240y*"
          ],
          [
           "Bobby Bradley",
           "1B",
           "*03daq*"
          ],
          [
           "Seth Beer",
           "1B",
           "*0414k*"
          ],
          [
           "Braden Bishop",
           "LF",
           "*03qjr*"
          ],
          [
           "Roman Quinn",
           "CF",
           "*02brj*"
          ],
          [
           "Pat Valaika",
           "2B",
           "*0312o*"
          ],
          [
           "Brett Sullivan",
           "C",
           "*03qtv*"
          ],
          [
           "Victor Mesa",
           "LF",
           "*04p2p*"
          ],
          [
           "Delvin Pérez",
           "2B",
           "*03ytn*"
          ],
          [
           "Jermaine Palacios",
           "SS",
           "*03nuu*"
          ],
          [
           "Alex Blandino",
           "2B",
           "*03d6u*"
          ],
          [
           "Albert Almora Jr.",
           "CF",
           "*02i2o*"
          ],
          [
           "Clint Frazier",
           "LF",
           "*02yoh*"
          ],
          [
           "JaCoby Jones",
           "2B",
           "*01uvc*"
          ],
          [
           "Liover Peguero",
           "2B",
           "*04ol2*"
          ],
          [
           "Wilmer Difo",
           "SS",
           "*03c7r*"
          ],
          [
           "Ryan Vilade",
           "1B",
           "*04eew*"
          ],
          [
           "Riley Adams",
           "C",
           "*04azt*"
          ],
          [
           "Daniel Robertson",
           "3B",
           "*02oqn*"
          ],
          [
           "Jackie Bradley Jr.",
           "CF",
           "*025ho*"
          ],
          [
           "Kyle Holder",
           "2B",
           "*03pjg*"
          ],
          [
           "Eric Thames",
           "1B",
           "*025d4*"
          ],
          [
           "JT Riddle",
           "SS",
           "*0313a*"
          ],
          [
           "Justin Williams",
           "LF",
           "*02z0x*"
          ],
          [
           "Monte Harrison",
           "CF",
           "*03cah*"
          ],
          [
           "Rob Brantly",
           "C",
           "*025e9*"
          ],
          [
           "Matt Adams",
           "1B",
           "*0272u*"
          ],
          [
           "Korey Lee",
           "C",
           "*0510z*"
          ],
          [
           "Austin Romine",
           "C",
           "*01cgn*"
          ],
          [
           "Kosuke Fukudome",
           null,
           null
          ],
          [
           "Franmil Reyes",
           "RF",
           "*02i3z*"
          ],
          [
           "Martín Maldonado",
           "C",
           "*021t6*"
          ],
          [
           "Jeter Downs",
           "SS",
           "*04eeg*"
          ],
          [
           "Yadiel Rivera",
           "1B",
           "*02hjn*"
          ],
          [
           "Andrew Knapp",
           "C",
           "*03119*"
          ],
          [
           "Ryan Goins",
           "1B",
           "*021ot*"
          ],
          [
           "Marco Luciano",
           "SS",
           "*04ooy*"
          ],
          [
           "Kevin Cron",
           "1B",
           "*02bse*"
          ],
          [
           "Carlos Pérez",
           "1B",
           "*01suw*"
          ],
          [
           "Robinson Chirinos",
           "C",
           "*025j5*"
          ],
          [
           "Zack Collins",
           "1B",
           "*03yug*"
          ],
          [
           "Wyatt Mathisen",
           "1B",
           "*02mxb*"
          ],
          [
           "Scott Schebler",
           "LF",
           "*02z07*"
          ],
          [
           "Stephen Piscotty",
           "RF",
           "*02i2r*"
          ],
          [
           "Grayson Greiner",
           "C",
           "*03das*"
          ],
          [
           "Chance Sisco",
           "C",
           "*03117*"
          ]
         ],
         "hovertemplate": "warp=%{x}<br>fpts=%{y}<br>name=%{customdata[0]}<br>pos=%{customdata[1]}<br>fantraxid=%{customdata[2]}<br>pa=%{marker.color}<extra></extra>",
         "legendgroup": "",
         "marker": {
          "color": [
           678,
           648,
           622,
           646,
           598,
           582,
           570,
           578,
           638,
           653,
           639,
           641,
           541,
           660,
           610,
           642,
           661,
           604,
           621,
           622,
           588,
           525,
           634,
           663,
           631,
           610,
           602,
           601,
           624,
           641,
           600,
           644,
           626,
           596,
           462,
           447,
           588,
           611,
           588,
           625,
           570,
           635,
           449,
           497,
           621,
           595,
           595,
           587,
           637,
           603,
           530,
           626,
           614,
           592,
           493,
           583,
           591,
           570,
           398,
           527,
           574,
           562,
           556,
           589,
           586,
           500,
           533,
           625,
           590,
           538,
           531,
           613,
           318,
           583,
           505,
           567,
           483,
           588,
           592,
           533,
           573,
           494,
           565,
           493,
           527,
           581,
           600,
           533,
           516,
           607,
           588,
           512,
           467,
           438,
           547,
           559,
           523,
           533,
           548,
           523,
           477,
           251,
           313,
           389,
           598,
           375,
           583,
           491,
           560,
           559,
           423,
           367,
           501,
           557,
           520,
           588,
           542,
           488,
           521,
           597,
           532,
           398,
           508,
           537,
           366,
           574,
           568,
           492,
           585,
           542,
           388,
           464,
           506,
           389,
           551,
           554,
           536,
           550,
           572,
           529,
           493,
           569,
           499,
           532,
           581,
           527,
           541,
           531,
           509,
           517,
           542,
           361,
           550,
           512,
           406,
           561,
           577,
           542,
           554,
           568,
           449,
           345,
           422,
           533,
           361,
           258,
           400,
           579,
           439,
           415,
           554,
           542,
           443,
           564,
           519,
           443,
           554,
           479,
           542,
           477,
           250,
           477,
           579,
           527,
           534,
           460,
           601,
           432,
           438,
           337,
           586,
           345,
           254,
           522,
           382,
           587,
           419,
           378,
           440,
           245,
           494,
           570,
           251,
           389,
           253,
           552,
           219,
           311,
           536,
           368,
           491,
           442,
           471,
           418,
           352,
           376,
           285,
           521,
           411,
           495,
           477,
           375,
           226,
           294,
           588,
           251,
           281,
           595,
           296,
           385,
           261,
           341,
           490,
           432,
           364,
           265,
           556,
           417,
           329,
           423,
           295,
           251,
           251,
           576,
           251,
           333,
           183,
           183,
           536,
           383,
           453,
           157,
           251,
           430,
           384,
           251,
           361,
           367,
           225,
           185,
           251,
           375,
           373,
           331,
           287,
           251,
           247,
           251,
           411,
           251,
           328,
           251,
           269,
           251,
           251,
           579,
           253,
           241,
           251,
           313,
           399,
           251,
           224,
           544,
           251,
           251,
           372,
           251,
           428,
           285,
           544,
           218,
           525,
           251,
           315,
           251,
           251,
           317,
           251,
           251,
           251,
           187,
           254,
           463,
           251,
           252,
           251,
           254,
           383,
           251,
           181,
           198,
           251,
           251,
           251,
           273,
           340,
           332,
           305,
           251,
           251,
           198,
           251,
           251,
           370,
           224,
           251,
           273,
           251,
           251,
           341,
           251,
           434,
           251,
           291,
           425,
           251,
           228,
           253,
           486,
           251,
           251,
           124,
           251,
           154,
           217,
           251,
           163,
           393,
           251,
           251,
           193,
           184,
           251,
           332,
           251,
           251,
           251,
           307,
           286,
           251,
           361,
           251,
           214,
           251,
           285,
           251,
           215,
           211,
           251,
           199,
           193,
           251,
           251,
           466,
           251,
           290,
           251,
           477,
           251,
           201,
           251,
           251,
           251,
           194,
           251,
           219,
           257,
           199,
           251,
           158,
           251,
           251,
           251,
           172,
           136,
           251,
           205,
           90,
           89,
           251,
           550,
           251,
           94,
           251,
           251,
           131,
           251,
           251,
           414,
           251,
           251,
           310,
           251,
           251,
           152,
           251,
           127,
           251,
           92,
           251,
           160,
           188,
           211,
           213,
           251,
           251,
           251,
           380,
           251,
           441,
           251,
           225,
           251,
           251,
           251,
           251,
           97,
           251,
           159,
           251,
           251,
           251,
           277,
           138,
           458,
           251,
           184,
           324,
           130,
           251,
           251,
           251,
           311,
           153,
           251,
           180,
           251,
           285,
           251,
           251,
           408,
           191,
           251,
           166,
           164,
           251,
           251,
           251,
           251,
           156,
           90,
           130,
           120,
           251,
           163,
           127,
           123,
           221,
           62,
           61,
           251,
           98,
           251,
           154,
           251,
           218,
           251,
           251,
           212,
           93,
           165,
           251,
           97,
           197,
           251,
           251,
           159,
           150,
           292,
           251,
           101,
           251,
           126,
           265,
           251,
           98,
           61,
           251,
           95,
           251,
           251,
           120,
           171,
           251,
           251,
           251,
           251,
           181,
           184,
           29,
           447,
           251,
           95,
           250,
           94,
           64,
           251,
           251,
           251,
           251,
           251,
           251,
           251,
           471,
           155,
           60,
           184,
           30,
           251,
           251,
           251,
           251,
           185,
           251,
           251,
           212,
           357,
           97,
           251,
           251,
           191,
           251,
           61,
           251,
           64,
           251,
           65,
           98,
           97,
           126,
           251,
           124,
           251,
           29,
           251,
           97,
           251,
           251,
           165,
           288,
           123,
           251,
           28,
           251,
           251,
           58,
           251,
           251,
           204,
           97,
           59,
           251,
           251,
           251,
           69,
           251,
           63,
           29,
           251,
           251,
           65,
           90,
           131,
           251,
           187,
           430,
           251,
           99,
           251,
           123,
           93,
           31,
           251,
           251,
           362,
           251,
           251,
           63,
           402,
           331,
           90,
           251,
           29,
           251,
           90,
           29,
           322,
           251,
           31,
           251,
           251,
           30,
           251,
           224,
           251,
           251,
           29,
           251,
           251,
           251,
           28,
           30,
           27,
           30,
           28,
           31,
           251,
           267,
           89,
           29,
           63,
           250,
           150,
           28,
           251,
           251,
           251,
           251,
           257,
           251,
           29,
           366,
           379,
           251,
           251,
           124,
           251,
           29,
           251,
           29,
           59,
           62,
           292,
           30,
           251,
           29,
           251,
           252,
           251,
           29,
           30,
           251,
           63,
           28,
           30,
           65,
           251,
           29,
           251,
           251,
           468,
           31,
           29,
           251,
           244,
           251,
           251,
           59,
           251,
           362,
           61,
           251,
           63,
           62,
           251,
           31,
           251,
           89,
           251,
           251,
           251,
           251,
           251,
           251,
           61,
           90,
           251,
           251,
           251,
           251,
           251,
           451,
           251,
           68,
           251,
           251,
           90,
           251,
           251,
           251,
           251,
           251,
           251,
           251,
           131,
           251,
           251,
           121,
           251,
           120,
           63,
           251,
           251,
           251,
           251,
           190,
           251,
           344,
           251,
           251,
           251,
           251,
           60,
           251,
           251,
           62,
           251,
           29,
           251,
           60,
           90,
           251,
           251,
           251,
           251,
           251,
           251,
           251,
           130,
           426,
           91,
           184,
           251,
           251,
           251,
           251,
           120,
           251,
           251,
           251,
           251,
           251,
           251,
           251,
           162,
           251,
           251,
           251,
           251,
           251,
           251,
           361,
           251,
           251,
           251,
           251,
           251,
           251,
           251,
           251,
           251,
           251,
           251,
           251,
           251,
           63,
           251,
           251,
           251,
           211,
           251,
           251,
           90,
           251,
           251,
           251,
           342,
           251,
           251,
           251,
           425,
           251,
           251,
           251,
           251,
           251,
           251,
           251,
           251,
           251,
           402,
           251,
           251,
           251,
           251,
           251,
           251,
           251,
           251,
           251,
           251,
           251,
           251,
           251,
           251,
           251,
           151,
           251,
           251,
           251,
           251,
           251,
           251,
           251,
           251,
           228,
           251,
           251,
           251,
           251,
           251,
           251,
           251,
           251,
           251,
           251,
           251,
           388,
           251,
           251,
           251,
           251,
           251,
           251,
           251,
           251,
           251,
           251,
           150,
           251,
           251,
           251,
           251,
           251,
           251,
           251,
           363,
           251,
           251,
           186,
           251,
           251,
           251,
           251,
           251,
           251,
           251,
           251,
           251,
           152,
           251,
           251,
           251,
           176,
           251,
           251,
           251,
           251,
           437,
           251,
           251,
           251,
           251,
           251,
           251,
           251,
           251,
           251
          ],
          "coloraxis": "coloraxis",
          "symbol": "circle"
         },
         "mode": "markers",
         "name": "",
         "orientation": "v",
         "showlegend": false,
         "type": "scatter",
         "x": [
          6.8,
          6.5,
          5.6,
          5.1,
          5,
          5,
          4.9,
          4.9,
          4.8,
          4.8,
          4.7,
          4.5,
          4.4,
          4.2,
          4.1,
          4,
          3.9,
          3.9,
          3.9,
          3.8,
          3.8,
          3.8,
          3.7,
          3.7,
          3.7,
          3.6,
          3.6,
          3.5,
          3.5,
          3.5,
          3.5,
          3.4,
          3.3,
          3.3,
          3.3,
          3.2,
          3.2,
          3.2,
          3.2,
          3.1,
          3.1,
          3.1,
          3.1,
          3.1,
          3.1,
          3.1,
          3,
          3,
          3,
          2.9,
          2.9,
          2.9,
          2.9,
          2.9,
          2.8,
          2.8,
          2.8,
          2.7,
          2.7,
          2.7,
          2.7,
          2.7,
          2.7,
          2.6,
          2.6,
          2.6,
          2.6,
          2.6,
          2.5,
          2.5,
          2.5,
          2.5,
          2.4,
          2.3,
          2.3,
          2.3,
          2.3,
          2.3,
          2.2,
          2.2,
          2.2,
          2.2,
          2.2,
          2.2,
          2.2,
          2.2,
          2.1,
          2.1,
          2.1,
          2.1,
          2,
          2,
          2,
          2,
          2,
          1.9,
          1.9,
          1.9,
          1.9,
          1.9,
          1.9,
          1.9,
          1.9,
          1.9,
          1.9,
          1.8,
          1.8,
          1.8,
          1.8,
          1.8,
          1.8,
          1.8,
          1.8,
          1.8,
          1.7,
          1.7,
          1.7,
          1.7,
          1.7,
          1.7,
          1.7,
          1.7,
          1.7,
          1.7,
          1.7,
          1.7,
          1.6,
          1.6,
          1.6,
          1.6,
          1.6,
          1.6,
          1.6,
          1.6,
          1.6,
          1.6,
          1.6,
          1.5,
          1.5,
          1.5,
          1.5,
          1.5,
          1.5,
          1.5,
          1.5,
          1.5,
          1.4,
          1.4,
          1.4,
          1.4,
          1.4,
          1.4,
          1.4,
          1.4,
          1.4,
          1.4,
          1.4,
          1.4,
          1.4,
          1.4,
          1.3,
          1.3,
          1.3,
          1.3,
          1.3,
          1.3,
          1.3,
          1.3,
          1.3,
          1.3,
          1.3,
          1.3,
          1.3,
          1.3,
          1.2,
          1.2,
          1.2,
          1.2,
          1.2,
          1.2,
          1.2,
          1.2,
          1.1,
          1.1,
          1.1,
          1.1,
          1.1,
          1.1,
          1.1,
          1.1,
          1.1,
          1.1,
          1.1,
          1,
          1,
          1,
          1,
          1,
          1,
          1,
          1,
          1,
          1,
          1,
          1,
          1,
          1,
          1,
          1,
          1,
          0.9,
          0.9,
          0.9,
          0.9,
          0.9,
          0.9,
          0.9,
          0.9,
          0.9,
          0.8,
          0.8,
          0.8,
          0.8,
          0.8,
          0.8,
          0.8,
          0.8,
          0.8,
          0.8,
          0.8,
          0.8,
          0.8,
          0.8,
          0.8,
          0.8,
          0.8,
          0.8,
          0.8,
          0.8,
          0.8,
          0.8,
          0.8,
          0.8,
          0.8,
          0.8,
          0.8,
          0.8,
          0.7,
          0.7,
          0.7,
          0.7,
          0.7,
          0.7,
          0.7,
          0.7,
          0.7,
          0.7,
          0.7,
          0.7,
          0.7,
          0.7,
          0.7,
          0.7,
          0.7,
          0.7,
          0.7,
          0.7,
          0.6,
          0.6,
          0.6,
          0.6,
          0.6,
          0.6,
          0.6,
          0.6,
          0.6,
          0.6,
          0.6,
          0.6,
          0.6,
          0.6,
          0.6,
          0.6,
          0.6,
          0.6,
          0.6,
          0.6,
          0.6,
          0.6,
          0.6,
          0.6,
          0.6,
          0.6,
          0.6,
          0.6,
          0.6,
          0.6,
          0.6,
          0.6,
          0.6,
          0.6,
          0.5,
          0.5,
          0.5,
          0.5,
          0.5,
          0.5,
          0.5,
          0.5,
          0.5,
          0.5,
          0.5,
          0.5,
          0.5,
          0.5,
          0.5,
          0.5,
          0.5,
          0.5,
          0.5,
          0.5,
          0.5,
          0.5,
          0.5,
          0.5,
          0.5,
          0.5,
          0.5,
          0.5,
          0.5,
          0.5,
          0.5,
          0.5,
          0.5,
          0.5,
          0.5,
          0.5,
          0.5,
          0.5,
          0.5,
          0.5,
          0.5,
          0.4,
          0.4,
          0.4,
          0.4,
          0.4,
          0.4,
          0.4,
          0.4,
          0.4,
          0.4,
          0.4,
          0.4,
          0.4,
          0.4,
          0.4,
          0.4,
          0.4,
          0.4,
          0.4,
          0.4,
          0.4,
          0.4,
          0.4,
          0.4,
          0.4,
          0.4,
          0.4,
          0.4,
          0.4,
          0.4,
          0.4,
          0.4,
          0.4,
          0.4,
          0.4,
          0.4,
          0.4,
          0.4,
          0.4,
          0.4,
          0.4,
          0.4,
          0.4,
          0.4,
          0.4,
          0.4,
          0.4,
          0.4,
          0.4,
          0.4,
          0.3,
          0.3,
          0.3,
          0.3,
          0.3,
          0.3,
          0.3,
          0.3,
          0.3,
          0.3,
          0.3,
          0.3,
          0.3,
          0.3,
          0.3,
          0.3,
          0.3,
          0.3,
          0.3,
          0.3,
          0.3,
          0.3,
          0.3,
          0.3,
          0.3,
          0.3,
          0.3,
          0.3,
          0.3,
          0.3,
          0.3,
          0.3,
          0.3,
          0.3,
          0.3,
          0.3,
          0.3,
          0.3,
          0.3,
          0.3,
          0.3,
          0.3,
          0.3,
          0.3,
          0.3,
          0.3,
          0.3,
          0.3,
          0.3,
          0.3,
          0.3,
          0.3,
          0.3,
          0.3,
          0.3,
          0.3,
          0.3,
          0.3,
          0.3,
          0.3,
          0.3,
          0.3,
          0.3,
          0.2,
          0.2,
          0.2,
          0.2,
          0.2,
          0.2,
          0.2,
          0.2,
          0.2,
          0.2,
          0.2,
          0.2,
          0.2,
          0.2,
          0.2,
          0.2,
          0.2,
          0.2,
          0.2,
          0.2,
          0.2,
          0.2,
          0.2,
          0.2,
          0.2,
          0.2,
          0.2,
          0.2,
          0.2,
          0.2,
          0.2,
          0.2,
          0.2,
          0.2,
          0.2,
          0.2,
          0.2,
          0.2,
          0.2,
          0.2,
          0.2,
          0.2,
          0.2,
          0.2,
          0.2,
          0.2,
          0.2,
          0.2,
          0.2,
          0.2,
          0.2,
          0.2,
          0.2,
          0.2,
          0.2,
          0.2,
          0.2,
          0.2,
          0.2,
          0.2,
          0.2,
          0.2,
          0.2,
          0.2,
          0.2,
          0.1,
          0.1,
          0.1,
          0.1,
          0.1,
          0.1,
          0.1,
          0.1,
          0.1,
          0.1,
          0.1,
          0.1,
          0.1,
          0.1,
          0.1,
          0.1,
          0.1,
          0.1,
          0.1,
          0.1,
          0.1,
          0.1,
          0.1,
          0.1,
          0.1,
          0.1,
          0.1,
          0.1,
          0.1,
          0.1,
          0.1,
          0.1,
          0.1,
          0.1,
          0.1,
          0.1,
          0.1,
          0.1,
          0.1,
          0.1,
          0.1,
          0.1,
          0.1,
          0.1,
          0.1,
          0.1,
          0.1,
          0.1,
          0.1,
          0.1,
          0.1,
          0.1,
          0.1,
          0.1,
          0.1,
          0.1,
          0.1,
          0.1,
          0.1,
          0.1,
          0.1,
          0.1,
          0.1,
          0.1,
          0.1,
          0.1,
          0.1,
          0.1,
          0.1,
          0.1,
          0.1,
          0.1,
          0.1,
          0.1,
          0.1,
          0.1,
          0.1,
          0.1,
          0.1,
          0.1,
          0.1,
          0.1,
          0.1,
          0.1,
          0.1,
          0.1,
          0.1,
          0.1,
          0.1,
          0.1,
          0,
          0,
          0,
          0,
          0,
          0,
          0,
          0,
          0,
          0,
          0,
          0,
          0,
          0,
          0,
          0,
          0,
          0,
          0,
          0,
          0,
          0,
          0,
          0,
          0,
          0,
          0,
          0,
          0,
          0,
          0,
          0,
          0,
          0,
          0,
          0,
          0,
          0,
          0,
          0,
          0,
          0,
          0,
          0,
          0,
          0,
          0,
          0,
          0,
          0,
          0,
          0,
          0,
          0,
          0,
          0,
          0,
          0,
          0,
          0,
          0,
          0,
          0,
          0,
          0,
          0,
          0,
          0,
          0,
          0,
          0,
          0,
          0,
          0,
          0,
          0,
          0,
          0,
          0,
          0,
          0,
          0,
          0,
          0,
          0,
          0,
          0,
          0,
          0,
          -0.1,
          -0.1,
          -0.1,
          -0.1,
          -0.1,
          -0.1,
          -0.1,
          -0.1,
          -0.1,
          -0.1,
          -0.1,
          -0.1,
          -0.1,
          -0.1,
          -0.1,
          -0.1,
          -0.1,
          -0.1,
          -0.1,
          -0.1,
          -0.1,
          -0.1,
          -0.1,
          -0.1,
          -0.1,
          -0.1,
          -0.1,
          -0.1,
          -0.1,
          -0.1,
          -0.1,
          -0.1,
          -0.1,
          -0.1,
          -0.1,
          -0.1,
          -0.1,
          -0.1,
          -0.1,
          -0.1,
          -0.1,
          -0.1,
          -0.1,
          -0.1,
          -0.1,
          -0.1,
          -0.1,
          -0.1,
          -0.1,
          -0.1,
          -0.1,
          -0.1,
          -0.1,
          -0.1,
          -0.2,
          -0.2,
          -0.2,
          -0.2,
          -0.2,
          -0.2,
          -0.2,
          -0.2,
          -0.2,
          -0.2,
          -0.2,
          -0.2,
          -0.2,
          -0.2,
          -0.2,
          -0.2,
          -0.2,
          -0.2,
          -0.2,
          -0.2,
          -0.2,
          -0.2,
          -0.2,
          -0.2,
          -0.2,
          -0.2,
          -0.2,
          -0.2,
          -0.2,
          -0.2,
          -0.2,
          -0.2,
          -0.2,
          -0.2,
          -0.2,
          -0.2,
          -0.2,
          -0.2,
          -0.2,
          -0.2,
          -0.2,
          -0.2,
          -0.2,
          -0.2,
          -0.2,
          -0.3,
          -0.3,
          -0.3,
          -0.3,
          -0.3,
          -0.3,
          -0.3,
          -0.3,
          -0.3,
          -0.3,
          -0.3,
          -0.3,
          -0.3,
          -0.3,
          -0.3,
          -0.3,
          -0.3,
          -0.3,
          -0.3,
          -0.3,
          -0.3,
          -0.3,
          -0.3,
          -0.3,
          -0.3,
          -0.3,
          -0.3,
          -0.3,
          -0.3,
          -0.3,
          -0.3,
          -0.3,
          -0.3,
          -0.3,
          -0.3,
          -0.3,
          -0.3,
          -0.4,
          -0.4,
          -0.4,
          -0.4,
          -0.4,
          -0.4,
          -0.4,
          -0.4,
          -0.4,
          -0.4,
          -0.4,
          -0.4,
          -0.4,
          -0.4,
          -0.4,
          -0.4,
          -0.4,
          -0.4,
          -0.4,
          -0.4,
          -0.4,
          -0.4,
          -0.4,
          -0.4,
          -0.4,
          -0.4,
          -0.4,
          -0.4,
          -0.4,
          -0.4,
          -0.4,
          -0.4,
          -0.4,
          -0.5,
          -0.5,
          -0.5,
          -0.5,
          -0.5,
          -0.5,
          -0.5,
          -0.5,
          -0.5,
          -0.5,
          -0.5,
          -0.5,
          -0.6,
          -0.6,
          -0.6,
          -0.6,
          -0.6,
          -0.6,
          -0.6,
          -0.6,
          -0.6,
          -0.6,
          -0.6,
          -0.7,
          -0.7,
          -0.7,
          -0.7,
          -0.7,
          -0.7,
          -0.7,
          -0.7,
          -0.7,
          -0.7,
          -0.7,
          -0.8,
          -0.8,
          -0.8,
          -0.8,
          -0.9,
          -0.9,
          -1.2
         ],
         "xaxis": "x",
         "y": [
          243.75,
          262.25,
          222,
          226.5,
          171,
          180.25,
          205,
          210.25,
          218,
          188.5,
          210.25,
          172.75,
          177.75,
          206,
          189.5,
          198.5,
          178.75,
          192.75,
          199.5,
          191.75,
          172.75,
          157,
          194.25,
          180.75,
          172.5,
          152.25,
          173,
          160.5,
          140,
          155.25,
          150,
          175,
          155.75,
          140,
          103.25,
          101.25,
          156,
          169.25,
          129.25,
          161.25,
          138.25,
          167.5,
          111,
          147.75,
          177.75,
          171.5,
          159.25,
          161.75,
          164,
          142.25,
          147,
          163,
          176,
          148.5,
          106,
          145,
          142,
          132.5,
          111.25,
          134.25,
          136.25,
          133.75,
          144,
          171.25,
          140.5,
          108.25,
          149.5,
          164,
          125.5,
          126.75,
          121.25,
          149.5,
          45.25,
          150.5,
          120.5,
          145.25,
          120.75,
          151.5,
          149,
          133,
          149,
          108.25,
          139.25,
          115,
          118.5,
          136.5,
          155.25,
          138.75,
          139.25,
          139.5,
          144.75,
          124.75,
          126,
          92.75,
          141.25,
          129,
          117.25,
          117.5,
          138.25,
          125,
          97.25,
          69,
          84,
          86.75,
          141.75,
          103.25,
          150,
          119.5,
          105.5,
          114,
          89.5,
          74.75,
          111.75,
          135.75,
          98.75,
          139,
          127,
          95,
          132.75,
          135.5,
          131.25,
          103.5,
          100,
          139.25,
          90.75,
          131.5,
          117,
          122,
          134.25,
          131,
          103.5,
          102,
          130,
          92.5,
          113.25,
          119,
          119.25,
          104.25,
          121.75,
          129.5,
          106.25,
          109.5,
          93.5,
          114.25,
          104,
          121.25,
          102.5,
          128.25,
          96.75,
          110.5,
          118.5,
          97,
          127,
          105.25,
          69.5,
          140.25,
          121,
          120.25,
          112.75,
          127,
          76.25,
          93,
          92,
          108.25,
          87.5,
          45.25,
          94.25,
          105.75,
          87,
          94.25,
          110.5,
          128.25,
          105.75,
          135,
          103.75,
          93.5,
          113.75,
          86.75,
          112.75,
          92.75,
          43.5,
          94.25,
          83.25,
          106.75,
          123,
          92,
          128.25,
          95,
          81.25,
          65,
          115.25,
          80.5,
          56,
          122.25,
          84,
          106.5,
          77,
          85.5,
          90.25,
          46,
          100.5,
          106.25,
          50.75,
          78.75,
          54,
          116.25,
          43.75,
          55.5,
          107,
          77.75,
          89.75,
          103,
          97.5,
          87.25,
          66.75,
          83.25,
          63,
          99,
          84,
          101,
          91.25,
          63.25,
          55,
          63,
          119.5,
          73,
          68.75,
          116.25,
          68,
          90,
          63.75,
          73,
          110,
          99.25,
          46.25,
          57.75,
          92.75,
          81.75,
          71.25,
          96.75,
          72,
          61,
          57.5,
          109.5,
          52.5,
          78.75,
          26.5,
          19.25,
          94,
          85.75,
          88,
          37.25,
          60.75,
          91,
          80,
          53,
          92,
          84.75,
          50.75,
          33.5,
          43,
          76.5,
          66.75,
          66,
          57.25,
          53.5,
          44,
          48.25,
          83.75,
          49.5,
          66.5,
          48.25,
          53,
          46.75,
          49.25,
          124.25,
          55,
          42.25,
          54.5,
          57.25,
          71.75,
          55.75,
          44.25,
          84,
          50.25,
          44.75,
          67.25,
          53.75,
          96.75,
          59.75,
          79.75,
          45.25,
          101.75,
          48,
          65.75,
          50.25,
          55.25,
          71.5,
          50.25,
          58.25,
          28.25,
          34.75,
          51.5,
          85.25,
          41.25,
          50.75,
          45.25,
          44,
          67.75,
          47.25,
          36.5,
          42.25,
          42.75,
          58.5,
          53,
          51.5,
          60.75,
          68.5,
          52.5,
          40.5,
          47.25,
          42.25,
          49.75,
          42.75,
          79.25,
          48.25,
          46,
          58,
          53.25,
          50.25,
          66.25,
          44.75,
          89.5,
          40.5,
          62,
          73,
          51.75,
          51.5,
          51.75,
          88.5,
          55.5,
          51.75,
          25,
          40.75,
          23.75,
          47.5,
          47,
          37.25,
          67.25,
          37,
          56,
          33.75,
          31.25,
          47.75,
          64.75,
          53.25,
          54.25,
          51.25,
          57.75,
          59.5,
          41.75,
          68,
          50.25,
          32,
          26.5,
          52,
          53.5,
          41,
          35.25,
          49.75,
          41.75,
          41,
          42,
          45.25,
          67.5,
          51.25,
          53.5,
          47.75,
          98.5,
          50,
          47.25,
          45.5,
          44.75,
          55.5,
          38,
          50.25,
          44.5,
          47.25,
          34.5,
          47.5,
          33.5,
          49,
          43.25,
          46.25,
          40.75,
          26,
          41,
          40.25,
          21.75,
          19,
          40.25,
          98,
          48.5,
          15,
          47.75,
          47,
          31.25,
          42.25,
          42.25,
          76,
          42.5,
          41.5,
          65,
          46,
          54.25,
          16,
          38.5,
          28,
          43.25,
          14,
          46.5,
          30.25,
          38.5,
          36.25,
          47.75,
          48,
          46,
          45.25,
          49.75,
          46,
          83.75,
          38,
          41.25,
          43.75,
          49.5,
          51,
          42.5,
          21.5,
          35.5,
          28.75,
          38.5,
          29,
          44.75,
          52,
          28.5,
          65,
          44.25,
          23,
          67.25,
          28.25,
          33.5,
          50.5,
          53.75,
          53.75,
          25.5,
          45,
          30.25,
          55,
          55.75,
          44.75,
          47.25,
          68.5,
          34,
          38.25,
          37,
          30,
          46,
          41,
          38.25,
          36.75,
          29.25,
          16.5,
          23.75,
          18.5,
          48,
          31.75,
          24,
          23,
          35.5,
          13.25,
          13,
          39,
          18.5,
          47.75,
          30.25,
          39.75,
          39.5,
          48.5,
          42.5,
          33.25,
          20,
          31.5,
          49.5,
          22,
          35.75,
          37,
          38.75,
          29.5,
          20.75,
          50.5,
          42,
          24,
          46.5,
          22.5,
          45.25,
          43.25,
          17.5,
          13.25,
          37,
          19,
          42.25,
          47.75,
          25.75,
          36.75,
          40,
          42.25,
          49.25,
          41,
          29.25,
          26.75,
          1.25,
          56.75,
          41.25,
          16.75,
          38.75,
          20,
          12.25,
          39.25,
          46.25,
          38.25,
          45.5,
          44.25,
          39.75,
          34,
          83,
          27,
          14.25,
          29.5,
          5,
          39.25,
          37,
          33.5,
          40,
          31.25,
          45.25,
          42.75,
          26.25,
          54.75,
          17.25,
          42,
          41.25,
          33.75,
          39.75,
          12,
          46.5,
          11.75,
          36.75,
          14,
          13.5,
          15.25,
          23,
          49,
          23.75,
          35.5,
          3.25,
          48.75,
          18,
          50.75,
          43,
          29.5,
          52.25,
          15,
          40.5,
          5.5,
          50,
          43.75,
          9.25,
          37.5,
          40.5,
          36.25,
          16,
          4.75,
          42.25,
          48.5,
          35.5,
          13.75,
          32.25,
          11.5,
          4.5,
          42,
          43.75,
          13,
          18.25,
          28.5,
          46.5,
          29.25,
          68,
          36.75,
          16.5,
          47.25,
          18.75,
          18,
          4.5,
          42.25,
          39.75,
          56.5,
          42,
          47.5,
          8.25,
          61,
          54.75,
          11.5,
          42.25,
          6,
          37.75,
          13.5,
          3,
          57.25,
          46,
          3.75,
          38.25,
          39.25,
          6,
          26.5,
          38.5,
          31.25,
          40.75,
          4.75,
          44,
          40.25,
          36,
          4.5,
          4.5,
          5.25,
          3.75,
          1.75,
          4,
          41.75,
          51.25,
          14.5,
          2,
          9.75,
          37.5,
          20.75,
          3.75,
          28.5,
          37.25,
          37,
          37.25,
          32.25,
          31.25,
          2.75,
          60.25,
          61.5,
          38.5,
          35.25,
          21,
          43.5,
          4.5,
          32.25,
          6.5,
          8.25,
          10,
          50.5,
          5.25,
          38.75,
          2.75,
          39.75,
          44.5,
          33.5,
          3.75,
          2.25,
          36.25,
          9,
          5,
          4.25,
          9,
          42.5,
          4.25,
          51.5,
          29.5,
          89,
          5.25,
          4.5,
          40.5,
          37.75,
          37.25,
          44.75,
          10.5,
          27,
          62,
          10.25,
          37.5,
          12,
          11,
          46.5,
          5,
          38.5,
          14.75,
          40.5,
          42,
          37.75,
          36.75,
          35.5,
          41.5,
          9.5,
          18.75,
          44,
          37.75,
          36,
          32.75,
          43,
          83,
          28,
          12,
          42,
          43.5,
          10.5,
          32.25,
          37.75,
          36.5,
          36,
          34,
          30.75,
          39.25,
          18,
          34,
          37.25,
          15,
          41.75,
          25,
          8.75,
          33.75,
          35.5,
          33.75,
          42.75,
          28.5,
          41,
          50.5,
          41.75,
          40,
          27,
          42.75,
          7.25,
          43.5,
          49,
          9.25,
          37.75,
          2.25,
          40.25,
          6,
          16.5,
          30.75,
          34.5,
          33.5,
          37,
          32.25,
          37.75,
          35.5,
          15,
          64.5,
          15.25,
          25,
          37.5,
          42,
          36.25,
          36,
          13.75,
          35.25,
          40.25,
          26,
          36,
          38,
          37.75,
          37.25,
          21.75,
          36,
          41,
          39,
          35,
          32.25,
          42,
          46.25,
          30.5,
          38.5,
          34.75,
          44.5,
          36.25,
          29,
          35.75,
          32.5,
          41.75,
          36.25,
          31,
          35.25,
          40.75,
          8.25,
          36.75,
          28.25,
          32,
          24.75,
          24,
          26.75,
          15.5,
          37.25,
          33,
          24,
          45.5,
          30,
          31.5,
          29.25,
          65.25,
          27.75,
          32.75,
          40.75,
          37.25,
          37,
          32.75,
          33,
          34.25,
          38,
          59.25,
          40.5,
          33.5,
          33.25,
          27.5,
          26.25,
          29,
          39.5,
          31,
          36.75,
          28.25,
          21.75,
          37.5,
          39.25,
          26.75,
          30,
          23.25,
          29.75,
          33.25,
          31,
          33.5,
          29.75,
          23.75,
          34.25,
          31,
          29.5,
          35,
          27.5,
          28.25,
          46.25,
          26.5,
          34.25,
          29.5,
          32.75,
          29,
          36,
          27,
          66.25,
          28,
          30.5,
          31,
          33.25,
          41.25,
          31.25,
          38.5,
          30,
          27.75,
          31.25,
          25.5,
          30.25,
          27,
          25,
          32.25,
          34.75,
          35.25,
          22.5,
          47.25,
          32.75,
          28.25,
          29,
          29.25,
          31.5,
          22.25,
          27.75,
          24.75,
          24.5,
          18.5,
          37.75,
          29.75,
          14.5,
          19.5,
          21.5,
          41.25,
          18,
          31.75,
          21.25,
          26,
          22.75,
          52.25,
          24.75,
          47.75,
          30,
          31,
          24.25,
          20.75,
          34.5,
          11,
          34
         ],
         "yaxis": "y"
        },
        {
         "alignmentgroup": "True",
         "bingroup": "x",
         "hovertemplate": "warp=%{x}<br>count=%{y}<extra></extra>",
         "legendgroup": "",
         "marker": {
          "color": "#0d0887"
         },
         "name": "",
         "offsetgroup": "",
         "opacity": 0.5,
         "showlegend": false,
         "type": "histogram",
         "x": [
          6.8,
          6.5,
          5.6,
          5.1,
          5,
          5,
          4.9,
          4.9,
          4.8,
          4.8,
          4.7,
          4.5,
          4.4,
          4.2,
          4.1,
          4,
          3.9,
          3.9,
          3.9,
          3.8,
          3.8,
          3.8,
          3.7,
          3.7,
          3.7,
          3.6,
          3.6,
          3.5,
          3.5,
          3.5,
          3.5,
          3.4,
          3.3,
          3.3,
          3.3,
          3.2,
          3.2,
          3.2,
          3.2,
          3.1,
          3.1,
          3.1,
          3.1,
          3.1,
          3.1,
          3.1,
          3,
          3,
          3,
          2.9,
          2.9,
          2.9,
          2.9,
          2.9,
          2.8,
          2.8,
          2.8,
          2.7,
          2.7,
          2.7,
          2.7,
          2.7,
          2.7,
          2.6,
          2.6,
          2.6,
          2.6,
          2.6,
          2.5,
          2.5,
          2.5,
          2.5,
          2.4,
          2.3,
          2.3,
          2.3,
          2.3,
          2.3,
          2.2,
          2.2,
          2.2,
          2.2,
          2.2,
          2.2,
          2.2,
          2.2,
          2.1,
          2.1,
          2.1,
          2.1,
          2,
          2,
          2,
          2,
          2,
          1.9,
          1.9,
          1.9,
          1.9,
          1.9,
          1.9,
          1.9,
          1.9,
          1.9,
          1.9,
          1.8,
          1.8,
          1.8,
          1.8,
          1.8,
          1.8,
          1.8,
          1.8,
          1.8,
          1.7,
          1.7,
          1.7,
          1.7,
          1.7,
          1.7,
          1.7,
          1.7,
          1.7,
          1.7,
          1.7,
          1.7,
          1.6,
          1.6,
          1.6,
          1.6,
          1.6,
          1.6,
          1.6,
          1.6,
          1.6,
          1.6,
          1.6,
          1.5,
          1.5,
          1.5,
          1.5,
          1.5,
          1.5,
          1.5,
          1.5,
          1.5,
          1.4,
          1.4,
          1.4,
          1.4,
          1.4,
          1.4,
          1.4,
          1.4,
          1.4,
          1.4,
          1.4,
          1.4,
          1.4,
          1.4,
          1.3,
          1.3,
          1.3,
          1.3,
          1.3,
          1.3,
          1.3,
          1.3,
          1.3,
          1.3,
          1.3,
          1.3,
          1.3,
          1.3,
          1.2,
          1.2,
          1.2,
          1.2,
          1.2,
          1.2,
          1.2,
          1.2,
          1.1,
          1.1,
          1.1,
          1.1,
          1.1,
          1.1,
          1.1,
          1.1,
          1.1,
          1.1,
          1.1,
          1,
          1,
          1,
          1,
          1,
          1,
          1,
          1,
          1,
          1,
          1,
          1,
          1,
          1,
          1,
          1,
          1,
          0.9,
          0.9,
          0.9,
          0.9,
          0.9,
          0.9,
          0.9,
          0.9,
          0.9,
          0.8,
          0.8,
          0.8,
          0.8,
          0.8,
          0.8,
          0.8,
          0.8,
          0.8,
          0.8,
          0.8,
          0.8,
          0.8,
          0.8,
          0.8,
          0.8,
          0.8,
          0.8,
          0.8,
          0.8,
          0.8,
          0.8,
          0.8,
          0.8,
          0.8,
          0.8,
          0.8,
          0.8,
          0.7,
          0.7,
          0.7,
          0.7,
          0.7,
          0.7,
          0.7,
          0.7,
          0.7,
          0.7,
          0.7,
          0.7,
          0.7,
          0.7,
          0.7,
          0.7,
          0.7,
          0.7,
          0.7,
          0.7,
          0.6,
          0.6,
          0.6,
          0.6,
          0.6,
          0.6,
          0.6,
          0.6,
          0.6,
          0.6,
          0.6,
          0.6,
          0.6,
          0.6,
          0.6,
          0.6,
          0.6,
          0.6,
          0.6,
          0.6,
          0.6,
          0.6,
          0.6,
          0.6,
          0.6,
          0.6,
          0.6,
          0.6,
          0.6,
          0.6,
          0.6,
          0.6,
          0.6,
          0.6,
          0.5,
          0.5,
          0.5,
          0.5,
          0.5,
          0.5,
          0.5,
          0.5,
          0.5,
          0.5,
          0.5,
          0.5,
          0.5,
          0.5,
          0.5,
          0.5,
          0.5,
          0.5,
          0.5,
          0.5,
          0.5,
          0.5,
          0.5,
          0.5,
          0.5,
          0.5,
          0.5,
          0.5,
          0.5,
          0.5,
          0.5,
          0.5,
          0.5,
          0.5,
          0.5,
          0.5,
          0.5,
          0.5,
          0.5,
          0.5,
          0.5,
          0.4,
          0.4,
          0.4,
          0.4,
          0.4,
          0.4,
          0.4,
          0.4,
          0.4,
          0.4,
          0.4,
          0.4,
          0.4,
          0.4,
          0.4,
          0.4,
          0.4,
          0.4,
          0.4,
          0.4,
          0.4,
          0.4,
          0.4,
          0.4,
          0.4,
          0.4,
          0.4,
          0.4,
          0.4,
          0.4,
          0.4,
          0.4,
          0.4,
          0.4,
          0.4,
          0.4,
          0.4,
          0.4,
          0.4,
          0.4,
          0.4,
          0.4,
          0.4,
          0.4,
          0.4,
          0.4,
          0.4,
          0.4,
          0.4,
          0.4,
          0.3,
          0.3,
          0.3,
          0.3,
          0.3,
          0.3,
          0.3,
          0.3,
          0.3,
          0.3,
          0.3,
          0.3,
          0.3,
          0.3,
          0.3,
          0.3,
          0.3,
          0.3,
          0.3,
          0.3,
          0.3,
          0.3,
          0.3,
          0.3,
          0.3,
          0.3,
          0.3,
          0.3,
          0.3,
          0.3,
          0.3,
          0.3,
          0.3,
          0.3,
          0.3,
          0.3,
          0.3,
          0.3,
          0.3,
          0.3,
          0.3,
          0.3,
          0.3,
          0.3,
          0.3,
          0.3,
          0.3,
          0.3,
          0.3,
          0.3,
          0.3,
          0.3,
          0.3,
          0.3,
          0.3,
          0.3,
          0.3,
          0.3,
          0.3,
          0.3,
          0.3,
          0.3,
          0.3,
          0.2,
          0.2,
          0.2,
          0.2,
          0.2,
          0.2,
          0.2,
          0.2,
          0.2,
          0.2,
          0.2,
          0.2,
          0.2,
          0.2,
          0.2,
          0.2,
          0.2,
          0.2,
          0.2,
          0.2,
          0.2,
          0.2,
          0.2,
          0.2,
          0.2,
          0.2,
          0.2,
          0.2,
          0.2,
          0.2,
          0.2,
          0.2,
          0.2,
          0.2,
          0.2,
          0.2,
          0.2,
          0.2,
          0.2,
          0.2,
          0.2,
          0.2,
          0.2,
          0.2,
          0.2,
          0.2,
          0.2,
          0.2,
          0.2,
          0.2,
          0.2,
          0.2,
          0.2,
          0.2,
          0.2,
          0.2,
          0.2,
          0.2,
          0.2,
          0.2,
          0.2,
          0.2,
          0.2,
          0.2,
          0.2,
          0.1,
          0.1,
          0.1,
          0.1,
          0.1,
          0.1,
          0.1,
          0.1,
          0.1,
          0.1,
          0.1,
          0.1,
          0.1,
          0.1,
          0.1,
          0.1,
          0.1,
          0.1,
          0.1,
          0.1,
          0.1,
          0.1,
          0.1,
          0.1,
          0.1,
          0.1,
          0.1,
          0.1,
          0.1,
          0.1,
          0.1,
          0.1,
          0.1,
          0.1,
          0.1,
          0.1,
          0.1,
          0.1,
          0.1,
          0.1,
          0.1,
          0.1,
          0.1,
          0.1,
          0.1,
          0.1,
          0.1,
          0.1,
          0.1,
          0.1,
          0.1,
          0.1,
          0.1,
          0.1,
          0.1,
          0.1,
          0.1,
          0.1,
          0.1,
          0.1,
          0.1,
          0.1,
          0.1,
          0.1,
          0.1,
          0.1,
          0.1,
          0.1,
          0.1,
          0.1,
          0.1,
          0.1,
          0.1,
          0.1,
          0.1,
          0.1,
          0.1,
          0.1,
          0.1,
          0.1,
          0.1,
          0.1,
          0.1,
          0.1,
          0.1,
          0.1,
          0.1,
          0.1,
          0.1,
          0.1,
          0,
          0,
          0,
          0,
          0,
          0,
          0,
          0,
          0,
          0,
          0,
          0,
          0,
          0,
          0,
          0,
          0,
          0,
          0,
          0,
          0,
          0,
          0,
          0,
          0,
          0,
          0,
          0,
          0,
          0,
          0,
          0,
          0,
          0,
          0,
          0,
          0,
          0,
          0,
          0,
          0,
          0,
          0,
          0,
          0,
          0,
          0,
          0,
          0,
          0,
          0,
          0,
          0,
          0,
          0,
          0,
          0,
          0,
          0,
          0,
          0,
          0,
          0,
          0,
          0,
          0,
          0,
          0,
          0,
          0,
          0,
          0,
          0,
          0,
          0,
          0,
          0,
          0,
          0,
          0,
          0,
          0,
          0,
          0,
          0,
          0,
          0,
          0,
          0,
          -0.1,
          -0.1,
          -0.1,
          -0.1,
          -0.1,
          -0.1,
          -0.1,
          -0.1,
          -0.1,
          -0.1,
          -0.1,
          -0.1,
          -0.1,
          -0.1,
          -0.1,
          -0.1,
          -0.1,
          -0.1,
          -0.1,
          -0.1,
          -0.1,
          -0.1,
          -0.1,
          -0.1,
          -0.1,
          -0.1,
          -0.1,
          -0.1,
          -0.1,
          -0.1,
          -0.1,
          -0.1,
          -0.1,
          -0.1,
          -0.1,
          -0.1,
          -0.1,
          -0.1,
          -0.1,
          -0.1,
          -0.1,
          -0.1,
          -0.1,
          -0.1,
          -0.1,
          -0.1,
          -0.1,
          -0.1,
          -0.1,
          -0.1,
          -0.1,
          -0.1,
          -0.1,
          -0.1,
          -0.2,
          -0.2,
          -0.2,
          -0.2,
          -0.2,
          -0.2,
          -0.2,
          -0.2,
          -0.2,
          -0.2,
          -0.2,
          -0.2,
          -0.2,
          -0.2,
          -0.2,
          -0.2,
          -0.2,
          -0.2,
          -0.2,
          -0.2,
          -0.2,
          -0.2,
          -0.2,
          -0.2,
          -0.2,
          -0.2,
          -0.2,
          -0.2,
          -0.2,
          -0.2,
          -0.2,
          -0.2,
          -0.2,
          -0.2,
          -0.2,
          -0.2,
          -0.2,
          -0.2,
          -0.2,
          -0.2,
          -0.2,
          -0.2,
          -0.2,
          -0.2,
          -0.2,
          -0.3,
          -0.3,
          -0.3,
          -0.3,
          -0.3,
          -0.3,
          -0.3,
          -0.3,
          -0.3,
          -0.3,
          -0.3,
          -0.3,
          -0.3,
          -0.3,
          -0.3,
          -0.3,
          -0.3,
          -0.3,
          -0.3,
          -0.3,
          -0.3,
          -0.3,
          -0.3,
          -0.3,
          -0.3,
          -0.3,
          -0.3,
          -0.3,
          -0.3,
          -0.3,
          -0.3,
          -0.3,
          -0.3,
          -0.3,
          -0.3,
          -0.3,
          -0.3,
          -0.4,
          -0.4,
          -0.4,
          -0.4,
          -0.4,
          -0.4,
          -0.4,
          -0.4,
          -0.4,
          -0.4,
          -0.4,
          -0.4,
          -0.4,
          -0.4,
          -0.4,
          -0.4,
          -0.4,
          -0.4,
          -0.4,
          -0.4,
          -0.4,
          -0.4,
          -0.4,
          -0.4,
          -0.4,
          -0.4,
          -0.4,
          -0.4,
          -0.4,
          -0.4,
          -0.4,
          -0.4,
          -0.4,
          -0.5,
          -0.5,
          -0.5,
          -0.5,
          -0.5,
          -0.5,
          -0.5,
          -0.5,
          -0.5,
          -0.5,
          -0.5,
          -0.5,
          -0.6,
          -0.6,
          -0.6,
          -0.6,
          -0.6,
          -0.6,
          -0.6,
          -0.6,
          -0.6,
          -0.6,
          -0.6,
          -0.7,
          -0.7,
          -0.7,
          -0.7,
          -0.7,
          -0.7,
          -0.7,
          -0.7,
          -0.7,
          -0.7,
          -0.7,
          -0.8,
          -0.8,
          -0.8,
          -0.8,
          -0.9,
          -0.9,
          -1.2
         ],
         "xaxis": "x3",
         "yaxis": "y3"
        },
        {
         "alignmentgroup": "True",
         "bingroup": "y",
         "hovertemplate": "fpts=%{y}<br>count=%{x}<extra></extra>",
         "legendgroup": "",
         "marker": {
          "color": "#0d0887"
         },
         "name": "",
         "offsetgroup": "",
         "opacity": 0.5,
         "showlegend": false,
         "type": "histogram",
         "xaxis": "x2",
         "y": [
          243.75,
          262.25,
          222,
          226.5,
          171,
          180.25,
          205,
          210.25,
          218,
          188.5,
          210.25,
          172.75,
          177.75,
          206,
          189.5,
          198.5,
          178.75,
          192.75,
          199.5,
          191.75,
          172.75,
          157,
          194.25,
          180.75,
          172.5,
          152.25,
          173,
          160.5,
          140,
          155.25,
          150,
          175,
          155.75,
          140,
          103.25,
          101.25,
          156,
          169.25,
          129.25,
          161.25,
          138.25,
          167.5,
          111,
          147.75,
          177.75,
          171.5,
          159.25,
          161.75,
          164,
          142.25,
          147,
          163,
          176,
          148.5,
          106,
          145,
          142,
          132.5,
          111.25,
          134.25,
          136.25,
          133.75,
          144,
          171.25,
          140.5,
          108.25,
          149.5,
          164,
          125.5,
          126.75,
          121.25,
          149.5,
          45.25,
          150.5,
          120.5,
          145.25,
          120.75,
          151.5,
          149,
          133,
          149,
          108.25,
          139.25,
          115,
          118.5,
          136.5,
          155.25,
          138.75,
          139.25,
          139.5,
          144.75,
          124.75,
          126,
          92.75,
          141.25,
          129,
          117.25,
          117.5,
          138.25,
          125,
          97.25,
          69,
          84,
          86.75,
          141.75,
          103.25,
          150,
          119.5,
          105.5,
          114,
          89.5,
          74.75,
          111.75,
          135.75,
          98.75,
          139,
          127,
          95,
          132.75,
          135.5,
          131.25,
          103.5,
          100,
          139.25,
          90.75,
          131.5,
          117,
          122,
          134.25,
          131,
          103.5,
          102,
          130,
          92.5,
          113.25,
          119,
          119.25,
          104.25,
          121.75,
          129.5,
          106.25,
          109.5,
          93.5,
          114.25,
          104,
          121.25,
          102.5,
          128.25,
          96.75,
          110.5,
          118.5,
          97,
          127,
          105.25,
          69.5,
          140.25,
          121,
          120.25,
          112.75,
          127,
          76.25,
          93,
          92,
          108.25,
          87.5,
          45.25,
          94.25,
          105.75,
          87,
          94.25,
          110.5,
          128.25,
          105.75,
          135,
          103.75,
          93.5,
          113.75,
          86.75,
          112.75,
          92.75,
          43.5,
          94.25,
          83.25,
          106.75,
          123,
          92,
          128.25,
          95,
          81.25,
          65,
          115.25,
          80.5,
          56,
          122.25,
          84,
          106.5,
          77,
          85.5,
          90.25,
          46,
          100.5,
          106.25,
          50.75,
          78.75,
          54,
          116.25,
          43.75,
          55.5,
          107,
          77.75,
          89.75,
          103,
          97.5,
          87.25,
          66.75,
          83.25,
          63,
          99,
          84,
          101,
          91.25,
          63.25,
          55,
          63,
          119.5,
          73,
          68.75,
          116.25,
          68,
          90,
          63.75,
          73,
          110,
          99.25,
          46.25,
          57.75,
          92.75,
          81.75,
          71.25,
          96.75,
          72,
          61,
          57.5,
          109.5,
          52.5,
          78.75,
          26.5,
          19.25,
          94,
          85.75,
          88,
          37.25,
          60.75,
          91,
          80,
          53,
          92,
          84.75,
          50.75,
          33.5,
          43,
          76.5,
          66.75,
          66,
          57.25,
          53.5,
          44,
          48.25,
          83.75,
          49.5,
          66.5,
          48.25,
          53,
          46.75,
          49.25,
          124.25,
          55,
          42.25,
          54.5,
          57.25,
          71.75,
          55.75,
          44.25,
          84,
          50.25,
          44.75,
          67.25,
          53.75,
          96.75,
          59.75,
          79.75,
          45.25,
          101.75,
          48,
          65.75,
          50.25,
          55.25,
          71.5,
          50.25,
          58.25,
          28.25,
          34.75,
          51.5,
          85.25,
          41.25,
          50.75,
          45.25,
          44,
          67.75,
          47.25,
          36.5,
          42.25,
          42.75,
          58.5,
          53,
          51.5,
          60.75,
          68.5,
          52.5,
          40.5,
          47.25,
          42.25,
          49.75,
          42.75,
          79.25,
          48.25,
          46,
          58,
          53.25,
          50.25,
          66.25,
          44.75,
          89.5,
          40.5,
          62,
          73,
          51.75,
          51.5,
          51.75,
          88.5,
          55.5,
          51.75,
          25,
          40.75,
          23.75,
          47.5,
          47,
          37.25,
          67.25,
          37,
          56,
          33.75,
          31.25,
          47.75,
          64.75,
          53.25,
          54.25,
          51.25,
          57.75,
          59.5,
          41.75,
          68,
          50.25,
          32,
          26.5,
          52,
          53.5,
          41,
          35.25,
          49.75,
          41.75,
          41,
          42,
          45.25,
          67.5,
          51.25,
          53.5,
          47.75,
          98.5,
          50,
          47.25,
          45.5,
          44.75,
          55.5,
          38,
          50.25,
          44.5,
          47.25,
          34.5,
          47.5,
          33.5,
          49,
          43.25,
          46.25,
          40.75,
          26,
          41,
          40.25,
          21.75,
          19,
          40.25,
          98,
          48.5,
          15,
          47.75,
          47,
          31.25,
          42.25,
          42.25,
          76,
          42.5,
          41.5,
          65,
          46,
          54.25,
          16,
          38.5,
          28,
          43.25,
          14,
          46.5,
          30.25,
          38.5,
          36.25,
          47.75,
          48,
          46,
          45.25,
          49.75,
          46,
          83.75,
          38,
          41.25,
          43.75,
          49.5,
          51,
          42.5,
          21.5,
          35.5,
          28.75,
          38.5,
          29,
          44.75,
          52,
          28.5,
          65,
          44.25,
          23,
          67.25,
          28.25,
          33.5,
          50.5,
          53.75,
          53.75,
          25.5,
          45,
          30.25,
          55,
          55.75,
          44.75,
          47.25,
          68.5,
          34,
          38.25,
          37,
          30,
          46,
          41,
          38.25,
          36.75,
          29.25,
          16.5,
          23.75,
          18.5,
          48,
          31.75,
          24,
          23,
          35.5,
          13.25,
          13,
          39,
          18.5,
          47.75,
          30.25,
          39.75,
          39.5,
          48.5,
          42.5,
          33.25,
          20,
          31.5,
          49.5,
          22,
          35.75,
          37,
          38.75,
          29.5,
          20.75,
          50.5,
          42,
          24,
          46.5,
          22.5,
          45.25,
          43.25,
          17.5,
          13.25,
          37,
          19,
          42.25,
          47.75,
          25.75,
          36.75,
          40,
          42.25,
          49.25,
          41,
          29.25,
          26.75,
          1.25,
          56.75,
          41.25,
          16.75,
          38.75,
          20,
          12.25,
          39.25,
          46.25,
          38.25,
          45.5,
          44.25,
          39.75,
          34,
          83,
          27,
          14.25,
          29.5,
          5,
          39.25,
          37,
          33.5,
          40,
          31.25,
          45.25,
          42.75,
          26.25,
          54.75,
          17.25,
          42,
          41.25,
          33.75,
          39.75,
          12,
          46.5,
          11.75,
          36.75,
          14,
          13.5,
          15.25,
          23,
          49,
          23.75,
          35.5,
          3.25,
          48.75,
          18,
          50.75,
          43,
          29.5,
          52.25,
          15,
          40.5,
          5.5,
          50,
          43.75,
          9.25,
          37.5,
          40.5,
          36.25,
          16,
          4.75,
          42.25,
          48.5,
          35.5,
          13.75,
          32.25,
          11.5,
          4.5,
          42,
          43.75,
          13,
          18.25,
          28.5,
          46.5,
          29.25,
          68,
          36.75,
          16.5,
          47.25,
          18.75,
          18,
          4.5,
          42.25,
          39.75,
          56.5,
          42,
          47.5,
          8.25,
          61,
          54.75,
          11.5,
          42.25,
          6,
          37.75,
          13.5,
          3,
          57.25,
          46,
          3.75,
          38.25,
          39.25,
          6,
          26.5,
          38.5,
          31.25,
          40.75,
          4.75,
          44,
          40.25,
          36,
          4.5,
          4.5,
          5.25,
          3.75,
          1.75,
          4,
          41.75,
          51.25,
          14.5,
          2,
          9.75,
          37.5,
          20.75,
          3.75,
          28.5,
          37.25,
          37,
          37.25,
          32.25,
          31.25,
          2.75,
          60.25,
          61.5,
          38.5,
          35.25,
          21,
          43.5,
          4.5,
          32.25,
          6.5,
          8.25,
          10,
          50.5,
          5.25,
          38.75,
          2.75,
          39.75,
          44.5,
          33.5,
          3.75,
          2.25,
          36.25,
          9,
          5,
          4.25,
          9,
          42.5,
          4.25,
          51.5,
          29.5,
          89,
          5.25,
          4.5,
          40.5,
          37.75,
          37.25,
          44.75,
          10.5,
          27,
          62,
          10.25,
          37.5,
          12,
          11,
          46.5,
          5,
          38.5,
          14.75,
          40.5,
          42,
          37.75,
          36.75,
          35.5,
          41.5,
          9.5,
          18.75,
          44,
          37.75,
          36,
          32.75,
          43,
          83,
          28,
          12,
          42,
          43.5,
          10.5,
          32.25,
          37.75,
          36.5,
          36,
          34,
          30.75,
          39.25,
          18,
          34,
          37.25,
          15,
          41.75,
          25,
          8.75,
          33.75,
          35.5,
          33.75,
          42.75,
          28.5,
          41,
          50.5,
          41.75,
          40,
          27,
          42.75,
          7.25,
          43.5,
          49,
          9.25,
          37.75,
          2.25,
          40.25,
          6,
          16.5,
          30.75,
          34.5,
          33.5,
          37,
          32.25,
          37.75,
          35.5,
          15,
          64.5,
          15.25,
          25,
          37.5,
          42,
          36.25,
          36,
          13.75,
          35.25,
          40.25,
          26,
          36,
          38,
          37.75,
          37.25,
          21.75,
          36,
          41,
          39,
          35,
          32.25,
          42,
          46.25,
          30.5,
          38.5,
          34.75,
          44.5,
          36.25,
          29,
          35.75,
          32.5,
          41.75,
          36.25,
          31,
          35.25,
          40.75,
          8.25,
          36.75,
          28.25,
          32,
          24.75,
          24,
          26.75,
          15.5,
          37.25,
          33,
          24,
          45.5,
          30,
          31.5,
          29.25,
          65.25,
          27.75,
          32.75,
          40.75,
          37.25,
          37,
          32.75,
          33,
          34.25,
          38,
          59.25,
          40.5,
          33.5,
          33.25,
          27.5,
          26.25,
          29,
          39.5,
          31,
          36.75,
          28.25,
          21.75,
          37.5,
          39.25,
          26.75,
          30,
          23.25,
          29.75,
          33.25,
          31,
          33.5,
          29.75,
          23.75,
          34.25,
          31,
          29.5,
          35,
          27.5,
          28.25,
          46.25,
          26.5,
          34.25,
          29.5,
          32.75,
          29,
          36,
          27,
          66.25,
          28,
          30.5,
          31,
          33.25,
          41.25,
          31.25,
          38.5,
          30,
          27.75,
          31.25,
          25.5,
          30.25,
          27,
          25,
          32.25,
          34.75,
          35.25,
          22.5,
          47.25,
          32.75,
          28.25,
          29,
          29.25,
          31.5,
          22.25,
          27.75,
          24.75,
          24.5,
          18.5,
          37.75,
          29.75,
          14.5,
          19.5,
          21.5,
          41.25,
          18,
          31.75,
          21.25,
          26,
          22.75,
          52.25,
          24.75,
          47.75,
          30,
          31,
          24.25,
          20.75,
          34.5,
          11,
          34
         ],
         "yaxis": "y2"
        }
       ],
       "layout": {
        "barmode": "overlay",
        "coloraxis": {
         "colorbar": {
          "title": {
           "text": "pa"
          }
         },
         "colorscale": [
          [
           0,
           "#0d0887"
          ],
          [
           0.1111111111111111,
           "#46039f"
          ],
          [
           0.2222222222222222,
           "#7201a8"
          ],
          [
           0.3333333333333333,
           "#9c179e"
          ],
          [
           0.4444444444444444,
           "#bd3786"
          ],
          [
           0.5555555555555556,
           "#d8576b"
          ],
          [
           0.6666666666666666,
           "#ed7953"
          ],
          [
           0.7777777777777778,
           "#fb9f3a"
          ],
          [
           0.8888888888888888,
           "#fdca26"
          ],
          [
           1,
           "#f0f921"
          ]
         ]
        },
        "legend": {
         "tracegroupgap": 0
        },
        "margin": {
         "t": 60
        },
        "template": {
         "data": {
          "bar": [
           {
            "error_x": {
             "color": "#f2f5fa"
            },
            "error_y": {
             "color": "#f2f5fa"
            },
            "marker": {
             "line": {
              "color": "rgb(17,17,17)",
              "width": 0.5
             },
             "pattern": {
              "fillmode": "overlay",
              "size": 10,
              "solidity": 0.2
             }
            },
            "type": "bar"
           }
          ],
          "barpolar": [
           {
            "marker": {
             "line": {
              "color": "rgb(17,17,17)",
              "width": 0.5
             },
             "pattern": {
              "fillmode": "overlay",
              "size": 10,
              "solidity": 0.2
             }
            },
            "type": "barpolar"
           }
          ],
          "carpet": [
           {
            "aaxis": {
             "endlinecolor": "#A2B1C6",
             "gridcolor": "#506784",
             "linecolor": "#506784",
             "minorgridcolor": "#506784",
             "startlinecolor": "#A2B1C6"
            },
            "baxis": {
             "endlinecolor": "#A2B1C6",
             "gridcolor": "#506784",
             "linecolor": "#506784",
             "minorgridcolor": "#506784",
             "startlinecolor": "#A2B1C6"
            },
            "type": "carpet"
           }
          ],
          "choropleth": [
           {
            "colorbar": {
             "outlinewidth": 0,
             "ticks": ""
            },
            "type": "choropleth"
           }
          ],
          "contour": [
           {
            "colorbar": {
             "outlinewidth": 0,
             "ticks": ""
            },
            "colorscale": [
             [
              0,
              "#0d0887"
             ],
             [
              0.1111111111111111,
              "#46039f"
             ],
             [
              0.2222222222222222,
              "#7201a8"
             ],
             [
              0.3333333333333333,
              "#9c179e"
             ],
             [
              0.4444444444444444,
              "#bd3786"
             ],
             [
              0.5555555555555556,
              "#d8576b"
             ],
             [
              0.6666666666666666,
              "#ed7953"
             ],
             [
              0.7777777777777778,
              "#fb9f3a"
             ],
             [
              0.8888888888888888,
              "#fdca26"
             ],
             [
              1,
              "#f0f921"
             ]
            ],
            "type": "contour"
           }
          ],
          "contourcarpet": [
           {
            "colorbar": {
             "outlinewidth": 0,
             "ticks": ""
            },
            "type": "contourcarpet"
           }
          ],
          "heatmap": [
           {
            "colorbar": {
             "outlinewidth": 0,
             "ticks": ""
            },
            "colorscale": [
             [
              0,
              "#0d0887"
             ],
             [
              0.1111111111111111,
              "#46039f"
             ],
             [
              0.2222222222222222,
              "#7201a8"
             ],
             [
              0.3333333333333333,
              "#9c179e"
             ],
             [
              0.4444444444444444,
              "#bd3786"
             ],
             [
              0.5555555555555556,
              "#d8576b"
             ],
             [
              0.6666666666666666,
              "#ed7953"
             ],
             [
              0.7777777777777778,
              "#fb9f3a"
             ],
             [
              0.8888888888888888,
              "#fdca26"
             ],
             [
              1,
              "#f0f921"
             ]
            ],
            "type": "heatmap"
           }
          ],
          "heatmapgl": [
           {
            "colorbar": {
             "outlinewidth": 0,
             "ticks": ""
            },
            "colorscale": [
             [
              0,
              "#0d0887"
             ],
             [
              0.1111111111111111,
              "#46039f"
             ],
             [
              0.2222222222222222,
              "#7201a8"
             ],
             [
              0.3333333333333333,
              "#9c179e"
             ],
             [
              0.4444444444444444,
              "#bd3786"
             ],
             [
              0.5555555555555556,
              "#d8576b"
             ],
             [
              0.6666666666666666,
              "#ed7953"
             ],
             [
              0.7777777777777778,
              "#fb9f3a"
             ],
             [
              0.8888888888888888,
              "#fdca26"
             ],
             [
              1,
              "#f0f921"
             ]
            ],
            "type": "heatmapgl"
           }
          ],
          "histogram": [
           {
            "marker": {
             "pattern": {
              "fillmode": "overlay",
              "size": 10,
              "solidity": 0.2
             }
            },
            "type": "histogram"
           }
          ],
          "histogram2d": [
           {
            "colorbar": {
             "outlinewidth": 0,
             "ticks": ""
            },
            "colorscale": [
             [
              0,
              "#0d0887"
             ],
             [
              0.1111111111111111,
              "#46039f"
             ],
             [
              0.2222222222222222,
              "#7201a8"
             ],
             [
              0.3333333333333333,
              "#9c179e"
             ],
             [
              0.4444444444444444,
              "#bd3786"
             ],
             [
              0.5555555555555556,
              "#d8576b"
             ],
             [
              0.6666666666666666,
              "#ed7953"
             ],
             [
              0.7777777777777778,
              "#fb9f3a"
             ],
             [
              0.8888888888888888,
              "#fdca26"
             ],
             [
              1,
              "#f0f921"
             ]
            ],
            "type": "histogram2d"
           }
          ],
          "histogram2dcontour": [
           {
            "colorbar": {
             "outlinewidth": 0,
             "ticks": ""
            },
            "colorscale": [
             [
              0,
              "#0d0887"
             ],
             [
              0.1111111111111111,
              "#46039f"
             ],
             [
              0.2222222222222222,
              "#7201a8"
             ],
             [
              0.3333333333333333,
              "#9c179e"
             ],
             [
              0.4444444444444444,
              "#bd3786"
             ],
             [
              0.5555555555555556,
              "#d8576b"
             ],
             [
              0.6666666666666666,
              "#ed7953"
             ],
             [
              0.7777777777777778,
              "#fb9f3a"
             ],
             [
              0.8888888888888888,
              "#fdca26"
             ],
             [
              1,
              "#f0f921"
             ]
            ],
            "type": "histogram2dcontour"
           }
          ],
          "mesh3d": [
           {
            "colorbar": {
             "outlinewidth": 0,
             "ticks": ""
            },
            "type": "mesh3d"
           }
          ],
          "parcoords": [
           {
            "line": {
             "colorbar": {
              "outlinewidth": 0,
              "ticks": ""
             }
            },
            "type": "parcoords"
           }
          ],
          "pie": [
           {
            "automargin": true,
            "type": "pie"
           }
          ],
          "scatter": [
           {
            "marker": {
             "line": {
              "color": "#283442"
             }
            },
            "type": "scatter"
           }
          ],
          "scatter3d": [
           {
            "line": {
             "colorbar": {
              "outlinewidth": 0,
              "ticks": ""
             }
            },
            "marker": {
             "colorbar": {
              "outlinewidth": 0,
              "ticks": ""
             }
            },
            "type": "scatter3d"
           }
          ],
          "scattercarpet": [
           {
            "marker": {
             "colorbar": {
              "outlinewidth": 0,
              "ticks": ""
             }
            },
            "type": "scattercarpet"
           }
          ],
          "scattergeo": [
           {
            "marker": {
             "colorbar": {
              "outlinewidth": 0,
              "ticks": ""
             }
            },
            "type": "scattergeo"
           }
          ],
          "scattergl": [
           {
            "marker": {
             "line": {
              "color": "#283442"
             }
            },
            "type": "scattergl"
           }
          ],
          "scattermapbox": [
           {
            "marker": {
             "colorbar": {
              "outlinewidth": 0,
              "ticks": ""
             }
            },
            "type": "scattermapbox"
           }
          ],
          "scatterpolar": [
           {
            "marker": {
             "colorbar": {
              "outlinewidth": 0,
              "ticks": ""
             }
            },
            "type": "scatterpolar"
           }
          ],
          "scatterpolargl": [
           {
            "marker": {
             "colorbar": {
              "outlinewidth": 0,
              "ticks": ""
             }
            },
            "type": "scatterpolargl"
           }
          ],
          "scatterternary": [
           {
            "marker": {
             "colorbar": {
              "outlinewidth": 0,
              "ticks": ""
             }
            },
            "type": "scatterternary"
           }
          ],
          "surface": [
           {
            "colorbar": {
             "outlinewidth": 0,
             "ticks": ""
            },
            "colorscale": [
             [
              0,
              "#0d0887"
             ],
             [
              0.1111111111111111,
              "#46039f"
             ],
             [
              0.2222222222222222,
              "#7201a8"
             ],
             [
              0.3333333333333333,
              "#9c179e"
             ],
             [
              0.4444444444444444,
              "#bd3786"
             ],
             [
              0.5555555555555556,
              "#d8576b"
             ],
             [
              0.6666666666666666,
              "#ed7953"
             ],
             [
              0.7777777777777778,
              "#fb9f3a"
             ],
             [
              0.8888888888888888,
              "#fdca26"
             ],
             [
              1,
              "#f0f921"
             ]
            ],
            "type": "surface"
           }
          ],
          "table": [
           {
            "cells": {
             "fill": {
              "color": "#506784"
             },
             "line": {
              "color": "rgb(17,17,17)"
             }
            },
            "header": {
             "fill": {
              "color": "#2a3f5f"
             },
             "line": {
              "color": "rgb(17,17,17)"
             }
            },
            "type": "table"
           }
          ]
         },
         "layout": {
          "annotationdefaults": {
           "arrowcolor": "#f2f5fa",
           "arrowhead": 0,
           "arrowwidth": 1
          },
          "autotypenumbers": "strict",
          "coloraxis": {
           "colorbar": {
            "outlinewidth": 0,
            "ticks": ""
           }
          },
          "colorscale": {
           "diverging": [
            [
             0,
             "#8e0152"
            ],
            [
             0.1,
             "#c51b7d"
            ],
            [
             0.2,
             "#de77ae"
            ],
            [
             0.3,
             "#f1b6da"
            ],
            [
             0.4,
             "#fde0ef"
            ],
            [
             0.5,
             "#f7f7f7"
            ],
            [
             0.6,
             "#e6f5d0"
            ],
            [
             0.7,
             "#b8e186"
            ],
            [
             0.8,
             "#7fbc41"
            ],
            [
             0.9,
             "#4d9221"
            ],
            [
             1,
             "#276419"
            ]
           ],
           "sequential": [
            [
             0,
             "#0d0887"
            ],
            [
             0.1111111111111111,
             "#46039f"
            ],
            [
             0.2222222222222222,
             "#7201a8"
            ],
            [
             0.3333333333333333,
             "#9c179e"
            ],
            [
             0.4444444444444444,
             "#bd3786"
            ],
            [
             0.5555555555555556,
             "#d8576b"
            ],
            [
             0.6666666666666666,
             "#ed7953"
            ],
            [
             0.7777777777777778,
             "#fb9f3a"
            ],
            [
             0.8888888888888888,
             "#fdca26"
            ],
            [
             1,
             "#f0f921"
            ]
           ],
           "sequentialminus": [
            [
             0,
             "#0d0887"
            ],
            [
             0.1111111111111111,
             "#46039f"
            ],
            [
             0.2222222222222222,
             "#7201a8"
            ],
            [
             0.3333333333333333,
             "#9c179e"
            ],
            [
             0.4444444444444444,
             "#bd3786"
            ],
            [
             0.5555555555555556,
             "#d8576b"
            ],
            [
             0.6666666666666666,
             "#ed7953"
            ],
            [
             0.7777777777777778,
             "#fb9f3a"
            ],
            [
             0.8888888888888888,
             "#fdca26"
            ],
            [
             1,
             "#f0f921"
            ]
           ]
          },
          "colorway": [
           "#636efa",
           "#EF553B",
           "#00cc96",
           "#ab63fa",
           "#FFA15A",
           "#19d3f3",
           "#FF6692",
           "#B6E880",
           "#FF97FF",
           "#FECB52"
          ],
          "font": {
           "color": "#f2f5fa"
          },
          "geo": {
           "bgcolor": "rgb(17,17,17)",
           "lakecolor": "rgb(17,17,17)",
           "landcolor": "rgb(17,17,17)",
           "showlakes": true,
           "showland": true,
           "subunitcolor": "#506784"
          },
          "hoverlabel": {
           "align": "left"
          },
          "hovermode": "closest",
          "mapbox": {
           "style": "dark"
          },
          "paper_bgcolor": "rgb(17,17,17)",
          "plot_bgcolor": "rgb(17,17,17)",
          "polar": {
           "angularaxis": {
            "gridcolor": "#506784",
            "linecolor": "#506784",
            "ticks": ""
           },
           "bgcolor": "rgb(17,17,17)",
           "radialaxis": {
            "gridcolor": "#506784",
            "linecolor": "#506784",
            "ticks": ""
           }
          },
          "scene": {
           "xaxis": {
            "backgroundcolor": "rgb(17,17,17)",
            "gridcolor": "#506784",
            "gridwidth": 2,
            "linecolor": "#506784",
            "showbackground": true,
            "ticks": "",
            "zerolinecolor": "#C8D4E3"
           },
           "yaxis": {
            "backgroundcolor": "rgb(17,17,17)",
            "gridcolor": "#506784",
            "gridwidth": 2,
            "linecolor": "#506784",
            "showbackground": true,
            "ticks": "",
            "zerolinecolor": "#C8D4E3"
           },
           "zaxis": {
            "backgroundcolor": "rgb(17,17,17)",
            "gridcolor": "#506784",
            "gridwidth": 2,
            "linecolor": "#506784",
            "showbackground": true,
            "ticks": "",
            "zerolinecolor": "#C8D4E3"
           }
          },
          "shapedefaults": {
           "line": {
            "color": "#f2f5fa"
           }
          },
          "sliderdefaults": {
           "bgcolor": "#C8D4E3",
           "bordercolor": "rgb(17,17,17)",
           "borderwidth": 1,
           "tickwidth": 0
          },
          "ternary": {
           "aaxis": {
            "gridcolor": "#506784",
            "linecolor": "#506784",
            "ticks": ""
           },
           "baxis": {
            "gridcolor": "#506784",
            "linecolor": "#506784",
            "ticks": ""
           },
           "bgcolor": "rgb(17,17,17)",
           "caxis": {
            "gridcolor": "#506784",
            "linecolor": "#506784",
            "ticks": ""
           }
          },
          "title": {
           "x": 0.05
          },
          "updatemenudefaults": {
           "bgcolor": "#506784",
           "borderwidth": 0
          },
          "xaxis": {
           "automargin": true,
           "gridcolor": "#283442",
           "linecolor": "#506784",
           "ticks": "",
           "title": {
            "standoff": 15
           },
           "zerolinecolor": "#283442",
           "zerolinewidth": 2
          },
          "yaxis": {
           "automargin": true,
           "gridcolor": "#283442",
           "linecolor": "#506784",
           "ticks": "",
           "title": {
            "standoff": 15
           },
           "zerolinecolor": "#283442",
           "zerolinewidth": 2
          }
         }
        },
        "xaxis": {
         "anchor": "y",
         "domain": [
          0,
          0.7363
         ],
         "title": {
          "text": "warp"
         }
        },
        "xaxis2": {
         "anchor": "y2",
         "domain": [
          0.7413,
          1
         ],
         "matches": "x2",
         "showgrid": true,
         "showline": false,
         "showticklabels": false,
         "ticks": ""
        },
        "xaxis3": {
         "anchor": "y3",
         "domain": [
          0,
          0.7363
         ],
         "matches": "x",
         "showgrid": true,
         "showticklabels": false
        },
        "xaxis4": {
         "anchor": "y4",
         "domain": [
          0.7413,
          1
         ],
         "matches": "x2",
         "showgrid": true,
         "showline": false,
         "showticklabels": false,
         "ticks": ""
        },
        "yaxis": {
         "anchor": "x",
         "domain": [
          0,
          0.7326
         ],
         "title": {
          "text": "fpts"
         }
        },
        "yaxis2": {
         "anchor": "x2",
         "domain": [
          0,
          0.7326
         ],
         "matches": "y",
         "showgrid": true,
         "showticklabels": false
        },
        "yaxis3": {
         "anchor": "x3",
         "domain": [
          0.7426,
          1
         ],
         "matches": "y3",
         "showgrid": true,
         "showline": false,
         "showticklabels": false,
         "ticks": ""
        },
        "yaxis4": {
         "anchor": "x4",
         "domain": [
          0.7426,
          1
         ],
         "matches": "y3",
         "showgrid": true,
         "showline": false,
         "showticklabels": false,
         "ticks": ""
        }
       }
      }
     },
     "metadata": {},
     "output_type": "display_data"
    }
   ],
   "source": [
    "fig = px.scatter(\n",
    "    df_pecota_hitting[[\"name\", \"pos\", \"age\", \"pa\", \"warp\", \"fantraxid\", \"fpts\"]],\n",
    "    x=\"warp\",\n",
    "    y=\"fpts\",\n",
    "    color=\"pa\",\n",
    "    hover_data=[\"name\", \"pos\", \"fantraxid\"],\n",
    "    marginal_x=\"histogram\",\n",
    "    marginal_y=\"histogram\",\n",
    ")\n",
    "fig.show()"
   ]
  },
  {
   "cell_type": "code",
   "execution_count": 7,
   "metadata": {},
   "outputs": [
    {
     "data": {
      "application/vnd.plotly.v1+json": {
       "config": {
        "plotlyServerURL": "https://plot.ly"
       },
       "data": [
        {
         "customdata": [
          [
           "Gerrit Cole",
           "*01spo*"
          ],
          [
           "Corbin Burnes",
           "*041rd*"
          ],
          [
           "Logan Webb",
           "*03dbm*"
          ],
          [
           "Framber Valdez",
           "*04auj*"
          ],
          [
           "Spencer Strider",
           "*05mre*"
          ],
          [
           "Tarik Skubal",
           "*04ptt*"
          ],
          [
           "Tyler Glasnow",
           "*02btx*"
          ],
          [
           "Pablo López",
           "*043f9*"
          ],
          [
           "Zack Wheeler",
           "*01sb3*"
          ],
          [
           "Yoshinobu Yamamoto",
           "*05r8n*"
          ],
          [
           "Kevin Gausman",
           "*02hi7*"
          ],
          [
           "Freddy Peralta",
           "*03dc4*"
          ],
          [
           "Zach Eflin",
           "*02mwq*"
          ],
          [
           "Aaron Nola",
           "*02i3o*"
          ],
          [
           "Blake Snell",
           "*02bqr*"
          ],
          [
           "Max Fried",
           "*02i2j*"
          ],
          [
           "Grayson Rodriguez",
           "*04pko*"
          ],
          [
           "Zac Gallen",
           "*041qo*"
          ],
          [
           "Joe Ryan",
           "*04ps7*"
          ],
          [
           "Nathan Eovaldi",
           "*01ut7*"
          ],
          [
           "Luis Castillo",
           "*03nuc*"
          ],
          [
           "Shane Bieber",
           "*041rf*"
          ],
          [
           "Chris Bassitt",
           "*02c2h*"
          ],
          [
           "Joe Musgrove",
           "*02bqy*"
          ],
          [
           "Logan Gilbert",
           "*04n0m*"
          ],
          [
           "George Kirby",
           "*04yie*"
          ],
          [
           "Cole Ragans",
           "*041ma*"
          ],
          [
           "Hunter Brown",
           "*05144*"
          ],
          [
           "Merrill Kelly",
           "*02hj7*"
          ],
          [
           "Justin Steele",
           "*03deg*"
          ],
          [
           "Mitch Keller",
           "*03d7h*"
          ],
          [
           "Bailey Ober",
           "*0425t*"
          ],
          [
           "Jordan Montgomery",
           "*03dbo*"
          ],
          [
           "Yu Darvish",
           "*01c5l*"
          ],
          [
           "Marcus Stroman",
           "*02hg4*"
          ],
          [
           "Erick Fedde",
           "*03d6n*"
          ],
          [
           "Nestor Cortes",
           "*03bin*"
          ],
          [
           "Jesús Luzardo",
           "*041r1*"
          ],
          [
           "Dylan Cease",
           "*03df2*"
          ],
          [
           "Aaron Civale",
           "*041qr*"
          ],
          [
           "Sonny Gray",
           "*0260v*"
          ],
          [
           "José Berríos",
           "*02mwk*"
          ],
          [
           "Brayan Bello",
           "*04t40*"
          ],
          [
           "Edward Cabrera",
           "*04ali*"
          ],
          [
           "Jordan Hicks",
           "*03vcw*"
          ],
          [
           "Eury Pérez",
           "*05aoc*"
          ],
          [
           "Nick Pivetta",
           "*0316j*"
          ],
          [
           "Carlos Rodón",
           "*02c2r*"
          ],
          [
           "Justin Verlander",
           "*000dp*"
          ],
          [
           "Chris Sale",
           "*01uca*"
          ],
          [
           "Kyle Bradish",
           "*04pq4*"
          ],
          [
           "Tanner Bibee",
           "*05y23*"
          ],
          [
           "Michael King",
           "*041wv*"
          ],
          [
           "Walker Buehler",
           "*03aac*"
          ],
          [
           "Seth Lugo",
           "*03sef*"
          ],
          [
           "Devin Williams",
           "*0311c*"
          ],
          [
           "Garrett Whitlock",
           "*04eqa*"
          ],
          [
           "Charlie Morton",
           "*005jn*"
          ],
          [
           "Kenta Maeda",
           "*02z93*"
          ],
          [
           "Lance Lynn",
           "*01s94*"
          ],
          [
           "Clayton Kershaw",
           "*005ih*"
          ],
          [
           "Reid Detmers",
           "*0596g*"
          ],
          [
           "Tanner Houck",
           "*03djk*"
          ],
          [
           "Hunter Greene",
           "*04aea*"
          ],
          [
           "Braxton Garrett",
           "*041e3*"
          ],
          [
           "Kyle Harrison",
           "*05js3*"
          ],
          [
           "Chris Paddack",
           "*03qne*"
          ],
          [
           "Cristian Javier",
           "*045kb*"
          ],
          [
           "Alex Cobb",
           "*01seh*"
          ],
          [
           "Bryan Woo",
           "*05y62*"
          ],
          [
           "Griffin Canning",
           "*04eek*"
          ],
          [
           "Bobby Miller",
           "*05gwz*"
          ],
          [
           "Michael Wacha",
           "*02iug*"
          ],
          [
           "Jack Flaherty",
           "*03d6w*"
          ],
          [
           "Kyle Gibson",
           "*01fha*"
          ],
          [
           "Eduardo Rodriguez",
           "*029si*"
          ],
          [
           "Edwin Díaz",
           "*02my5*"
          ],
          [
           "Kutter Crawford",
           "*04ep8*"
          ],
          [
           "Tyler Anderson",
           "*026mq*"
          ],
          [
           "Frankie Montas",
           "*02yg3*"
          ],
          [
           "Jameson Taillon",
           "*01srb*"
          ],
          [
           "Ranger Suárez",
           "*03et8*"
          ],
          [
           "Jacob deGrom",
           "*02hjp*"
          ],
          [
           "Kodai Senga",
           "*04a2t*"
          ],
          [
           "Cristopher Sánchez",
           "*052c8*"
          ],
          [
           "Jon Gray",
           "*02bxv*"
          ],
          [
           "Yuki Matsui",
           "*0689r*"
          ],
          [
           "Jhoan Duran",
           "*04apj*"
          ],
          [
           "Sean Manaea",
           "*02x0f*"
          ],
          [
           "Steven Matz",
           "*02h8d*"
          ],
          [
           "Andrés Muñoz",
           "*0403o*"
          ],
          [
           "Max Scherzer",
           "*004ee*"
          ],
          [
           "Domingo Germán",
           "*03c97*"
          ],
          [
           "Kyle Hendricks",
           "*02bwg*"
          ],
          [
           "Patrick Sandoval",
           "*03qpi*"
          ],
          [
           "Félix Bautista",
           "*05t64*"
          ],
          [
           "Tanner Scott",
           "*03dfa*"
          ],
          [
           "Clay Holmes",
           "*02bx4*"
          ],
          [
           "Nick Lodolo",
           "*041ps*"
          ],
          [
           "Ryan Pressly",
           "*02zif*"
          ],
          [
           "Camilo Doval",
           "*04k0w*"
          ],
          [
           "Brady Singer",
           "*03pov*"
          ],
          [
           "Andrew Heaney",
           "*02mv0*"
          ],
          [
           "Gavin Williams",
           "*05jp7*"
          ],
          [
           "Shane Baz",
           "*04cwf*"
          ],
          [
           "Nick Martinez",
           "*02c4q*"
          ],
          [
           "Triston McKenzie",
           "*03pon*"
          ],
          [
           "Louie Varland",
           "*051bm*"
          ],
          [
           "Pete Fairbanks",
           "*03qo0*"
          ],
          [
           "Aaron Ashby",
           "*04ew7*"
          ],
          [
           "Andrew Abbott",
           "*05jq2*"
          ],
          [
           "Shohei Ohtani",
           "*02yc4*"
          ],
          [
           "Trevor Rogers",
           "*04ak5*"
          ],
          [
           "Lucas Giolito",
           "*02i37*"
          ],
          [
           "Graham Ashcraft",
           "*041x9*"
          ],
          [
           "Logan Allen",
           "*05jp3*"
          ],
          [
           "José Alvarado",
           "*03btm*"
          ],
          [
           "Joe Kelly",
           "*01sve*"
          ],
          [
           "Emmanuel Clase",
           "*04ug5*"
          ],
          [
           "Yusei Kikuchi",
           "*04ml0*"
          ],
          [
           "Josh Hader",
           "*02n96*"
          ],
          [
           "Aaron Bummer",
           "*03drc*"
          ],
          [
           "Dane Dunning",
           "*041m9*"
          ],
          [
           "Miles Mikolas",
           "*02h9r*"
          ],
          [
           "DL Hall",
           "*04aeh*"
          ],
          [
           "Jakob Junis",
           "*02f9m*"
          ],
          [
           "Ross Stripling",
           "*02bwr*"
          ],
          [
           "John Means",
           "*03dim*"
          ],
          [
           "Jeffrey Springs",
           "*04mlr*"
          ],
          [
           "Dean Kremer",
           "*041yb*"
          ],
          [
           "Josh Sborz",
           "*03pp9*"
          ],
          [
           "Luis Severino",
           "*03ab0*"
          ],
          [
           "Bryan Abreu",
           "*04tlv*"
          ],
          [
           "Brandon Pfaadt",
           "*05lg3*"
          ],
          [
           "David Peterson",
           "*02n15*"
          ],
          [
           "Michael Soroka",
           "*03pjf*"
          ],
          [
           "Raisel Iglesias",
           "*03aqv*"
          ],
          [
           "Taylor Rogers",
           "*02n3l*"
          ],
          [
           "Robert Stephenson",
           "*02bq7*"
          ],
          [
           "A.J. Minter",
           "*03ppa*"
          ],
          [
           "Keaton Winn",
           "*04esc*"
          ],
          [
           "Chase Silseth",
           "*05xsm*"
          ],
          [
           "Kevin Ginkel",
           "*03dpg*"
          ],
          [
           "Drew Rasmussen",
           "*04eee*"
          ],
          [
           "Ian Hamilton",
           "*041w8*"
          ],
          [
           "JP Sears",
           "*04eld*"
          ],
          [
           "Garrett Cleavinger",
           "*03qju*"
          ],
          [
           "Luke Jackson",
           "*025ey*"
          ],
          [
           "Emmet Sheehan",
           "*05y2l*"
          ],
          [
           "Jimmy Cordero",
           "*03pdy*"
          ],
          [
           "Paul Blackburn",
           "*02mwd*"
          ],
          [
           "Aroldis Chapman",
           "*01gya*"
          ],
          [
           "Paul Sewald",
           "*02n2x*"
          ],
          [
           "Tyler Wells",
           "*0473n*"
          ],
          [
           "J.P. France",
           "*04py3*"
          ],
          [
           "Wade Miley",
           "*01sev*"
          ],
          [
           "Chris Martin",
           "*02j77*"
          ],
          [
           "Reese Olson",
           "*04px8*"
          ],
          [
           "Tim Mayza",
           "*031dd*"
          ],
          [
           "Mark Leiter Jr.",
           "*0319c*"
          ],
          [
           "Ryan Pepiot",
           "*0512m*"
          ],
          [
           "Germán Márquez",
           "*03amq*"
          ],
          [
           "Tyler Mahle",
           "*0312g*"
          ],
          [
           "Alex Wood",
           "*02mwv*"
          ],
          [
           "James Paxton",
           "*025l2*"
          ],
          [
           "Matt Brash",
           "*05138*"
          ],
          [
           "Brandon Woodruff",
           "*02bu3*"
          ],
          [
           "Joel Payamps",
           "*03aru*"
          ],
          [
           "Shane McClanahan",
           "*04mlt*"
          ],
          [
           "David Robertson",
           "*005m0*"
          ],
          [
           "Mason Miller",
           "*05ucd*"
          ],
          [
           "Brusdar Graterol",
           "*03zbj*"
          ],
          [
           "Tylor Megill",
           "*04ywk*"
          ],
          [
           "John Schreiber",
           "*041z3*"
          ],
          [
           "Jason Adam",
           "*025it*"
          ],
          [
           "Sam Hentges",
           "*03dbu*"
          ],
          [
           "Ryan Walker",
           "*031f7*"
          ],
          [
           "Colin Rea",
           "*02bzn*"
          ],
          [
           "Anthony DeSclafani",
           "*02but*"
          ],
          [
           "Clarke Schmidt",
           "*04ee7*"
          ],
          [
           "Adrian Houser",
           "*02brc*"
          ],
          [
           "Max Meyer",
           "*05a2d*"
          ],
          [
           "Sandy Alcantara",
           "*03btv*"
          ],
          [
           "Ricky Tiedemann",
           "*05js6*"
          ],
          [
           "Jose Quintana",
           "*025kd*"
          ],
          [
           "James Karinchak",
           "*04ejp*"
          ],
          [
           "Trevor Richards",
           "*04coa*"
          ],
          [
           "Pierce Johnson",
           "*02hdy*"
          ],
          [
           "Taijuan Walker",
           "*025dq*"
          ],
          [
           "Tommy Kahnle",
           "*02ccf*"
          ],
          [
           "Josiah Gray",
           "*04pn3*"
          ],
          [
           "Bryce Miller",
           "*05vy6*"
          ],
          [
           "Gavin Stone",
           "*05mrx*"
          ],
          [
           "Ryan Helsley",
           "*03ql5*"
          ],
          [
           "Hayden Wesneski",
           "*0514f*"
          ],
          [
           "Mike Clevinger",
           "*02bsw*"
          ],
          [
           "Taj Bradley",
           "*04pr8*"
          ],
          [
           "Evan Phillips",
           "*03qto*"
          ],
          [
           "David Bednar",
           "*04aqc*"
          ],
          [
           "Phil Maton",
           "*03qwa*"
          ],
          [
           "Michael Lorenzen",
           "*02hir*"
          ],
          [
           "Yennier Cano",
           "*050ok*"
          ],
          [
           "Scott Barlow",
           "*02buh*"
          ],
          [
           "A.J. Puk",
           "*03yso*"
          ],
          [
           "Adam Ottavino",
           "*01sgi*"
          ],
          [
           "Andrew Chafin",
           "*02bqd*"
          ],
          [
           "Alex Vesia",
           "*04q05*"
          ],
          [
           "JoJo Romero",
           "*041rj*"
          ],
          [
           "Yimi García",
           "*02z0e*"
          ],
          [
           "Robert Gasser",
           "*05u6r*"
          ],
          [
           "Hyun Jin Ryu",
           "*02xik*"
          ],
          [
           "Tyler Rogers",
           "*0374m*"
          ],
          [
           "José Leclerc",
           "*030x2*"
          ],
          [
           "Quinn Priester",
           "*050vn*"
          ],
          [
           "Chad Green",
           "*0374o*"
          ],
          [
           "Adbert Alzolay",
           "*03aqz*"
          ],
          [
           "Andrew Nardi",
           "*051c3*"
          ],
          [
           "Erik Swanson",
           "*03dgs*"
          ],
          [
           "Craig Kimbrel",
           "*01scl*"
          ],
          [
           "Bryce Elder",
           "*05jp9*"
          ],
          [
           "Shawn Armstrong",
           "*02c47*"
          ],
          [
           "Jace Fry",
           "*02bx2*"
          ],
          [
           "Ryan Thompson",
           "*03duu*"
          ],
          [
           "Alex Lange",
           "*03yui*"
          ],
          [
           "Kyle Wright",
           "*04aed*"
          ],
          [
           "Julio Urías",
           "*02vl6*"
          ],
          [
           "Cooper Criswell",
           "*04px6*"
          ],
          [
           "Josh Winckowski",
           "*041ze*"
          ],
          [
           "Richard Lovelady",
           "*041w0*"
          ],
          [
           "Wandy Peralta",
           "*047sh*"
          ],
          [
           "Luis García",
           "*0321h*"
          ],
          [
           "Gabe Speier",
           null
          ],
          [
           "Hunter Harvey",
           "*0310c*"
          ],
          [
           "Brooks Raley",
           "*01vxp*"
          ],
          [
           "Caleb Ferguson",
           "*043r7*"
          ],
          [
           "Matt Strahm",
           "*02nax*"
          ],
          [
           "Brent Suter",
           "*03cav*"
          ],
          [
           "Trevor Stephan",
           "*0421j*"
          ],
          [
           "Jalen Beeks",
           "*03djb*"
          ],
          [
           "Jordan Romano",
           "*03di6*"
          ],
          [
           "Victor González",
           "*03aqt*"
          ],
          [
           "Dylan Floro",
           "*02hhd*"
          ],
          [
           "Abner Uribe",
           "*05nso*"
          ],
          [
           "Martín Pérez",
           "*01fhm*"
          ],
          [
           "Collin McHugh",
           "*02hy2*"
          ],
          [
           "Héctor Neris",
           "*03h90*"
          ],
          [
           "Justin Lawrence",
           "*03qq9*"
          ],
          [
           "Víctor Arano",
           "*03aqj*"
          ],
          [
           "Rafael Montero",
           "*02jhl*"
          ],
          [
           "James McArthur",
           "*04pw3*"
          ],
          [
           "Enyel De Los Santos",
           "*03y4y*"
          ],
          [
           "Orion Kerkering",
           "*06491*"
          ],
          [
           "Giovanny Gallegos",
           "*03mul*"
          ],
          [
           "Jonathan Loáisiga",
           "*03db4*"
          ],
          [
           "Caleb Thielbar",
           "*02hfr*"
          ],
          [
           "Lance McCullers Jr.",
           "*026l1*"
          ],
          [
           "Reynaldo López",
           "*03i81*"
          ],
          [
           "Joely Rodríguez",
           "*03ani*"
          ],
          [
           "Lucas Sims",
           "*02mw7*"
          ],
          [
           "Robert Suarez",
           "*05r01*"
          ],
          [
           "Kenley Jansen",
           "*01svz*"
          ],
          [
           "José Soriano",
           "*04c0o*"
          ],
          [
           "Touki Toussaint",
           "*02yog*"
          ],
          [
           "Craig Stammen",
           "*01di3*"
          ],
          [
           "Fernando Cruz",
           "*05yck*"
          ],
          [
           "Scott Alexander",
           "*02hi5*"
          ],
          [
           "Jordan Wicks",
           "*05r1d*"
          ],
          [
           "Griffin Jax",
           "*0317q*"
          ],
          [
           "Nick Sandlin",
           "*04pmm*"
          ],
          [
           "Will Vest",
           "*04em6*"
          ],
          [
           "Joe Jiménez",
           "*03as0*"
          ],
          [
           "Trevor Megill",
           "*03dau*"
          ],
          [
           "Justin Anderson",
           "*03do2*"
          ],
          [
           "Javier Assad",
           "*04fq2*"
          ],
          [
           "Julian Merryweather",
           "*03deo*"
          ],
          [
           "Danny Coulombe",
           "*02hxd*"
          ],
          [
           "Steven Okert",
           "*02myt*"
          ],
          [
           "T.J. McFarland",
           "*02nho*"
          ],
          [
           "Yency Almonte",
           "*02n7z*"
          ],
          [
           "Jovani Moran",
           "*03qmm*"
          ],
          [
           "Luis Garcia",
           "*04ni3*"
          ],
          [
           "Zack Littell",
           "*031d4*"
          ],
          [
           "Kevin Kelly",
           "*051eh*"
          ],
          [
           "Emerson Hancock",
           "*0510l*"
          ],
          [
           "Kyle Finnegan",
           "*031bl*"
          ],
          [
           "Joe Ross",
           "*02bq6*"
          ],
          [
           "Steven Wilson",
           "*04psv*"
          ],
          [
           "Casey Sadler",
           "*03anj*"
          ],
          [
           "Anthony Bender",
           "*0423e*"
          ],
          [
           "Michael Grove",
           "*04pmk*"
          ],
          [
           "Allan Winans",
           "*04pzz*"
          ],
          [
           "Daniel Hudson",
           "*01fd0*"
          ],
          [
           "Woo-Suk Go",
           "*06i08*"
          ],
          [
           "Scott McGough",
           "*02btq*"
          ],
          [
           "Brock Stewart",
           "*03deu*"
          ],
          [
           "Zack Britton",
           "*01saq*"
          ],
          [
           "Cionel Pérez",
           "*03zo6*"
          ],
          [
           "John McMillon",
           "*0423z*"
          ],
          [
           "Gregory Soto",
           "*04aok*"
          ],
          [
           "Dustin May",
           "*041r5*"
          ],
          [
           "Jeff Hoffman",
           "*03ann*"
          ],
          [
           "Adam Morgan",
           "*02bsb*"
          ],
          [
           "Justin Topa",
           "*0318i*"
          ],
          [
           "Huascar Brazoban",
           "*060ml*"
          ],
          [
           "Joe Mantiply",
           "*03mle*"
          ],
          [
           "Jacob Webb",
           "*04y76*"
          ],
          [
           "Keynan Middleton",
           "*031av*"
          ],
          [
           "Colin Holderman",
           "*0429k*"
          ],
          [
           "J.B. Wendelken",
           "*02n4q*"
          ],
          [
           "Sam Moll",
           null
          ],
          [
           "Matt Moore",
           "*01fug*"
          ],
          [
           "Sawyer Gipson-Long",
           "*0514z*"
          ],
          [
           "J.B. Bukauskas",
           "*03dsj*"
          ],
          [
           "Marco Gonzales",
           "*03111*"
          ],
          [
           "Mason Black",
           "*05r3g*"
          ],
          [
           "Colin Poche",
           "*02mz1*"
          ],
          [
           "Cole Irvin",
           "*041ru*"
          ],
          [
           "Eli Morgan",
           "*04eiw*"
          ],
          [
           "Garrett Crochet",
           "*05ajh*"
          ],
          [
           "Emilio Pagán",
           "*031cy*"
          ],
          [
           "Tyler Kinley",
           "*0313t*"
          ],
          [
           "Drew Smyly",
           "*025ej*"
          ],
          [
           "Jacob Barnes",
           "*02c14*"
          ],
          [
           "John Brebbia",
           "*03xmd*"
          ],
          [
           "Blake Treinen",
           "*02bve*"
          ],
          [
           "Penn Murfee",
           "*05a07*"
          ],
          [
           "Alexis Díaz",
           "*03qqf*"
          ],
          [
           "Huascar Ynoa",
           "*03gl9*"
          ],
          [
           "Demarcus Evans",
           "*03qzx*"
          ],
          [
           "Alex Young",
           "*03aad*"
          ],
          [
           "Reiver Sanmartin",
           "*04j1w*"
          ],
          [
           "JT Chargois",
           "*02mx4*"
          ],
          [
           "Casey Mize",
           "*04mlf*"
          ],
          [
           "Grant Anderson",
           "*04q3y*"
          ],
          [
           "Adam Kolarek",
           "*02hky*"
          ],
          [
           "Kyle Hurt",
           "*05jq7*"
          ],
          [
           "Robbie Ray",
           "*025j1*"
          ],
          [
           "Andrew Kittredge",
           "*04ggi*"
          ],
          [
           "Alek Manoah",
           "*04yfw*"
          ],
          [
           "Ryan Brasier",
           "*021jb*"
          ],
          [
           "Trevor Gott",
           "*0316r*"
          ],
          [
           "Nick Ramirez",
           "*026mp*"
          ],
          [
           "Brandon Bielak",
           "*04el1*"
          ],
          [
           "Cody Bradford",
           "*0514o*"
          ],
          [
           "Sean Newcomb",
           "*032lk*"
          ],
          [
           "Dauri Moreta",
           "*05tux*"
          ],
          [
           "Matt Festa",
           "*041tl*"
          ],
          [
           "Luis Perdomo",
           "*03ry3*"
          ],
          [
           "Miguel Castro",
           "*0351m*"
          ],
          [
           "Keegan Akin",
           "*041py*"
          ],
          [
           "Kendall Graveman",
           "*031c2*"
          ],
          [
           "Daniel Espino",
           "*04ya2*"
          ],
          [
           "Roberto Osuna",
           "*02i1o*"
          ],
          [
           "Seranthony Domínguez",
           "*04auk*"
          ],
          [
           "Chasen Shreve",
           "*02hkk*"
          ],
          [
           "Ariel Jurado",
           "*032pj*"
          ],
          [
           "Jacob Waguespack",
           "*04y78*"
          ],
          [
           "Michael Kopech",
           "*03d6v*"
          ],
          [
           "Ken Waldichuk",
           "*0513y*"
          ],
          [
           "Bryan Hoeing",
           "*05156*"
          ],
          [
           "Cade Cavalli",
           "*05gef*"
          ],
          [
           "Jonathan Hernández",
           "*03mgq*"
          ],
          [
           "Jesse Chavez",
           "*013ip*"
          ],
          [
           "Diego Castillo",
           "*041me*"
          ],
          [
           "Kevin McCarthy",
           "*031ek*"
          ],
          [
           "Joey Cantillo",
           "*04eos*"
          ],
          [
           "Will Smith",
           "*01skh*"
          ],
          [
           "Matt Bush",
           "*01t04*"
          ],
          [
           "Pedro Avila",
           "*03to4*"
          ],
          [
           "Sixto Sánchez",
           "*0440n*"
          ],
          [
           "Ryan Yarbrough",
           "*0314j*"
          ],
          [
           "Scott Effross",
           "*03qs8*"
          ],
          [
           "Mike Baumann",
           "*04efe*"
          ],
          [
           "Nabil Crismatt",
           "*0484h*"
          ],
          [
           "Ron Marinaccio",
           "*04erc*"
          ],
          [
           "Rowan Wick",
           "*02hq8*"
          ],
          [
           "José Urquidy",
           "*0440h*"
          ],
          [
           "Brock Burke",
           "*03dap*"
          ],
          [
           "Tony Gonsolin",
           "*041v6*"
          ],
          [
           "Jay Jackson",
           "*01s97*"
          ],
          [
           "Nic Enright",
           "*03qvm*"
          ],
          [
           "Darwinzon Hernández",
           "*03ywk*"
          ],
          [
           "Thomas Hatch",
           "*041ql*"
          ],
          [
           "Jake Bird",
           "*04pqs*"
          ],
          [
           "Michael Feliz",
           "*02z6i*"
          ],
          [
           "Nick Burdi",
           "*03adx*"
          ],
          [
           "Dominic Leone",
           "*02n7j*"
          ],
          [
           "Anthony Bass",
           "*025dj*"
          ],
          [
           "AJ Smith-Shawver",
           "*05uy5*"
          ],
          [
           "Ryan Tepera",
           "*02hgr*"
          ],
          [
           "Mitch White",
           "*041qa*"
          ],
          [
           "Andre Pallante",
           "*05133*"
          ],
          [
           "Jason Foley",
           "*04aoq*"
          ],
          [
           "Michael Fulmer",
           "*02bqj*"
          ],
          [
           "Matt Bowman",
           "*02n53*"
          ],
          [
           "Jhony Brito",
           "*050ih*"
          ],
          [
           "Colten Brewer",
           "*02bt3*"
          ],
          [
           "Kenny Rosenberg",
           "*0429i*"
          ],
          [
           "Aaron Wilkerson",
           "*03see*"
          ],
          [
           "Jake Cousins",
           "*04eru*"
          ],
          [
           "Manny Bañuelos",
           "*01sje*"
          ],
          [
           "Sean Reid-Foley",
           "*03d7a*"
          ],
          [
           "J.C. Mejía",
           "*04o64*"
          ],
          [
           "Ben Heller",
           "*031gh*"
          ],
          [
           "Corey Knebel",
           "*0310k*"
          ],
          [
           "Matthew Boyd",
           "*02n4s*"
          ],
          [
           "Taylor Hearn",
           "*02nc0*"
          ],
          [
           "Luis L. Ortiz",
           "*05xsq*"
          ],
          [
           "Shelby Miller",
           "*01sbv*"
          ],
          [
           "Gregory Santos",
           "*0404s*"
          ],
          [
           "Zach Jackson",
           "*043x7*"
          ],
          [
           "Elieser Hernández",
           "*03yx9*"
          ],
          [
           "Paul Fry",
           "*031ez*"
          ],
          [
           "Christian Scott",
           "*05xpq*"
          ],
          [
           "Anthony Kay",
           "*041mb*"
          ],
          [
           "Jeff Brigham",
           "*03dbv*"
          ],
          [
           "Dillon Tate",
           "*03p9d*"
          ],
          [
           "Jorge Alcala",
           "*04ata*"
          ],
          [
           "Matt Barnes",
           "*0260w*"
          ],
          [
           "Glenn Otto",
           "*04egl*"
          ],
          [
           "Art Warren",
           "*03qyt*"
          ],
          [
           "Andrew Painter",
           "*05r3i*"
          ],
          [
           "Nick Frasso",
           "*05jpo*"
          ],
          [
           "Spencer Howard",
           "*04eeu*"
          ],
          [
           "Manuel Rodríguez",
           "*05ad7*"
          ],
          [
           "Carson Whisenhunt",
           "*05y7v*"
          ],
          [
           "Phil Bickford",
           "*03109*"
          ],
          [
           "Bowden Francis",
           null
          ],
          [
           "Austin Adams",
           "*02h8x*"
          ],
          [
           "Tyler Duffey",
           "*02mzd*"
          ],
          [
           "Tristan Beck",
           "*04afk*"
          ],
          [
           "Trey Wingenter",
           "*03qtp*"
          ],
          [
           "Zach McAllister",
           "*01sfu*"
          ],
          [
           "Thomas Szapucki",
           "*03qlb*"
          ],
          [
           "Josh Staumont",
           "*03pp2*"
          ],
          [
           "Spencer Arrighetti",
           "*05y0j*"
          ],
          [
           "Buck Farmer",
           "*02n6j*"
          ],
          [
           "Drew Smith",
           null
          ],
          [
           "Ryan Borucki",
           "*02n6w*"
          ],
          [
           "Nick Anderson",
           "*04sxl*"
          ],
          [
           "Drey Jameson",
           "*0511r*"
          ],
          [
           "Carl Edwards Jr.",
           "*02of2*"
          ],
          [
           "Yariel Rodriguez",
           "*06at1*"
          ],
          [
           "Shota Imanaga",
           "*05ge9*"
          ],
          [
           "Liam Hendriks",
           "*01ub8*"
          ],
          [
           "Ian Anderson",
           "*041m0*"
          ],
          [
           "Ray Kerr",
           "*05r9n*"
          ],
          [
           "Jharel Cotton",
           "*02na8*"
          ],
          [
           "Bryan Baker",
           "*041w4*"
          ],
          [
           "Dylan Coleman",
           "*04pq2*"
          ],
          [
           "Amir Garrett",
           "*02i3x*"
          ],
          [
           "Luke Weaver",
           "*02c5l*"
          ],
          [
           "Ronel Blanco",
           "*04ydi*"
          ],
          [
           "Colby White",
           "*0514q*"
          ],
          [
           "MacKenzie Gore",
           "*04cd5*"
          ],
          [
           "Ben Brown",
           "*04o2w*"
          ],
          [
           "Prelander Berroa",
           "*0509b*"
          ],
          [
           "Bruce Zimmermann",
           "*04egr*"
          ],
          [
           "Angel Zerpa",
           "*05qzx*"
          ],
          [
           "Kirby Yates",
           "*030vs*"
          ],
          [
           "Davis Daniel",
           "*04pv6*"
          ],
          [
           "Michael Kelly",
           "*02bqn*"
          ],
          [
           "Austin Voth",
           "*0316l*"
          ],
          [
           "José Castillo",
           "*02new*"
          ],
          [
           "Justin Wilson",
           "*025ko*"
          ],
          [
           "Darren O'Day",
           "*00573*"
          ],
          [
           "José Cisnero",
           "*02jmi*"
          ],
          [
           "Jordan Weems",
           "*02bru*"
          ],
          [
           "Tucker Davidson",
           "*04225*"
          ],
          [
           "Chris Devenski",
           "*02i31*"
          ],
          [
           "Nick Vincent",
           "*0221a*"
          ],
          [
           "Brandon Walter",
           "*05rk4*"
          ],
          [
           "Matt Wisler",
           "*02bvh*"
          ],
          [
           "Erasmo Ramírez",
           "*02cch*"
          ],
          [
           "Cade Povich",
           "*05xop*"
          ],
          [
           "Jorge López",
           "*02brf*"
          ],
          [
           "David Festa",
           "*05yav*"
          ],
          [
           "Jimmy Herget",
           "*03qln*"
          ],
          [
           "Darius Vines",
           "*05157*"
          ],
          [
           "Jake Brentz",
           "*031d3*"
          ],
          [
           "Beau Brieske",
           "*05t6u*"
          ],
          [
           "Jeremiah Estrada",
           "*04ehz*"
          ],
          [
           "Randy Vásquez",
           "*05itb*"
          ],
          [
           "Ryan Feltner",
           "*03r06*"
          ],
          [
           "Andrés Machado",
           "*04km8*"
          ],
          [
           "Kyle Nelson",
           "*04eny*"
          ],
          [
           "Landen Roupp",
           "*05y72*"
          ],
          [
           "Chase Hampton",
           "*05yh3*"
          ],
          [
           "Zack Thompson",
           "*04n0p*"
          ],
          [
           "Luis Gil",
           "*04s1h*"
          ],
          [
           "Cody Reed",
           "*03fpq*"
          ],
          [
           "Frank German",
           "*04pqk*"
          ],
          [
           "Cole Sulser",
           "*031hc*"
          ],
          [
           "Peter Strzelecki",
           "*061mp*"
          ],
          [
           "Jarlín García",
           "*03aaa*"
          ],
          [
           "Lou Trivino",
           "*031d9*"
          ],
          [
           "Janson Junk",
           "*04etg*"
          ],
          [
           "Ethan Small",
           "*0511g*"
          ],
          [
           "Brandon Hughes",
           "*04eon*"
          ],
          [
           "Drew Thorpe",
           "*05yb1*"
          ],
          [
           "Yerry De Los Santos",
           "*05gsw*"
          ],
          [
           "Cole Sands",
           "*03qxr*"
          ],
          [
           "Cade Horton",
           "*05gww*"
          ],
          [
           "Taylor Clarke",
           "*03qjz*"
          ],
          [
           "Austin Pruitt",
           "*0315n*"
          ],
          [
           "Drew Rom",
           "*04pqd*"
          ],
          [
           "Jake Odorizzi",
           "*01h4f*"
          ],
          [
           "Tyler Holton",
           "*04naz*"
          ],
          [
           "JT Brubaker",
           "*03qm8*"
          ],
          [
           "Roansy Contreras",
           "*04b3a*"
          ],
          [
           "Jake Irvin",
           "*04ppz*"
          ],
          [
           "Brandon Brennan",
           "*02myd*"
          ],
          [
           "Burch Smith",
           "*02c1b*"
          ],
          [
           "Lyon Richardson",
           "*04pmo*"
          ],
          [
           "Tejay Antone",
           "*02nbw*"
          ],
          [
           "Connor Brogdon",
           "*04ek8*"
          ],
          [
           "Spencer Turnbull",
           "*03d75*"
          ],
          [
           "Greg Holland",
           "*01xfu*"
          ],
          [
           "Yoan López",
           "*03mk3*"
          ],
          [
           "A.J. Cole",
           "*020dk*"
          ],
          [
           "Luis F. Ortiz",
           "*03c63*"
          ],
          [
           "Dinelson Lamet",
           "*03ry2*"
          ],
          [
           "Josh Taylor",
           "*043pf*"
          ],
          [
           "Jared Koenig",
           "*05ylp*"
          ],
          [
           "Mason Thompson",
           "*041qz*"
          ],
          [
           "Aaron Loup",
           "*02han*"
          ],
          [
           "Enoli Paredes",
           "*04ywp*"
          ],
          [
           "Daulton Jefferies",
           "*041pp*"
          ],
          [
           "Adrian Morejon",
           "*043ia*"
          ],
          [
           "Carlos F. Rodriguez",
           "*05yf9*"
          ],
          [
           "Matthew Liberatore",
           "*04mlx*"
          ],
          [
           "Heath Hembree",
           "*02hhu*"
          ],
          [
           "Will Warren",
           "*05yaz*"
          ],
          [
           "Nick Nastrini",
           "*05wbp*"
          ],
          [
           "Chris Murphy",
           "*0514m*"
          ],
          [
           "Albert Abreu",
           "*03xy4*"
          ],
          [
           "Jacob Lopez",
           "*051ui*"
          ],
          [
           "Cody Morris",
           "*04ps8*"
          ],
          [
           "Joel Kuhnel",
           "*041wc*"
          ],
          [
           "Tyler Clippard",
           "*000yu*"
          ],
          [
           "Erik Miller",
           "*04y8z*"
          ],
          [
           "Brett Martin",
           "*03dbs*"
          ],
          [
           "Foster Griffin",
           "*03caf*"
          ],
          [
           "Chris Stratton",
           "*02mw1*"
          ],
          [
           "Lucas Luetge",
           "*021sx*"
          ],
          [
           "Kyle Crick",
           "*02bqp*"
          ],
          [
           "Arodys Vizcaíno",
           "*01see*"
          ],
          [
           "Zach Plesac",
           "*041wu*"
          ],
          [
           "Chayce McDermott",
           "*05uws*"
          ],
          [
           "Archie Bradley",
           "*0260z*"
          ],
          [
           "Mike Vasil",
           "*04ok0*"
          ],
          [
           "Osvaldo Bido",
           "*06ala*"
          ],
          [
           "Cody Poteet",
           "*02b2k*"
          ],
          [
           "Ryan Weber",
           "*02hux*"
          ],
          [
           "Matt Foster",
           "*0422q*"
          ],
          [
           "Tyler Alexander",
           "*0376h*"
          ],
          [
           "Derek Law",
           "*02bx6*"
          ],
          [
           "Ty Buttrey",
           "*02myb*"
          ],
          [
           "Trevor May",
           "*01s9a*"
          ],
          [
           "Ryne Stanek",
           "*02hhj*"
          ],
          [
           "Adam Cimber",
           "*03178*"
          ],
          [
           "Thyago Vieira",
           "*049ur*"
          ],
          [
           "Joey Lucchesi",
           "*041rn*"
          ],
          [
           "Garrett Hill",
           "*055ca*"
          ],
          [
           "Dakota Hudson",
           "*041md*"
          ],
          [
           "Will Harris",
           "*02t1d*"
          ],
          [
           "Carlos Hernández",
           "*04n0k*"
          ],
          [
           "Jared Jones",
           "*05h2u*"
          ],
          [
           "J.P. Feyereisen",
           "*03dpn*"
          ],
          [
           "Kolby Allard",
           "*03nqg*"
          ],
          [
           "Richard Bleier",
           "*021iu*"
          ],
          [
           "Sam Coonrod",
           "*03ded*"
          ],
          [
           "Jake Petricka",
           "*025ea*"
          ],
          [
           "Wilmer Flores",
           "*05ww2*"
          ],
          [
           "Mick Abel",
           "*05g4k*"
          ],
          [
           "Codi Heuer",
           "*04prq*"
          ],
          [
           "Bobby Wahl",
           "*02j5o*"
          ],
          [
           "Mason Montgomery",
           "*05y2k*"
          ],
          [
           "Brad Hand",
           "*0241r*"
          ],
          [
           "Kris Bubic",
           "*04pmb*"
          ],
          [
           "Michael McGreevy",
           "*05sr2*"
          ],
          [
           "Bryan Shaw",
           "*01uay*"
          ],
          [
           "Julio Teheran",
           "*01cih*"
          ],
          [
           "Eric Lauer",
           "*031ey*"
          ],
          [
           "Dallas Keuchel",
           "*01z83*"
          ],
          [
           "Mark Melancon",
           "*01cyw*"
          ],
          [
           "Alex Colomé",
           "*01sk9*"
          ],
          [
           "River Ryan",
           "*05ynx*"
          ],
          [
           "Adam Plutko",
           "*02hi4*"
          ],
          [
           "Dany Jiménez",
           "*059zc*"
          ],
          [
           "Kyle Zimmer",
           "*02i2i*"
          ],
          [
           "Matt Manning",
           "*041m1*"
          ],
          [
           "Spenser Watkins",
           "*05r9c*"
          ],
          [
           "Zach Greene",
           "*04pym*"
          ],
          [
           "Dennis Santana",
           "*046yd*"
          ],
          [
           "Alex Faedo",
           "*04aec*"
          ],
          [
           "Jake McGee",
           "*01avv*"
          ],
          [
           "Wilmer Font",
           "*01scg*"
          ],
          [
           "Naoyuki Uwasawa",
           "*04zaw*"
          ],
          [
           "Johan Oviedo",
           "*04674*"
          ],
          [
           "Anthony Gose",
           "*01sha*"
          ],
          [
           "Tanner Rainey",
           "*03pp7*"
          ],
          [
           "Yohan Ramírez",
           "*04ddz*"
          ],
          [
           "Josh Fleming",
           "*04egq*"
          ],
          [
           "Brad Boxberger",
           "*01sik*"
          ],
          [
           "Clayton Beeter",
           "*05jnq*"
          ],
          [
           "Austin Brice",
           "*026jx*"
          ],
          [
           "Jesus Tinoco",
           "*03moe*"
          ],
          [
           "Alex Claudio",
           "*02zbn*"
          ],
          [
           "Chris Rodriguez",
           "*041rr*"
          ],
          [
           "Steve Cishek",
           "*023fv*"
          ],
          [
           "Domingo Acevedo",
           "*03bam*"
          ],
          [
           "Richard Fitts",
           "*05rav*"
          ],
          [
           "Randy Dobnak",
           "*0506h*"
          ],
          [
           "Jackson Stephens",
           "*02n8k*"
          ],
          [
           "Ian Kennedy",
           "*000y3*"
          ],
          [
           "Génesis Cabrera",
           "*040cf*"
          ],
          [
           "Jack Leiter",
           "*04y9o*"
          ],
          [
           "Tim Hill",
           "*04022*"
          ],
          [
           "Stephen Gonsalves",
           "*03740*"
          ],
          [
           "Bryse Wilson",
           "*0429h*"
          ],
          [
           "José Quijada",
           "*04k0x*"
          ],
          [
           "Bailey Falter",
           "*03ql8*"
          ],
          [
           "Nate Pearson",
           "*04eec*"
          ],
          [
           "Keegan Thompson",
           "*04efn*"
          ],
          [
           "Tommy Hunter",
           "*00u82*"
          ],
          [
           "Jose Alvarez",
           "*021hr*"
          ],
          [
           "José De León",
           "*0376n*"
          ],
          [
           "Danny Salazar",
           "*02xsz*"
          ],
          [
           "David Price",
           "*004e4*"
          ],
          [
           "Connor Phillips",
           "*05jpe*"
          ],
          [
           "Stephen Strasburg",
           "*01cdo*"
          ],
          [
           "Jeurys Familia",
           "*01skl*"
          ],
          [
           "Rhett Kouba",
           "*05ycn*"
          ],
          [
           "Daniel Bard",
           "*01cg1*"
          ],
          [
           "Spencer Patton",
           "*03jvx*"
          ],
          [
           "Wander Suero",
           "*03mp9*"
          ],
          [
           "Joe Smith",
           "*000in*"
          ],
          [
           "Hurston Waldrep",
           "*0603p*"
          ],
          [
           "Trent Thornton",
           "*031k3*"
          ],
          [
           "Thomas Pannone",
           "*031ce*"
          ],
          [
           "Josh Winder",
           "*04psd*"
          ],
          [
           "Dylan Covey",
           "*01uci*"
          ],
          [
           "Jandel Gustave",
           "*031nm*"
          ],
          [
           "Jake Woodford",
           "*03pol*"
          ],
          [
           "Joan Adon",
           "*04ywo*"
          ],
          [
           "Grant Dayton",
           "*02hks*"
          ],
          [
           "Trevor Williams",
           "*0311b*"
          ],
          [
           "Carlos Estévez",
           "*03mnq*"
          ],
          [
           "José Ruiz",
           "*02i45*"
          ],
          [
           "Jake Eder",
           "*05gwt*"
          ],
          [
           "Zack Greinke",
           "*0005k*"
          ],
          [
           "Jake Diekman",
           "*02iya*"
          ],
          [
           "Caleb Kilian",
           "*04q1w*"
          ],
          [
           "Tyler Gilbert",
           "*03qm3*"
          ],
          [
           "Wes Parsons",
           "*03ao4*"
          ],
          [
           "Matt Waldron",
           "*051e5*"
          ],
          [
           "Connor Overton",
           "*03doq*"
          ],
          [
           "Max Castillo",
           "*04k4u*"
          ],
          [
           "Kyle Ryan",
           "*02hlf*"
          ],
          [
           "Hunter Wood",
           "*03bro*"
          ],
          [
           "Hunter Gaddis",
           "*05143*"
          ],
          [
           "Aaron Brooks",
           "*02bwv*"
          ],
          [
           "Slade Cecconi",
           "*04tk1*"
          ],
          [
           "Corbin Martin",
           "*04afj*"
          ],
          [
           "John Curtiss",
           "*02ob9*"
          ],
          [
           "Chris Flexen",
           "*02n5v*"
          ],
          [
           "Wikelman Gonzalez",
           "*052ht*"
          ],
          [
           "Noé Ramirez",
           "*02bsm*"
          ],
          [
           "Keone Kela",
           "*02n4l*"
          ],
          [
           "Keider Montero",
           "*05a1v*"
          ],
          [
           "Jimmy Nelson",
           "*025em*"
          ],
          [
           "César Valdez",
           "*01u9l*"
          ],
          [
           "Shintaro Fujinami",
           "*02xih*"
          ],
          [
           "Lucas Erceg",
           "*041am*"
          ],
          [
           "Grant Holmes",
           "*03d6p*"
          ],
          [
           "Tommy Milone",
           "*021ue*"
          ],
          [
           "Royber Salinas",
           "*05wy3*"
          ],
          [
           "Justin Grimm",
           "*024p6*"
          ],
          [
           "Drew Anderson",
           "*02nb6*"
          ],
          [
           "Anthony Veneziano",
           "*0517a*"
          ],
          [
           "Conner Menez",
           "*041ym*"
          ],
          [
           "Gus Varland",
           "*04pxq*"
          ],
          [
           "Chris Clarke",
           "*0513o*"
          ],
          [
           "Yoshihisa Hirano",
           "*04lfv*"
          ],
          [
           "Shawn Morimando",
           "*02c50*"
          ],
          [
           "Drew Pomeranz",
           "*01ucb*"
          ],
          [
           "Drew VerHagen",
           "*02myh*"
          ],
          [
           "Sem Robberse",
           "*05gea*"
          ],
          [
           "Simeon Woods Richardson",
           "*04pmp*"
          ],
          [
           "Joe Boyle",
           "*05jpk*"
          ],
          [
           "Sergio Romo",
           "*005k4*"
          ],
          [
           "Alec Marsh",
           "*0512c*"
          ],
          [
           "Chase De Jong",
           "*02mxi*"
          ],
          [
           "Zach Davies",
           "*02i4x*"
          ],
          [
           "José Buttó",
           "*05oz7*"
          ],
          [
           "Joe Barlow",
           "*0429m*"
          ],
          [
           "Austin Gomber",
           "*03dbe*"
          ],
          [
           "Freddy Tarnok",
           "*04efr*"
          ],
          [
           "Trevor Rosenthal",
           "*025fw*"
          ],
          [
           "Josh James",
           "*049dt*"
          ],
          [
           "Forrest Whitley",
           "*041m3*"
          ],
          [
           "Yonny Chirinos",
           "*03zu0*"
          ],
          [
           "Jose Hernandez",
           "*066st*"
          ],
          [
           "Jairo Iriarte",
           "*060q2*"
          ],
          [
           "Geoff Hartlieb",
           "*04yk6*"
          ],
          [
           "Cole Winn",
           "*04paj*"
          ],
          [
           "Peter Lambert",
           "*03poo*"
          ],
          [
           "Kent Emanuel",
           "*02hqe*"
          ],
          [
           "Jay Groome",
           "*03ysp*"
          ],
          [
           "Alec Mills",
           "*02nbq*"
          ],
          [
           "Danny Duffy",
           "*01sil*"
          ],
          [
           "Garrett Richards",
           "*01sld*"
          ],
          [
           "James Kaprielian",
           "*03adt*"
          ],
          [
           "Duane Underwood Jr.",
           "*02mwx*"
          ],
          [
           "Josh Lindblom",
           "*01cf6*"
          ],
          [
           "Vince Velasquez",
           "*028is*"
          ],
          [
           "Austin Davis",
           "*03dji*"
          ],
          [
           "Nick Wittgren",
           "*02n23*"
          ],
          [
           "Chris Archer",
           "*01uoy*"
          ],
          [
           "Connor Seabold",
           "*o3drx*"
          ],
          [
           "Wil Crowe",
           "*0423i*"
          ],
          [
           "Ryan Weathers",
           "*04mnw*"
          ],
          [
           "Jordan Lyles",
           "*01gjf*"
          ],
          [
           "Sean Hjelle",
           "*04nx1*"
          ],
          [
           "Silvino Bracho",
           "*03djz*"
          ],
          [
           "Rony García",
           "*045gt*"
          ],
          [
           "Fernando Abad",
           "*01viz*"
          ],
          [
           "Richard Rodríguez",
           "*03mnn*"
          ],
          [
           "Sean Burke",
           "*05xod*"
          ],
          [
           "Sam Long",
           "*0421l*"
          ],
          [
           "Mike Burrows",
           "*04pvl*"
          ],
          [
           "Brandon Williamson",
           "*05120*"
          ],
          [
           "Carlos Martinez",
           "*01uug*"
          ],
          [
           "Xzavion Curry",
           "*0515h*"
          ],
          [
           "Logan Verrett",
           "*02bs8*"
          ],
          [
           "Garrett Acton",
           "*05ybh*"
          ],
          [
           "Luis Medina",
           "*03zlf*"
          ],
          [
           "Mychal Givens",
           "*01sex*"
          ],
          [
           "Dan Altavilla",
           "*03dec*"
          ],
          [
           "Ben Lively",
           "*0311w*"
          ],
          [
           "José Suarez",
           "*03nqc*"
          ],
          [
           "Andrew Politi",
           "*04pyu*"
          ],
          [
           "Hogan Harris",
           "*04pps*"
          ],
          [
           "David Phelps",
           "*01whj*"
          ],
          [
           "Cristian Mena",
           "*05ita*"
          ],
          [
           "Antonio Senzatela",
           "*02zoa*"
          ],
          [
           "Riley Pint",
           "*03yxv*"
          ],
          [
           "Carlos Carrasco",
           "*01as6*"
          ],
          [
           "Cam Bedrosian",
           "*0240t*"
          ],
          [
           "Gordon Graceffo",
           "*05wxw*"
          ],
          [
           "Adrián Martínez",
           "*05u3c*"
          ],
          [
           "Jesse Biddle",
           "*01vx5*"
          ],
          [
           "Humberto Castellanos",
           "*050if*"
          ],
          [
           "Ken Giles",
           "*02bvf*"
          ],
          [
           "Jonathan Heasley",
           "*04pwx*"
          ],
          [
           "Dan Winkler",
           "*02c5v*"
          ],
          [
           "Blake Parker",
           "*01uts*"
          ],
          [
           "Taylor Cole",
           "*033rm*"
          ],
          [
           "Oliver Pérez",
           "*000qy*"
          ],
          [
           "Jaime Barria",
           "*03ysq*"
          ],
          [
           "Corey Kluber",
           "*01z34*"
          ],
          [
           "Jimmy Yacabonis",
           "*031dt*"
          ],
          [
           "Bryan Mata",
           "*04ahc*"
          ],
          [
           "Reyes Moronta",
           "*042uz*"
          ],
          [
           "Paul Skenes",
           "*05wru*"
          ],
          [
           "Nick Tropeano",
           "*02btn*"
          ],
          [
           "Ben Joyce",
           "*060eu*"
          ],
          [
           "Jordan Holloway",
           "*03dsa*"
          ],
          [
           "Andre Jackson",
           "*04elo*"
          ],
          [
           "Ralph Garza Jr.",
           "*03ywr*"
          ],
          [
           "Drew Rucinski",
           "*03f26*"
          ],
          [
           "Brendan McKay",
           "*04afi*"
          ],
          [
           "Taylor Widener",
           "*041x6*"
          ],
          [
           "Sam Gaviglio",
           "*02bu1*"
          ],
          [
           "Tyler Matzek",
           "*01iz0*"
          ],
          [
           "Logan Allen",
           "*03qnb*"
          ],
          [
           "Shane Greene",
           "*02hds*"
          ],
          [
           "Brad Peacock",
           "*026s0*"
          ],
          [
           "Shun Yamaguchi",
           "*05acn*"
          ],
          [
           "Dylan Dodd",
           "*05uy4*"
          ],
          [
           "Mason Englert",
           "*04pqh*"
          ],
          [
           "Casey Lawrence",
           "*04awd*"
          ],
          [
           "Thaddeus Ward",
           "*04pre*"
          ],
          [
           "Rafael Dolis",
           "*01utq*"
          ],
          [
           "Heath Fillmyer",
           "*03de7*"
          ],
          [
           "Tommy Romero",
           "*04eoc*"
          ],
          [
           "Brent Honeywell",
           "*03d7m*"
          ],
          [
           "Ian Krol",
           "*01ubx*"
          ],
          [
           "Roenis Elías",
           "*02zl7*"
          ],
          [
           "Owen White",
           "*04pms*"
          ],
          [
           "Tekoah Roby",
           "*05jqh*"
          ],
          [
           "Kyle Cody",
           "*03pja*"
          ],
          [
           "Carson Fulmer",
           "*02n67*"
          ],
          [
           "Nick Nelson",
           "*041r9*"
          ],
          [
           "Jackson Kowar",
           "*04mlg*"
          ],
          [
           "Adonis Medina",
           "*03rrh*"
          ],
          [
           "Daniel Castano",
           "*04220*"
          ],
          [
           "Daniel Norris",
           "*025gw*"
          ],
          [
           "Adam Oller",
           "*0422w*"
          ],
          [
           "Caleb Smith",
           "*03753*"
          ],
          [
           "Stefan Crichton",
           "*031gu*"
          ],
          [
           "Andrew Suárez",
           "*02bxb*"
          ],
          [
           "Braden Bristo",
           "*0425q*"
          ],
          [
           "Rex Brothers",
           "*01sbf*"
          ],
          [
           "Daniel Gossett",
           "*02c2f*"
          ],
          [
           "Noah Syndergaard",
           "*025ew*"
          ],
          [
           "Dillon Peters",
           "*02c5u*"
          ],
          [
           "Rich Hill",
           "*0008c*"
          ],
          [
           "Jordan Balazovic",
           "*041sc*"
          ],
          [
           "Brad Brach",
           "*021ja*"
          ],
          [
           "Mike Minor",
           "*01sej*"
          ],
          [
           "Robby Snelling",
           "*061mh*"
          ],
          [
           "Jake Newberry",
           "*02yn4*"
          ],
          [
           "Cory Abbott",
           "*04ef6*"
          ],
          [
           "Cal Quantrill",
           "*03yxh*"
          ],
          [
           "Brandon Bailey",
           "*041sp*"
          ],
          [
           "Matt Swarmer",
           "*0422n*"
          ],
          [
           "Paolo Espino",
           "*02yxb*"
          ],
          [
           "Tim Adleman",
           "*040kr*"
          ],
          [
           "Andre Scrubb",
           "*041u2*"
          ],
          [
           "Trevor Cahill",
           "*01c1q*"
          ],
          [
           "Kyle Barraclough",
           "*02n0z*"
          ],
          [
           "Luis Cessa",
           "*03am2*"
          ],
          [
           "Daniel Lynch IV",
           "*04pma*"
          ],
          [
           "Luke Bard",
           "*02he4*"
          ],
          [
           "Ty Madden",
           "*05oqe*"
          ],
          [
           "Nick Avila",
           "*066sq*"
          ],
          [
           "Miguel Yajure",
           "*04qp0*"
          ],
          [
           "Jonathan Holder",
           "*03dex*"
          ],
          [
           "Joey Wentz",
           "*041pr*"
          ],
          [
           "Evan Reifert",
           "*05y0r*"
          ],
          [
           "Jon Duplantier",
           "*041qq*"
          ],
          [
           "Emiliano Teodo",
           "*05uo4*"
          ],
          [
           "Lewis Thorpe",
           "*02yop*"
          ],
          [
           "Tyler Beede",
           "*02bq5*"
          ],
          [
           "Adam Wainwright",
           "*000wm*"
          ],
          [
           "Luis Avilán",
           "*02nod*"
          ],
          [
           "Nick Margevicius",
           "*04eie*"
          ],
          [
           "Luis Patiño",
           "*04k22*"
          ],
          [
           "Aníbal Sánchez",
           "*000v3*"
          ],
          [
           "Wily Peralta",
           "*01sfv*"
          ],
          [
           "Derek Holland",
           "*01c1k*"
          ],
          [
           "Robert Dugger",
           "*0421i*"
          ],
          [
           "Brandon Finnegan",
           "*03d6m*"
          ],
          [
           "Zac Lowther",
           "*04ef9*"
          ],
          [
           "Zach Thompson",
           "*03de5*"
          ],
          [
           "Aaron Barrett",
           "*02hjz*"
          ],
          [
           "Bryan Mitchell",
           "*025ki*"
          ],
          [
           "Taylor Williams",
           "*03742*"
          ],
          [
           "Pedro Báez",
           "*01sdu*"
          ],
          [
           "Hunter Strickland",
           "*01ses*"
          ],
          [
           "Félix Peña",
           "*03rea*"
          ],
          [
           "Jackson Rutledge",
           "*04yte*"
          ],
          [
           "Yusmeiro Petit",
           "*000sw*"
          ],
          [
           "Tayron Guerrero",
           "*026t9*"
          ],
          [
           "Kwang Hyun Kim",
           "*057vg*"
          ],
          [
           "Matt Andriese",
           "*02bsc*"
          ],
          [
           "Jacob Misiorowski",
           "*061yu*"
          ],
          [
           "Tyler Zuber",
           "*04ehi*"
          ],
          [
           "David Hess",
           "*03del*"
          ],
          [
           "Asher Wojciechowski",
           "*0241w*"
          ],
          [
           "Kyle Muller",
           "*041q4*"
          ],
          [
           "Drew Steckenrider",
           "*02n1f*"
          ],
          [
           "Ross Detwiler",
           "*000z0*"
          ],
          [
           "Matt Koch",
           "*02bzh*"
          ],
          [
           "Sean Nolin",
           "*02hia*"
          ],
          [
           "Blayne Enlow",
           "*04ak4*"
          ],
          [
           "José Lopez",
           "*03zld*"
          ],
          [
           "Mike Wright Jr.",
           "*02brt*"
          ],
          [
           "Brandon Kintzler",
           "*022o7*"
          ],
          [
           "Marcus Walden",
           "*03c8t*"
          ],
          [
           "Ryne Nelson",
           "*04yid*"
          ],
          [
           "Matt Harvey",
           "*01uv3*"
          ],
          [
           "Matt Hall",
           "*03qlt*"
          ],
          [
           "Blade Tidwell",
           "*05u2q*"
          ],
          [
           "José Ureña",
           "*02j6w*"
          ],
          [
           "Juan Minaya",
           "*03yvx*"
          ],
          [
           "Brad Keller",
           "*0312l*"
          ],
          [
           "Ryder Jones",
           "*0311d*"
          ],
          [
           "Tyler Chatwood",
           "*01sfa*"
          ],
          [
           "Steven Brault",
           "*031d7*"
          ],
          [
           "Michael Pineda",
           "*01fi0*"
          ],
          [
           "Peyton Battenfield",
           "*05177*"
          ],
          [
           "Yefry Ramírez",
           "*0436n*"
          ],
          [
           "Joe Biagini",
           "*03qht*"
          ],
          [
           "Dylan Bundy",
           "*0269b*"
          ],
          [
           "Easton McGee",
           "*041rp*"
          ],
          [
           "Davis Martin",
           "*04pxf*"
          ],
          [
           "Sam Freeman",
           "*021o1*"
          ],
          [
           "Masahiro Tanaka",
           "*02j71*"
          ],
          [
           "Tony Santillan",
           "*03poq*"
          ],
          [
           "Trevor Hildenberger",
           "*03dtu*"
          ],
          [
           "Jason Alexander",
           "*05xze*"
          ],
          [
           "Dan Straily",
           "*01uut*"
          ],
          [
           "Beau Burrows",
           "*03pj3*"
          ],
          [
           "Anthony Banda",
           "*02n2v*"
          ],
          [
           "Jared Shuster",
           "*05jp2*"
          ],
          [
           "Jefry Rodriguez",
           "*03ay3*"
          ],
          [
           "Tommy Henry",
           "*0512a*"
          ],
          [
           "Kyle Freeland",
           "*03ca3*"
          ],
          [
           "Chase Anderson",
           "*026k6*"
          ],
          [
           "Robert Gsellman",
           "*02c0c*"
          ],
          [
           "Jhoulys Chacín",
           "*01cgs*"
          ],
          [
           "Johnny Cueto",
           "*0055e*"
          ],
          [
           "Justus Sheffield",
           "*03c9c*"
          ],
          [
           "Dereck Rodríguez",
           "*02buj*"
          ],
          [
           "Chad Kuhl",
           "*03179*"
          ],
          [
           "Brett de Geus",
           "*0524m*"
          ],
          [
           "Jackson Jobe",
           "*05rb0*"
          ],
          [
           "Glenn Sparkman",
           "*031fw*"
          ],
          [
           "Sean Doolittle",
           "*01cj2*"
          ],
          [
           "Griff McGarry",
           "*05uni*"
          ],
          [
           "Dellin Betances",
           "*01ciq*"
          ],
          [
           "Mike Mayers",
           "*0316b*"
          ],
          [
           "Zack Godley",
           "*0312u*"
          ],
          [
           "Mike Montgomery",
           "*01s9g*"
          ],
          [
           "Riley Smith",
           "*04260*"
          ],
          [
           "Vladimir Gutierrez",
           "*03mmw*"
          ],
          [
           "Austin Cox",
           "*04pra*"
          ],
          [
           "Corey Oswalt",
           "*02n0s*"
          ],
          [
           "Chance Adams",
           "*03qle*"
          ],
          [
           "Adrian Sampson",
           "*02c2m*"
          ],
          [
           "Tyler Thornburg",
           "*025f5*"
          ],
          [
           "Nick Neidert",
           "*03pp0*"
          ],
          [
           "Matt Shoemaker",
           "*02d54*"
          ],
          [
           "Brett Kennedy",
           "*03qpo*"
          ],
          [
           "Deivi García",
           "*0406o*"
          ],
          [
           "T.J. Zeuch",
           "*041m5*"
          ],
          [
           "Aaron Sanchez",
           "*0241y*"
          ],
          [
           "Enrique Burgos",
           "*01uau*"
          ],
          [
           "Hansel Robles",
           "*02vmh*"
          ],
          [
           "Braden Shipley",
           "*02z98*"
          ],
          [
           "Michel Baez",
           "*04akb*"
          ],
          [
           "Connor Thomas",
           "*0513x*"
          ],
          [
           "Konnor Pilkington",
           "*04muw*"
          ],
          [
           "James Jones",
           "*01sup*"
          ],
          [
           "Jake Faria",
           "*02by3*"
          ],
          [
           "Madison Bumgarner",
           "*01cdg*"
          ],
          [
           "Franklyn Kilome",
           "*03m1y*"
          ],
          [
           "Robert Stock",
           "*01shb*"
          ],
          [
           "Jackson Tetreault",
           "*04eip*"
          ],
          [
           "Hirokazu Sawamura",
           "*05rbx*"
          ],
          [
           "Patrick Corbin",
           "*01xfr*"
          ],
          [
           "Edgar García",
           "*01ud7*"
          ],
          [
           "Shaun Anderson",
           "*041qm*"
          ],
          [
           "Ty Blach",
           "*02mzi*"
          ],
          [
           "Anderson Espinoza",
           "*03g4b*"
          ],
          [
           "Devin Smeltzer",
           "*041ry*"
          ],
          [
           "Jordan Yamamoto",
           "*03djm*"
          ],
          [
           "Drew Hutchison",
           "*025kq*"
          ],
          [
           "Dillon Overton",
           "*0311a*"
          ],
          [
           "Travis Lakins Sr.",
           "*03qlx*"
          ],
          [
           "Kohei Arihara",
           "*05gdd*"
          ],
          [
           "Yadier Álvarez",
           "*03mod*"
          ],
          [
           "Daniel Ponce de Leon",
           "*0313g*"
          ],
          [
           "Mark Appel",
           "*02b2j*"
          ],
          [
           "Conner Greene",
           "*03749*"
          ],
          [
           "JC Ramírez",
           null
          ],
          [
           "Sterling Sharp",
           "*0424b*"
          ],
          [
           "Zach Logue",
           "*04ejq*"
          ],
          [
           "Phillips Valdez",
           "*040bu*"
          ],
          [
           "Mike Morin",
           "*02n4y*"
          ],
          [
           "Bryan Garcia",
           "*041sr*"
          ],
          [
           "Jerad Eickhoff",
           "*02c29*"
          ],
          [
           "Robbie Erlin",
           "*01ub5*"
          ],
          [
           "Cy Sneed",
           "*03da9*"
          ],
          [
           "Fernando Romero",
           "*03aqg*"
          ],
          [
           "Daniel Mengden",
           "*03dav*"
          ],
          [
           "Brailyn Marquez",
           "*04390*"
          ],
          [
           "Elvis Luciano",
           "*04n0d*"
          ],
          [
           "Justin Dunn",
           "*041m4*"
          ],
          [
           "Andrew Moore",
           "*03pp8*"
          ],
          [
           "Justin Jarvis",
           "*04prb*"
          ],
          [
           "Bubba Chandler",
           "*05rik*"
          ],
          [
           "Iván Nova",
           "*01sct*"
          ],
          [
           "Eric Skoglund",
           "*02c2x*"
          ],
          [
           "A.J. Alexy",
           "*0429o*"
          ],
          [
           "Franklin Pérez",
           "*03lfx*"
          ],
          [
           "Justin Nicolino",
           "*028e3*"
          ],
          [
           "Chi Chi González",
           "*0310y*"
          ],
          [
           "Thomas Eshelman",
           "*03c81*"
          ],
          [
           "Asa Lacy",
           "*059qm*"
          ],
          [
           "Ryan Castellani",
           "*03d79*"
          ],
          [
           "Joe Palumbo",
           "*03mf6*"
          ],
          [
           "Noah Song",
           "*05134*"
          ],
          [
           "Joe Wieland",
           "*01sh5*"
          ],
          [
           "Josh Rogers",
           "*03qpd*"
          ]
         ],
         "hovertemplate": "warp=%{x}<br>fpts=%{y}<br>name=%{customdata[0]}<br>fantraxid=%{customdata[1]}<br>ip=%{marker.color}<extra></extra>",
         "legendgroup": "",
         "marker": {
          "color": [
           193.7,
           174.7,
           189.3,
           196.7,
           169,
           157.3,
           129,
           172,
           174.7,
           154,
           165,
           160.3,
           166,
           177.7,
           153.7,
           147.7,
           148.7,
           180.7,
           169,
           166,
           184.7,
           167.7,
           177.7,
           147.7,
           174.7,
           180.7,
           174.7,
           139.7,
           174.7,
           169,
           177.7,
           156.7,
           166,
           166,
           142.3,
           152.7,
           137.3,
           154,
           160.3,
           145.7,
           145,
           172,
           163,
           111.7,
           135.3,
           126.3,
           148.7,
           124.7,
           143.3,
           113.3,
           108.7,
           156.7,
           108.7,
           136,
           163,
           64.7,
           113.3,
           148.7,
           117.7,
           156.7,
           66,
           154.3,
           125.7,
           132,
           117.7,
           109.3,
           97.7,
           151.3,
           104.7,
           119,
           133.3,
           110.7,
           145,
           128.7,
           169,
           150.3,
           57.7,
           116.3,
           137.3,
           116.3,
           126.3,
           139,
           42.7,
           89,
           133.3,
           148.7,
           60,
           52.3,
           113.7,
           128.7,
           54,
           72.3,
           95.3,
           156.7,
           151.3,
           50,
           63.7,
           62.7,
           83.3,
           59,
           63.7,
           151.3,
           115,
           115.7,
           67.3,
           102,
           142.3,
           116.3,
           48,
           84,
           101,
           50,
           91.3,
           83,
           142.3,
           117.7,
           54.3,
           52,
           58,
           151.3,
           53.7,
           51.7,
           133.7,
           169,
           79,
           88,
           111.7,
           122.3,
           50.3,
           148.7,
           65.7,
           99,
           59,
           117.7,
           75,
           87.3,
           57.3,
           63.7,
           56,
           57.3,
           96.7,
           68.3,
           53.7,
           39.7,
           62.7,
           148.7,
           54,
           57.3,
           75.3,
           50,
           123.7,
           54.7,
           53.7,
           96.3,
           127,
           134.7,
           67.3,
           123.7,
           49.7,
           52.7,
           113.3,
           64.3,
           56.7,
           118,
           81,
           43,
           50,
           64.7,
           50,
           59.7,
           51,
           52,
           102,
           49,
           54,
           52,
           57.3,
           117.7,
           95.7,
           121.3,
           118,
           69.7,
           50,
           38.7,
           140.3,
           52,
           55.3,
           51.7,
           154,
           45.7,
           160.3,
           137.3,
           59.3,
           49.7,
           65.7,
           102,
           103,
           52,
           61,
           60,
           114.3,
           55.7,
           52,
           63.7,
           51,
           56,
           52,
           44,
           55.3,
           84,
           63,
           63.7,
           59.7,
           81,
           49.7,
           52.7,
           63.7,
           55.3,
           50,
           90.7,
           60,
           50,
           43,
           56,
           50,
           50,
           78.3,
           61,
           50,
           60,
           62,
           54,
           55.3,
           57.7,
           45.7,
           49,
           58.7,
           52,
           64,
           55.3,
           45.7,
           49,
           51.7,
           132,
           52.7,
           52.7,
           63.3,
           50,
           59,
           49,
           60,
           49,
           49.7,
           57,
           40.7,
           35,
           51.7,
           50,
           58.7,
           60,
           55,
           50.7,
           104,
           50,
           45.7,
           57.7,
           81.3,
           40.7,
           58,
           56,
           57.3,
           45.3,
           50,
           94.7,
           52.7,
           55.7,
           40.7,
           50,
           47,
           50,
           33.7,
           127.7,
           42,
           72.7,
           61.3,
           100.3,
           53.3,
           50,
           44.7,
           63,
           37.3,
           40.3,
           53.3,
           43,
           40.7,
           50,
           50,
           43.3,
           54.3,
           31,
           54.3,
           50,
           34.7,
           44.7,
           48.3,
           50,
           33,
           61,
           50,
           52,
           56,
           41.7,
           32.3,
           129.3,
           61.3,
           60,
           87,
           58,
           70.7,
           58.7,
           63.3,
           47,
           100.3,
           51.3,
           28.7,
           50,
           58.7,
           57.7,
           50,
           52,
           50,
           57.3,
           74.3,
           41.7,
           50,
           26,
           51.3,
           44,
           85.3,
           46,
           57.7,
           45.7,
           53.7,
           60.7,
           51,
           36.3,
           50,
           50,
           53.7,
           33.3,
           50,
           50,
           50,
           54.3,
           50,
           50,
           50,
           108,
           58.3,
           64.3,
           46.3,
           53.7,
           50,
           50,
           50,
           54.3,
           49,
           50,
           61.7,
           20.7,
           46,
           50,
           50,
           50,
           45.7,
           50,
           81,
           65.7,
           50,
           34.7,
           50,
           50,
           50,
           63.3,
           50,
           50,
           50,
           50,
           68,
           50,
           49.7,
           44,
           49.7,
           50,
           50,
           50.3,
           50,
           38.3,
           50,
           25.7,
           50,
           19,
           50,
           50,
           50,
           50,
           50,
           111,
           56,
           48.3,
           32,
           50,
           50,
           27.3,
           50,
           50,
           44.7,
           40.7,
           50,
           34.3,
           50,
           50,
           50,
           25.7,
           24,
           21.7,
           38.3,
           47.3,
           12.7,
           21.7,
           66,
           12.3,
           50,
           50,
           40.7,
           13.3,
           52,
           57.7,
           54.7,
           43.3,
           50,
           50,
           62.3,
           145,
           12,
           15,
           28.7,
           50,
           22.3,
           50,
           50,
           73.3,
           32,
           24,
           113.3,
           25.7,
           38.3,
           27.7,
           34.7,
           53.7,
           41.3,
           19,
           69,
           50,
           50,
           50,
           56,
           55.3,
           50,
           54,
           50,
           19.3,
           50,
           50,
           13.3,
           51,
           14.3,
           12.3,
           51,
           38,
           49.7,
           20,
           74.3,
           64,
           50,
           48.3,
           13.7,
           22.7,
           38,
           29,
           50,
           50,
           50,
           21.3,
           50,
           22.7,
           19.7,
           38,
           50,
           50,
           50,
           29,
           25.7,
           45.3,
           50,
           50.3,
           53,
           49.7,
           15.3,
           64.7,
           93,
           50,
           50,
           26.7,
           26,
           32.7,
           44,
           50,
           50,
           50,
           21.7,
           50,
           21.7,
           50,
           50,
           50,
           50,
           50,
           52.7,
           29,
           47.3,
           50,
           21.7,
           25.7,
           19.3,
           50,
           26.3,
           22.7,
           50,
           50,
           44.3,
           50,
           50,
           49,
           50,
           50,
           50,
           77,
           13.3,
           50,
           12.7,
           14.7,
           24.3,
           50,
           12.7,
           60,
           50,
           50,
           50,
           54,
           49.7,
           45.3,
           52,
           50,
           126.3,
           50,
           32.7,
           62,
           40.3,
           24.7,
           50,
           50,
           50,
           26,
           20.3,
           50,
           50,
           14.3,
           50,
           10.7,
           33.3,
           50,
           50,
           50,
           50,
           50,
           50,
           26,
           50,
           64,
           50,
           101,
           18.3,
           50,
           50,
           24.7,
           50,
           50,
           38.7,
           50,
           50,
           55.3,
           12.7,
           50,
           50,
           14.3,
           50,
           50,
           50,
           10.7,
           50,
           50,
           34,
           11.3,
           11.3,
           50,
           49.7,
           20.7,
           64,
           50,
           38.7,
           12.3,
           107,
           44,
           35,
           50,
           50,
           50,
           50,
           50,
           26,
           50,
           50,
           10.7,
           38,
           50,
           50,
           50,
           21.7,
           48.3,
           50,
           23,
           43.7,
           50,
           50,
           62,
           50,
           127,
           62,
           50,
           13.7,
           50,
           51,
           50,
           50,
           14.3,
           78,
           50,
           23.7,
           50,
           50,
           38,
           50,
           47.3,
           16,
           50,
           77.3,
           50,
           50,
           50,
           26.3,
           50,
           50,
           51,
           64,
           50,
           50,
           50,
           50,
           50,
           23.7,
           50,
           40.3,
           50,
           50,
           50,
           50,
           50,
           25.7,
           25.7,
           85.3,
           50,
           28.3,
           50,
           50,
           27,
           50,
           140.3,
           32,
           50,
           50,
           43,
           50,
           61,
           34,
           19,
           11.7,
           108,
           50,
           29.7,
           50,
           50,
           50,
           50,
           50,
           50,
           50,
           50,
           50,
           50,
           50,
           50,
           74.7,
           138.3,
           47.7,
           50,
           50,
           50,
           50,
           12.7,
           50,
           50,
           57.7,
           50,
           76.7,
           50,
           50,
           67,
           50,
           50,
           74.7,
           63.3,
           50,
           33.7,
           50,
           24.3,
           50,
           25.3,
           50,
           50,
           50,
           32,
           50,
           50,
           50,
           22.3,
           50,
           50,
           50,
           50,
           100.3,
           50,
           50,
           42.7,
           50,
           25.7,
           50,
           49.7,
           50,
           50,
           50,
           50,
           50,
           50,
           50,
           46,
           50,
           50,
           50,
           50,
           30.3,
           31,
           50,
           49,
           50,
           50,
           50,
           50,
           50,
           50,
           46.7,
           50,
           50,
           50,
           45.7,
           50,
           50,
           50,
           50,
           40.3,
           50,
           50,
           50,
           50,
           50,
           50,
           50,
           50,
           50,
           50,
           50,
           50,
           50,
           50,
           50,
           143,
           50,
           50,
           50,
           50,
           50,
           50,
           50,
           50,
           37.3,
           50,
           50,
           50,
           50,
           50,
           77,
           50,
           50,
           50,
           50,
           50,
           50,
           50,
           50,
           52.7,
           50,
           50,
           50,
           50,
           50,
           50,
           50,
           50,
           50,
           50,
           50,
           50,
           50,
           56.7,
           50,
           50,
           50,
           50,
           50,
           50,
           50,
           50,
           95.7,
           50,
           50,
           50,
           50,
           50,
           50,
           50,
           50,
           50,
           82.3,
           50,
           50,
           50,
           50,
           50,
           50,
           50,
           50,
           50,
           50,
           50,
           50,
           50,
           50,
           50,
           50,
           50,
           50,
           50,
           50,
           50,
           50,
           50,
           50,
           62,
           50,
           89,
           148.7,
           50,
           50,
           50,
           50,
           50,
           50,
           50,
           50,
           50,
           50,
           50,
           50,
           50,
           50,
           50,
           50,
           50,
           50,
           50,
           50,
           50,
           50,
           50,
           50,
           50,
           50,
           51.3,
           50,
           50,
           50,
           50,
           50,
           50,
           50,
           50,
           50,
           50,
           50,
           50,
           50,
           50,
           50,
           154,
           50,
           50,
           50,
           50,
           50,
           50,
           50,
           50,
           50,
           50,
           50,
           50,
           50,
           50,
           50,
           50,
           50,
           50,
           50,
           50,
           50,
           50,
           50,
           50,
           50,
           50,
           50,
           50,
           50,
           50,
           50,
           50,
           50,
           50,
           50,
           50,
           50,
           50,
           50,
           50,
           50,
           50,
           50,
           50
          ],
          "coloraxis": "coloraxis",
          "symbol": "circle"
         },
         "mode": "markers",
         "name": "",
         "orientation": "v",
         "showlegend": false,
         "type": "scatter",
         "x": [
          3.7,
          3.6,
          3.5,
          3.5,
          3.4,
          3.4,
          3.3,
          3.3,
          3.3,
          3.3,
          3.1,
          3.1,
          3.1,
          3,
          2.9,
          2.8,
          2.8,
          2.8,
          2.7,
          2.7,
          2.5,
          2.3,
          2.3,
          2.2,
          2.2,
          2.2,
          2.2,
          2.2,
          2.2,
          2.1,
          2,
          2,
          2,
          2,
          2,
          1.9,
          1.9,
          1.8,
          1.8,
          1.8,
          1.8,
          1.8,
          1.8,
          1.7,
          1.7,
          1.7,
          1.7,
          1.7,
          1.6,
          1.6,
          1.6,
          1.6,
          1.6,
          1.6,
          1.6,
          1.5,
          1.5,
          1.5,
          1.5,
          1.4,
          1.4,
          1.4,
          1.4,
          1.4,
          1.3,
          1.3,
          1.3,
          1.3,
          1.3,
          1.3,
          1.3,
          1.3,
          1.2,
          1.2,
          1.2,
          1.2,
          1.2,
          1.2,
          1.2,
          1.2,
          1.2,
          1.2,
          1.2,
          1.2,
          1.2,
          1.1,
          1.1,
          1.1,
          1.1,
          1.1,
          1.1,
          1.1,
          1.1,
          1.1,
          1,
          1,
          1,
          1,
          1,
          1,
          1,
          1,
          1,
          1,
          1,
          1,
          1,
          1,
          0.9,
          0.9,
          0.9,
          0.9,
          0.9,
          0.9,
          0.9,
          0.9,
          0.9,
          0.9,
          0.9,
          0.9,
          0.9,
          0.9,
          0.9,
          0.9,
          0.9,
          0.8,
          0.8,
          0.8,
          0.8,
          0.8,
          0.8,
          0.8,
          0.8,
          0.8,
          0.8,
          0.8,
          0.8,
          0.8,
          0.7,
          0.7,
          0.7,
          0.7,
          0.7,
          0.7,
          0.7,
          0.7,
          0.7,
          0.7,
          0.7,
          0.7,
          0.7,
          0.7,
          0.7,
          0.7,
          0.7,
          0.7,
          0.7,
          0.7,
          0.7,
          0.7,
          0.7,
          0.7,
          0.7,
          0.6,
          0.6,
          0.6,
          0.6,
          0.6,
          0.6,
          0.6,
          0.6,
          0.6,
          0.6,
          0.6,
          0.6,
          0.6,
          0.6,
          0.6,
          0.6,
          0.6,
          0.6,
          0.6,
          0.6,
          0.6,
          0.6,
          0.6,
          0.6,
          0.6,
          0.6,
          0.6,
          0.6,
          0.6,
          0.6,
          0.6,
          0.6,
          0.6,
          0.6,
          0.6,
          0.6,
          0.5,
          0.5,
          0.5,
          0.5,
          0.5,
          0.5,
          0.5,
          0.5,
          0.5,
          0.5,
          0.5,
          0.5,
          0.5,
          0.5,
          0.5,
          0.5,
          0.5,
          0.5,
          0.5,
          0.5,
          0.5,
          0.5,
          0.5,
          0.5,
          0.5,
          0.5,
          0.5,
          0.5,
          0.5,
          0.5,
          0.5,
          0.5,
          0.5,
          0.5,
          0.5,
          0.5,
          0.5,
          0.4,
          0.4,
          0.4,
          0.4,
          0.4,
          0.4,
          0.4,
          0.4,
          0.4,
          0.4,
          0.4,
          0.4,
          0.4,
          0.4,
          0.4,
          0.4,
          0.4,
          0.4,
          0.4,
          0.4,
          0.4,
          0.4,
          0.4,
          0.4,
          0.4,
          0.4,
          0.4,
          0.4,
          0.4,
          0.4,
          0.4,
          0.4,
          0.4,
          0.4,
          0.4,
          0.4,
          0.4,
          0.4,
          0.4,
          0.4,
          0.4,
          0.4,
          0.4,
          0.4,
          0.4,
          0.4,
          0.3,
          0.3,
          0.3,
          0.3,
          0.3,
          0.3,
          0.3,
          0.3,
          0.3,
          0.3,
          0.3,
          0.3,
          0.3,
          0.3,
          0.3,
          0.3,
          0.3,
          0.3,
          0.3,
          0.3,
          0.3,
          0.3,
          0.3,
          0.3,
          0.3,
          0.3,
          0.3,
          0.3,
          0.3,
          0.3,
          0.3,
          0.3,
          0.3,
          0.3,
          0.3,
          0.3,
          0.3,
          0.3,
          0.3,
          0.3,
          0.3,
          0.3,
          0.3,
          0.3,
          0.3,
          0.3,
          0.3,
          0.3,
          0.3,
          0.3,
          0.3,
          0.3,
          0.3,
          0.3,
          0.3,
          0.3,
          0.3,
          0.3,
          0.3,
          0.3,
          0.3,
          0.3,
          0.3,
          0.3,
          0.3,
          0.3,
          0.3,
          0.3,
          0.3,
          0.3,
          0.3,
          0.3,
          0.2,
          0.2,
          0.2,
          0.2,
          0.2,
          0.2,
          0.2,
          0.2,
          0.2,
          0.2,
          0.2,
          0.2,
          0.2,
          0.2,
          0.2,
          0.2,
          0.2,
          0.2,
          0.2,
          0.2,
          0.2,
          0.2,
          0.2,
          0.2,
          0.2,
          0.2,
          0.2,
          0.2,
          0.2,
          0.2,
          0.2,
          0.2,
          0.2,
          0.2,
          0.2,
          0.2,
          0.2,
          0.2,
          0.2,
          0.2,
          0.2,
          0.2,
          0.2,
          0.2,
          0.2,
          0.2,
          0.2,
          0.2,
          0.2,
          0.2,
          0.2,
          0.2,
          0.2,
          0.2,
          0.2,
          0.2,
          0.2,
          0.2,
          0.2,
          0.2,
          0.2,
          0.2,
          0.2,
          0.2,
          0.2,
          0.2,
          0.2,
          0.2,
          0.2,
          0.2,
          0.2,
          0.2,
          0.2,
          0.2,
          0.1,
          0.1,
          0.1,
          0.1,
          0.1,
          0.1,
          0.1,
          0.1,
          0.1,
          0.1,
          0.1,
          0.1,
          0.1,
          0.1,
          0.1,
          0.1,
          0.1,
          0.1,
          0.1,
          0.1,
          0.1,
          0.1,
          0.1,
          0.1,
          0.1,
          0.1,
          0.1,
          0.1,
          0.1,
          0.1,
          0.1,
          0.1,
          0.1,
          0.1,
          0.1,
          0.1,
          0.1,
          0.1,
          0.1,
          0.1,
          0.1,
          0.1,
          0.1,
          0.1,
          0.1,
          0.1,
          0.1,
          0.1,
          0.1,
          0.1,
          0.1,
          0.1,
          0.1,
          0.1,
          0.1,
          0.1,
          0.1,
          0.1,
          0.1,
          0.1,
          0.1,
          0.1,
          0.1,
          0.1,
          0.1,
          0.1,
          0.1,
          0.1,
          0.1,
          0.1,
          0.1,
          0.1,
          0.1,
          0.1,
          0.1,
          0.1,
          0.1,
          0.1,
          0.1,
          0.1,
          0.1,
          0.1,
          0.1,
          0.1,
          0.1,
          0.1,
          0.1,
          0.1,
          0.1,
          0.1,
          0.1,
          0.1,
          0.1,
          0.1,
          0.1,
          0.1,
          0.1,
          0.1,
          0.1,
          0.1,
          0.1,
          0.1,
          0.1,
          0.1,
          0.1,
          0.1,
          0.1,
          0.1,
          0.1,
          0.1,
          0.1,
          0.1,
          0.1,
          0.1,
          0.1,
          0.1,
          0.1,
          0,
          0,
          0,
          0,
          0,
          0,
          0,
          0,
          0,
          0,
          0,
          0,
          0,
          0,
          0,
          0,
          0,
          0,
          0,
          0,
          0,
          0,
          0,
          0,
          0,
          0,
          0,
          0,
          0,
          0,
          0,
          0,
          0,
          0,
          0,
          0,
          0,
          0,
          0,
          0,
          0,
          0,
          0,
          0,
          0,
          0,
          0,
          0,
          0,
          0,
          0,
          0,
          0,
          0,
          0,
          0,
          0,
          0,
          0,
          0,
          0,
          0,
          0,
          0,
          0,
          0,
          0,
          0,
          0,
          0,
          0,
          0,
          0,
          0,
          0,
          0,
          0,
          0,
          0,
          0,
          0,
          0,
          0,
          0,
          0,
          0,
          0,
          0,
          0,
          0,
          0,
          0,
          0,
          0,
          0,
          0,
          0,
          0,
          0,
          0,
          0,
          0,
          0,
          0,
          0,
          0,
          0,
          0,
          0,
          0,
          0,
          0,
          -0.1,
          -0.1,
          -0.1,
          -0.1,
          -0.1,
          -0.1,
          -0.1,
          -0.1,
          -0.1,
          -0.1,
          -0.1,
          -0.1,
          -0.1,
          -0.1,
          -0.1,
          -0.1,
          -0.1,
          -0.1,
          -0.1,
          -0.1,
          -0.1,
          -0.1,
          -0.1,
          -0.1,
          -0.1,
          -0.1,
          -0.1,
          -0.1,
          -0.1,
          -0.1,
          -0.1,
          -0.1,
          -0.1,
          -0.1,
          -0.1,
          -0.1,
          -0.1,
          -0.1,
          -0.1,
          -0.1,
          -0.1,
          -0.1,
          -0.1,
          -0.1,
          -0.1,
          -0.1,
          -0.1,
          -0.1,
          -0.1,
          -0.1,
          -0.1,
          -0.1,
          -0.1,
          -0.1,
          -0.1,
          -0.1,
          -0.1,
          -0.1,
          -0.1,
          -0.1,
          -0.1,
          -0.1,
          -0.1,
          -0.1,
          -0.1,
          -0.1,
          -0.1,
          -0.1,
          -0.1,
          -0.1,
          -0.1,
          -0.1,
          -0.1,
          -0.1,
          -0.1,
          -0.1,
          -0.1,
          -0.1,
          -0.1,
          -0.1,
          -0.1,
          -0.1,
          -0.1,
          -0.1,
          -0.1,
          -0.1,
          -0.1,
          -0.1,
          -0.1,
          -0.1,
          -0.1,
          -0.1,
          -0.1,
          -0.1,
          -0.1,
          -0.1,
          -0.1,
          -0.2,
          -0.2,
          -0.2,
          -0.2,
          -0.2,
          -0.2,
          -0.2,
          -0.2,
          -0.2,
          -0.2,
          -0.2,
          -0.2,
          -0.2,
          -0.2,
          -0.2,
          -0.2,
          -0.2,
          -0.2,
          -0.2,
          -0.2,
          -0.2,
          -0.2,
          -0.2,
          -0.2,
          -0.2,
          -0.2,
          -0.2,
          -0.2,
          -0.2,
          -0.2,
          -0.2,
          -0.2,
          -0.2,
          -0.2,
          -0.2,
          -0.2,
          -0.2,
          -0.2,
          -0.2,
          -0.2,
          -0.2,
          -0.2,
          -0.2,
          -0.2,
          -0.2,
          -0.2,
          -0.2,
          -0.2,
          -0.2,
          -0.2,
          -0.2,
          -0.2,
          -0.2,
          -0.2,
          -0.2,
          -0.2,
          -0.2,
          -0.2,
          -0.2,
          -0.2,
          -0.2,
          -0.2,
          -0.2,
          -0.2,
          -0.2,
          -0.2,
          -0.2,
          -0.2,
          -0.2,
          -0.2,
          -0.2,
          -0.2,
          -0.2,
          -0.2,
          -0.2,
          -0.2,
          -0.2,
          -0.3,
          -0.3,
          -0.3,
          -0.3,
          -0.3,
          -0.3,
          -0.3,
          -0.3,
          -0.3,
          -0.3,
          -0.3,
          -0.3,
          -0.3,
          -0.3,
          -0.3,
          -0.3,
          -0.3,
          -0.3,
          -0.3,
          -0.3,
          -0.3,
          -0.3,
          -0.3,
          -0.3,
          -0.3,
          -0.3,
          -0.3,
          -0.3,
          -0.3,
          -0.3,
          -0.3,
          -0.3,
          -0.3,
          -0.3,
          -0.3,
          -0.3,
          -0.3,
          -0.3,
          -0.3,
          -0.3,
          -0.3,
          -0.3,
          -0.3,
          -0.3,
          -0.3,
          -0.3,
          -0.3,
          -0.3,
          -0.3,
          -0.3,
          -0.3,
          -0.3,
          -0.3,
          -0.3,
          -0.3,
          -0.3,
          -0.3,
          -0.3,
          -0.3,
          -0.3,
          -0.4,
          -0.4,
          -0.4,
          -0.4,
          -0.4,
          -0.4,
          -0.4,
          -0.4,
          -0.4,
          -0.4,
          -0.4,
          -0.4,
          -0.4,
          -0.4,
          -0.4,
          -0.4,
          -0.4,
          -0.4,
          -0.4,
          -0.4,
          -0.4,
          -0.4,
          -0.4,
          -0.4,
          -0.4,
          -0.4,
          -0.4,
          -0.4,
          -0.4,
          -0.4,
          -0.4,
          -0.4,
          -0.4,
          -0.4,
          -0.4,
          -0.4,
          -0.4,
          -0.4,
          -0.4,
          -0.4,
          -0.4,
          -0.5,
          -0.5,
          -0.5,
          -0.5,
          -0.5,
          -0.5,
          -0.5,
          -0.5,
          -0.5,
          -0.5,
          -0.5,
          -0.5,
          -0.5,
          -0.5,
          -0.5,
          -0.5,
          -0.5,
          -0.5,
          -0.5,
          -0.5,
          -0.5,
          -0.5,
          -0.5,
          -0.5,
          -0.5,
          -0.5,
          -0.6,
          -0.6,
          -0.6,
          -0.6,
          -0.6,
          -0.6,
          -0.6,
          -0.6,
          -0.6,
          -0.6,
          -0.6,
          -0.7,
          -0.7,
          -0.7,
          -0.7,
          -0.7,
          -0.7,
          -0.7,
          -0.7,
          -0.7,
          -0.8,
          -0.8,
          -0.8,
          -0.8,
          -0.9,
          -0.9,
          -1,
          -1,
          -1.1,
          -1.1
         ],
         "xaxis": "x",
         "y": [
          304.17331993131836,
          275.95827135877533,
          280.2419931653077,
          303.13192281640414,
          287.02816145020745,
          245.81045780464288,
          222.1394243455054,
          265.6144853554673,
          265.49903292146047,
          247.73359140389124,
          256.56933115999084,
          244.13882155845081,
          251.53082662871282,
          264.4994654952445,
          243.6091875157934,
          233.98726369398443,
          229.6100375517447,
          268.7484706303426,
          252.69354598046553,
          242.81779826803003,
          267.24703199115766,
          245.53379458362735,
          252.4115117176642,
          215.68930693066355,
          249.86920615610154,
          255.70716455462326,
          249.6998159651169,
          213.72594189909645,
          248.90893149564073,
          242.60733287758745,
          243.28439253131634,
          222.860497878501,
          233.9401890563432,
          235.06332537646378,
          206.16819865936353,
          209.1475293968933,
          205.58133096126767,
          219.72148266014838,
          219.3805389657646,
          202.81017408020998,
          208.84322971003144,
          242.56526601286606,
          225.10326283366248,
          161.78307954456037,
          214.0359652759174,
          184.1968484971231,
          209.30933403999836,
          186.25326091317348,
          203.49963940346635,
          174.35421854489607,
          159.8281320082414,
          218.68893575966823,
          159.62093461679052,
          198.25194292484352,
          224.8965493964731,
          232.71473928558038,
          166.0674255216094,
          224.30524863313886,
          166.0418370646193,
          218.27186535789536,
          106.77754810327416,
          206.41634819238024,
          181.79417481053807,
          179.95083484291195,
          163.41252787545244,
          154.00889580398226,
          137.0669315995054,
          214.58204092505477,
          148.3204900415302,
          167.2761444322263,
          179.23863510967493,
          162.82273338488054,
          192.08990735231637,
          177.83384605504207,
          226.6450525053241,
          207.08321573683853,
          220.57447785360057,
          159.01917555859862,
          177.57432798177948,
          157.72618330630493,
          168.9006731941837,
          187.16717783308619,
          72.3908635707131,
          130.54306467811594,
          184.44801701689596,
          198.13850466623822,
          200.35613517200744,
          200.71449503550338,
          158.7825196281781,
          178.17027487208074,
          205.01449662887495,
          107.18053757532017,
          135.95797047427297,
          202.22982450403717,
          197.66342611763312,
          74.34326954261005,
          206.60697282787916,
          240.9843011071912,
          117.01830879625012,
          183.768108585956,
          216.3612114464035,
          198.12539635782636,
          157.52157537851787,
          157.73709173060422,
          104.1280639111545,
          143.88657168076648,
          196.44913960956097,
          160.30924439171315,
          194.65553516907585,
          134.86070995978676,
          134.54429724169145,
          70.08110235730874,
          127.03004745244866,
          116.98771565285038,
          178.36518925893148,
          160.65698412014234,
          191.90133478675753,
          118.94943030311964,
          212.83943011174975,
          206.53865197730295,
          210.379122189711,
          109.9584628217823,
          182.5856268215279,
          216.85440824476055,
          122.64988248067323,
          125.86829442035301,
          147.11276249181742,
          162.14648869984225,
          74.71898537273422,
          198.18037414362948,
          193.18699533228846,
          134.630789595205,
          168.2899152173951,
          157.3235215664466,
          112.76162736903525,
          109.52211055020048,
          233.28924416471665,
          137.72875383491456,
          157.7427639673832,
          175.32283529245882,
          134.84368223880597,
          89.24043176457583,
          155.53457711582698,
          56.35453341212177,
          167.75708535099335,
          183.42813346073976,
          102.90327423377457,
          113.57008660135936,
          123.2501602007579,
          64.7666906411239,
          154.11798453784937,
          89.57579338401204,
          197.61620919435381,
          143.6216277344994,
          171.36076933824452,
          166.95919558313287,
          181.00807204850713,
          159.74207666584172,
          95.691392762759,
          144.32060572651292,
          149.54921274221522,
          86.10493908510439,
          79.48099550516665,
          148.39616515292124,
          115.88871547997218,
          115.94448164363362,
          67.2639906411239,
          162.63312782012218,
          67.71939611024037,
          116.37374059977154,
          143.87739188083336,
          164.2210404634006,
          134.0442066101687,
          123.13592729499906,
          156.1059963695577,
          99.59797020989741,
          103.93358023383959,
          148.7795919038723,
          123.75712745913161,
          163.59895867158207,
          147.5191620687452,
          89.67100959870167,
          64.34416251758974,
          57.128922557865515,
          183.6974662525923,
          145.8491988112692,
          99.26652893330943,
          103.14743415163375,
          193.92117943050383,
          121.79392620716918,
          197.08179437494599,
          179.86104196246734,
          96.71898822667647,
          191.02023271204064,
          98.04173428036391,
          131.920525496937,
          138.0870767501114,
          211.9304265793568,
          196.91548904349986,
          112.43963439405553,
          146.00512374489264,
          156.94468761900686,
          130.17220542551067,
          178.2545767063995,
          93.95808434553449,
          149.31332512956334,
          143.54697171046897,
          116.65199149193083,
          149.71868665654594,
          104.97431632469197,
          80.06678785937375,
          166.00520308467745,
          218.36281095153032,
          102.01271522065487,
          92.51160576818806,
          172.85100166792063,
          170.91894195709222,
          151.0105380590389,
          195.70996329554163,
          124.3700138533112,
          110.52798127052135,
          67.335179702891,
          79.68796562112304,
          191.5141192125525,
          65.91625157935681,
          64.17480157935681,
          113.3390617046326,
          104.31585902593966,
          63.4982406411239,
          111.06605080140488,
          112.61308621150327,
          142.47424559160575,
          141.6772421256624,
          156.77917987814536,
          85.48968080101213,
          91.2901810903748,
          106.18841833374806,
          135.91571504089526,
          98.27540002272006,
          205.54425202934377,
          84.35648506394134,
          86.07607068085504,
          135.49739637097684,
          157.23888662910727,
          94.75914676175125,
          139.7565331121379,
          161.1841072372681,
          65.65905157935681,
          110.60411397635623,
          140.15436790588743,
          110.64518986317198,
          87.69305733473016,
          124.26160576818808,
          145.63700951997598,
          75.60289860809401,
          51.70293382832431,
          97.75830365376069,
          65.65725157935681,
          158.47604732041307,
          162.5664258014049,
          199.84252615395334,
          87.87027644845314,
          126.83001181255977,
          63.95542892493909,
          84.72638758438192,
          101.56432123426687,
          101.58443431353108,
          104.50342477974216,
          110.30473522808549,
          145.4289468940555,
          155.71913471236712,
          83.87902753395224,
          64.99464064112391,
          124.70680549980456,
          155.26080256185327,
          140.44064812169984,
          72.42251985659328,
          61.74642345582262,
          85.06161693693355,
          67.86042423377457,
          46.73413645655662,
          165.16326919676519,
          71.11293305037239,
          91.62227964440062,
          170.3007261894015,
          128.3168065393336,
          94.90474282693829,
          61.52616798670617,
          82.09188003846148,
          95.72078026862222,
          55.06161235720384,
          75.72350557305579,
          137.44449880247475,
          73.41546562112305,
          73.36946598910042,
          63.30816251758973,
          90.56806251758972,
          81.15241242512138,
          141.73648318007633,
          41.73673763663519,
          141.31812914792076,
          64.82076251758973,
          58.34072383982514,
          84.72275725527321,
          84.68025792787232,
          89.2351906411239,
          62.58114404435158,
          107.1850286841641,
          62.39825157935681,
          92.06422020989741,
          137.70632892493907,
          52.39833387257178,
          59.63100901629423,
          154.2694881987841,
          82.12554021038557,
          162.85037033228846,
          118.98136926936031,
          106.84673671159878,
          160.87358092869204,
          154.10036340787852,
          176.80515279153693,
          79.62908349425042,
          172.3286958713376,
          149.27513620180022,
          54.37211264872261,
          62.9820406411239,
          197.1374086845403,
          88.7536062803657,
          64.61222423377457,
          92.90363439405553,
          62.729773455822624,
          101.29079114380674,
          87.86280880702739,
          70.04263149399941,
          61.06536251758971,
          42.505818697599345,
          70.96921798670617,
          79.17840520114946,
          112.50360517292697,
          81.71807107590651,
          99.14392774130057,
          81.39433899595687,
          81.91279740507143,
          79.01922519684064,
          85.77332634847805,
          102.16604598889103,
          65.02753517200746,
          62.196428924939084,
          135.08234647832631,
          57.85282906578052,
          63.68609611024037,
          65.067179702891,
          63.57706251758973,
          108.7348257215128,
          62.76581798670617,
          60.39238439405554,
          65.7279906411239,
          133.66674170184612,
          73.68806853467227,
          99.2201078252687,
          56.35076284890127,
          96.07815653419223,
          62.06221251758971,
          63.88835157935682,
          60.60003986317198,
          68.42100550002154,
          129.4366287633016,
          62.896001579356806,
          78.09574909422355,
          25.177490938402023,
          76.99275059540183,
          62.01806798670617,
          83.60005704847327,
          61.431128924939074,
          83.08890498447238,
          63.935196110240355,
          118.30132589957047,
          110.36876437600782,
          60.80681251758973,
          60.95857328261987,
          62.81311251758971,
          66.42576329554166,
          62.51536798670617,
          111.13439836468517,
          63.60320704847327,
          65.59737423377456,
          63.09735704847328,
          62.31446251758971,
          93.26698320286712,
          63.85230704847327,
          81.85512931839456,
          71.57097068483691,
          117.19795280451831,
          63.63880157935682,
          60.01761798670617,
          72.58240924495016,
          62.264917986706166,
          49.640442696734326,
          62.27481798670617,
          46.57771932615366,
          63.09645704847326,
          33.34899276902113,
          61.35095704847327,
          63.893301579356816,
          63.430246110240375,
          62.80906251758973,
          61.935196110240355,
          134.58824522831932,
          133.25219309867978,
          122.794343073318,
          59.67419922791132,
          62.35545704847326,
          62.84195704847327,
          40.51227736186293,
          62.682946110240366,
          62.51403517200746,
          73.75043392971452,
          70.22965328097065,
          62.349157048473266,
          49.31480999714922,
          64.7288906411239,
          61.89105157935681,
          62.305912517589725,
          38.67186822377541,
          42.242477351445494,
          29.512814451453472,
          69.7853376470873,
          58.816173143838824,
          24.85248382502279,
          36.51903564961015,
          89.93558738360623,
          21.758744306622443,
          60.84195704847327,
          62.42799611024037,
          115.09458883922326,
          17.128793448946308,
          87.71835037889956,
          145.67289393596232,
          96.32804623102098,
          121.3915676619091,
          62.67167892493907,
          60.25681798670617,
          91.57455598445175,
          182.53753701544187,
          24.878485160280977,
          19.43983203674679,
          51.873574601208944,
          61.679796110240375,
          36.932208037037576,
          62.83072423377455,
          62.456840641123904,
          107.89857854507413,
          54.41846094849358,
          38.91634532056195,
          131.45574122595,
          36.43704816321926,
          64.89204721885024,
          42.68545468721198,
          48.253241844964634,
          94.23723074711188,
          52.48055631609899,
          32.2187352862014,
          98.77231537817966,
          64.38070157935681,
          60.71717345582263,
          62.590157048473266,
          96.90765225119839,
          96.64631988334776,
          61.72122345582264,
          90.81741199895511,
          59.67662892493908,
          24.02707417787038,
          62.099157048473266,
          58.84688986317199,
          16.85595794061915,
          87.17677010140969,
          18.370825518679286,
          20.647787580616946,
          75.08726339258374,
          64.35404100715871,
          79.97219411608597,
          34.57163750586324,
          90.77253040297073,
          70.53723986830232,
          59.974373455822615,
          86.3292658650711,
          18.050089711652568,
          29.149563932896754,
          56.730299519771236,
          39.73608387304076,
          62.46402345582263,
          60.839257048473264,
          63.005917986706166,
          36.195652504761895,
          60.97212345582261,
          37.25246220827369,
          21.06601219873454,
          63.47201004608703,
          64.88565157935682,
          62.30681251758973,
          60.01041798670617,
          47.23265658353653,
          35.33752486020703,
          76.38952011132257,
          59.09958986317198,
          71.56675318133188,
          65.75913570706525,
          119.48441745612621,
          19.915096742629142,
          97.68431260230668,
          101.1055256655862,
          62.25726798670617,
          61.264917986706166,
          30.079897963866372,
          44.314944420219014,
          59.20283422150912,
          58.83582430662955,
          61.71717345582263,
          61.22077345582264,
          60.761317986706175,
          34.944441518718634,
          63.340157048473266,
          36.77525684776683,
          59.17527892493908,
          59.170778924939086,
          60.172128924939074,
          63.33747423377456,
          60.345089863171985,
          78.64978711174884,
          34.449294514571015,
          59.270447429022944,
          62.42529611024037,
          28.19544826158375,
          32.107082231557506,
          21.791705237251332,
          62.9635906411239,
          36.56093962381387,
          38.020118192901734,
          59.505900801404884,
          61.59375704847327,
          79.18037854241031,
          61.59103986317198,
          60.92707892493908,
          127.01258533364495,
          61.47167345582261,
          61.7050406411239,
          61.83340704847327,
          91.78294566869025,
          17.3568009677433,
          59.377084394055544,
          15.866536059143803,
          18.13700550613454,
          32.68333117235577,
          58.216706270521335,
          21.77313807034231,
          93.87123049256941,
          60.712223455822624,
          59.99286798670617,
          61.79016251758973,
          90.2206901224893,
          82.59514422564861,
          76.96346877573866,
          63.16525789348395,
          60.66854611024036,
          147.9702804150113,
          61.37258439405554,
          97.33554149001725,
          75.48991489167167,
          68.56288165782452,
          33.30477741617043,
          58.13021720875425,
          60.87215157935681,
          59.62258439405554,
          32.960420743067296,
          23.55627312503526,
          61.45367345582264,
          61.16404611024036,
          16.733401966816725,
          61.58700704847326,
          12.584764365888454,
          43.98839302527138,
          59.74511798670618,
          58.17122892493907,
          60.50276798670616,
          59.28699533228845,
          58.540595332288426,
          59.83293986317198,
          37.96811527395084,
          58.91672892493908,
          174.46645080213779,
          60.24151798670617,
          118.1579263081412,
          25.96086348068971,
          61.3762015793568,
          61.081157048473266,
          38.07117417730402,
          59.38068439405552,
          59.462673455822625,
          55.84861411349533,
          60.79241251758973,
          61.99783517200746,
          130.93044072526203,
          21.764976302013256,
          58.875267208754245,
          60.33295704847327,
          17.616640678933464,
          60.28611251758972,
          60.75141798670617,
          58.913111739637806,
          14.511166235047334,
          60.330257048473264,
          60.423028924939075,
          37.13169941613227,
          18.971028461255845,
          22.598092461165933,
          61.005017986706164,
          82.58883153167424,
          23.112413730155133,
          156.13411799476813,
          62.32442423377456,
          56.26398086568172,
          21.398988209061468,
          140.04500857821373,
          72.38667465917801,
          55.56090190941437,
          59.08743986317199,
          60.84013986317198,
          63.08655704847326,
          59.50186798670616,
          59.838339863171974,
          29.29148510494871,
          61.74511798670618,
          61.787912517589724,
          13.746446608879108,
          96.08213311242187,
          59.28971251758973,
          59.50276798670616,
          59.54734533228844,
          28.6280519482197,
          78.19235463266891,
          59.83473986317198,
          35.0289182153166,
          65.88817400498611,
          57.914028924939075,
          58.127534394055544,
          64.61086355708555,
          60.505017986706164,
          138.89867871112392,
          186.3802162262578,
          62.043762517589705,
          13.318134231863908,
          57.671661739637806,
          89.20982299406508,
          67.48790080140488,
          59.37663439405554,
          17.45193343534819,
          90.57721487489846,
          57.28204533228843,
          27.65220019778979,
          58.57483986317198,
          60.78116251758971,
          53.26833718571072,
          57.95140627052134,
          55.33706888265577,
          23.530442974979696,
          58.66627892493908,
          99.98062804129823,
          61.4455906411239,
          60.28701251758972,
          61.28341251758972,
          32.08270902879679,
          62.484785172007456,
          58.665811739637796,
          83.78433898817796,
          161.66938127125428,
          59.40682892493908,
          57.36898439405554,
          62.40819611024037,
          58.74781798670617,
          59.49286798670617,
          27.94269536158473,
          59.73926798670617,
          62.70766008985395,
          57.449606270521336,
          58.621234394055534,
          60.161778924939085,
          59.23656798670616,
          60.993767986706175,
          30.89928076171982,
          28.21348793851775,
          99.06880737544671,
          59.615834394055526,
          33.35942946034901,
          58.77981251758971,
          58.86673439405553,
          32.330608604377126,
          59.41402892493909,
          152.1498669662167,
          49.353110167610026,
          61.077557048473274,
          62.071707048473264,
          66.02711144307689,
          58.28789533228842,
          100.66437294645917,
          42.011742245548824,
          27.549398856013255,
          15.68151178324358,
          129.87158728172537,
          57.66356173963779,
          32.82128014867063,
          57.99195080140489,
          59.27711251758971,
          58.82393986317198,
          58.70052345582263,
          59.827539863171985,
          59.86988439405553,
          59.49286798670617,
          62.150546110240356,
          57.62168439405553,
          58.90772892493908,
          57.78609533228845,
          60.69917345582263,
          101.3659423011636,
          161.31648336643832,
          69.85532665562482,
          60.20457345582264,
          58.03251251758972,
          57.661761739637804,
          57.49195080140489,
          11.714173854419393,
          57.866284394055526,
          60.951423455822635,
          65.00894861728246,
          58.61448439405552,
          106.79279743128794,
          58.74960080140489,
          60.287462517589724,
          82.16519927718431,
          60.82620704847327,
          60.74061798670617,
          98.36925555417565,
          94.02627233609344,
          60.15772892493908,
          43.52834885797127,
          58.78521251758972,
          32.40184969087428,
          57.36896720875425,
          40.09764904116882,
          60.07843986317199,
          59.65817892493908,
          59.61718439405553,
          45.964714074959396,
          60.90414611024036,
          56.86628439405553,
          64.10640157935681,
          30.079693902799207,
          60.80865704847327,
          58.647378924939076,
          59.854584394055536,
          58.73520080140489,
          149.77534886103507,
          57.736550801404896,
          58.15052892493908,
          65.56306931574179,
          60.89109611024037,
          27.369514224754838,
          59.48296798670617,
          81.69415103981784,
          61.265879702891006,
          59.738367986706166,
          57.56538986317198,
          57.32213986317198,
          58.90007892493908,
          60.194673455822624,
          59.070789863171974,
          73.66377759764565,
          58.01899533228845,
          58.19332345582262,
          58.64872892493908,
          59.47891798670618,
          35.772848373340814,
          47.75128209374616,
          56.99195080140489,
          75.47585063976742,
          59.227117986706176,
          58.35818439405554,
          58.695123455822625,
          59.069439863171986,
          57.89962892493908,
          57.23475080140489,
          56.20266638944148,
          59.15277892493907,
          58.28069533228844,
          58.688823455822615,
          57.249907264605525,
          59.02171251758973,
          59.06403986317198,
          56.52934533228843,
          60.10728439405554,
          60.906165931178826,
          58.94017345582262,
          57.06583986317198,
          58.521695332288424,
          58.76856251758972,
          61.39919611024037,
          57.65232892493907,
          57.1581617396378,
          57.522595332288425,
          58.31943986317197,
          58.89602892493909,
          59.64827892493908,
          58.07393986317198,
          58.35503439405554,
          59.35773439405554,
          59.27351251758973,
          154.20054893392822,
          57.940623455822625,
          59.14782892493908,
          57.03474533228844,
          57.27664533228844,
          60.55955704847327,
          58.14602892493909,
          58.76766251758972,
          56.737900801404884,
          42.828273911953836,
          58.85593439405554,
          59.94422345582262,
          58.56898986317197,
          58.104134394055535,
          58.68792345582264,
          109.52869077606942,
          62.6775906411239,
          57.67847345582262,
          59.258212517589705,
          57.26314533228843,
          57.59693439405553,
          55.60141720875424,
          58.59558439405552,
          56.853217208754245,
          70.98190513200142,
          57.099184394055534,
          57.559089863171984,
          57.809539863171985,
          58.01539533228844,
          57.34243439405552,
          58.517195332288445,
          57.22890080140488,
          57.14107892493908,
          55.720350801404884,
          57.80233986317197,
          58.767195332288445,
          56.67757345582262,
          58.10098439405553,
          59.749486704267696,
          57.4009617396378,
          60.514062517589714,
          57.767645332288446,
          57.3987117396378,
          60.173090641123906,
          59.178473455822626,
          56.31493986317198,
          58.10548439405554,
          124.81854369296421,
          57.310439863171986,
          57.350534394055536,
          56.52259533228843,
          57.47620080140489,
          57.85188439405553,
          59.72171798670617,
          57.05638986317198,
          56.93520627052135,
          57.6428617396378,
          94.19310698748986,
          56.18430627052135,
          57.63207892493908,
          58.508662517589705,
          55.92890627052134,
          59.18162345582263,
          57.58883439405553,
          58.93207345582263,
          58.34648439405552,
          58.35098439405553,
          56.85771720875424,
          56.93745627052135,
          58.09333439405552,
          58.51944533228845,
          55.8937617396378,
          55.645561739637806,
          58.604134394055535,
          59.053689863171975,
          55.69420627052135,
          60.25551251758973,
          57.37487892493908,
          55.26087814698715,
          56.38207892493908,
          56.79693986317198,
          55.71540080140489,
          61.88767316073232,
          57.08973439405553,
          105.54408204082807,
          158.4629266649824,
          55.75549533228843,
          56.50909533228844,
          56.25819533228844,
          54.34556720875423,
          55.9622508014049,
          56.46810080140488,
          57.879828924939076,
          55.3744117396378,
          56.46630080140489,
          56.33613439405554,
          59.09378439405552,
          59.871746110240366,
          60.252812517589724,
          56.927556270521336,
          58.087034394055536,
          57.54423986317199,
          54.59151720875424,
          57.38207892493908,
          57.259995332288426,
          56.71990080140488,
          55.17935627052134,
          55.71855080140488,
          56.094234394055526,
          54.88611173963779,
          55.21945080140488,
          55.96585080140489,
          74.7852352712485,
          54.886561739637806,
          56.42215627052134,
          56.75774533228844,
          57.67487345582263,
          56.32488439405552,
          57.37127892493908,
          56.16763908522006,
          57.119478924939074,
          56.54063986317198,
          56.247845332288435,
          55.2127008014049,
          56.53748986317198,
          56.03208986317198,
          55.1221617396378,
          56.582534394055536,
          165.33412487428487,
          57.120828924939076,
          55.83881720875425,
          53.7153836161036,
          56.53343986317197,
          54.6253117396378,
          56.2109008014049,
          54.75099533228844,
          56.377111739637805,
          56.49154533228844,
          54.8820617396378,
          56.87217892493908,
          56.825334394055524,
          55.24649533228843,
          56.035239863171974,
          54.155956270521344,
          53.5280226778707,
          54.82441720875424,
          55.90460627052134,
          54.660006270521336,
          54.94650080140489,
          55.07756720875423,
          54.830267208754236,
          54.8730617396378,
          54.156406270521344,
          54.99514533228843,
          58.342496110240376,
          54.64515627052134,
          54.97894533228843,
          53.82216720875424,
          54.19020080140489,
          55.97849533228843,
          53.023072677870694,
          52.6046117396378,
          55.224462517589714,
          52.842911739637806,
          52.39063908522006,
          51.1050445543365,
          51.525305492569416,
          56.492957048473265,
          52.701045332288444,
          55.60737345582262,
          53.03886720875424,
          51.949678146987154,
          48.53255002345296
         ],
         "yaxis": "y"
        },
        {
         "alignmentgroup": "True",
         "bingroup": "x",
         "hovertemplate": "warp=%{x}<br>count=%{y}<extra></extra>",
         "legendgroup": "",
         "marker": {
          "color": "#0d0887"
         },
         "name": "",
         "offsetgroup": "",
         "opacity": 0.5,
         "showlegend": false,
         "type": "histogram",
         "x": [
          3.7,
          3.6,
          3.5,
          3.5,
          3.4,
          3.4,
          3.3,
          3.3,
          3.3,
          3.3,
          3.1,
          3.1,
          3.1,
          3,
          2.9,
          2.8,
          2.8,
          2.8,
          2.7,
          2.7,
          2.5,
          2.3,
          2.3,
          2.2,
          2.2,
          2.2,
          2.2,
          2.2,
          2.2,
          2.1,
          2,
          2,
          2,
          2,
          2,
          1.9,
          1.9,
          1.8,
          1.8,
          1.8,
          1.8,
          1.8,
          1.8,
          1.7,
          1.7,
          1.7,
          1.7,
          1.7,
          1.6,
          1.6,
          1.6,
          1.6,
          1.6,
          1.6,
          1.6,
          1.5,
          1.5,
          1.5,
          1.5,
          1.4,
          1.4,
          1.4,
          1.4,
          1.4,
          1.3,
          1.3,
          1.3,
          1.3,
          1.3,
          1.3,
          1.3,
          1.3,
          1.2,
          1.2,
          1.2,
          1.2,
          1.2,
          1.2,
          1.2,
          1.2,
          1.2,
          1.2,
          1.2,
          1.2,
          1.2,
          1.1,
          1.1,
          1.1,
          1.1,
          1.1,
          1.1,
          1.1,
          1.1,
          1.1,
          1,
          1,
          1,
          1,
          1,
          1,
          1,
          1,
          1,
          1,
          1,
          1,
          1,
          1,
          0.9,
          0.9,
          0.9,
          0.9,
          0.9,
          0.9,
          0.9,
          0.9,
          0.9,
          0.9,
          0.9,
          0.9,
          0.9,
          0.9,
          0.9,
          0.9,
          0.9,
          0.8,
          0.8,
          0.8,
          0.8,
          0.8,
          0.8,
          0.8,
          0.8,
          0.8,
          0.8,
          0.8,
          0.8,
          0.8,
          0.7,
          0.7,
          0.7,
          0.7,
          0.7,
          0.7,
          0.7,
          0.7,
          0.7,
          0.7,
          0.7,
          0.7,
          0.7,
          0.7,
          0.7,
          0.7,
          0.7,
          0.7,
          0.7,
          0.7,
          0.7,
          0.7,
          0.7,
          0.7,
          0.7,
          0.6,
          0.6,
          0.6,
          0.6,
          0.6,
          0.6,
          0.6,
          0.6,
          0.6,
          0.6,
          0.6,
          0.6,
          0.6,
          0.6,
          0.6,
          0.6,
          0.6,
          0.6,
          0.6,
          0.6,
          0.6,
          0.6,
          0.6,
          0.6,
          0.6,
          0.6,
          0.6,
          0.6,
          0.6,
          0.6,
          0.6,
          0.6,
          0.6,
          0.6,
          0.6,
          0.6,
          0.5,
          0.5,
          0.5,
          0.5,
          0.5,
          0.5,
          0.5,
          0.5,
          0.5,
          0.5,
          0.5,
          0.5,
          0.5,
          0.5,
          0.5,
          0.5,
          0.5,
          0.5,
          0.5,
          0.5,
          0.5,
          0.5,
          0.5,
          0.5,
          0.5,
          0.5,
          0.5,
          0.5,
          0.5,
          0.5,
          0.5,
          0.5,
          0.5,
          0.5,
          0.5,
          0.5,
          0.5,
          0.4,
          0.4,
          0.4,
          0.4,
          0.4,
          0.4,
          0.4,
          0.4,
          0.4,
          0.4,
          0.4,
          0.4,
          0.4,
          0.4,
          0.4,
          0.4,
          0.4,
          0.4,
          0.4,
          0.4,
          0.4,
          0.4,
          0.4,
          0.4,
          0.4,
          0.4,
          0.4,
          0.4,
          0.4,
          0.4,
          0.4,
          0.4,
          0.4,
          0.4,
          0.4,
          0.4,
          0.4,
          0.4,
          0.4,
          0.4,
          0.4,
          0.4,
          0.4,
          0.4,
          0.4,
          0.4,
          0.3,
          0.3,
          0.3,
          0.3,
          0.3,
          0.3,
          0.3,
          0.3,
          0.3,
          0.3,
          0.3,
          0.3,
          0.3,
          0.3,
          0.3,
          0.3,
          0.3,
          0.3,
          0.3,
          0.3,
          0.3,
          0.3,
          0.3,
          0.3,
          0.3,
          0.3,
          0.3,
          0.3,
          0.3,
          0.3,
          0.3,
          0.3,
          0.3,
          0.3,
          0.3,
          0.3,
          0.3,
          0.3,
          0.3,
          0.3,
          0.3,
          0.3,
          0.3,
          0.3,
          0.3,
          0.3,
          0.3,
          0.3,
          0.3,
          0.3,
          0.3,
          0.3,
          0.3,
          0.3,
          0.3,
          0.3,
          0.3,
          0.3,
          0.3,
          0.3,
          0.3,
          0.3,
          0.3,
          0.3,
          0.3,
          0.3,
          0.3,
          0.3,
          0.3,
          0.3,
          0.3,
          0.3,
          0.2,
          0.2,
          0.2,
          0.2,
          0.2,
          0.2,
          0.2,
          0.2,
          0.2,
          0.2,
          0.2,
          0.2,
          0.2,
          0.2,
          0.2,
          0.2,
          0.2,
          0.2,
          0.2,
          0.2,
          0.2,
          0.2,
          0.2,
          0.2,
          0.2,
          0.2,
          0.2,
          0.2,
          0.2,
          0.2,
          0.2,
          0.2,
          0.2,
          0.2,
          0.2,
          0.2,
          0.2,
          0.2,
          0.2,
          0.2,
          0.2,
          0.2,
          0.2,
          0.2,
          0.2,
          0.2,
          0.2,
          0.2,
          0.2,
          0.2,
          0.2,
          0.2,
          0.2,
          0.2,
          0.2,
          0.2,
          0.2,
          0.2,
          0.2,
          0.2,
          0.2,
          0.2,
          0.2,
          0.2,
          0.2,
          0.2,
          0.2,
          0.2,
          0.2,
          0.2,
          0.2,
          0.2,
          0.2,
          0.2,
          0.1,
          0.1,
          0.1,
          0.1,
          0.1,
          0.1,
          0.1,
          0.1,
          0.1,
          0.1,
          0.1,
          0.1,
          0.1,
          0.1,
          0.1,
          0.1,
          0.1,
          0.1,
          0.1,
          0.1,
          0.1,
          0.1,
          0.1,
          0.1,
          0.1,
          0.1,
          0.1,
          0.1,
          0.1,
          0.1,
          0.1,
          0.1,
          0.1,
          0.1,
          0.1,
          0.1,
          0.1,
          0.1,
          0.1,
          0.1,
          0.1,
          0.1,
          0.1,
          0.1,
          0.1,
          0.1,
          0.1,
          0.1,
          0.1,
          0.1,
          0.1,
          0.1,
          0.1,
          0.1,
          0.1,
          0.1,
          0.1,
          0.1,
          0.1,
          0.1,
          0.1,
          0.1,
          0.1,
          0.1,
          0.1,
          0.1,
          0.1,
          0.1,
          0.1,
          0.1,
          0.1,
          0.1,
          0.1,
          0.1,
          0.1,
          0.1,
          0.1,
          0.1,
          0.1,
          0.1,
          0.1,
          0.1,
          0.1,
          0.1,
          0.1,
          0.1,
          0.1,
          0.1,
          0.1,
          0.1,
          0.1,
          0.1,
          0.1,
          0.1,
          0.1,
          0.1,
          0.1,
          0.1,
          0.1,
          0.1,
          0.1,
          0.1,
          0.1,
          0.1,
          0.1,
          0.1,
          0.1,
          0.1,
          0.1,
          0.1,
          0.1,
          0.1,
          0.1,
          0.1,
          0.1,
          0.1,
          0.1,
          0,
          0,
          0,
          0,
          0,
          0,
          0,
          0,
          0,
          0,
          0,
          0,
          0,
          0,
          0,
          0,
          0,
          0,
          0,
          0,
          0,
          0,
          0,
          0,
          0,
          0,
          0,
          0,
          0,
          0,
          0,
          0,
          0,
          0,
          0,
          0,
          0,
          0,
          0,
          0,
          0,
          0,
          0,
          0,
          0,
          0,
          0,
          0,
          0,
          0,
          0,
          0,
          0,
          0,
          0,
          0,
          0,
          0,
          0,
          0,
          0,
          0,
          0,
          0,
          0,
          0,
          0,
          0,
          0,
          0,
          0,
          0,
          0,
          0,
          0,
          0,
          0,
          0,
          0,
          0,
          0,
          0,
          0,
          0,
          0,
          0,
          0,
          0,
          0,
          0,
          0,
          0,
          0,
          0,
          0,
          0,
          0,
          0,
          0,
          0,
          0,
          0,
          0,
          0,
          0,
          0,
          0,
          0,
          0,
          0,
          0,
          0,
          -0.1,
          -0.1,
          -0.1,
          -0.1,
          -0.1,
          -0.1,
          -0.1,
          -0.1,
          -0.1,
          -0.1,
          -0.1,
          -0.1,
          -0.1,
          -0.1,
          -0.1,
          -0.1,
          -0.1,
          -0.1,
          -0.1,
          -0.1,
          -0.1,
          -0.1,
          -0.1,
          -0.1,
          -0.1,
          -0.1,
          -0.1,
          -0.1,
          -0.1,
          -0.1,
          -0.1,
          -0.1,
          -0.1,
          -0.1,
          -0.1,
          -0.1,
          -0.1,
          -0.1,
          -0.1,
          -0.1,
          -0.1,
          -0.1,
          -0.1,
          -0.1,
          -0.1,
          -0.1,
          -0.1,
          -0.1,
          -0.1,
          -0.1,
          -0.1,
          -0.1,
          -0.1,
          -0.1,
          -0.1,
          -0.1,
          -0.1,
          -0.1,
          -0.1,
          -0.1,
          -0.1,
          -0.1,
          -0.1,
          -0.1,
          -0.1,
          -0.1,
          -0.1,
          -0.1,
          -0.1,
          -0.1,
          -0.1,
          -0.1,
          -0.1,
          -0.1,
          -0.1,
          -0.1,
          -0.1,
          -0.1,
          -0.1,
          -0.1,
          -0.1,
          -0.1,
          -0.1,
          -0.1,
          -0.1,
          -0.1,
          -0.1,
          -0.1,
          -0.1,
          -0.1,
          -0.1,
          -0.1,
          -0.1,
          -0.1,
          -0.1,
          -0.1,
          -0.1,
          -0.2,
          -0.2,
          -0.2,
          -0.2,
          -0.2,
          -0.2,
          -0.2,
          -0.2,
          -0.2,
          -0.2,
          -0.2,
          -0.2,
          -0.2,
          -0.2,
          -0.2,
          -0.2,
          -0.2,
          -0.2,
          -0.2,
          -0.2,
          -0.2,
          -0.2,
          -0.2,
          -0.2,
          -0.2,
          -0.2,
          -0.2,
          -0.2,
          -0.2,
          -0.2,
          -0.2,
          -0.2,
          -0.2,
          -0.2,
          -0.2,
          -0.2,
          -0.2,
          -0.2,
          -0.2,
          -0.2,
          -0.2,
          -0.2,
          -0.2,
          -0.2,
          -0.2,
          -0.2,
          -0.2,
          -0.2,
          -0.2,
          -0.2,
          -0.2,
          -0.2,
          -0.2,
          -0.2,
          -0.2,
          -0.2,
          -0.2,
          -0.2,
          -0.2,
          -0.2,
          -0.2,
          -0.2,
          -0.2,
          -0.2,
          -0.2,
          -0.2,
          -0.2,
          -0.2,
          -0.2,
          -0.2,
          -0.2,
          -0.2,
          -0.2,
          -0.2,
          -0.2,
          -0.2,
          -0.2,
          -0.3,
          -0.3,
          -0.3,
          -0.3,
          -0.3,
          -0.3,
          -0.3,
          -0.3,
          -0.3,
          -0.3,
          -0.3,
          -0.3,
          -0.3,
          -0.3,
          -0.3,
          -0.3,
          -0.3,
          -0.3,
          -0.3,
          -0.3,
          -0.3,
          -0.3,
          -0.3,
          -0.3,
          -0.3,
          -0.3,
          -0.3,
          -0.3,
          -0.3,
          -0.3,
          -0.3,
          -0.3,
          -0.3,
          -0.3,
          -0.3,
          -0.3,
          -0.3,
          -0.3,
          -0.3,
          -0.3,
          -0.3,
          -0.3,
          -0.3,
          -0.3,
          -0.3,
          -0.3,
          -0.3,
          -0.3,
          -0.3,
          -0.3,
          -0.3,
          -0.3,
          -0.3,
          -0.3,
          -0.3,
          -0.3,
          -0.3,
          -0.3,
          -0.3,
          -0.3,
          -0.4,
          -0.4,
          -0.4,
          -0.4,
          -0.4,
          -0.4,
          -0.4,
          -0.4,
          -0.4,
          -0.4,
          -0.4,
          -0.4,
          -0.4,
          -0.4,
          -0.4,
          -0.4,
          -0.4,
          -0.4,
          -0.4,
          -0.4,
          -0.4,
          -0.4,
          -0.4,
          -0.4,
          -0.4,
          -0.4,
          -0.4,
          -0.4,
          -0.4,
          -0.4,
          -0.4,
          -0.4,
          -0.4,
          -0.4,
          -0.4,
          -0.4,
          -0.4,
          -0.4,
          -0.4,
          -0.4,
          -0.4,
          -0.5,
          -0.5,
          -0.5,
          -0.5,
          -0.5,
          -0.5,
          -0.5,
          -0.5,
          -0.5,
          -0.5,
          -0.5,
          -0.5,
          -0.5,
          -0.5,
          -0.5,
          -0.5,
          -0.5,
          -0.5,
          -0.5,
          -0.5,
          -0.5,
          -0.5,
          -0.5,
          -0.5,
          -0.5,
          -0.5,
          -0.6,
          -0.6,
          -0.6,
          -0.6,
          -0.6,
          -0.6,
          -0.6,
          -0.6,
          -0.6,
          -0.6,
          -0.6,
          -0.7,
          -0.7,
          -0.7,
          -0.7,
          -0.7,
          -0.7,
          -0.7,
          -0.7,
          -0.7,
          -0.8,
          -0.8,
          -0.8,
          -0.8,
          -0.9,
          -0.9,
          -1,
          -1,
          -1.1,
          -1.1
         ],
         "xaxis": "x3",
         "yaxis": "y3"
        },
        {
         "alignmentgroup": "True",
         "bingroup": "y",
         "hovertemplate": "fpts=%{y}<br>count=%{x}<extra></extra>",
         "legendgroup": "",
         "marker": {
          "color": "#0d0887"
         },
         "name": "",
         "offsetgroup": "",
         "opacity": 0.5,
         "showlegend": false,
         "type": "histogram",
         "xaxis": "x2",
         "y": [
          304.17331993131836,
          275.95827135877533,
          280.2419931653077,
          303.13192281640414,
          287.02816145020745,
          245.81045780464288,
          222.1394243455054,
          265.6144853554673,
          265.49903292146047,
          247.73359140389124,
          256.56933115999084,
          244.13882155845081,
          251.53082662871282,
          264.4994654952445,
          243.6091875157934,
          233.98726369398443,
          229.6100375517447,
          268.7484706303426,
          252.69354598046553,
          242.81779826803003,
          267.24703199115766,
          245.53379458362735,
          252.4115117176642,
          215.68930693066355,
          249.86920615610154,
          255.70716455462326,
          249.6998159651169,
          213.72594189909645,
          248.90893149564073,
          242.60733287758745,
          243.28439253131634,
          222.860497878501,
          233.9401890563432,
          235.06332537646378,
          206.16819865936353,
          209.1475293968933,
          205.58133096126767,
          219.72148266014838,
          219.3805389657646,
          202.81017408020998,
          208.84322971003144,
          242.56526601286606,
          225.10326283366248,
          161.78307954456037,
          214.0359652759174,
          184.1968484971231,
          209.30933403999836,
          186.25326091317348,
          203.49963940346635,
          174.35421854489607,
          159.8281320082414,
          218.68893575966823,
          159.62093461679052,
          198.25194292484352,
          224.8965493964731,
          232.71473928558038,
          166.0674255216094,
          224.30524863313886,
          166.0418370646193,
          218.27186535789536,
          106.77754810327416,
          206.41634819238024,
          181.79417481053807,
          179.95083484291195,
          163.41252787545244,
          154.00889580398226,
          137.0669315995054,
          214.58204092505477,
          148.3204900415302,
          167.2761444322263,
          179.23863510967493,
          162.82273338488054,
          192.08990735231637,
          177.83384605504207,
          226.6450525053241,
          207.08321573683853,
          220.57447785360057,
          159.01917555859862,
          177.57432798177948,
          157.72618330630493,
          168.9006731941837,
          187.16717783308619,
          72.3908635707131,
          130.54306467811594,
          184.44801701689596,
          198.13850466623822,
          200.35613517200744,
          200.71449503550338,
          158.7825196281781,
          178.17027487208074,
          205.01449662887495,
          107.18053757532017,
          135.95797047427297,
          202.22982450403717,
          197.66342611763312,
          74.34326954261005,
          206.60697282787916,
          240.9843011071912,
          117.01830879625012,
          183.768108585956,
          216.3612114464035,
          198.12539635782636,
          157.52157537851787,
          157.73709173060422,
          104.1280639111545,
          143.88657168076648,
          196.44913960956097,
          160.30924439171315,
          194.65553516907585,
          134.86070995978676,
          134.54429724169145,
          70.08110235730874,
          127.03004745244866,
          116.98771565285038,
          178.36518925893148,
          160.65698412014234,
          191.90133478675753,
          118.94943030311964,
          212.83943011174975,
          206.53865197730295,
          210.379122189711,
          109.9584628217823,
          182.5856268215279,
          216.85440824476055,
          122.64988248067323,
          125.86829442035301,
          147.11276249181742,
          162.14648869984225,
          74.71898537273422,
          198.18037414362948,
          193.18699533228846,
          134.630789595205,
          168.2899152173951,
          157.3235215664466,
          112.76162736903525,
          109.52211055020048,
          233.28924416471665,
          137.72875383491456,
          157.7427639673832,
          175.32283529245882,
          134.84368223880597,
          89.24043176457583,
          155.53457711582698,
          56.35453341212177,
          167.75708535099335,
          183.42813346073976,
          102.90327423377457,
          113.57008660135936,
          123.2501602007579,
          64.7666906411239,
          154.11798453784937,
          89.57579338401204,
          197.61620919435381,
          143.6216277344994,
          171.36076933824452,
          166.95919558313287,
          181.00807204850713,
          159.74207666584172,
          95.691392762759,
          144.32060572651292,
          149.54921274221522,
          86.10493908510439,
          79.48099550516665,
          148.39616515292124,
          115.88871547997218,
          115.94448164363362,
          67.2639906411239,
          162.63312782012218,
          67.71939611024037,
          116.37374059977154,
          143.87739188083336,
          164.2210404634006,
          134.0442066101687,
          123.13592729499906,
          156.1059963695577,
          99.59797020989741,
          103.93358023383959,
          148.7795919038723,
          123.75712745913161,
          163.59895867158207,
          147.5191620687452,
          89.67100959870167,
          64.34416251758974,
          57.128922557865515,
          183.6974662525923,
          145.8491988112692,
          99.26652893330943,
          103.14743415163375,
          193.92117943050383,
          121.79392620716918,
          197.08179437494599,
          179.86104196246734,
          96.71898822667647,
          191.02023271204064,
          98.04173428036391,
          131.920525496937,
          138.0870767501114,
          211.9304265793568,
          196.91548904349986,
          112.43963439405553,
          146.00512374489264,
          156.94468761900686,
          130.17220542551067,
          178.2545767063995,
          93.95808434553449,
          149.31332512956334,
          143.54697171046897,
          116.65199149193083,
          149.71868665654594,
          104.97431632469197,
          80.06678785937375,
          166.00520308467745,
          218.36281095153032,
          102.01271522065487,
          92.51160576818806,
          172.85100166792063,
          170.91894195709222,
          151.0105380590389,
          195.70996329554163,
          124.3700138533112,
          110.52798127052135,
          67.335179702891,
          79.68796562112304,
          191.5141192125525,
          65.91625157935681,
          64.17480157935681,
          113.3390617046326,
          104.31585902593966,
          63.4982406411239,
          111.06605080140488,
          112.61308621150327,
          142.47424559160575,
          141.6772421256624,
          156.77917987814536,
          85.48968080101213,
          91.2901810903748,
          106.18841833374806,
          135.91571504089526,
          98.27540002272006,
          205.54425202934377,
          84.35648506394134,
          86.07607068085504,
          135.49739637097684,
          157.23888662910727,
          94.75914676175125,
          139.7565331121379,
          161.1841072372681,
          65.65905157935681,
          110.60411397635623,
          140.15436790588743,
          110.64518986317198,
          87.69305733473016,
          124.26160576818808,
          145.63700951997598,
          75.60289860809401,
          51.70293382832431,
          97.75830365376069,
          65.65725157935681,
          158.47604732041307,
          162.5664258014049,
          199.84252615395334,
          87.87027644845314,
          126.83001181255977,
          63.95542892493909,
          84.72638758438192,
          101.56432123426687,
          101.58443431353108,
          104.50342477974216,
          110.30473522808549,
          145.4289468940555,
          155.71913471236712,
          83.87902753395224,
          64.99464064112391,
          124.70680549980456,
          155.26080256185327,
          140.44064812169984,
          72.42251985659328,
          61.74642345582262,
          85.06161693693355,
          67.86042423377457,
          46.73413645655662,
          165.16326919676519,
          71.11293305037239,
          91.62227964440062,
          170.3007261894015,
          128.3168065393336,
          94.90474282693829,
          61.52616798670617,
          82.09188003846148,
          95.72078026862222,
          55.06161235720384,
          75.72350557305579,
          137.44449880247475,
          73.41546562112305,
          73.36946598910042,
          63.30816251758973,
          90.56806251758972,
          81.15241242512138,
          141.73648318007633,
          41.73673763663519,
          141.31812914792076,
          64.82076251758973,
          58.34072383982514,
          84.72275725527321,
          84.68025792787232,
          89.2351906411239,
          62.58114404435158,
          107.1850286841641,
          62.39825157935681,
          92.06422020989741,
          137.70632892493907,
          52.39833387257178,
          59.63100901629423,
          154.2694881987841,
          82.12554021038557,
          162.85037033228846,
          118.98136926936031,
          106.84673671159878,
          160.87358092869204,
          154.10036340787852,
          176.80515279153693,
          79.62908349425042,
          172.3286958713376,
          149.27513620180022,
          54.37211264872261,
          62.9820406411239,
          197.1374086845403,
          88.7536062803657,
          64.61222423377457,
          92.90363439405553,
          62.729773455822624,
          101.29079114380674,
          87.86280880702739,
          70.04263149399941,
          61.06536251758971,
          42.505818697599345,
          70.96921798670617,
          79.17840520114946,
          112.50360517292697,
          81.71807107590651,
          99.14392774130057,
          81.39433899595687,
          81.91279740507143,
          79.01922519684064,
          85.77332634847805,
          102.16604598889103,
          65.02753517200746,
          62.196428924939084,
          135.08234647832631,
          57.85282906578052,
          63.68609611024037,
          65.067179702891,
          63.57706251758973,
          108.7348257215128,
          62.76581798670617,
          60.39238439405554,
          65.7279906411239,
          133.66674170184612,
          73.68806853467227,
          99.2201078252687,
          56.35076284890127,
          96.07815653419223,
          62.06221251758971,
          63.88835157935682,
          60.60003986317198,
          68.42100550002154,
          129.4366287633016,
          62.896001579356806,
          78.09574909422355,
          25.177490938402023,
          76.99275059540183,
          62.01806798670617,
          83.60005704847327,
          61.431128924939074,
          83.08890498447238,
          63.935196110240355,
          118.30132589957047,
          110.36876437600782,
          60.80681251758973,
          60.95857328261987,
          62.81311251758971,
          66.42576329554166,
          62.51536798670617,
          111.13439836468517,
          63.60320704847327,
          65.59737423377456,
          63.09735704847328,
          62.31446251758971,
          93.26698320286712,
          63.85230704847327,
          81.85512931839456,
          71.57097068483691,
          117.19795280451831,
          63.63880157935682,
          60.01761798670617,
          72.58240924495016,
          62.264917986706166,
          49.640442696734326,
          62.27481798670617,
          46.57771932615366,
          63.09645704847326,
          33.34899276902113,
          61.35095704847327,
          63.893301579356816,
          63.430246110240375,
          62.80906251758973,
          61.935196110240355,
          134.58824522831932,
          133.25219309867978,
          122.794343073318,
          59.67419922791132,
          62.35545704847326,
          62.84195704847327,
          40.51227736186293,
          62.682946110240366,
          62.51403517200746,
          73.75043392971452,
          70.22965328097065,
          62.349157048473266,
          49.31480999714922,
          64.7288906411239,
          61.89105157935681,
          62.305912517589725,
          38.67186822377541,
          42.242477351445494,
          29.512814451453472,
          69.7853376470873,
          58.816173143838824,
          24.85248382502279,
          36.51903564961015,
          89.93558738360623,
          21.758744306622443,
          60.84195704847327,
          62.42799611024037,
          115.09458883922326,
          17.128793448946308,
          87.71835037889956,
          145.67289393596232,
          96.32804623102098,
          121.3915676619091,
          62.67167892493907,
          60.25681798670617,
          91.57455598445175,
          182.53753701544187,
          24.878485160280977,
          19.43983203674679,
          51.873574601208944,
          61.679796110240375,
          36.932208037037576,
          62.83072423377455,
          62.456840641123904,
          107.89857854507413,
          54.41846094849358,
          38.91634532056195,
          131.45574122595,
          36.43704816321926,
          64.89204721885024,
          42.68545468721198,
          48.253241844964634,
          94.23723074711188,
          52.48055631609899,
          32.2187352862014,
          98.77231537817966,
          64.38070157935681,
          60.71717345582263,
          62.590157048473266,
          96.90765225119839,
          96.64631988334776,
          61.72122345582264,
          90.81741199895511,
          59.67662892493908,
          24.02707417787038,
          62.099157048473266,
          58.84688986317199,
          16.85595794061915,
          87.17677010140969,
          18.370825518679286,
          20.647787580616946,
          75.08726339258374,
          64.35404100715871,
          79.97219411608597,
          34.57163750586324,
          90.77253040297073,
          70.53723986830232,
          59.974373455822615,
          86.3292658650711,
          18.050089711652568,
          29.149563932896754,
          56.730299519771236,
          39.73608387304076,
          62.46402345582263,
          60.839257048473264,
          63.005917986706166,
          36.195652504761895,
          60.97212345582261,
          37.25246220827369,
          21.06601219873454,
          63.47201004608703,
          64.88565157935682,
          62.30681251758973,
          60.01041798670617,
          47.23265658353653,
          35.33752486020703,
          76.38952011132257,
          59.09958986317198,
          71.56675318133188,
          65.75913570706525,
          119.48441745612621,
          19.915096742629142,
          97.68431260230668,
          101.1055256655862,
          62.25726798670617,
          61.264917986706166,
          30.079897963866372,
          44.314944420219014,
          59.20283422150912,
          58.83582430662955,
          61.71717345582263,
          61.22077345582264,
          60.761317986706175,
          34.944441518718634,
          63.340157048473266,
          36.77525684776683,
          59.17527892493908,
          59.170778924939086,
          60.172128924939074,
          63.33747423377456,
          60.345089863171985,
          78.64978711174884,
          34.449294514571015,
          59.270447429022944,
          62.42529611024037,
          28.19544826158375,
          32.107082231557506,
          21.791705237251332,
          62.9635906411239,
          36.56093962381387,
          38.020118192901734,
          59.505900801404884,
          61.59375704847327,
          79.18037854241031,
          61.59103986317198,
          60.92707892493908,
          127.01258533364495,
          61.47167345582261,
          61.7050406411239,
          61.83340704847327,
          91.78294566869025,
          17.3568009677433,
          59.377084394055544,
          15.866536059143803,
          18.13700550613454,
          32.68333117235577,
          58.216706270521335,
          21.77313807034231,
          93.87123049256941,
          60.712223455822624,
          59.99286798670617,
          61.79016251758973,
          90.2206901224893,
          82.59514422564861,
          76.96346877573866,
          63.16525789348395,
          60.66854611024036,
          147.9702804150113,
          61.37258439405554,
          97.33554149001725,
          75.48991489167167,
          68.56288165782452,
          33.30477741617043,
          58.13021720875425,
          60.87215157935681,
          59.62258439405554,
          32.960420743067296,
          23.55627312503526,
          61.45367345582264,
          61.16404611024036,
          16.733401966816725,
          61.58700704847326,
          12.584764365888454,
          43.98839302527138,
          59.74511798670618,
          58.17122892493907,
          60.50276798670616,
          59.28699533228845,
          58.540595332288426,
          59.83293986317198,
          37.96811527395084,
          58.91672892493908,
          174.46645080213779,
          60.24151798670617,
          118.1579263081412,
          25.96086348068971,
          61.3762015793568,
          61.081157048473266,
          38.07117417730402,
          59.38068439405552,
          59.462673455822625,
          55.84861411349533,
          60.79241251758973,
          61.99783517200746,
          130.93044072526203,
          21.764976302013256,
          58.875267208754245,
          60.33295704847327,
          17.616640678933464,
          60.28611251758972,
          60.75141798670617,
          58.913111739637806,
          14.511166235047334,
          60.330257048473264,
          60.423028924939075,
          37.13169941613227,
          18.971028461255845,
          22.598092461165933,
          61.005017986706164,
          82.58883153167424,
          23.112413730155133,
          156.13411799476813,
          62.32442423377456,
          56.26398086568172,
          21.398988209061468,
          140.04500857821373,
          72.38667465917801,
          55.56090190941437,
          59.08743986317199,
          60.84013986317198,
          63.08655704847326,
          59.50186798670616,
          59.838339863171974,
          29.29148510494871,
          61.74511798670618,
          61.787912517589724,
          13.746446608879108,
          96.08213311242187,
          59.28971251758973,
          59.50276798670616,
          59.54734533228844,
          28.6280519482197,
          78.19235463266891,
          59.83473986317198,
          35.0289182153166,
          65.88817400498611,
          57.914028924939075,
          58.127534394055544,
          64.61086355708555,
          60.505017986706164,
          138.89867871112392,
          186.3802162262578,
          62.043762517589705,
          13.318134231863908,
          57.671661739637806,
          89.20982299406508,
          67.48790080140488,
          59.37663439405554,
          17.45193343534819,
          90.57721487489846,
          57.28204533228843,
          27.65220019778979,
          58.57483986317198,
          60.78116251758971,
          53.26833718571072,
          57.95140627052134,
          55.33706888265577,
          23.530442974979696,
          58.66627892493908,
          99.98062804129823,
          61.4455906411239,
          60.28701251758972,
          61.28341251758972,
          32.08270902879679,
          62.484785172007456,
          58.665811739637796,
          83.78433898817796,
          161.66938127125428,
          59.40682892493908,
          57.36898439405554,
          62.40819611024037,
          58.74781798670617,
          59.49286798670617,
          27.94269536158473,
          59.73926798670617,
          62.70766008985395,
          57.449606270521336,
          58.621234394055534,
          60.161778924939085,
          59.23656798670616,
          60.993767986706175,
          30.89928076171982,
          28.21348793851775,
          99.06880737544671,
          59.615834394055526,
          33.35942946034901,
          58.77981251758971,
          58.86673439405553,
          32.330608604377126,
          59.41402892493909,
          152.1498669662167,
          49.353110167610026,
          61.077557048473274,
          62.071707048473264,
          66.02711144307689,
          58.28789533228842,
          100.66437294645917,
          42.011742245548824,
          27.549398856013255,
          15.68151178324358,
          129.87158728172537,
          57.66356173963779,
          32.82128014867063,
          57.99195080140489,
          59.27711251758971,
          58.82393986317198,
          58.70052345582263,
          59.827539863171985,
          59.86988439405553,
          59.49286798670617,
          62.150546110240356,
          57.62168439405553,
          58.90772892493908,
          57.78609533228845,
          60.69917345582263,
          101.3659423011636,
          161.31648336643832,
          69.85532665562482,
          60.20457345582264,
          58.03251251758972,
          57.661761739637804,
          57.49195080140489,
          11.714173854419393,
          57.866284394055526,
          60.951423455822635,
          65.00894861728246,
          58.61448439405552,
          106.79279743128794,
          58.74960080140489,
          60.287462517589724,
          82.16519927718431,
          60.82620704847327,
          60.74061798670617,
          98.36925555417565,
          94.02627233609344,
          60.15772892493908,
          43.52834885797127,
          58.78521251758972,
          32.40184969087428,
          57.36896720875425,
          40.09764904116882,
          60.07843986317199,
          59.65817892493908,
          59.61718439405553,
          45.964714074959396,
          60.90414611024036,
          56.86628439405553,
          64.10640157935681,
          30.079693902799207,
          60.80865704847327,
          58.647378924939076,
          59.854584394055536,
          58.73520080140489,
          149.77534886103507,
          57.736550801404896,
          58.15052892493908,
          65.56306931574179,
          60.89109611024037,
          27.369514224754838,
          59.48296798670617,
          81.69415103981784,
          61.265879702891006,
          59.738367986706166,
          57.56538986317198,
          57.32213986317198,
          58.90007892493908,
          60.194673455822624,
          59.070789863171974,
          73.66377759764565,
          58.01899533228845,
          58.19332345582262,
          58.64872892493908,
          59.47891798670618,
          35.772848373340814,
          47.75128209374616,
          56.99195080140489,
          75.47585063976742,
          59.227117986706176,
          58.35818439405554,
          58.695123455822625,
          59.069439863171986,
          57.89962892493908,
          57.23475080140489,
          56.20266638944148,
          59.15277892493907,
          58.28069533228844,
          58.688823455822615,
          57.249907264605525,
          59.02171251758973,
          59.06403986317198,
          56.52934533228843,
          60.10728439405554,
          60.906165931178826,
          58.94017345582262,
          57.06583986317198,
          58.521695332288424,
          58.76856251758972,
          61.39919611024037,
          57.65232892493907,
          57.1581617396378,
          57.522595332288425,
          58.31943986317197,
          58.89602892493909,
          59.64827892493908,
          58.07393986317198,
          58.35503439405554,
          59.35773439405554,
          59.27351251758973,
          154.20054893392822,
          57.940623455822625,
          59.14782892493908,
          57.03474533228844,
          57.27664533228844,
          60.55955704847327,
          58.14602892493909,
          58.76766251758972,
          56.737900801404884,
          42.828273911953836,
          58.85593439405554,
          59.94422345582262,
          58.56898986317197,
          58.104134394055535,
          58.68792345582264,
          109.52869077606942,
          62.6775906411239,
          57.67847345582262,
          59.258212517589705,
          57.26314533228843,
          57.59693439405553,
          55.60141720875424,
          58.59558439405552,
          56.853217208754245,
          70.98190513200142,
          57.099184394055534,
          57.559089863171984,
          57.809539863171985,
          58.01539533228844,
          57.34243439405552,
          58.517195332288445,
          57.22890080140488,
          57.14107892493908,
          55.720350801404884,
          57.80233986317197,
          58.767195332288445,
          56.67757345582262,
          58.10098439405553,
          59.749486704267696,
          57.4009617396378,
          60.514062517589714,
          57.767645332288446,
          57.3987117396378,
          60.173090641123906,
          59.178473455822626,
          56.31493986317198,
          58.10548439405554,
          124.81854369296421,
          57.310439863171986,
          57.350534394055536,
          56.52259533228843,
          57.47620080140489,
          57.85188439405553,
          59.72171798670617,
          57.05638986317198,
          56.93520627052135,
          57.6428617396378,
          94.19310698748986,
          56.18430627052135,
          57.63207892493908,
          58.508662517589705,
          55.92890627052134,
          59.18162345582263,
          57.58883439405553,
          58.93207345582263,
          58.34648439405552,
          58.35098439405553,
          56.85771720875424,
          56.93745627052135,
          58.09333439405552,
          58.51944533228845,
          55.8937617396378,
          55.645561739637806,
          58.604134394055535,
          59.053689863171975,
          55.69420627052135,
          60.25551251758973,
          57.37487892493908,
          55.26087814698715,
          56.38207892493908,
          56.79693986317198,
          55.71540080140489,
          61.88767316073232,
          57.08973439405553,
          105.54408204082807,
          158.4629266649824,
          55.75549533228843,
          56.50909533228844,
          56.25819533228844,
          54.34556720875423,
          55.9622508014049,
          56.46810080140488,
          57.879828924939076,
          55.3744117396378,
          56.46630080140489,
          56.33613439405554,
          59.09378439405552,
          59.871746110240366,
          60.252812517589724,
          56.927556270521336,
          58.087034394055536,
          57.54423986317199,
          54.59151720875424,
          57.38207892493908,
          57.259995332288426,
          56.71990080140488,
          55.17935627052134,
          55.71855080140488,
          56.094234394055526,
          54.88611173963779,
          55.21945080140488,
          55.96585080140489,
          74.7852352712485,
          54.886561739637806,
          56.42215627052134,
          56.75774533228844,
          57.67487345582263,
          56.32488439405552,
          57.37127892493908,
          56.16763908522006,
          57.119478924939074,
          56.54063986317198,
          56.247845332288435,
          55.2127008014049,
          56.53748986317198,
          56.03208986317198,
          55.1221617396378,
          56.582534394055536,
          165.33412487428487,
          57.120828924939076,
          55.83881720875425,
          53.7153836161036,
          56.53343986317197,
          54.6253117396378,
          56.2109008014049,
          54.75099533228844,
          56.377111739637805,
          56.49154533228844,
          54.8820617396378,
          56.87217892493908,
          56.825334394055524,
          55.24649533228843,
          56.035239863171974,
          54.155956270521344,
          53.5280226778707,
          54.82441720875424,
          55.90460627052134,
          54.660006270521336,
          54.94650080140489,
          55.07756720875423,
          54.830267208754236,
          54.8730617396378,
          54.156406270521344,
          54.99514533228843,
          58.342496110240376,
          54.64515627052134,
          54.97894533228843,
          53.82216720875424,
          54.19020080140489,
          55.97849533228843,
          53.023072677870694,
          52.6046117396378,
          55.224462517589714,
          52.842911739637806,
          52.39063908522006,
          51.1050445543365,
          51.525305492569416,
          56.492957048473265,
          52.701045332288444,
          55.60737345582262,
          53.03886720875424,
          51.949678146987154,
          48.53255002345296
         ],
         "yaxis": "y2"
        }
       ],
       "layout": {
        "barmode": "overlay",
        "coloraxis": {
         "colorbar": {
          "title": {
           "text": "ip"
          }
         },
         "colorscale": [
          [
           0,
           "#0d0887"
          ],
          [
           0.1111111111111111,
           "#46039f"
          ],
          [
           0.2222222222222222,
           "#7201a8"
          ],
          [
           0.3333333333333333,
           "#9c179e"
          ],
          [
           0.4444444444444444,
           "#bd3786"
          ],
          [
           0.5555555555555556,
           "#d8576b"
          ],
          [
           0.6666666666666666,
           "#ed7953"
          ],
          [
           0.7777777777777778,
           "#fb9f3a"
          ],
          [
           0.8888888888888888,
           "#fdca26"
          ],
          [
           1,
           "#f0f921"
          ]
         ]
        },
        "legend": {
         "tracegroupgap": 0
        },
        "margin": {
         "t": 60
        },
        "template": {
         "data": {
          "bar": [
           {
            "error_x": {
             "color": "#f2f5fa"
            },
            "error_y": {
             "color": "#f2f5fa"
            },
            "marker": {
             "line": {
              "color": "rgb(17,17,17)",
              "width": 0.5
             },
             "pattern": {
              "fillmode": "overlay",
              "size": 10,
              "solidity": 0.2
             }
            },
            "type": "bar"
           }
          ],
          "barpolar": [
           {
            "marker": {
             "line": {
              "color": "rgb(17,17,17)",
              "width": 0.5
             },
             "pattern": {
              "fillmode": "overlay",
              "size": 10,
              "solidity": 0.2
             }
            },
            "type": "barpolar"
           }
          ],
          "carpet": [
           {
            "aaxis": {
             "endlinecolor": "#A2B1C6",
             "gridcolor": "#506784",
             "linecolor": "#506784",
             "minorgridcolor": "#506784",
             "startlinecolor": "#A2B1C6"
            },
            "baxis": {
             "endlinecolor": "#A2B1C6",
             "gridcolor": "#506784",
             "linecolor": "#506784",
             "minorgridcolor": "#506784",
             "startlinecolor": "#A2B1C6"
            },
            "type": "carpet"
           }
          ],
          "choropleth": [
           {
            "colorbar": {
             "outlinewidth": 0,
             "ticks": ""
            },
            "type": "choropleth"
           }
          ],
          "contour": [
           {
            "colorbar": {
             "outlinewidth": 0,
             "ticks": ""
            },
            "colorscale": [
             [
              0,
              "#0d0887"
             ],
             [
              0.1111111111111111,
              "#46039f"
             ],
             [
              0.2222222222222222,
              "#7201a8"
             ],
             [
              0.3333333333333333,
              "#9c179e"
             ],
             [
              0.4444444444444444,
              "#bd3786"
             ],
             [
              0.5555555555555556,
              "#d8576b"
             ],
             [
              0.6666666666666666,
              "#ed7953"
             ],
             [
              0.7777777777777778,
              "#fb9f3a"
             ],
             [
              0.8888888888888888,
              "#fdca26"
             ],
             [
              1,
              "#f0f921"
             ]
            ],
            "type": "contour"
           }
          ],
          "contourcarpet": [
           {
            "colorbar": {
             "outlinewidth": 0,
             "ticks": ""
            },
            "type": "contourcarpet"
           }
          ],
          "heatmap": [
           {
            "colorbar": {
             "outlinewidth": 0,
             "ticks": ""
            },
            "colorscale": [
             [
              0,
              "#0d0887"
             ],
             [
              0.1111111111111111,
              "#46039f"
             ],
             [
              0.2222222222222222,
              "#7201a8"
             ],
             [
              0.3333333333333333,
              "#9c179e"
             ],
             [
              0.4444444444444444,
              "#bd3786"
             ],
             [
              0.5555555555555556,
              "#d8576b"
             ],
             [
              0.6666666666666666,
              "#ed7953"
             ],
             [
              0.7777777777777778,
              "#fb9f3a"
             ],
             [
              0.8888888888888888,
              "#fdca26"
             ],
             [
              1,
              "#f0f921"
             ]
            ],
            "type": "heatmap"
           }
          ],
          "heatmapgl": [
           {
            "colorbar": {
             "outlinewidth": 0,
             "ticks": ""
            },
            "colorscale": [
             [
              0,
              "#0d0887"
             ],
             [
              0.1111111111111111,
              "#46039f"
             ],
             [
              0.2222222222222222,
              "#7201a8"
             ],
             [
              0.3333333333333333,
              "#9c179e"
             ],
             [
              0.4444444444444444,
              "#bd3786"
             ],
             [
              0.5555555555555556,
              "#d8576b"
             ],
             [
              0.6666666666666666,
              "#ed7953"
             ],
             [
              0.7777777777777778,
              "#fb9f3a"
             ],
             [
              0.8888888888888888,
              "#fdca26"
             ],
             [
              1,
              "#f0f921"
             ]
            ],
            "type": "heatmapgl"
           }
          ],
          "histogram": [
           {
            "marker": {
             "pattern": {
              "fillmode": "overlay",
              "size": 10,
              "solidity": 0.2
             }
            },
            "type": "histogram"
           }
          ],
          "histogram2d": [
           {
            "colorbar": {
             "outlinewidth": 0,
             "ticks": ""
            },
            "colorscale": [
             [
              0,
              "#0d0887"
             ],
             [
              0.1111111111111111,
              "#46039f"
             ],
             [
              0.2222222222222222,
              "#7201a8"
             ],
             [
              0.3333333333333333,
              "#9c179e"
             ],
             [
              0.4444444444444444,
              "#bd3786"
             ],
             [
              0.5555555555555556,
              "#d8576b"
             ],
             [
              0.6666666666666666,
              "#ed7953"
             ],
             [
              0.7777777777777778,
              "#fb9f3a"
             ],
             [
              0.8888888888888888,
              "#fdca26"
             ],
             [
              1,
              "#f0f921"
             ]
            ],
            "type": "histogram2d"
           }
          ],
          "histogram2dcontour": [
           {
            "colorbar": {
             "outlinewidth": 0,
             "ticks": ""
            },
            "colorscale": [
             [
              0,
              "#0d0887"
             ],
             [
              0.1111111111111111,
              "#46039f"
             ],
             [
              0.2222222222222222,
              "#7201a8"
             ],
             [
              0.3333333333333333,
              "#9c179e"
             ],
             [
              0.4444444444444444,
              "#bd3786"
             ],
             [
              0.5555555555555556,
              "#d8576b"
             ],
             [
              0.6666666666666666,
              "#ed7953"
             ],
             [
              0.7777777777777778,
              "#fb9f3a"
             ],
             [
              0.8888888888888888,
              "#fdca26"
             ],
             [
              1,
              "#f0f921"
             ]
            ],
            "type": "histogram2dcontour"
           }
          ],
          "mesh3d": [
           {
            "colorbar": {
             "outlinewidth": 0,
             "ticks": ""
            },
            "type": "mesh3d"
           }
          ],
          "parcoords": [
           {
            "line": {
             "colorbar": {
              "outlinewidth": 0,
              "ticks": ""
             }
            },
            "type": "parcoords"
           }
          ],
          "pie": [
           {
            "automargin": true,
            "type": "pie"
           }
          ],
          "scatter": [
           {
            "marker": {
             "line": {
              "color": "#283442"
             }
            },
            "type": "scatter"
           }
          ],
          "scatter3d": [
           {
            "line": {
             "colorbar": {
              "outlinewidth": 0,
              "ticks": ""
             }
            },
            "marker": {
             "colorbar": {
              "outlinewidth": 0,
              "ticks": ""
             }
            },
            "type": "scatter3d"
           }
          ],
          "scattercarpet": [
           {
            "marker": {
             "colorbar": {
              "outlinewidth": 0,
              "ticks": ""
             }
            },
            "type": "scattercarpet"
           }
          ],
          "scattergeo": [
           {
            "marker": {
             "colorbar": {
              "outlinewidth": 0,
              "ticks": ""
             }
            },
            "type": "scattergeo"
           }
          ],
          "scattergl": [
           {
            "marker": {
             "line": {
              "color": "#283442"
             }
            },
            "type": "scattergl"
           }
          ],
          "scattermapbox": [
           {
            "marker": {
             "colorbar": {
              "outlinewidth": 0,
              "ticks": ""
             }
            },
            "type": "scattermapbox"
           }
          ],
          "scatterpolar": [
           {
            "marker": {
             "colorbar": {
              "outlinewidth": 0,
              "ticks": ""
             }
            },
            "type": "scatterpolar"
           }
          ],
          "scatterpolargl": [
           {
            "marker": {
             "colorbar": {
              "outlinewidth": 0,
              "ticks": ""
             }
            },
            "type": "scatterpolargl"
           }
          ],
          "scatterternary": [
           {
            "marker": {
             "colorbar": {
              "outlinewidth": 0,
              "ticks": ""
             }
            },
            "type": "scatterternary"
           }
          ],
          "surface": [
           {
            "colorbar": {
             "outlinewidth": 0,
             "ticks": ""
            },
            "colorscale": [
             [
              0,
              "#0d0887"
             ],
             [
              0.1111111111111111,
              "#46039f"
             ],
             [
              0.2222222222222222,
              "#7201a8"
             ],
             [
              0.3333333333333333,
              "#9c179e"
             ],
             [
              0.4444444444444444,
              "#bd3786"
             ],
             [
              0.5555555555555556,
              "#d8576b"
             ],
             [
              0.6666666666666666,
              "#ed7953"
             ],
             [
              0.7777777777777778,
              "#fb9f3a"
             ],
             [
              0.8888888888888888,
              "#fdca26"
             ],
             [
              1,
              "#f0f921"
             ]
            ],
            "type": "surface"
           }
          ],
          "table": [
           {
            "cells": {
             "fill": {
              "color": "#506784"
             },
             "line": {
              "color": "rgb(17,17,17)"
             }
            },
            "header": {
             "fill": {
              "color": "#2a3f5f"
             },
             "line": {
              "color": "rgb(17,17,17)"
             }
            },
            "type": "table"
           }
          ]
         },
         "layout": {
          "annotationdefaults": {
           "arrowcolor": "#f2f5fa",
           "arrowhead": 0,
           "arrowwidth": 1
          },
          "autotypenumbers": "strict",
          "coloraxis": {
           "colorbar": {
            "outlinewidth": 0,
            "ticks": ""
           }
          },
          "colorscale": {
           "diverging": [
            [
             0,
             "#8e0152"
            ],
            [
             0.1,
             "#c51b7d"
            ],
            [
             0.2,
             "#de77ae"
            ],
            [
             0.3,
             "#f1b6da"
            ],
            [
             0.4,
             "#fde0ef"
            ],
            [
             0.5,
             "#f7f7f7"
            ],
            [
             0.6,
             "#e6f5d0"
            ],
            [
             0.7,
             "#b8e186"
            ],
            [
             0.8,
             "#7fbc41"
            ],
            [
             0.9,
             "#4d9221"
            ],
            [
             1,
             "#276419"
            ]
           ],
           "sequential": [
            [
             0,
             "#0d0887"
            ],
            [
             0.1111111111111111,
             "#46039f"
            ],
            [
             0.2222222222222222,
             "#7201a8"
            ],
            [
             0.3333333333333333,
             "#9c179e"
            ],
            [
             0.4444444444444444,
             "#bd3786"
            ],
            [
             0.5555555555555556,
             "#d8576b"
            ],
            [
             0.6666666666666666,
             "#ed7953"
            ],
            [
             0.7777777777777778,
             "#fb9f3a"
            ],
            [
             0.8888888888888888,
             "#fdca26"
            ],
            [
             1,
             "#f0f921"
            ]
           ],
           "sequentialminus": [
            [
             0,
             "#0d0887"
            ],
            [
             0.1111111111111111,
             "#46039f"
            ],
            [
             0.2222222222222222,
             "#7201a8"
            ],
            [
             0.3333333333333333,
             "#9c179e"
            ],
            [
             0.4444444444444444,
             "#bd3786"
            ],
            [
             0.5555555555555556,
             "#d8576b"
            ],
            [
             0.6666666666666666,
             "#ed7953"
            ],
            [
             0.7777777777777778,
             "#fb9f3a"
            ],
            [
             0.8888888888888888,
             "#fdca26"
            ],
            [
             1,
             "#f0f921"
            ]
           ]
          },
          "colorway": [
           "#636efa",
           "#EF553B",
           "#00cc96",
           "#ab63fa",
           "#FFA15A",
           "#19d3f3",
           "#FF6692",
           "#B6E880",
           "#FF97FF",
           "#FECB52"
          ],
          "font": {
           "color": "#f2f5fa"
          },
          "geo": {
           "bgcolor": "rgb(17,17,17)",
           "lakecolor": "rgb(17,17,17)",
           "landcolor": "rgb(17,17,17)",
           "showlakes": true,
           "showland": true,
           "subunitcolor": "#506784"
          },
          "hoverlabel": {
           "align": "left"
          },
          "hovermode": "closest",
          "mapbox": {
           "style": "dark"
          },
          "paper_bgcolor": "rgb(17,17,17)",
          "plot_bgcolor": "rgb(17,17,17)",
          "polar": {
           "angularaxis": {
            "gridcolor": "#506784",
            "linecolor": "#506784",
            "ticks": ""
           },
           "bgcolor": "rgb(17,17,17)",
           "radialaxis": {
            "gridcolor": "#506784",
            "linecolor": "#506784",
            "ticks": ""
           }
          },
          "scene": {
           "xaxis": {
            "backgroundcolor": "rgb(17,17,17)",
            "gridcolor": "#506784",
            "gridwidth": 2,
            "linecolor": "#506784",
            "showbackground": true,
            "ticks": "",
            "zerolinecolor": "#C8D4E3"
           },
           "yaxis": {
            "backgroundcolor": "rgb(17,17,17)",
            "gridcolor": "#506784",
            "gridwidth": 2,
            "linecolor": "#506784",
            "showbackground": true,
            "ticks": "",
            "zerolinecolor": "#C8D4E3"
           },
           "zaxis": {
            "backgroundcolor": "rgb(17,17,17)",
            "gridcolor": "#506784",
            "gridwidth": 2,
            "linecolor": "#506784",
            "showbackground": true,
            "ticks": "",
            "zerolinecolor": "#C8D4E3"
           }
          },
          "shapedefaults": {
           "line": {
            "color": "#f2f5fa"
           }
          },
          "sliderdefaults": {
           "bgcolor": "#C8D4E3",
           "bordercolor": "rgb(17,17,17)",
           "borderwidth": 1,
           "tickwidth": 0
          },
          "ternary": {
           "aaxis": {
            "gridcolor": "#506784",
            "linecolor": "#506784",
            "ticks": ""
           },
           "baxis": {
            "gridcolor": "#506784",
            "linecolor": "#506784",
            "ticks": ""
           },
           "bgcolor": "rgb(17,17,17)",
           "caxis": {
            "gridcolor": "#506784",
            "linecolor": "#506784",
            "ticks": ""
           }
          },
          "title": {
           "x": 0.05
          },
          "updatemenudefaults": {
           "bgcolor": "#506784",
           "borderwidth": 0
          },
          "xaxis": {
           "automargin": true,
           "gridcolor": "#283442",
           "linecolor": "#506784",
           "ticks": "",
           "title": {
            "standoff": 15
           },
           "zerolinecolor": "#283442",
           "zerolinewidth": 2
          },
          "yaxis": {
           "automargin": true,
           "gridcolor": "#283442",
           "linecolor": "#506784",
           "ticks": "",
           "title": {
            "standoff": 15
           },
           "zerolinecolor": "#283442",
           "zerolinewidth": 2
          }
         }
        },
        "xaxis": {
         "anchor": "y",
         "domain": [
          0,
          0.7363
         ],
         "title": {
          "text": "warp"
         }
        },
        "xaxis2": {
         "anchor": "y2",
         "domain": [
          0.7413,
          1
         ],
         "matches": "x2",
         "showgrid": true,
         "showline": false,
         "showticklabels": false,
         "ticks": ""
        },
        "xaxis3": {
         "anchor": "y3",
         "domain": [
          0,
          0.7363
         ],
         "matches": "x",
         "showgrid": true,
         "showticklabels": false
        },
        "xaxis4": {
         "anchor": "y4",
         "domain": [
          0.7413,
          1
         ],
         "matches": "x2",
         "showgrid": true,
         "showline": false,
         "showticklabels": false,
         "ticks": ""
        },
        "yaxis": {
         "anchor": "x",
         "domain": [
          0,
          0.7326
         ],
         "title": {
          "text": "fpts"
         }
        },
        "yaxis2": {
         "anchor": "x2",
         "domain": [
          0,
          0.7326
         ],
         "matches": "y",
         "showgrid": true,
         "showticklabels": false
        },
        "yaxis3": {
         "anchor": "x3",
         "domain": [
          0.7426,
          1
         ],
         "matches": "y3",
         "showgrid": true,
         "showline": false,
         "showticklabels": false,
         "ticks": ""
        },
        "yaxis4": {
         "anchor": "x4",
         "domain": [
          0.7426,
          1
         ],
         "matches": "y3",
         "showgrid": true,
         "showline": false,
         "showticklabels": false,
         "ticks": ""
        }
       }
      }
     },
     "metadata": {},
     "output_type": "display_data"
    }
   ],
   "source": [
    "fig = px.scatter(\n",
    "    df_pecota_pitching[[\"name\", \"age\", \"ip\", \"warp\", \"fantraxid\", \"fpts\"]],\n",
    "    x=\"warp\",\n",
    "    y=\"fpts\",\n",
    "    color=\"ip\",\n",
    "    hover_data=[\"name\", \"fantraxid\"],\n",
    "    marginal_x=\"histogram\",\n",
    "    marginal_y=\"histogram\",\n",
    ")\n",
    "fig.show()"
   ]
  },
  {
   "cell_type": "code",
   "execution_count": 8,
   "metadata": {},
   "outputs": [
    {
     "data": {
      "application/vnd.plotly.v1+json": {
       "config": {
        "plotlyServerURL": "https://plot.ly"
       },
       "data": [
        {
         "customdata": [
          [
           "Ronald Acuña Jr.",
           "*03wha*"
          ],
          [
           "Juan Soto",
           "*03ynj*"
          ],
          [
           "Shohei Ohtani",
           "*02yc4*"
          ],
          [
           "Mookie Betts",
           "*02btf*"
          ],
          [
           "Adley Rutschman",
           "*04q2n*"
          ],
          [
           "Corbin Carroll",
           "*04y4e*"
          ],
          [
           "Yordan Alvarez",
           "*04355*"
          ],
          [
           "Aaron Judge",
           "*02z0s*"
          ],
          [
           "Matt Olson",
           "*02mwm*"
          ],
          [
           "Fernando Tatis Jr.",
           "*03zbh*"
          ],
          [
           "José Ramírez",
           "*01ub6*"
          ],
          [
           "Austin Riley",
           "*03pom*"
          ],
          [
           "Corey Seager",
           "*02mw6*"
          ],
          [
           "Freddie Freeman",
           "*01cgo*"
          ],
          [
           "Luis Arraez",
           "*03mew*"
          ],
          [
           "Alex Bregman",
           "*02w7p*"
          ],
          [
           "Steven Kwan",
           "*04pr1*"
          ],
          [
           "Vladimir Guerrero Jr.",
           "*03ojr*"
          ],
          [
           "Kyle Tucker",
           "*03pir*"
          ],
          [
           "Pete Alonso",
           "*041pz*"
          ],
          [
           "Manny Machado",
           "*01svq*"
          ],
          [
           "Mike Trout",
           "*01s8u*"
          ],
          [
           "Rafael Devers",
           "*030uc*"
          ],
          [
           "Marcus Semien",
           "*02bu9*"
          ],
          [
           "Brandon Nimmo",
           "*02bq2*"
          ],
          [
           "Bo Bichette",
           "*041qb*"
          ],
          [
           "Jose Altuve",
           "*024m0*"
          ],
          [
           "Bryan Reynolds",
           "*03e5m*"
          ],
          [
           "Dansby Swanson",
           "*03ae8*"
          ],
          [
           "Trea Turner",
           "*02c68*"
          ],
          [
           "Julio Rodríguez",
           "*04fhb*"
          ],
          [
           "Paul Goldschmidt",
           "*01ual*"
          ],
          [
           "J.P. Crawford",
           "*0310z*"
          ],
          [
           "Jazz Chisholm Jr.",
           "*045qo*"
          ],
          [
           "Francisco Alvarez",
           "*04qnc*"
          ],
          [
           "Cal Raleigh",
           "*04my4*"
          ],
          [
           "Xander Bogaerts",
           "*025gb*"
          ],
          [
           "Ketel Marte",
           "*0326s*"
          ],
          [
           "Willy Adames",
           "*03atq*"
          ],
          [
           "Nolan Arenado",
           "*01sy3*"
          ],
          [
           "Gunnar Henderson",
           "*050w9*"
          ],
          [
           "Francisco Lindor",
           "*02611*"
          ],
          [
           "Sean Murphy",
           "*03aoy*"
          ],
          [
           "Will Smith",
           "*042sz*"
          ],
          [
           "Yandy Díaz",
           "*03m6o*"
          ],
          [
           "Bryce Harper",
           "*01fh9*"
          ],
          [
           "Ozzie Albies",
           "*03fi0*"
          ],
          [
           "Seiya Suzuki",
           "*04b02*"
          ],
          [
           "Bobby Witt Jr.",
           "*04lgp*"
          ],
          [
           "Carlos Correa",
           "*02i2q*"
          ],
          [
           "Jung Hoo Lee",
           "*05m49*"
          ],
          [
           "Ian Happ",
           "*03nmw*"
          ],
          [
           "Kyle Schwarber",
           "*03cag*"
          ],
          [
           "Gleyber Torres",
           "*031t0*"
          ],
          [
           "Jonah Heim",
           "*031b2*"
          ],
          [
           "Luis Robert Jr.",
           "*047l7*"
          ],
          [
           "Randy Arozarena",
           "*040b5*"
          ],
          [
           "Cedric Mullins",
           "*03qr0*"
          ],
          [
           "Alejandro Kirk",
           "*04t3y*"
          ],
          [
           "Willson Contreras",
           "*03oh0*"
          ],
          [
           "Ha-Seong Kim",
           "*05ajg*"
          ],
          [
           "Andrés Giménez",
           "*03pzn*"
          ],
          [
           "Lars Nootbaar",
           "*04pt2*"
          ],
          [
           "Masataka Yoshida",
           "*05rc3*"
          ],
          [
           "Tommy Edman",
           "*041sq*"
          ],
          [
           "J.T. Realmuto",
           "*025i9*"
          ],
          [
           "Isaac Paredes",
           "*04071*"
          ],
          [
           "Christian Walker",
           "*02mw3*"
          ],
          [
           "Ke'Bryan Hayes",
           "*03pji*"
          ],
          [
           "Michael Harris II",
           "*0512v*"
          ],
          [
           "Byron Buxton",
           "*02i2k*"
          ],
          [
           "Christian Yelich",
           "*025dn*"
          ],
          [
           "Patrick Bailey",
           "*04yuu*"
          ],
          [
           "Josh Naylor",
           "*03pjd*"
          ],
          [
           "William Contreras",
           "*03yrz*"
          ],
          [
           "Marcell Ozuna",
           "*01usi*"
          ],
          [
           "Royce Lewis",
           "*04aeb*"
          ],
          [
           "Max Muncy",
           "*02mzg*"
          ],
          [
           "George Springer",
           "*025he*"
          ],
          [
           "Brandon Lowe",
           "*03qjy*"
          ],
          [
           "Jeff McNeil",
           "*0317o*"
          ],
          [
           "Josh Lowe",
           "*041ah*"
          ],
          [
           "Taylor Ward",
           "*03pje*"
          ],
          [
           "Jack Suwinski",
           "*041z2*"
          ],
          [
           "Matt McLain",
           "*04pks*"
          ],
          [
           "Adolis García",
           "*04aq4*"
          ],
          [
           "TJ Friedl",
           "*045gu*"
          ],
          [
           "Jorge Soler",
           "*02i11*"
          ],
          [
           "Vinnie Pasquantino",
           "*05184*"
          ],
          [
           "Edouard Julien",
           "*051dl*"
          ],
          [
           "Nico Hoerner",
           "*04pkr*"
          ],
          [
           "Eloy Jiménez",
           "*030ud*"
          ],
          [
           "Keibert Ruiz",
           "*03rmz*"
          ],
          [
           "Gabriel Moreno",
           "*04s1g*"
          ],
          [
           "Justin Turner",
           "*01lum*"
          ],
          [
           "Jorge Polanco",
           "*02yd1*"
          ],
          [
           "Chas McCormick",
           "*04esz*"
          ],
          [
           "Daulton Varsho",
           "*04efa*"
          ],
          [
           "Nathaniel Lowe",
           "*041xv*"
          ],
          [
           "Bryson Stott",
           "*04p10*"
          ],
          [
           "James Outman",
           "*04psu*"
          ],
          [
           "Wander Franco",
           "*04csx*"
          ],
          [
           "Danny Jansen",
           "*031el*"
          ],
          [
           "Bo Naylor",
           "*04mrn*"
          ],
          [
           "Ty France",
           "*03whq*"
          ],
          [
           "Jake Fraley",
           "*041qd*"
          ],
          [
           "Triston Casas",
           "*04de1*"
          ],
          [
           "Alex Verdugo",
           "*03d7g*"
          ],
          [
           "Zack Gelof",
           "*05ub0*"
          ],
          [
           "Matt Chapman",
           "*03d6s*"
          ],
          [
           "Alek Thomas",
           "*04pmw*"
          ],
          [
           "Austin Wells",
           "*05ahg*"
          ],
          [
           "Tyler O'Neill",
           "*02yk4*"
          ],
          [
           "Cody Bellinger",
           "*03120*"
          ],
          [
           "Zach Neto",
           "*05xu5*"
          ],
          [
           "José Abreu",
           "*02i2e*"
          ],
          [
           "Nolan Jones",
           "*041q6*"
          ],
          [
           "Evan Carter",
           "*05mdt*"
          ],
          [
           "Joc Pederson",
           "*026qc*"
          ],
          [
           "Andrew Benintendi",
           "*03pdw*"
          ],
          [
           "Josh Bell",
           "*026lz*"
          ],
          [
           "Will Benson",
           "*03zcx*"
          ],
          [
           "Orlando Arcia",
           "*02i1q*"
          ],
          [
           "LaMonte Wade Jr.",
           "*03qo2*"
          ],
          [
           "Nick Madrigal",
           "*03qu7*"
          ],
          [
           "Max Kepler",
           "*01vja*"
          ],
          [
           "Brendan Rodgers",
           "*03lua*"
          ],
          [
           "Mark Canha",
           "*025eo*"
          ],
          [
           "Andrew Vaughn",
           "*04si2*"
          ],
          [
           "Lourdes Gurriel Jr.",
           "*03nri*"
          ],
          [
           "Brendan Donovan",
           "*04pse*"
          ],
          [
           "Jackson Holliday",
           "*05ybv*"
          ],
          [
           "Jonathan India",
           "*04nx3*"
          ],
          [
           "Yainer Diaz",
           "*0524l*"
          ],
          [
           "CJ Abrams",
           "*04qk8*"
          ],
          [
           "Jarren Duran",
           "*04pst*"
          ],
          [
           "Luis Rengifo",
           "*03avk*"
          ],
          [
           "MJ Melendez",
           "*04eey*"
          ],
          [
           "Ryan McMahon",
           "*0310n*"
          ],
          [
           "Rhys Hoskins",
           "*03de9*"
          ],
          [
           "Starling Marte",
           "*01s9k*"
          ],
          [
           "Riley Greene",
           "*04nb2*"
          ],
          [
           "Leody Taveras",
           "*03pzo*"
          ],
          [
           "J.D. Martinez",
           "*02334*"
          ],
          [
           "Yoán Moncada",
           "*03eet*"
          ],
          [
           "Jesús Sánchez",
           "*03nru*"
          ],
          [
           "Austin Hays",
           "*041qs*"
          ],
          [
           "Jeimer Candelario",
           "*027fx*"
          ],
          [
           "Josh Jung",
           "*04y44*"
          ],
          [
           "Ryan Mountcastle",
           "*03pjl*"
          ],
          [
           "DJ LeMahieu",
           "*01sfi*"
          ],
          [
           "Daniel Vogelbach",
           "*02br5*"
          ],
          [
           "Christian Encarnacion-Strand",
           "*05xor*"
          ],
          [
           "Teoscar Hernández",
           "*02xic*"
          ],
          [
           "Jose Siri",
           "*039vx*"
          ],
          [
           "Anthony Santander",
           "*02w16*"
          ],
          [
           "Thairo Estrada",
           "*03aay*"
          ],
          [
           "Mike Yastrzemski",
           "*031dw*"
          ],
          [
           "Elly De La Cruz",
           "*05udp*"
          ],
          [
           "Alec Bohm",
           "*04mn5*"
          ],
          [
           "Kevin Kiermaier",
           "*0381o*"
          ],
          [
           "Wilmer Flores",
           "*01cgt*"
          ],
          [
           "Esteury Ruiz",
           "*0406v*"
          ],
          [
           "Christopher Morel",
           "*04pbp*"
          ],
          [
           "Brandon Belt",
           "*01uwk*"
          ],
          [
           "Max Stassi",
           "*01sc7*"
          ],
          [
           "Mitch Garver",
           "*031cd*"
          ],
          [
           "Jeremy Peña",
           "*04ppj*"
          ],
          [
           "Matt Wallner",
           "*04o78*"
          ],
          [
           "Geraldo Perdomo",
           "*04pbq*"
          ],
          [
           "Jake Burger",
           "*04azv*"
          ],
          [
           "Jake Cronenworth",
           "*03qmh*"
          ],
          [
           "C.J. Cron",
           "*02bq4*"
          ],
          [
           "Spencer Steer",
           "*0512e*"
          ],
          [
           "Henry Davis",
           "*05oxc*"
          ],
          [
           "Gavin Lux",
           "*041ai*"
          ],
          [
           "Jordan Walker",
           "*05gbf*"
          ],
          [
           "Myles Straw",
           "*03qqb*"
          ],
          [
           "Sal Frelick",
           "*05rb1*"
          ],
          [
           "Nolan Gorman",
           "*04ai4*"
          ],
          [
           "Jose Trevino",
           "*03df0*"
          ],
          [
           "Brandon Marsh",
           "*041q8*"
          ],
          [
           "Javier Báez",
           "*026mn*"
          ],
          [
           "Brent Rooker",
           "*04e2u*"
          ],
          [
           "Charlie Blackmon",
           "*01sge*"
          ],
          [
           "Tyler Stephenson",
           "*03pix*"
          ],
          [
           "Spencer Torkelson",
           "*04yk2*"
          ],
          [
           "Luis García Jr.",
           "*0414g*"
          ],
          [
           "Jordan Westburg",
           "*05gsc*"
          ],
          [
           "Travis d'Arnaud",
           "*01s99*"
          ],
          [
           "Lane Thomas",
           "*03dei*"
          ],
          [
           "José Caballero",
           "*04eig*"
          ],
          [
           "Akil Baddoo",
           "*041qi*"
          ],
          [
           "Anthony Rizzo",
           "*01sea*"
          ],
          [
           "Vaughn Grissom",
           "*0518n*"
          ],
          [
           "Eugenio Suárez",
           "*02jh6*"
          ],
          [
           "Harrison Bader",
           "*03qjv*"
          ],
          [
           "Andrew McCutchen",
           "*01c1g*"
          ],
          [
           "Giancarlo Stanton",
           "*01cdf*"
          ],
          [
           "Miguel Amaya",
           "*03xs3*"
          ],
          [
           "Kerry Carpenter",
           "*051em*"
          ],
          [
           "Trevor Story",
           "*02bqh*"
          ],
          [
           "Manny Piña",
           "*01u5m*"
          ],
          [
           "Trent Grisham",
           "*03pit*"
          ],
          [
           "Victor Caratini",
           "*0311f*"
          ],
          [
           "Salvador Perez",
           "*01u75*"
          ],
          [
           "Yasmani Grandal",
           "*01uqq*"
          ],
          [
           "Ryan Jeffers",
           "*04pmu*"
          ],
          [
           "Brandon Drury",
           "*02hlw*"
          ],
          [
           "Davis Schneider",
           "*04o2x*"
          ],
          [
           "Colt Keith",
           "*05jrh*"
          ],
          [
           "Michael Conforto",
           "*02z0t*"
          ],
          [
           "Seth Brown",
           "*03qvr*"
          ],
          [
           "Luis Urías",
           "*03o43*"
          ],
          [
           "Amed Rosario",
           "*02yh5*"
          ],
          [
           "Luis Campusano",
           "*04eep*"
          ],
          [
           "Will Brennan",
           "*05165*"
          ],
          [
           "Bryan De La Cruz",
           "*03bud*"
          ],
          [
           "Harold Ramírez",
           "*02i3m*"
          ],
          [
           "Hunter Renfroe",
           "*03022*"
          ],
          [
           "Elvis Andrus",
           "*01bv1*"
          ],
          [
           "Christian Vázquez",
           "*029us*"
          ],
          [
           "Dominic Canzone",
           "*05161*"
          ],
          [
           "Edward Olivares",
           "*04c8q*"
          ],
          [
           "Joey Meneses",
           "*03et7*"
          ],
          [
           "Michael Brantley",
           "*01cil*"
          ],
          [
           "Michael Stefanic",
           "*05t5r*"
          ],
          [
           "Ryan Noda",
           "*04enw*"
          ],
          [
           "Alex Kirilloff",
           "*041m2*"
          ],
          [
           "Gavin Sheets",
           "*04eej*"
          ],
          [
           "Jake McCarthy",
           "*03qyv*"
          ],
          [
           "Kolten Wong",
           "*026m0*"
          ],
          [
           "Kris Bryant",
           "*01ubo*"
          ],
          [
           "Carlos Santana",
           "*01cfr*"
          ],
          [
           "René Pinto",
           "*040fw*"
          ],
          [
           "Dylan Carlson",
           "*041mc*"
          ],
          [
           "Anthony Volpe",
           "*04y9p*"
          ],
          [
           "Isiah Kiner-Falefa",
           "*031b3*"
          ],
          [
           "Patrick Wisdom",
           "*02mws*"
          ],
          [
           "Jason Heyward",
           "*01c5o*"
          ],
          [
           "Wilyer Abreu",
           "*060x1*"
          ],
          [
           "Albert Pujols",
           "*000d4*"
          ],
          [
           "Abraham Almonte",
           "*037u4*"
          ],
          [
           "Nick Castellanos",
           "*01uc9*"
          ],
          [
           "Tyler Austin",
           "*02hma*"
          ],
          [
           "Anthony Rendon",
           "*01tt9*"
          ],
          [
           "Kyle Higashioka",
           "*01usr*"
          ],
          [
           "Austin Hedges",
           "*02brk*"
          ],
          [
           "Tim Anderson",
           "*03110*"
          ],
          [
           "Connor Joe",
           "*03d6y*"
          ],
          [
           "Michael Massey",
           "*05139*"
          ],
          [
           "Richie Palacios",
           "*04ppk*"
          ],
          [
           "Willians Astudillo",
           "*02ibc*"
          ],
          [
           "JJ Bleday",
           "*04y95*"
          ],
          [
           "Aaron Hicks",
           "*01cgr*"
          ],
          [
           "Jason Martin",
           "*0374g*"
          ],
          [
           "Jesse Winker",
           "*02mwg*"
          ],
          [
           "Rowdy Tellez",
           "*032gq*"
          ],
          [
           "Travis Jankowski",
           "*02j2v*"
          ],
          [
           "Austin Barnes",
           "*02bwt*"
          ],
          [
           "Andrew Stevenson",
           "*03pox*"
          ],
          [
           "Adam Duvall",
           "*027ow*"
          ],
          [
           "Kyle Isbel",
           "*04ppo*"
          ],
          [
           "Jon Berti",
           "*02c4r*"
          ],
          [
           "Joshua Palacios",
           "*041ra*"
          ],
          [
           "AJ Pollock",
           "*01s8p*"
          ],
          [
           "Carson Kelly",
           "*02mxf*"
          ],
          [
           "Mark Mathias",
           "*03qkb*"
          ],
          [
           "Logan O'Hoppe",
           "*04q56*"
          ],
          [
           "Blake Dunn",
           "*05jr5*"
          ],
          [
           "Kyle Farmer",
           "*0312h*"
          ],
          [
           "Ben Rice",
           "*05yo5*"
          ],
          [
           "Mauricio Dubón",
           "*03aqw*"
          ],
          [
           "Raimel Tapia",
           "*032pz*"
          ],
          [
           "Manuel Margot",
           "*02i3d*"
          ],
          [
           "Nolan Schanuel",
           "*05yj1*"
          ],
          [
           "Santiago Espinal",
           "*041vp*"
          ],
          [
           "Nick Allen",
           "*04efs*"
          ],
          [
           "Josh VanMeter",
           "*04p9m*"
          ],
          [
           "Nelson Velázquez",
           "*04eh9*"
          ],
          [
           "Masyn Winn",
           "*05gwy*"
          ],
          [
           "Josh Donaldson",
           "*01sjg*"
          ],
          [
           "Jonny DeLuca",
           "*04y94*"
          ],
          [
           "Ezequiel Tovar",
           "*04mra*"
          ],
          [
           "José Pirela",
           "*021wp*"
          ],
          [
           "Harry Ford",
           "*05raw*"
          ],
          [
           "Shea Langeliers",
           "*04o4s*"
          ],
          [
           "Jose Iglesias",
           "*01s98*"
          ],
          [
           "Jurickson Profar",
           "*01spl*"
          ],
          [
           "Gio Urshela",
           "*026rz*"
          ],
          [
           "Parker Meadows",
           "*04pmn*"
          ],
          [
           "Omar Narváez",
           "*043f8*"
          ],
          [
           "Oneil Cruz",
           "*03zlh*"
          ],
          [
           "Jett Williams",
           "*060la*"
          ],
          [
           "Abraham Toro",
           "*041se*"
          ],
          [
           "Travis Blankenhorn",
           "*03qk2*"
          ],
          [
           "Jean Segura",
           "*01suo*"
          ],
          [
           "Michael Busch",
           "*04t9b*"
          ],
          [
           "Evan Longoria",
           "*004e1*"
          ],
          [
           "Austin Meadows",
           "*02k18*"
          ],
          [
           "Brian Serven",
           "*041rz*"
          ],
          [
           "Iván Herrera",
           "*04hyc*"
          ],
          [
           "Andy Ibáñez",
           "*03mm4*"
          ],
          [
           "Luke Raley",
           "*041ts*"
          ],
          [
           "Anthony Alford",
           "*02my8*"
          ],
          [
           "Andruw Monasterio",
           "*04vvy*"
          ],
          [
           "Sergio Alcántara",
           "*02yh9*"
          ],
          [
           "Ramón Urías",
           "*04de0*"
          ],
          [
           "Mark Vientos",
           "*03zcy*"
          ],
          [
           "Jed Lowrie",
           "*00587*"
          ],
          [
           "Freddy Fermin",
           "*05lo5*"
          ],
          [
           "David Fletcher",
           "*03qlw*"
          ],
          [
           "Pedro León",
           "*05gdv*"
          ],
          [
           "Tommy La Stella",
           "*02bvq*"
          ],
          [
           "Luis Guillorme",
           "*0317b*"
          ],
          [
           "Donovan Solano",
           "*01te5*"
          ],
          [
           "Jake Meyers",
           "*04emt*"
          ],
          [
           "Ryan O'Hearn",
           "*03dgq*"
          ],
          [
           "Jake Rogers",
           "*03av1*"
          ],
          [
           "Adam Engel",
           "*031fh*"
          ],
          [
           "Thomas Saggese",
           "*05mru*"
          ],
          [
           "Jonathan Aranda",
           "*05t9v*"
          ],
          [
           "Dae-Ho Lee",
           "*03xu9*"
          ],
          [
           "Wynton Bernard",
           "*03eq5*"
          ],
          [
           "Wyatt Langford",
           "*060pm*"
          ],
          [
           "Miguel Andujar",
           "*02i3l*"
          ],
          [
           "Domingo Santana",
           "*01spz*"
          ],
          [
           "Joey Votto",
           "*00031*"
          ],
          [
           "Dayan Viciedo",
           "*01but*"
          ],
          [
           "Ben Gamel",
           "*02hka*"
          ],
          [
           "David Peralta",
           "*03d1m*"
          ],
          [
           "Franchy Cordero",
           "*02k1f*"
          ],
          [
           "Kyle Manzardo",
           "*05rfu*"
          ],
          [
           "Eli White",
           "*041w3*"
          ],
          [
           "Adam Frazier",
           "*0316t*"
          ],
          [
           "Jackson Chourio",
           "*05m1e*"
          ],
          [
           "Matt Davidson",
           "*01sff*"
          ],
          [
           "Tyler Black",
           "*05u2u*"
          ],
          [
           "Gary Sánchez",
           "*01t9q*"
          ],
          [
           "Ramón Laureano",
           "*03dp8*"
          ],
          [
           "José Miguel Fernández",
           "*03an6*"
          ],
          [
           "César Hernández",
           "*025gz*"
          ],
          [
           "Colton Cowser",
           "*05ras*"
          ],
          [
           "Tim Locastro",
           "*031dr*"
          ],
          [
           "Blake Sabol",
           "*05158*"
          ],
          [
           "Tyrone Taylor",
           "*02mx2*"
          ],
          [
           "Garrett Cooper",
           "*03128*"
          ],
          [
           "Miguel Vargas",
           "*04ru7*"
          ],
          [
           "Chris Taylor",
           "*02u47*"
          ],
          [
           "Diego Cartaya",
           "*04p0h*"
          ],
          [
           "Eric Hosmer",
           "*01cfp*"
          ],
          [
           "Jo Adell",
           "*04aee*"
          ],
          [
           "Nick Gonzales",
           "*0597k*"
          ],
          [
           "Ronald Torreyes",
           "*025i0*"
          ],
          [
           "Nicky Lopez",
           "*041sg*"
          ],
          [
           "Hyun Soo Kim",
           "*03yet*"
          ],
          [
           "Norichika Aoki",
           "*01t8d*"
          ],
          [
           "Jefry Marte",
           "*025hz*"
          ],
          [
           "Josh Rojas",
           "*04oct*"
          ],
          [
           "Cavan Biggio",
           "*041rv*"
          ],
          [
           "Lewis Brinson",
           "*02mwa*"
          ],
          [
           "Joey Ortiz",
           "*0513c*"
          ],
          [
           "Yonny Hernández",
           "*04yin*"
          ],
          [
           "Reese McGuire",
           "*0310a*"
          ],
          [
           "Aramis Garcia",
           "*02c6c*"
          ],
          [
           "Ji Hwan Bae",
           "*04lcq*"
          ],
          [
           "Dominic Smith",
           "*02z96*"
          ],
          [
           "Lawrence Butler",
           "*04prt*"
          ],
          [
           "Jacob Stallings",
           "*02j7h*"
          ],
          [
           "Luis González",
           "*04gdv*"
          ],
          [
           "Jakob Marsee",
           "*065ji*"
          ],
          [
           "Tyler Freeman",
           "*04efc*"
          ],
          [
           "Tres Barrera",
           "*041sn*"
          ],
          [
           "Odúbel Herrera",
           "*02i2s*"
          ],
          [
           "Ceddanne Rafaela",
           "*05gsi*"
          ],
          [
           "Preston Tucker",
           "*02c2k*"
          ],
          [
           "Oswaldo Cabrera",
           "*042no*"
          ],
          [
           "Eddy Alvarez",
           "*03mpn*"
          ],
          [
           "Tommy Pham",
           "*025fx*"
          ],
          [
           "J.D. Davis",
           "*02bu2*"
          ],
          [
           "Nick Martini",
           "*02bvk*"
          ],
          [
           "Yermín Mercedes",
           "*0414s*"
          ],
          [
           "Kevin Plawecki",
           "*02mwl*"
          ],
          [
           "Robbie Grossman",
           "*01seb*"
          ],
          [
           "Willi Castro",
           "*03btu*"
          ],
          [
           "Kevin Pillar",
           "*02xi1*"
          ],
          [
           "Noelvi Marte",
           "*04qnd*"
          ],
          [
           "Eddie Rosario",
           "*025f7*"
          ],
          [
           "Jordan Lawlar",
           "*05r1m*"
          ],
          [
           "Terrin Vavra",
           "*04xon*"
          ],
          [
           "Miguel Rojas",
           "*01t5w*"
          ],
          [
           "Josh Harrison",
           "*01sjy*"
          ],
          [
           "Charles Leblanc",
           "*041r7*"
          ],
          [
           "Nelson Cruz",
           "*0001d*"
          ],
          [
           "Tony Kemp",
           "*031b8*"
          ],
          [
           "Austin Slater",
           "*03dg7*"
          ],
          [
           "Tim Beckham",
           "*01cfq*"
          ],
          [
           "Whit Merrifield",
           "*02hjk*"
          ],
          [
           "Enmanuel Valdez",
           "*042af*"
          ],
          [
           "Sam Haggerty",
           "*03qz9*"
          ],
          [
           "John Andreoli",
           "*02c3a*"
          ],
          [
           "Maikel Garcia",
           "*05g3x*"
          ],
          [
           "Nick Solak",
           "*041q1*"
          ],
          [
           "Paul McIntosh",
           "*05yi0*"
          ],
          [
           "Taylor Jones",
           "*04222*"
          ],
          [
           "Corey Dickerson",
           "*025jn*"
          ],
          [
           "Spencer Horwitz",
           "*051ia*"
          ],
          [
           "Oscar Gonzalez",
           "*03nrk*"
          ],
          [
           "Robinson Canó",
           "*00068*"
          ],
          [
           "Yan Gomes",
           "*024o9*"
          ],
          [
           "Yadier Molina",
           "*000d8*"
          ],
          [
           "Roman Anthony",
           "*05u9z*"
          ],
          [
           "Ildemaro Vargas",
           "*0433b*"
          ],
          [
           "Keston Hiura",
           "*04e82*"
          ],
          [
           "Kyle Lewis",
           "*03z61*"
          ],
          [
           "Seby Zavala",
           "*03qqd*"
          ],
          [
           "Derek Hill",
           "*03d6q*"
          ],
          [
           "Alex Call",
           "*041qv*"
          ],
          [
           "Logan Porter",
           "*05j94*"
          ],
          [
           "Ben Rortvedt",
           "*041q7*"
          ],
          [
           "Luke Voit",
           "*03199*"
          ],
          [
           "Josh Smith",
           "*052ru*"
          ],
          [
           "Stuart Fairchild",
           "*04eel*"
          ],
          [
           "Joey Wiemer",
           "*05jq3*"
          ],
          [
           "Mike Tauchman",
           "*0312v*"
          ],
          [
           "Billy McKinney",
           "*0310d*"
          ],
          [
           "Adael Amador",
           "*04ysv*"
          ],
          [
           "Hoy Park",
           "*03mky*"
          ],
          [
           "Garrett Mitchell",
           "*04en7*"
          ],
          [
           "Dixon Machado",
           "*027h1*"
          ],
          [
           "Brett Baty",
           "*04yib*"
          ],
          [
           "Moisés Gómez",
           "*03yuu*"
          ],
          [
           "Matt Vierling",
           "*04pqq*"
          ],
          [
           "Delino DeShields",
           "*01tji*"
          ],
          [
           "Frank Schwindel",
           "*031f9*"
          ],
          [
           "Yuli Gurriel",
           "*025jv*"
          ],
          [
           "Yasiel Puig",
           "*02muz*"
          ],
          [
           "Justyn-Henry Malloy",
           "*05uy1*"
          ],
          [
           "Bubba Thompson",
           "*04eeb*"
          ],
          [
           "Taylor Walls",
           "*04bpj*"
          ],
          [
           "Michael A. Taylor",
           "*02h9j*"
          ],
          [
           "Mike Zunino",
           "*02i12*"
          ],
          [
           "José Osuna",
           "*02i55*"
          ],
          [
           "Forrest Wall",
           "*03d6z*"
          ],
          [
           "Junior Caminero",
           "*05xch*"
          ],
          [
           "Mickey Moniak",
           "*041e2*"
          ],
          [
           "Skye Bolt",
           "*03qkd*"
          ],
          [
           "Christian Bethancourt",
           "*01sci*"
          ],
          [
           "DJ Stewart",
           "*03pj8*"
          ],
          [
           "Alec Burleson",
           "*05jr0*"
          ],
          [
           "Magneuris Sierra",
           "*03h8n*"
          ],
          [
           "Jordan Luplow",
           "*03dag*"
          ],
          [
           "Darin Ruf",
           "*02hh7*"
          ],
          [
           "Nick Fortes",
           "*04pqf*"
          ],
          [
           "Edmundo Sosa",
           "*02zpf*"
          ],
          [
           "Alex Dickerson",
           "*0260x*"
          ],
          [
           "Luke Maile",
           "*02n1q*"
          ],
          [
           "Willie Calhoun",
           "*0315r*"
          ],
          [
           "Dominic Fletcher",
           "*04y45*"
          ],
          [
           "Andrelton Simmons",
           "*025ei*"
          ],
          [
           "Yonathan Daza",
           "*03mwy*"
          ],
          [
           "Ezequiel Duran",
           "*04nqx*"
          ],
          [
           "Brandon Crawford",
           "*01sdl*"
          ],
          [
           "Nick Ahmed",
           "*02br3*"
          ],
          [
           "Jake Bauers",
           "*0316v*"
          ],
          [
           "Owen Miller",
           "*04ppl*"
          ],
          [
           "Joey Gallo",
           "*02i3v*"
          ],
          [
           "Zoilo Almonte",
           "*02i2v*"
          ],
          [
           "Christin Stewart",
           "*03pjk*"
          ],
          [
           "Marcelo Mayer",
           "*05r9j*"
          ],
          [
           "Nick Loftin",
           "*05gx0*"
          ],
          [
           "Dane Myers",
           "*04ehj*"
          ],
          [
           "James Wood",
           "*05rat*"
          ],
          [
           "Tom Murphy",
           "*02t8m*"
          ],
          [
           "Diego Castillo",
           "*04vnr*"
          ],
          [
           "Addison Barger",
           "*04qii*"
          ],
          [
           "David Villar",
           "*04pvh*"
          ],
          [
           "Sam Huff",
           "*041tq*"
          ],
          [
           "Oswald Peraza",
           "*04g7n*"
          ],
          [
           "Coby Mayo",
           "*05js5*"
          ],
          [
           "Jonah Bride",
           "*04q5b*"
          ],
          [
           "Kyle Teel",
           "*05wxy*"
          ],
          [
           "Emmanuel Rivera",
           "*03qvs*"
          ],
          [
           "Jesús Aguilar",
           "*02jhn*"
          ],
          [
           "Jake Cave",
           "*02bul*"
          ],
          [
           "Aaron Zavala",
           "*05toy*"
          ],
          [
           "Dylan Moore",
           "*03qml*"
          ],
          [
           "Kevin Newman",
           "*03pj2*"
          ],
          [
           "Christian Arroyo",
           "*0310e*"
          ],
          [
           "Lenyn Sosa",
           "*04llv*"
          ],
          [
           "Kyle Stowers",
           "*04y97*"
          ],
          [
           "Matt Carpenter",
           "*021at*"
          ],
          [
           "Cal Stevenson",
           "*04pug*"
          ],
          [
           "Jon Singleton",
           "*01srk*"
          ],
          [
           "Pete Crow-Armstrong",
           "*051wv*"
          ],
          [
           "Robert Hassell III",
           "*05gbe*"
          ],
          [
           "Tucker Barnhart",
           "*022vw*"
          ],
          [
           "Jared Young",
           "*04eoj*"
          ],
          [
           "Jorge Mateo",
           "*03b6k*"
          ],
          [
           "Aledmys Díaz",
           "*02y8t*"
          ],
          [
           "Victor Reyes",
           "*02zm9*"
          ],
          [
           "Pavin Smith",
           "*04alq*"
          ],
          [
           "Matt Duffy",
           "*02c5y*"
          ],
          [
           "Estevan Florial",
           "*03yth*"
          ],
          [
           "Joey Wendle",
           "*02mzu*"
          ],
          [
           "Jorge Bonifacio",
           "*029v2*"
          ],
          [
           "Blaze Alexander",
           "*04pvs*"
          ],
          [
           "Ernie Clement",
           "*04alp*"
          ],
          [
           "Kevin Smith",
           "*04eg3*"
          ],
          [
           "Trey Cabbage",
           "*03qko*"
          ],
          [
           "Isan Díaz",
           "*03da6*"
          ],
          [
           "Brad Miller",
           "*02brl*"
          ],
          [
           "Xavier Edwards",
           "*04n8z*"
          ],
          [
           "Rob Refsnyder",
           null
          ],
          [
           "Leonys Martin",
           "*026l3*"
          ],
          [
           "Shin-Soo Choo",
           "*000vp*"
          ],
          [
           "Rougned Odor",
           "*026ly*"
          ],
          [
           "David Freitas",
           "*02hnu*"
          ],
          [
           "Sam Hilliard",
           "*03qs6*"
          ],
          [
           "Kyren Paris",
           "*050s0*"
          ],
          [
           "Tomás Nido",
           "*02n1i*"
          ],
          [
           "Brenton Doyle",
           "*0513l*"
          ],
          [
           "Shogo Akiyama",
           "*058lu*"
          ],
          [
           "Jace Jung",
           "*05tzg*"
          ],
          [
           "Bobby Dalbec",
           "*03z62*"
          ],
          [
           "Jace Peterson",
           "*02bqo*"
          ],
          [
           "Darick Hall",
           "*041yc*"
          ],
          [
           "Jae-Gyun Hwang",
           "*03to7*"
          ],
          [
           "Matt Beaty",
           "*03qpz*"
          ],
          [
           "Lorenzo Cain",
           "*01c5f*"
          ],
          [
           "Gilberto Celestino",
           "*03vum*"
          ],
          [
           "Jordan Groshans",
           "*04n8x*"
          ],
          [
           "David Dahl",
           "*02i2m*"
          ],
          [
           "Chris Shaw",
           "*03pjh*"
          ],
          [
           "Brice Turang",
           "*04b00*"
          ],
          [
           "Nick Gordon",
           "*03c7z*"
          ],
          [
           "Miles Mastrobuoni",
           "*041yi*"
          ],
          [
           "Zack Short",
           "*0420g*"
          ],
          [
           "George Valera",
           "*04fqi*"
          ],
          [
           "Addison Russell",
           "*02mv2*"
          ],
          [
           "Tim Lopes",
           "*02n09*"
          ],
          [
           "Rece Hinds",
           "*04nb4*"
          ],
          [
           "Luisangel Acuña",
           "*04z6k*"
          ],
          [
           "Cade Marlowe",
           "*051fl*"
          ],
          [
           "Drew Ellis",
           "*04eet*"
          ],
          [
           "Óscar Mercado",
           "*02k19*"
          ],
          [
           "James McCann",
           "*02bra*"
          ],
          [
           "Darell Hernaiz",
           "*05145*"
          ],
          [
           "Austin Martin",
           "*05249*"
          ],
          [
           "Webster Rivas",
           "*05lnj*"
          ],
          [
           "Leandro Cedeño",
           "*04gge*"
          ],
          [
           "Trevor Larnach",
           "*04nky*"
          ],
          [
           "Jonathan Schoop",
           "*025g7*"
          ],
          [
           "Tyler Gentry",
           "*05jqw*"
          ],
          [
           "Jake Lamb",
           "*02mzn*"
          ],
          [
           "Buddy Kennedy",
           "*04egt*"
          ],
          [
           "Curt Casali",
           "*02bxm*"
          ],
          [
           "J.P. Martínez",
           "*04m8w*"
          ],
          [
           "Orelvis Martinez",
           "*04mms*"
          ],
          [
           "Jared Walsh",
           "*04p9n*"
          ],
          [
           "Corey Julks",
           "*04eit*"
          ],
          [
           "Tyler White",
           "*03oxd*"
          ],
          [
           "Luis Matos",
           "*04y11*"
          ],
          [
           "Luke Williams",
           "*03qk3*"
          ],
          [
           "Edgar Quero",
           "*05un2*"
          ],
          [
           "Juan Yepez",
           "*03ner*"
          ],
          [
           "Curtis Mead",
           "*05ahe*"
          ],
          [
           "Daniel Murphy",
           "*00um9*"
          ],
          [
           "Sócrates Brito",
           "*02zo4*"
          ],
          [
           "Randal Grichuk",
           "*01s9c*"
          ],
          [
           "Hunter Goodman",
           "*05u2v*"
          ],
          [
           "Ryan McKenna",
           "*03qkw*"
          ],
          [
           "Brandon Dixon",
           "*0311t*"
          ],
          [
           "Yohel Pozo",
           "*03yr2*"
          ],
          [
           "Mike Ford",
           "*03mgg*"
          ],
          [
           "J.J. Matijevic",
           "*03dub*"
          ],
          [
           "Dairon Blanco",
           "*04mkt*"
          ],
          [
           "Beau Taylor",
           "*02btv*"
          ],
          [
           "Brian Anderson",
           "*02c63*"
          ],
          [
           "Zach McKinstry",
           "*0473m*"
          ],
          [
           "Colson Montgomery",
           "*05rch*"
          ],
          [
           "Joey Bart",
           "*04mn4*"
          ],
          [
           "Hanser Alberto",
           "*02jtl*"
          ],
          [
           "Nomar Mazara",
           "*02i18*"
          ],
          [
           "Khalil Lee",
           "*041r6*"
          ],
          [
           "Jasson Domínguez",
           "*050c3*"
          ],
          [
           "ByungHo Park",
           "*03nxv*"
          ],
          [
           "Jose Miranda",
           "*041qh*"
          ],
          [
           "Ryan Kreidler",
           "*05132*"
          ],
          [
           "Yusniel Díaz",
           "*03vuk*"
          ],
          [
           "Austin Wynns",
           "*031cs*"
          ],
          [
           "Tucupita Marcano",
           "*04t41*"
          ],
          [
           "Pablo Reyes",
           "*03azu*"
          ],
          [
           "Justin Foscue",
           "*05gsg*"
          ],
          [
           "Johan Camargo",
           "*03344*"
          ],
          [
           "Alexander Canario",
           "*04hi6*"
          ],
          [
           "Jarred Kelenic",
           "*04ggr*"
          ],
          [
           "Ryan Lavarnway",
           "*01ujr*"
          ],
          [
           "Joey Loperfido",
           "*05yfl*"
          ],
          [
           "Max Schrock",
           "*03qqq*"
          ],
          [
           "Taylor Trammell",
           "*041pq*"
          ],
          [
           "Troy Johnston",
           "*051d0*"
          ],
          [
           "Alejo Lopez",
           "*03wkr*"
          ],
          [
           "Danny Mendick",
           "*03qxt*"
          ],
          [
           "Leury García",
           "*021oi*"
          ],
          [
           "Johan Rojas",
           "*04w4e*"
          ],
          [
           "Niko Goodrum",
           "*025fb*"
          ],
          [
           "Ji Man Choi",
           "*025jm*"
          ],
          [
           "Nick Dini",
           "*03qry*"
          ],
          [
           "José Azocar",
           "*03yux*"
          ],
          [
           "Stone Garrett",
           "*03dgh*"
          ],
          [
           "Romy Gonzalez",
           "*04q0o*"
          ],
          [
           "Mike Moustakas",
           "*01c2r*"
          ],
          [
           "Tyler Nevin",
           "*03pok*"
          ],
          [
           "Michael Hermosillo",
           "*03mp0*"
          ],
          [
           "Eguy Rosario",
           "*045on*"
          ],
          [
           "Livan Soto",
           "*04am3*"
          ],
          [
           "Nick Senzel",
           "*03zc9*"
          ],
          [
           "Trey Mancini",
           "*031c4*"
          ],
          [
           "David Hensley",
           "*04vnd*"
          ],
          [
           "Justice Bigbie",
           "*05ylo*"
          ],
          [
           "Wil Myers",
           "*01s9f*"
          ],
          [
           "Samad Taylor",
           "*041vt*"
          ],
          [
           "Chris Herrmann",
           "*02h9a*"
          ],
          [
           "Matt Thaiss",
           "*04053*"
          ],
          [
           "Adeiny Hechavarría",
           "*01ss4*"
          ],
          [
           "Rio Ruiz",
           "*02myi*"
          ],
          [
           "Blake Perkins",
           "*03pp5*"
          ],
          [
           "Didi Gregorius",
           "*01ut0*"
          ],
          [
           "Daniel Johnson",
           "*041sd*"
          ],
          [
           "Ryan LaMarre",
           "*021s5*"
          ],
          [
           "Ryan Bliss",
           "*05tc7*"
          ],
          [
           "Tyler Wade",
           "*031b4*"
          ],
          [
           "Alan Trejo",
           "*04eoq*"
          ],
          [
           "Matt Shaw",
           "*063vu*"
          ],
          [
           "Cooper Hummel",
           "*0421c*"
          ],
          [
           "Luken Baker",
           "*04069*"
          ],
          [
           "Francisco Mejía",
           "*03a95*"
          ],
          [
           "Enrique Hernández",
           "*02h98*"
          ],
          [
           "Jacob Young",
           "*05yaf*"
          ],
          [
           "Zac Veen",
           "*05gbg*"
          ],
          [
           "Drew Romo",
           "*05gwr*"
          ],
          [
           "Jared Triolo",
           "*05128*"
          ],
          [
           "Garrett Hampson",
           "*041qk*"
          ],
          [
           "Kody Clemens",
           "*04ppi*"
          ],
          [
           "Nick Ciuffo",
           "*0310b*"
          ],
          [
           "Luis Barrera",
           "*02yhc*"
          ],
          [
           "Travis Swaggerty",
           "*04mn3*"
          ],
          [
           "Tzu-Wei Lin",
           "*02no8*"
          ],
          [
           "Gabriel Arias",
           "*0414h*"
          ],
          [
           "Cam Gallagher",
           "*02brd*"
          ],
          [
           "Tyler Heineman",
           "*02n1c*"
          ],
          [
           "Matthew Batten",
           "*052im*"
          ],
          [
           "Elehuris Montero",
           "*03seg*"
          ],
          [
           "Oscar Colás",
           "*05g2r*"
          ],
          [
           "Michael Chavis",
           "*03d6t*"
          ],
          [
           "Jake Alu",
           "*051io*"
          ],
          [
           "Eduardo Escobar",
           "*021n3*"
          ],
          [
           "David Hamilton",
           "*0515v*"
          ],
          [
           "Anthony Bemboom",
           "*02nbr*"
          ],
          [
           "Endy Rodríguez",
           "*0529l*"
          ],
          [
           "Jason Delay",
           "*041w5*"
          ],
          [
           "Rodolfo Castro",
           "*042c1*"
          ],
          [
           "Jordan Diaz",
           "*04yub*"
          ],
          [
           "Alfonso Rivas",
           "*04pq6*"
          ],
          [
           "Brandon Laird",
           "*01slg*"
          ],
          [
           "Chad Wallach",
           "*03121*"
          ],
          [
           "Conner Capel",
           "*041sb*"
          ],
          [
           "Heston Kjerstad",
           "*0596f*"
          ],
          [
           "Adalberto Mondesi",
           "*02i3g*"
          ],
          [
           "Nate Eaton",
           "*04q3n*"
          ],
          [
           "Everson Pereira",
           "*04is5*"
          ],
          [
           "Hiroyuki Nakajima",
           "*026ke*"
          ],
          [
           "Brooks Lee",
           "*04yig*"
          ],
          [
           "Jeferson Quero",
           "*05gss*"
          ],
          [
           "P.J. Higgins",
           "*03qqe*"
          ],
          [
           "Ronny Mauricio",
           "*04fyo*"
          ],
          [
           "Taylor Motter",
           "*02c3w*"
          ],
          [
           "Damiano Palmegiani",
           "*05wbq*"
          ],
          [
           "John Nogowski",
           "*03pio*"
          ],
          [
           "Kristian Robinson",
           "*04g7l*"
          ],
          [
           "Mitch Haniger",
           "*02mwj*"
          ],
          [
           "Jahmai Jones",
           "*03pp6*"
          ],
          [
           "Connor Norby",
           "*05tce*"
          ],
          [
           "Victor Scott II",
           "*0648z*"
          ],
          [
           "Drew Waters",
           "*04eer*"
          ],
          [
           "Yu Chang",
           "*039si*"
          ],
          [
           "Bligh Madris",
           "*04ejw*"
          ],
          [
           "Austin Nola",
           "*02mzc*"
          ],
          [
           "Bradley Zimmer",
           "*03c8v*"
          ],
          [
           "Victor Robles",
           "*03c65*"
          ],
          [
           "Nick Maton",
           "*04ei5*"
          ],
          [
           "Mallex Smith",
           "*02c0a*"
          ],
          [
           "Matt Mervis",
           "*05ojj*"
          ],
          [
           "Drew Gilbert",
           "*05xu0*"
          ],
          [
           "Rangel Ravelo",
           "*02hhz*"
          ],
          [
           "Dustin Harris",
           "*0518r*"
          ],
          [
           "Aristides Aquino",
           "*03atj*"
          ],
          [
           "Jacob Amaya",
           "*04elh*"
          ],
          [
           "Wilson Ramos",
           "*01cgf*"
          ],
          [
           "Greg Allen",
           "*03dez*"
          ],
          [
           "Canaan Smith-Njigba",
           "*04egd*"
          ],
          [
           "Tyler Naquin",
           "*02j2u*"
          ],
          [
           "Edwin Ríos",
           "*03qlr*"
          ],
          [
           "Ehire Adrianza",
           "*01t3l*"
          ],
          [
           "Eric Haase",
           "*02bv2*"
          ],
          [
           "Garrett Stubbs",
           "*03qn0*"
          ],
          [
           "Curtis Terry",
           "*03qr3*"
          ],
          [
           "Chase DeLauter",
           "*05uei*"
          ],
          [
           "Jared Oliva",
           "*04eia*"
          ],
          [
           "Richie Martin",
           "*03pj6*"
          ],
          [
           "Miguel Cabrera",
           "*0007c*"
          ],
          [
           "Elias Díaz",
           "*03fhx*"
          ],
          [
           "Brady House",
           "*059bx*"
          ],
          [
           "Otto Lopez",
           "*04tjl*"
          ],
          [
           "Pedro Severino",
           "*03ap0*"
          ],
          [
           "Stephen Vogt",
           "*0221b*"
          ],
          [
           "Jose Barrero",
           "*04dwv*"
          ],
          [
           "Chadwick Tromp",
           "*056c8*"
          ],
          [
           "Mike Brosseau",
           "*04ylg*"
          ],
          [
           "Harold Castro",
           "*02zma*"
          ],
          [
           "Bryan Ramos",
           "*059bs*"
          ],
          [
           "Jerar Encarnación",
           "*04mdf*"
          ],
          [
           "Brett Phillips",
           "*02mzx*"
          ],
          [
           "Cole Tucker",
           "*03d6r*"
          ],
          [
           "José Rodríguez",
           "*03pzl*"
          ],
          [
           "Mark Contreras",
           "*04ejt*"
          ],
          [
           "Yairo Muñoz",
           "*03kux*"
          ],
          [
           "Casey Schmitt",
           "*05jp4*"
          ],
          [
           "Domingo Leyba",
           "*037ab*"
          ],
          [
           "Sean Bouchard",
           "*04ejn*"
          ],
          [
           "Michael Siani",
           "*04pqb*"
          ],
          [
           "Andrew Velazquez",
           "*02n0e*"
          ],
          [
           "David Bote",
           "*02n8i*"
          ],
          [
           "Robel García",
           "*02i3s*"
          ],
          [
           "Maikel Franco",
           "*02i2d*"
          ],
          [
           "Michael Toglia",
           "*04ok3*"
          ],
          [
           "Yoshi Tsutsugo",
           "*04b84*"
          ],
          [
           "Tyler Soderstrom",
           "*05gtn*"
          ],
          [
           "Phil Gosselin",
           "*01uwe*"
          ],
          [
           "Jonathan Villar",
           "*025gy*"
          ],
          [
           "Corey Ray",
           "*03dem*"
          ],
          [
           "Colin Moran",
           "*026l2*"
          ],
          [
           "Alika Williams",
           "*05gs3*"
          ],
          [
           "Miguel Sanó",
           "*01s9d*"
          ],
          [
           "Rafael Ortega",
           "*022vt*"
          ],
          [
           "Osleivis Basabe",
           "*04ni5*"
          ],
          [
           "Yolmer Sánchez",
           "*02i35*"
          ],
          [
           "Wade Meckler",
           "*066cn*"
          ],
          [
           "Colton Welker",
           "*041rk*"
          ],
          [
           "Peyton Burdick",
           "*0512l*"
          ],
          [
           "Vidal Bruján",
           "*03yxd*"
          ],
          [
           "DJ Peters",
           "*o41rb*"
          ],
          [
           "Travis Demeritte",
           "*0310h*"
          ],
          [
           "Blake Rutherford",
           "*03zce*"
          ],
          [
           "Jonathan Araúz",
           "*03nrm*"
          ],
          [
           "Derek Dietrich",
           "*01uv4*"
          ],
          [
           "Malcom Nuñez",
           "*04rzr*"
          ],
          [
           "Matt Reynolds",
           "*01uv0*"
          ],
          [
           "Dylan Crews",
           "*0596e*"
          ],
          [
           "Brayan Rocchio",
           "*04si3*"
          ],
          [
           "Heliot Ramos",
           "*04ee8*"
          ],
          [
           "Cristian Pache",
           "*03xlc*"
          ],
          [
           "Alcides Escobar",
           "*013ub*"
          ],
          [
           "Dee Strange-Gordon",
           "*01s9j*"
          ],
          [
           "Jake Noll",
           "*041tg*"
          ],
          [
           "Dexter Fowler",
           "*013vx*"
          ],
          [
           "Alex Jackson",
           "*02yoi*"
          ],
          [
           "Hernán Pérez",
           "*021wf*"
          ],
          [
           "Jose Rojas",
           "*04lo8*"
          ],
          [
           "Jacob Nottingham",
           "*031bm*"
          ],
          [
           "Greg Bird",
           "*02btu*"
          ],
          [
           "José Peraza",
           "*02y27*"
          ],
          [
           "Travis Shaw",
           "*02bwm*"
          ],
          [
           "Dustin Peterson",
           "*03114*"
          ],
          [
           "Cal Mitchell",
           "*04eex*"
          ],
          [
           "Jonathan Davis",
           "*0375e*"
          ],
          [
           "Phillip Evans",
           "*02610*"
          ],
          [
           "Cody Thomas",
           "*041xd*"
          ],
          [
           "Ty Kelly",
           null
          ],
          [
           "Tony Wolters",
           "*01vxk*"
          ],
          [
           "Luis Torrens",
           "*02nqg*"
          ],
          [
           "Connor Wong",
           "*04efi*"
          ],
          [
           "Brennen Davis",
           "*04pmv*"
          ],
          [
           "John Hicks",
           "*02bt6*"
          ],
          [
           "Sheldon Neuse",
           "*041pu*"
          ],
          [
           "Vimael Machín",
           "*03qok*"
          ],
          [
           "Trayce Thompson",
           "*01sb1*"
          ],
          [
           "Jason Castro",
           "*01cde*"
          ],
          [
           "Ka'ai Tom",
           "*03qlf*"
          ],
          [
           "Terrance Gore",
           "*02c5z*"
          ],
          [
           "Lewin Díaz",
           "*031ui*"
          ],
          [
           "Adrián Sanchez",
           "*02yla*"
          ],
          [
           "Scott Kingery",
           "*03pjc*"
          ],
          [
           "Daniel Palka",
           "*02hqd*"
          ],
          [
           "Ender Inciarte",
           "*02z95*"
          ],
          [
           "Evan White",
           "*04bpk*"
          ],
          [
           "Kean Wong",
           "*033lq*"
          ],
          [
           "Austin Allen",
           "*03qkr*"
          ],
          [
           "Jake Marisnick",
           "*01sit*"
          ],
          [
           "Braden Shewmake",
           "*04qri*"
          ],
          [
           "Steven Duggar",
           "*03aab*"
          ],
          [
           "José Briceño",
           "*031s7*"
          ],
          [
           "Andrew Knizner",
           "*041t8*"
          ],
          [
           "Allen Córdoba",
           "*03ytv*"
          ],
          [
           "Dwight Smith Jr.",
           "*02br0*"
          ],
          [
           "Kevin Maitan",
           "*0401b*"
          ],
          [
           "Paul DeJong",
           "*03qkh*"
          ],
          [
           "Sandy León",
           "*02jtq*"
          ],
          [
           "Deven Marrero",
           "*02hev*"
          ],
          [
           "Dustin Garneau",
           "*02hgc*"
          ],
          [
           "Avisaíl García",
           "*01urw*"
          ],
          [
           "Francisco Arcia",
           "*03muj*"
          ],
          [
           "Andrew Young",
           "*04anu*"
          ],
          [
           "Kyle Garlick",
           "*03v3t*"
          ],
          [
           "Austin Dean",
           "*02myl*"
          ],
          [
           "Meibrys Viloria",
           "*03mpf*"
          ],
          [
           "Shed Long Jr.",
           "*03139*"
          ],
          [
           "D.J. Peterson",
           "*0373q*"
          ],
          [
           "Daz Cameron",
           "*02zg5*"
          ],
          [
           "Yadiel Hernandez",
           "*03ywd*"
          ],
          [
           "Jackson Merrill",
           "*05ua7*"
          ],
          [
           "Mark Payton",
           "*031eg*"
          ],
          [
           "Steven Souza Jr.",
           "*01t3g*"
          ],
          [
           "Guillermo Heredia",
           "*03mlu*"
          ],
          [
           "Erik González",
           "*03bnk*"
          ],
          [
           "Franklin Barreto",
           "*02ni1*"
          ],
          [
           "Billy Hamilton",
           "*01sy8*"
          ],
          [
           "Marwin Gonzalez",
           "*021oy*"
          ],
          [
           "Dom Nuñez",
           "*03125*"
          ],
          [
           "Hunter Dozier",
           "*03108*"
          ],
          [
           "Patrick Kivlehan",
           "*02myu*"
          ],
          [
           "Roberto Pérez",
           "*021wh*"
          ],
          [
           "Jason Vosler",
           "*03dpa*"
          ],
          [
           "Juan Lagares",
           "*021s2*"
          ],
          [
           "Eric Stamets",
           "*02mzz*"
          ],
          [
           "Stefen Romero",
           "*02hlt*"
          ],
          [
           "Jose Herrera",
           "*05xz1*"
          ],
          [
           "Joshua Fuentes",
           "*0413a*"
          ],
          [
           "Chad Pinder",
           "*03160*"
          ],
          [
           "Michael Pérez",
           "*02btc*"
          ],
          [
           "James Triantos",
           "*05ucf*"
          ],
          [
           "Scott Heineman",
           "*03dri*"
          ],
          [
           "Jorge Alfaro",
           "*025iy*"
          ],
          [
           "Jack Mayfield",
           "*03vlg*"
          ],
          [
           "Chris Owings",
           "*01s8o*"
          ],
          [
           "Nick Pratto",
           "*04b08*"
          ],
          [
           "Zach Remillard",
           "*041va*"
          ],
          [
           "Juan Centeno",
           "*038hy*"
          ],
          [
           "Charlie Culberson",
           "*025fu*"
          ],
          [
           "Kurt Suzuki",
           "*000cd*"
          ],
          [
           "Cory Spangenberg",
           "*02bq1*"
          ],
          [
           "Steele Walker",
           "*04n64*"
          ],
          [
           "Jaylin Davis",
           "*03qzb*"
          ],
          [
           "Adam Haseley",
           "*04cdd*"
          ],
          [
           "Lucius Fox",
           "*03pzm*"
          ],
          [
           "Justin Upton",
           "*0001p*"
          ],
          [
           "Derek Fisher",
           "*026m5*"
          ],
          [
           "Carter Kieboom",
           "*041m8*"
          ],
          [
           "Richard Urena",
           "*02xil*"
          ],
          [
           "Kelvin Gutiérrez",
           "*03nud*"
          ],
          [
           "Dérmis Garcia",
           "*03c8a*"
          ],
          [
           "Tomás Telis",
           "*025gm*"
          ],
          [
           "Kole Calhoun",
           "*0240y*"
          ],
          [
           "Bobby Bradley",
           "*03daq*"
          ],
          [
           "Seth Beer",
           "*0414k*"
          ],
          [
           "Braden Bishop",
           "*03qjr*"
          ],
          [
           "Roman Quinn",
           "*02brj*"
          ],
          [
           "Pat Valaika",
           "*0312o*"
          ],
          [
           "Brett Sullivan",
           "*03qtv*"
          ],
          [
           "Victor Mesa",
           "*04p2p*"
          ],
          [
           "Delvin Pérez",
           "*03ytn*"
          ],
          [
           "Jermaine Palacios",
           "*03nuu*"
          ],
          [
           "Alex Blandino",
           "*03d6u*"
          ],
          [
           "Albert Almora Jr.",
           "*02i2o*"
          ],
          [
           "Clint Frazier",
           "*02yoh*"
          ],
          [
           "JaCoby Jones",
           "*01uvc*"
          ],
          [
           "Liover Peguero",
           "*04ol2*"
          ],
          [
           "Wilmer Difo",
           "*03c7r*"
          ],
          [
           "Ryan Vilade",
           "*04eew*"
          ],
          [
           "Riley Adams",
           "*04azt*"
          ],
          [
           "Daniel Robertson",
           "*02oqn*"
          ],
          [
           "Jackie Bradley Jr.",
           "*025ho*"
          ],
          [
           "Kyle Holder",
           "*03pjg*"
          ],
          [
           "Eric Thames",
           "*025d4*"
          ],
          [
           "JT Riddle",
           "*0313a*"
          ],
          [
           "Justin Williams",
           "*02z0x*"
          ],
          [
           "Monte Harrison",
           "*03cah*"
          ],
          [
           "Rob Brantly",
           "*025e9*"
          ],
          [
           "Matt Adams",
           "*0272u*"
          ],
          [
           "Korey Lee",
           "*0510z*"
          ],
          [
           "Austin Romine",
           "*01cgn*"
          ],
          [
           "Kosuke Fukudome",
           null
          ],
          [
           "Franmil Reyes",
           "*02i3z*"
          ],
          [
           "Martín Maldonado",
           "*021t6*"
          ],
          [
           "Jeter Downs",
           "*04eeg*"
          ],
          [
           "Yadiel Rivera",
           "*02hjn*"
          ],
          [
           "Andrew Knapp",
           "*03119*"
          ],
          [
           "Ryan Goins",
           "*021ot*"
          ],
          [
           "Marco Luciano",
           "*04ooy*"
          ],
          [
           "Kevin Cron",
           "*02bse*"
          ],
          [
           "Carlos Pérez",
           "*01suw*"
          ],
          [
           "Robinson Chirinos",
           "*025j5*"
          ],
          [
           "Zack Collins",
           "*03yug*"
          ],
          [
           "Wyatt Mathisen",
           "*02mxb*"
          ],
          [
           "Scott Schebler",
           "*02z07*"
          ],
          [
           "Stephen Piscotty",
           "*02i2r*"
          ],
          [
           "Grayson Greiner",
           "*03das*"
          ],
          [
           "Chance Sisco",
           "*03117*"
          ],
          [
           "Gerrit Cole",
           "*01spo*"
          ],
          [
           "Corbin Burnes",
           "*041rd*"
          ],
          [
           "Logan Webb",
           "*03dbm*"
          ],
          [
           "Framber Valdez",
           "*04auj*"
          ],
          [
           "Spencer Strider",
           "*05mre*"
          ],
          [
           "Tarik Skubal",
           "*04ptt*"
          ],
          [
           "Tyler Glasnow",
           "*02btx*"
          ],
          [
           "Pablo López",
           "*043f9*"
          ],
          [
           "Zack Wheeler",
           "*01sb3*"
          ],
          [
           "Yoshinobu Yamamoto",
           "*05r8n*"
          ],
          [
           "Kevin Gausman",
           "*02hi7*"
          ],
          [
           "Freddy Peralta",
           "*03dc4*"
          ],
          [
           "Zach Eflin",
           "*02mwq*"
          ],
          [
           "Aaron Nola",
           "*02i3o*"
          ],
          [
           "Blake Snell",
           "*02bqr*"
          ],
          [
           "Max Fried",
           "*02i2j*"
          ],
          [
           "Grayson Rodriguez",
           "*04pko*"
          ],
          [
           "Zac Gallen",
           "*041qo*"
          ],
          [
           "Joe Ryan",
           "*04ps7*"
          ],
          [
           "Nathan Eovaldi",
           "*01ut7*"
          ],
          [
           "Luis Castillo",
           "*03nuc*"
          ],
          [
           "Shane Bieber",
           "*041rf*"
          ],
          [
           "Chris Bassitt",
           "*02c2h*"
          ],
          [
           "Joe Musgrove",
           "*02bqy*"
          ],
          [
           "Logan Gilbert",
           "*04n0m*"
          ],
          [
           "George Kirby",
           "*04yie*"
          ],
          [
           "Cole Ragans",
           "*041ma*"
          ],
          [
           "Hunter Brown",
           "*05144*"
          ],
          [
           "Merrill Kelly",
           "*02hj7*"
          ],
          [
           "Justin Steele",
           "*03deg*"
          ],
          [
           "Mitch Keller",
           "*03d7h*"
          ],
          [
           "Bailey Ober",
           "*0425t*"
          ],
          [
           "Jordan Montgomery",
           "*03dbo*"
          ],
          [
           "Yu Darvish",
           "*01c5l*"
          ],
          [
           "Marcus Stroman",
           "*02hg4*"
          ],
          [
           "Erick Fedde",
           "*03d6n*"
          ],
          [
           "Nestor Cortes",
           "*03bin*"
          ],
          [
           "Jesús Luzardo",
           "*041r1*"
          ],
          [
           "Dylan Cease",
           "*03df2*"
          ],
          [
           "Aaron Civale",
           "*041qr*"
          ],
          [
           "Sonny Gray",
           "*0260v*"
          ],
          [
           "José Berríos",
           "*02mwk*"
          ],
          [
           "Brayan Bello",
           "*04t40*"
          ],
          [
           "Edward Cabrera",
           "*04ali*"
          ],
          [
           "Jordan Hicks",
           "*03vcw*"
          ],
          [
           "Eury Pérez",
           "*05aoc*"
          ],
          [
           "Nick Pivetta",
           "*0316j*"
          ],
          [
           "Carlos Rodón",
           "*02c2r*"
          ],
          [
           "Justin Verlander",
           "*000dp*"
          ],
          [
           "Chris Sale",
           "*01uca*"
          ],
          [
           "Kyle Bradish",
           "*04pq4*"
          ],
          [
           "Tanner Bibee",
           "*05y23*"
          ],
          [
           "Michael King",
           "*041wv*"
          ],
          [
           "Walker Buehler",
           "*03aac*"
          ],
          [
           "Seth Lugo",
           "*03sef*"
          ],
          [
           "Devin Williams",
           "*0311c*"
          ],
          [
           "Garrett Whitlock",
           "*04eqa*"
          ],
          [
           "Charlie Morton",
           "*005jn*"
          ],
          [
           "Kenta Maeda",
           "*02z93*"
          ],
          [
           "Lance Lynn",
           "*01s94*"
          ],
          [
           "Clayton Kershaw",
           "*005ih*"
          ],
          [
           "Reid Detmers",
           "*0596g*"
          ],
          [
           "Tanner Houck",
           "*03djk*"
          ],
          [
           "Hunter Greene",
           "*04aea*"
          ],
          [
           "Braxton Garrett",
           "*041e3*"
          ],
          [
           "Kyle Harrison",
           "*05js3*"
          ],
          [
           "Chris Paddack",
           "*03qne*"
          ],
          [
           "Cristian Javier",
           "*045kb*"
          ],
          [
           "Alex Cobb",
           "*01seh*"
          ],
          [
           "Bryan Woo",
           "*05y62*"
          ],
          [
           "Griffin Canning",
           "*04eek*"
          ],
          [
           "Bobby Miller",
           "*05gwz*"
          ],
          [
           "Michael Wacha",
           "*02iug*"
          ],
          [
           "Jack Flaherty",
           "*03d6w*"
          ],
          [
           "Kyle Gibson",
           "*01fha*"
          ],
          [
           "Eduardo Rodriguez",
           "*029si*"
          ],
          [
           "Edwin Díaz",
           "*02my5*"
          ],
          [
           "Kutter Crawford",
           "*04ep8*"
          ],
          [
           "Tyler Anderson",
           "*026mq*"
          ],
          [
           "Frankie Montas",
           "*02yg3*"
          ],
          [
           "Jameson Taillon",
           "*01srb*"
          ],
          [
           "Ranger Suárez",
           "*03et8*"
          ],
          [
           "Jacob deGrom",
           "*02hjp*"
          ],
          [
           "Kodai Senga",
           "*04a2t*"
          ],
          [
           "Cristopher Sánchez",
           "*052c8*"
          ],
          [
           "Jon Gray",
           "*02bxv*"
          ],
          [
           "Yuki Matsui",
           "*0689r*"
          ],
          [
           "Jhoan Duran",
           "*04apj*"
          ],
          [
           "Sean Manaea",
           "*02x0f*"
          ],
          [
           "Steven Matz",
           "*02h8d*"
          ],
          [
           "Andrés Muñoz",
           "*0403o*"
          ],
          [
           "Max Scherzer",
           "*004ee*"
          ],
          [
           "Domingo Germán",
           "*03c97*"
          ],
          [
           "Kyle Hendricks",
           "*02bwg*"
          ],
          [
           "Patrick Sandoval",
           "*03qpi*"
          ],
          [
           "Félix Bautista",
           "*05t64*"
          ],
          [
           "Tanner Scott",
           "*03dfa*"
          ],
          [
           "Clay Holmes",
           "*02bx4*"
          ],
          [
           "Nick Lodolo",
           "*041ps*"
          ],
          [
           "Ryan Pressly",
           "*02zif*"
          ],
          [
           "Camilo Doval",
           "*04k0w*"
          ],
          [
           "Brady Singer",
           "*03pov*"
          ],
          [
           "Andrew Heaney",
           "*02mv0*"
          ],
          [
           "Gavin Williams",
           "*05jp7*"
          ],
          [
           "Shane Baz",
           "*04cwf*"
          ],
          [
           "Nick Martinez",
           "*02c4q*"
          ],
          [
           "Triston McKenzie",
           "*03pon*"
          ],
          [
           "Louie Varland",
           "*051bm*"
          ],
          [
           "Pete Fairbanks",
           "*03qo0*"
          ],
          [
           "Aaron Ashby",
           "*04ew7*"
          ],
          [
           "Andrew Abbott",
           "*05jq2*"
          ],
          [
           "Trevor Rogers",
           "*04ak5*"
          ],
          [
           "Lucas Giolito",
           "*02i37*"
          ],
          [
           "Graham Ashcraft",
           "*041x9*"
          ],
          [
           "Logan Allen",
           "*05jp3*"
          ],
          [
           "José Alvarado",
           "*03btm*"
          ],
          [
           "Joe Kelly",
           "*01sve*"
          ],
          [
           "Emmanuel Clase",
           "*04ug5*"
          ],
          [
           "Yusei Kikuchi",
           "*04ml0*"
          ],
          [
           "Josh Hader",
           "*02n96*"
          ],
          [
           "Aaron Bummer",
           "*03drc*"
          ],
          [
           "Dane Dunning",
           "*041m9*"
          ],
          [
           "Miles Mikolas",
           "*02h9r*"
          ],
          [
           "DL Hall",
           "*04aeh*"
          ],
          [
           "Jakob Junis",
           "*02f9m*"
          ],
          [
           "Ross Stripling",
           "*02bwr*"
          ],
          [
           "John Means",
           "*03dim*"
          ],
          [
           "Jeffrey Springs",
           "*04mlr*"
          ],
          [
           "Dean Kremer",
           "*041yb*"
          ],
          [
           "Josh Sborz",
           "*03pp9*"
          ],
          [
           "Luis Severino",
           "*03ab0*"
          ],
          [
           "Bryan Abreu",
           "*04tlv*"
          ],
          [
           "Brandon Pfaadt",
           "*05lg3*"
          ],
          [
           "David Peterson",
           "*02n15*"
          ],
          [
           "Michael Soroka",
           "*03pjf*"
          ],
          [
           "Raisel Iglesias",
           "*03aqv*"
          ],
          [
           "Taylor Rogers",
           "*02n3l*"
          ],
          [
           "Robert Stephenson",
           "*02bq7*"
          ],
          [
           "A.J. Minter",
           "*03ppa*"
          ],
          [
           "Keaton Winn",
           "*04esc*"
          ],
          [
           "Chase Silseth",
           "*05xsm*"
          ],
          [
           "Kevin Ginkel",
           "*03dpg*"
          ],
          [
           "Drew Rasmussen",
           "*04eee*"
          ],
          [
           "Ian Hamilton",
           "*041w8*"
          ],
          [
           "JP Sears",
           "*04eld*"
          ],
          [
           "Garrett Cleavinger",
           "*03qju*"
          ],
          [
           "Luke Jackson",
           "*025ey*"
          ],
          [
           "Emmet Sheehan",
           "*05y2l*"
          ],
          [
           "Jimmy Cordero",
           "*03pdy*"
          ],
          [
           "Paul Blackburn",
           "*02mwd*"
          ],
          [
           "Aroldis Chapman",
           "*01gya*"
          ],
          [
           "Paul Sewald",
           "*02n2x*"
          ],
          [
           "Tyler Wells",
           "*0473n*"
          ],
          [
           "J.P. France",
           "*04py3*"
          ],
          [
           "Wade Miley",
           "*01sev*"
          ],
          [
           "Chris Martin",
           "*02j77*"
          ],
          [
           "Reese Olson",
           "*04px8*"
          ],
          [
           "Tim Mayza",
           "*031dd*"
          ],
          [
           "Mark Leiter Jr.",
           "*0319c*"
          ],
          [
           "Ryan Pepiot",
           "*0512m*"
          ],
          [
           "Germán Márquez",
           "*03amq*"
          ],
          [
           "Tyler Mahle",
           "*0312g*"
          ],
          [
           "Alex Wood",
           "*02mwv*"
          ],
          [
           "James Paxton",
           "*025l2*"
          ],
          [
           "Matt Brash",
           "*05138*"
          ],
          [
           "Brandon Woodruff",
           "*02bu3*"
          ],
          [
           "Joel Payamps",
           "*03aru*"
          ],
          [
           "Shane McClanahan",
           "*04mlt*"
          ],
          [
           "David Robertson",
           "*005m0*"
          ],
          [
           "Mason Miller",
           "*05ucd*"
          ],
          [
           "Brusdar Graterol",
           "*03zbj*"
          ],
          [
           "Tylor Megill",
           "*04ywk*"
          ],
          [
           "John Schreiber",
           "*041z3*"
          ],
          [
           "Jason Adam",
           "*025it*"
          ],
          [
           "Sam Hentges",
           "*03dbu*"
          ],
          [
           "Ryan Walker",
           "*031f7*"
          ],
          [
           "Colin Rea",
           "*02bzn*"
          ],
          [
           "Anthony DeSclafani",
           "*02but*"
          ],
          [
           "Clarke Schmidt",
           "*04ee7*"
          ],
          [
           "Adrian Houser",
           "*02brc*"
          ],
          [
           "Max Meyer",
           "*05a2d*"
          ],
          [
           "Sandy Alcantara",
           "*03btv*"
          ],
          [
           "Ricky Tiedemann",
           "*05js6*"
          ],
          [
           "Jose Quintana",
           "*025kd*"
          ],
          [
           "James Karinchak",
           "*04ejp*"
          ],
          [
           "Trevor Richards",
           "*04coa*"
          ],
          [
           "Pierce Johnson",
           "*02hdy*"
          ],
          [
           "Taijuan Walker",
           "*025dq*"
          ],
          [
           "Tommy Kahnle",
           "*02ccf*"
          ],
          [
           "Josiah Gray",
           "*04pn3*"
          ],
          [
           "Bryce Miller",
           "*05vy6*"
          ],
          [
           "Gavin Stone",
           "*05mrx*"
          ],
          [
           "Ryan Helsley",
           "*03ql5*"
          ],
          [
           "Hayden Wesneski",
           "*0514f*"
          ],
          [
           "Mike Clevinger",
           "*02bsw*"
          ],
          [
           "Taj Bradley",
           "*04pr8*"
          ],
          [
           "Evan Phillips",
           "*03qto*"
          ],
          [
           "David Bednar",
           "*04aqc*"
          ],
          [
           "Phil Maton",
           "*03qwa*"
          ],
          [
           "Michael Lorenzen",
           "*02hir*"
          ],
          [
           "Yennier Cano",
           "*050ok*"
          ],
          [
           "Scott Barlow",
           "*02buh*"
          ],
          [
           "A.J. Puk",
           "*03yso*"
          ],
          [
           "Adam Ottavino",
           "*01sgi*"
          ],
          [
           "Andrew Chafin",
           "*02bqd*"
          ],
          [
           "Alex Vesia",
           "*04q05*"
          ],
          [
           "JoJo Romero",
           "*041rj*"
          ],
          [
           "Yimi García",
           "*02z0e*"
          ],
          [
           "Robert Gasser",
           "*05u6r*"
          ],
          [
           "Hyun Jin Ryu",
           "*02xik*"
          ],
          [
           "Tyler Rogers",
           "*0374m*"
          ],
          [
           "José Leclerc",
           "*030x2*"
          ],
          [
           "Quinn Priester",
           "*050vn*"
          ],
          [
           "Chad Green",
           "*0374o*"
          ],
          [
           "Adbert Alzolay",
           "*03aqz*"
          ],
          [
           "Andrew Nardi",
           "*051c3*"
          ],
          [
           "Erik Swanson",
           "*03dgs*"
          ],
          [
           "Craig Kimbrel",
           "*01scl*"
          ],
          [
           "Bryce Elder",
           "*05jp9*"
          ],
          [
           "Shawn Armstrong",
           "*02c47*"
          ],
          [
           "Jace Fry",
           "*02bx2*"
          ],
          [
           "Ryan Thompson",
           "*03duu*"
          ],
          [
           "Alex Lange",
           "*03yui*"
          ],
          [
           "Kyle Wright",
           "*04aed*"
          ],
          [
           "Julio Urías",
           "*02vl6*"
          ],
          [
           "Cooper Criswell",
           "*04px6*"
          ],
          [
           "Josh Winckowski",
           "*041ze*"
          ],
          [
           "Richard Lovelady",
           "*041w0*"
          ],
          [
           "Wandy Peralta",
           "*047sh*"
          ],
          [
           "Luis García",
           "*0321h*"
          ],
          [
           "Gabe Speier",
           null
          ],
          [
           "Hunter Harvey",
           "*0310c*"
          ],
          [
           "Brooks Raley",
           "*01vxp*"
          ],
          [
           "Caleb Ferguson",
           "*043r7*"
          ],
          [
           "Matt Strahm",
           "*02nax*"
          ],
          [
           "Brent Suter",
           "*03cav*"
          ],
          [
           "Trevor Stephan",
           "*0421j*"
          ],
          [
           "Jalen Beeks",
           "*03djb*"
          ],
          [
           "Jordan Romano",
           "*03di6*"
          ],
          [
           "Victor González",
           "*03aqt*"
          ],
          [
           "Dylan Floro",
           "*02hhd*"
          ],
          [
           "Abner Uribe",
           "*05nso*"
          ],
          [
           "Martín Pérez",
           "*01fhm*"
          ],
          [
           "Collin McHugh",
           "*02hy2*"
          ],
          [
           "Héctor Neris",
           "*03h90*"
          ],
          [
           "Justin Lawrence",
           "*03qq9*"
          ],
          [
           "Víctor Arano",
           "*03aqj*"
          ],
          [
           "Rafael Montero",
           "*02jhl*"
          ],
          [
           "James McArthur",
           "*04pw3*"
          ],
          [
           "Enyel De Los Santos",
           "*03y4y*"
          ],
          [
           "Orion Kerkering",
           "*06491*"
          ],
          [
           "Giovanny Gallegos",
           "*03mul*"
          ],
          [
           "Jonathan Loáisiga",
           "*03db4*"
          ],
          [
           "Caleb Thielbar",
           "*02hfr*"
          ],
          [
           "Lance McCullers Jr.",
           "*026l1*"
          ],
          [
           "Reynaldo López",
           "*03i81*"
          ],
          [
           "Joely Rodríguez",
           "*03ani*"
          ],
          [
           "Lucas Sims",
           "*02mw7*"
          ],
          [
           "Robert Suarez",
           "*05r01*"
          ],
          [
           "Kenley Jansen",
           "*01svz*"
          ],
          [
           "José Soriano",
           "*04c0o*"
          ],
          [
           "Touki Toussaint",
           "*02yog*"
          ],
          [
           "Craig Stammen",
           "*01di3*"
          ],
          [
           "Fernando Cruz",
           "*05yck*"
          ],
          [
           "Scott Alexander",
           "*02hi5*"
          ],
          [
           "Jordan Wicks",
           "*05r1d*"
          ],
          [
           "Griffin Jax",
           "*0317q*"
          ],
          [
           "Nick Sandlin",
           "*04pmm*"
          ],
          [
           "Will Vest",
           "*04em6*"
          ],
          [
           "Joe Jiménez",
           "*03as0*"
          ],
          [
           "Trevor Megill",
           "*03dau*"
          ],
          [
           "Justin Anderson",
           "*03do2*"
          ],
          [
           "Javier Assad",
           "*04fq2*"
          ],
          [
           "Julian Merryweather",
           "*03deo*"
          ],
          [
           "Danny Coulombe",
           "*02hxd*"
          ],
          [
           "Steven Okert",
           "*02myt*"
          ],
          [
           "T.J. McFarland",
           "*02nho*"
          ],
          [
           "Yency Almonte",
           "*02n7z*"
          ],
          [
           "Jovani Moran",
           "*03qmm*"
          ],
          [
           "Luis Garcia",
           "*04ni3*"
          ],
          [
           "Zack Littell",
           "*031d4*"
          ],
          [
           "Kevin Kelly",
           "*051eh*"
          ],
          [
           "Emerson Hancock",
           "*0510l*"
          ],
          [
           "Kyle Finnegan",
           "*031bl*"
          ],
          [
           "Joe Ross",
           "*02bq6*"
          ],
          [
           "Steven Wilson",
           "*04psv*"
          ],
          [
           "Casey Sadler",
           "*03anj*"
          ],
          [
           "Anthony Bender",
           "*0423e*"
          ],
          [
           "Michael Grove",
           "*04pmk*"
          ],
          [
           "Allan Winans",
           "*04pzz*"
          ],
          [
           "Daniel Hudson",
           "*01fd0*"
          ],
          [
           "Woo-Suk Go",
           "*06i08*"
          ],
          [
           "Scott McGough",
           "*02btq*"
          ],
          [
           "Brock Stewart",
           "*03deu*"
          ],
          [
           "Zack Britton",
           "*01saq*"
          ],
          [
           "Cionel Pérez",
           "*03zo6*"
          ],
          [
           "John McMillon",
           "*0423z*"
          ],
          [
           "Gregory Soto",
           "*04aok*"
          ],
          [
           "Dustin May",
           "*041r5*"
          ],
          [
           "Jeff Hoffman",
           "*03ann*"
          ],
          [
           "Adam Morgan",
           "*02bsb*"
          ],
          [
           "Justin Topa",
           "*0318i*"
          ],
          [
           "Huascar Brazoban",
           "*060ml*"
          ],
          [
           "Joe Mantiply",
           "*03mle*"
          ],
          [
           "Jacob Webb",
           "*04y76*"
          ],
          [
           "Keynan Middleton",
           "*031av*"
          ],
          [
           "Colin Holderman",
           "*0429k*"
          ],
          [
           "J.B. Wendelken",
           "*02n4q*"
          ],
          [
           "Sam Moll",
           null
          ],
          [
           "Matt Moore",
           "*01fug*"
          ],
          [
           "Sawyer Gipson-Long",
           "*0514z*"
          ],
          [
           "J.B. Bukauskas",
           "*03dsj*"
          ],
          [
           "Marco Gonzales",
           "*03111*"
          ],
          [
           "Mason Black",
           "*05r3g*"
          ],
          [
           "Colin Poche",
           "*02mz1*"
          ],
          [
           "Cole Irvin",
           "*041ru*"
          ],
          [
           "Eli Morgan",
           "*04eiw*"
          ],
          [
           "Garrett Crochet",
           "*05ajh*"
          ],
          [
           "Emilio Pagán",
           "*031cy*"
          ],
          [
           "Tyler Kinley",
           "*0313t*"
          ],
          [
           "Drew Smyly",
           "*025ej*"
          ],
          [
           "Jacob Barnes",
           "*02c14*"
          ],
          [
           "John Brebbia",
           "*03xmd*"
          ],
          [
           "Blake Treinen",
           "*02bve*"
          ],
          [
           "Penn Murfee",
           "*05a07*"
          ],
          [
           "Alexis Díaz",
           "*03qqf*"
          ],
          [
           "Huascar Ynoa",
           "*03gl9*"
          ],
          [
           "Demarcus Evans",
           "*03qzx*"
          ],
          [
           "Alex Young",
           "*03aad*"
          ],
          [
           "Reiver Sanmartin",
           "*04j1w*"
          ],
          [
           "JT Chargois",
           "*02mx4*"
          ],
          [
           "Casey Mize",
           "*04mlf*"
          ],
          [
           "Grant Anderson",
           "*04q3y*"
          ],
          [
           "Adam Kolarek",
           "*02hky*"
          ],
          [
           "Kyle Hurt",
           "*05jq7*"
          ],
          [
           "Robbie Ray",
           "*025j1*"
          ],
          [
           "Andrew Kittredge",
           "*04ggi*"
          ],
          [
           "Alek Manoah",
           "*04yfw*"
          ],
          [
           "Ryan Brasier",
           "*021jb*"
          ],
          [
           "Trevor Gott",
           "*0316r*"
          ],
          [
           "Nick Ramirez",
           "*026mp*"
          ],
          [
           "Brandon Bielak",
           "*04el1*"
          ],
          [
           "Cody Bradford",
           "*0514o*"
          ],
          [
           "Sean Newcomb",
           "*032lk*"
          ],
          [
           "Dauri Moreta",
           "*05tux*"
          ],
          [
           "Matt Festa",
           "*041tl*"
          ],
          [
           "Luis Perdomo",
           "*03ry3*"
          ],
          [
           "Miguel Castro",
           "*0351m*"
          ],
          [
           "Keegan Akin",
           "*041py*"
          ],
          [
           "Kendall Graveman",
           "*031c2*"
          ],
          [
           "Daniel Espino",
           "*04ya2*"
          ],
          [
           "Roberto Osuna",
           "*02i1o*"
          ],
          [
           "Seranthony Domínguez",
           "*04auk*"
          ],
          [
           "Chasen Shreve",
           "*02hkk*"
          ],
          [
           "Ariel Jurado",
           "*032pj*"
          ],
          [
           "Jacob Waguespack",
           "*04y78*"
          ],
          [
           "Michael Kopech",
           "*03d6v*"
          ],
          [
           "Ken Waldichuk",
           "*0513y*"
          ],
          [
           "Bryan Hoeing",
           "*05156*"
          ],
          [
           "Cade Cavalli",
           "*05gef*"
          ],
          [
           "Jonathan Hernández",
           "*03mgq*"
          ],
          [
           "Jesse Chavez",
           "*013ip*"
          ],
          [
           "Diego Castillo",
           "*041me*"
          ],
          [
           "Kevin McCarthy",
           "*031ek*"
          ],
          [
           "Joey Cantillo",
           "*04eos*"
          ],
          [
           "Will Smith",
           "*01skh*"
          ],
          [
           "Matt Bush",
           "*01t04*"
          ],
          [
           "Pedro Avila",
           "*03to4*"
          ],
          [
           "Sixto Sánchez",
           "*0440n*"
          ],
          [
           "Ryan Yarbrough",
           "*0314j*"
          ],
          [
           "Scott Effross",
           "*03qs8*"
          ],
          [
           "Mike Baumann",
           "*04efe*"
          ],
          [
           "Nabil Crismatt",
           "*0484h*"
          ],
          [
           "Ron Marinaccio",
           "*04erc*"
          ],
          [
           "Rowan Wick",
           "*02hq8*"
          ],
          [
           "José Urquidy",
           "*0440h*"
          ],
          [
           "Brock Burke",
           "*03dap*"
          ],
          [
           "Tony Gonsolin",
           "*041v6*"
          ],
          [
           "Jay Jackson",
           "*01s97*"
          ],
          [
           "Nic Enright",
           "*03qvm*"
          ],
          [
           "Darwinzon Hernández",
           "*03ywk*"
          ],
          [
           "Thomas Hatch",
           "*041ql*"
          ],
          [
           "Jake Bird",
           "*04pqs*"
          ],
          [
           "Michael Feliz",
           "*02z6i*"
          ],
          [
           "Nick Burdi",
           "*03adx*"
          ],
          [
           "Dominic Leone",
           "*02n7j*"
          ],
          [
           "Anthony Bass",
           "*025dj*"
          ],
          [
           "AJ Smith-Shawver",
           "*05uy5*"
          ],
          [
           "Ryan Tepera",
           "*02hgr*"
          ],
          [
           "Mitch White",
           "*041qa*"
          ],
          [
           "Andre Pallante",
           "*05133*"
          ],
          [
           "Jason Foley",
           "*04aoq*"
          ],
          [
           "Michael Fulmer",
           "*02bqj*"
          ],
          [
           "Matt Bowman",
           "*02n53*"
          ],
          [
           "Jhony Brito",
           "*050ih*"
          ],
          [
           "Colten Brewer",
           "*02bt3*"
          ],
          [
           "Kenny Rosenberg",
           "*0429i*"
          ],
          [
           "Aaron Wilkerson",
           "*03see*"
          ],
          [
           "Jake Cousins",
           "*04eru*"
          ],
          [
           "Manny Bañuelos",
           "*01sje*"
          ],
          [
           "Sean Reid-Foley",
           "*03d7a*"
          ],
          [
           "J.C. Mejía",
           "*04o64*"
          ],
          [
           "Ben Heller",
           "*031gh*"
          ],
          [
           "Corey Knebel",
           "*0310k*"
          ],
          [
           "Matthew Boyd",
           "*02n4s*"
          ],
          [
           "Taylor Hearn",
           "*02nc0*"
          ],
          [
           "Luis L. Ortiz",
           "*05xsq*"
          ],
          [
           "Shelby Miller",
           "*01sbv*"
          ],
          [
           "Gregory Santos",
           "*0404s*"
          ],
          [
           "Zach Jackson",
           "*043x7*"
          ],
          [
           "Elieser Hernández",
           "*03yx9*"
          ],
          [
           "Paul Fry",
           "*031ez*"
          ],
          [
           "Christian Scott",
           "*05xpq*"
          ],
          [
           "Anthony Kay",
           "*041mb*"
          ],
          [
           "Jeff Brigham",
           "*03dbv*"
          ],
          [
           "Dillon Tate",
           "*03p9d*"
          ],
          [
           "Jorge Alcala",
           "*04ata*"
          ],
          [
           "Matt Barnes",
           "*0260w*"
          ],
          [
           "Glenn Otto",
           "*04egl*"
          ],
          [
           "Art Warren",
           "*03qyt*"
          ],
          [
           "Andrew Painter",
           "*05r3i*"
          ],
          [
           "Nick Frasso",
           "*05jpo*"
          ],
          [
           "Spencer Howard",
           "*04eeu*"
          ],
          [
           "Manuel Rodríguez",
           "*05ad7*"
          ],
          [
           "Carson Whisenhunt",
           "*05y7v*"
          ],
          [
           "Phil Bickford",
           "*03109*"
          ],
          [
           "Bowden Francis",
           null
          ],
          [
           "Austin Adams",
           "*02h8x*"
          ],
          [
           "Tyler Duffey",
           "*02mzd*"
          ],
          [
           "Tristan Beck",
           "*04afk*"
          ],
          [
           "Trey Wingenter",
           "*03qtp*"
          ],
          [
           "Zach McAllister",
           "*01sfu*"
          ],
          [
           "Thomas Szapucki",
           "*03qlb*"
          ],
          [
           "Josh Staumont",
           "*03pp2*"
          ],
          [
           "Spencer Arrighetti",
           "*05y0j*"
          ],
          [
           "Buck Farmer",
           "*02n6j*"
          ],
          [
           "Drew Smith",
           null
          ],
          [
           "Ryan Borucki",
           "*02n6w*"
          ],
          [
           "Nick Anderson",
           "*04sxl*"
          ],
          [
           "Drey Jameson",
           "*0511r*"
          ],
          [
           "Carl Edwards Jr.",
           "*02of2*"
          ],
          [
           "Yariel Rodriguez",
           "*06at1*"
          ],
          [
           "Shota Imanaga",
           "*05ge9*"
          ],
          [
           "Liam Hendriks",
           "*01ub8*"
          ],
          [
           "Ian Anderson",
           "*041m0*"
          ],
          [
           "Ray Kerr",
           "*05r9n*"
          ],
          [
           "Jharel Cotton",
           "*02na8*"
          ],
          [
           "Bryan Baker",
           "*041w4*"
          ],
          [
           "Dylan Coleman",
           "*04pq2*"
          ],
          [
           "Amir Garrett",
           "*02i3x*"
          ],
          [
           "Luke Weaver",
           "*02c5l*"
          ],
          [
           "Ronel Blanco",
           "*04ydi*"
          ],
          [
           "Colby White",
           "*0514q*"
          ],
          [
           "MacKenzie Gore",
           "*04cd5*"
          ],
          [
           "Ben Brown",
           "*04o2w*"
          ],
          [
           "Prelander Berroa",
           "*0509b*"
          ],
          [
           "Bruce Zimmermann",
           "*04egr*"
          ],
          [
           "Angel Zerpa",
           "*05qzx*"
          ],
          [
           "Kirby Yates",
           "*030vs*"
          ],
          [
           "Davis Daniel",
           "*04pv6*"
          ],
          [
           "Michael Kelly",
           "*02bqn*"
          ],
          [
           "Austin Voth",
           "*0316l*"
          ],
          [
           "José Castillo",
           "*02new*"
          ],
          [
           "Justin Wilson",
           "*025ko*"
          ],
          [
           "Darren O'Day",
           "*00573*"
          ],
          [
           "José Cisnero",
           "*02jmi*"
          ],
          [
           "Jordan Weems",
           "*02bru*"
          ],
          [
           "Tucker Davidson",
           "*04225*"
          ],
          [
           "Chris Devenski",
           "*02i31*"
          ],
          [
           "Nick Vincent",
           "*0221a*"
          ],
          [
           "Brandon Walter",
           "*05rk4*"
          ],
          [
           "Matt Wisler",
           "*02bvh*"
          ],
          [
           "Erasmo Ramírez",
           "*02cch*"
          ],
          [
           "Cade Povich",
           "*05xop*"
          ],
          [
           "Jorge López",
           "*02brf*"
          ],
          [
           "David Festa",
           "*05yav*"
          ],
          [
           "Jimmy Herget",
           "*03qln*"
          ],
          [
           "Darius Vines",
           "*05157*"
          ],
          [
           "Jake Brentz",
           "*031d3*"
          ],
          [
           "Beau Brieske",
           "*05t6u*"
          ],
          [
           "Jeremiah Estrada",
           "*04ehz*"
          ],
          [
           "Randy Vásquez",
           "*05itb*"
          ],
          [
           "Ryan Feltner",
           "*03r06*"
          ],
          [
           "Andrés Machado",
           "*04km8*"
          ],
          [
           "Kyle Nelson",
           "*04eny*"
          ],
          [
           "Landen Roupp",
           "*05y72*"
          ],
          [
           "Chase Hampton",
           "*05yh3*"
          ],
          [
           "Zack Thompson",
           "*04n0p*"
          ],
          [
           "Luis Gil",
           "*04s1h*"
          ],
          [
           "Cody Reed",
           "*03fpq*"
          ],
          [
           "Frank German",
           "*04pqk*"
          ],
          [
           "Cole Sulser",
           "*031hc*"
          ],
          [
           "Peter Strzelecki",
           "*061mp*"
          ],
          [
           "Jarlín García",
           "*03aaa*"
          ],
          [
           "Lou Trivino",
           "*031d9*"
          ],
          [
           "Janson Junk",
           "*04etg*"
          ],
          [
           "Ethan Small",
           "*0511g*"
          ],
          [
           "Brandon Hughes",
           "*04eon*"
          ],
          [
           "Drew Thorpe",
           "*05yb1*"
          ],
          [
           "Yerry De Los Santos",
           "*05gsw*"
          ],
          [
           "Cole Sands",
           "*03qxr*"
          ],
          [
           "Cade Horton",
           "*05gww*"
          ],
          [
           "Taylor Clarke",
           "*03qjz*"
          ],
          [
           "Austin Pruitt",
           "*0315n*"
          ],
          [
           "Drew Rom",
           "*04pqd*"
          ],
          [
           "Jake Odorizzi",
           "*01h4f*"
          ],
          [
           "Tyler Holton",
           "*04naz*"
          ],
          [
           "JT Brubaker",
           "*03qm8*"
          ],
          [
           "Roansy Contreras",
           "*04b3a*"
          ],
          [
           "Jake Irvin",
           "*04ppz*"
          ],
          [
           "Brandon Brennan",
           "*02myd*"
          ],
          [
           "Burch Smith",
           "*02c1b*"
          ],
          [
           "Lyon Richardson",
           "*04pmo*"
          ],
          [
           "Tejay Antone",
           "*02nbw*"
          ],
          [
           "Connor Brogdon",
           "*04ek8*"
          ],
          [
           "Spencer Turnbull",
           "*03d75*"
          ],
          [
           "Greg Holland",
           "*01xfu*"
          ],
          [
           "Yoan López",
           "*03mk3*"
          ],
          [
           "A.J. Cole",
           "*020dk*"
          ],
          [
           "Luis F. Ortiz",
           "*03c63*"
          ],
          [
           "Dinelson Lamet",
           "*03ry2*"
          ],
          [
           "Josh Taylor",
           "*043pf*"
          ],
          [
           "Jared Koenig",
           "*05ylp*"
          ],
          [
           "Mason Thompson",
           "*041qz*"
          ],
          [
           "Aaron Loup",
           "*02han*"
          ],
          [
           "Enoli Paredes",
           "*04ywp*"
          ],
          [
           "Daulton Jefferies",
           "*041pp*"
          ],
          [
           "Adrian Morejon",
           "*043ia*"
          ],
          [
           "Carlos F. Rodriguez",
           "*05yf9*"
          ],
          [
           "Matthew Liberatore",
           "*04mlx*"
          ],
          [
           "Heath Hembree",
           "*02hhu*"
          ],
          [
           "Will Warren",
           "*05yaz*"
          ],
          [
           "Nick Nastrini",
           "*05wbp*"
          ],
          [
           "Chris Murphy",
           "*0514m*"
          ],
          [
           "Albert Abreu",
           "*03xy4*"
          ],
          [
           "Jacob Lopez",
           "*051ui*"
          ],
          [
           "Cody Morris",
           "*04ps8*"
          ],
          [
           "Joel Kuhnel",
           "*041wc*"
          ],
          [
           "Tyler Clippard",
           "*000yu*"
          ],
          [
           "Erik Miller",
           "*04y8z*"
          ],
          [
           "Brett Martin",
           "*03dbs*"
          ],
          [
           "Foster Griffin",
           "*03caf*"
          ],
          [
           "Chris Stratton",
           "*02mw1*"
          ],
          [
           "Lucas Luetge",
           "*021sx*"
          ],
          [
           "Kyle Crick",
           "*02bqp*"
          ],
          [
           "Arodys Vizcaíno",
           "*01see*"
          ],
          [
           "Zach Plesac",
           "*041wu*"
          ],
          [
           "Chayce McDermott",
           "*05uws*"
          ],
          [
           "Archie Bradley",
           "*0260z*"
          ],
          [
           "Mike Vasil",
           "*04ok0*"
          ],
          [
           "Osvaldo Bido",
           "*06ala*"
          ],
          [
           "Cody Poteet",
           "*02b2k*"
          ],
          [
           "Ryan Weber",
           "*02hux*"
          ],
          [
           "Matt Foster",
           "*0422q*"
          ],
          [
           "Tyler Alexander",
           "*0376h*"
          ],
          [
           "Derek Law",
           "*02bx6*"
          ],
          [
           "Ty Buttrey",
           "*02myb*"
          ],
          [
           "Trevor May",
           "*01s9a*"
          ],
          [
           "Ryne Stanek",
           "*02hhj*"
          ],
          [
           "Adam Cimber",
           "*03178*"
          ],
          [
           "Thyago Vieira",
           "*049ur*"
          ],
          [
           "Joey Lucchesi",
           "*041rn*"
          ],
          [
           "Garrett Hill",
           "*055ca*"
          ],
          [
           "Dakota Hudson",
           "*041md*"
          ],
          [
           "Will Harris",
           "*02t1d*"
          ],
          [
           "Carlos Hernández",
           "*04n0k*"
          ],
          [
           "Jared Jones",
           "*05h2u*"
          ],
          [
           "J.P. Feyereisen",
           "*03dpn*"
          ],
          [
           "Kolby Allard",
           "*03nqg*"
          ],
          [
           "Richard Bleier",
           "*021iu*"
          ],
          [
           "Sam Coonrod",
           "*03ded*"
          ],
          [
           "Jake Petricka",
           "*025ea*"
          ],
          [
           "Wilmer Flores",
           "*05ww2*"
          ],
          [
           "Mick Abel",
           "*05g4k*"
          ],
          [
           "Codi Heuer",
           "*04prq*"
          ],
          [
           "Bobby Wahl",
           "*02j5o*"
          ],
          [
           "Mason Montgomery",
           "*05y2k*"
          ],
          [
           "Brad Hand",
           "*0241r*"
          ],
          [
           "Kris Bubic",
           "*04pmb*"
          ],
          [
           "Michael McGreevy",
           "*05sr2*"
          ],
          [
           "Bryan Shaw",
           "*01uay*"
          ],
          [
           "Julio Teheran",
           "*01cih*"
          ],
          [
           "Eric Lauer",
           "*031ey*"
          ],
          [
           "Dallas Keuchel",
           "*01z83*"
          ],
          [
           "Mark Melancon",
           "*01cyw*"
          ],
          [
           "Alex Colomé",
           "*01sk9*"
          ],
          [
           "River Ryan",
           "*05ynx*"
          ],
          [
           "Adam Plutko",
           "*02hi4*"
          ],
          [
           "Dany Jiménez",
           "*059zc*"
          ],
          [
           "Kyle Zimmer",
           "*02i2i*"
          ],
          [
           "Matt Manning",
           "*041m1*"
          ],
          [
           "Spenser Watkins",
           "*05r9c*"
          ],
          [
           "Zach Greene",
           "*04pym*"
          ],
          [
           "Dennis Santana",
           "*046yd*"
          ],
          [
           "Alex Faedo",
           "*04aec*"
          ],
          [
           "Jake McGee",
           "*01avv*"
          ],
          [
           "Wilmer Font",
           "*01scg*"
          ],
          [
           "Naoyuki Uwasawa",
           "*04zaw*"
          ],
          [
           "Johan Oviedo",
           "*04674*"
          ],
          [
           "Anthony Gose",
           "*01sha*"
          ],
          [
           "Tanner Rainey",
           "*03pp7*"
          ],
          [
           "Yohan Ramírez",
           "*04ddz*"
          ],
          [
           "Josh Fleming",
           "*04egq*"
          ],
          [
           "Brad Boxberger",
           "*01sik*"
          ],
          [
           "Clayton Beeter",
           "*05jnq*"
          ],
          [
           "Austin Brice",
           "*026jx*"
          ],
          [
           "Jesus Tinoco",
           "*03moe*"
          ],
          [
           "Alex Claudio",
           "*02zbn*"
          ],
          [
           "Chris Rodriguez",
           "*041rr*"
          ],
          [
           "Steve Cishek",
           "*023fv*"
          ],
          [
           "Domingo Acevedo",
           "*03bam*"
          ],
          [
           "Richard Fitts",
           "*05rav*"
          ],
          [
           "Randy Dobnak",
           "*0506h*"
          ],
          [
           "Jackson Stephens",
           "*02n8k*"
          ],
          [
           "Ian Kennedy",
           "*000y3*"
          ],
          [
           "Génesis Cabrera",
           "*040cf*"
          ],
          [
           "Jack Leiter",
           "*04y9o*"
          ],
          [
           "Tim Hill",
           "*04022*"
          ],
          [
           "Stephen Gonsalves",
           "*03740*"
          ],
          [
           "Bryse Wilson",
           "*0429h*"
          ],
          [
           "José Quijada",
           "*04k0x*"
          ],
          [
           "Bailey Falter",
           "*03ql8*"
          ],
          [
           "Nate Pearson",
           "*04eec*"
          ],
          [
           "Keegan Thompson",
           "*04efn*"
          ],
          [
           "Tommy Hunter",
           "*00u82*"
          ],
          [
           "Jose Alvarez",
           "*021hr*"
          ],
          [
           "José De León",
           "*0376n*"
          ],
          [
           "Danny Salazar",
           "*02xsz*"
          ],
          [
           "David Price",
           "*004e4*"
          ],
          [
           "Connor Phillips",
           "*05jpe*"
          ],
          [
           "Stephen Strasburg",
           "*01cdo*"
          ],
          [
           "Jeurys Familia",
           "*01skl*"
          ],
          [
           "Rhett Kouba",
           "*05ycn*"
          ],
          [
           "Daniel Bard",
           "*01cg1*"
          ],
          [
           "Spencer Patton",
           "*03jvx*"
          ],
          [
           "Wander Suero",
           "*03mp9*"
          ],
          [
           "Joe Smith",
           "*000in*"
          ],
          [
           "Hurston Waldrep",
           "*0603p*"
          ],
          [
           "Trent Thornton",
           "*031k3*"
          ],
          [
           "Thomas Pannone",
           "*031ce*"
          ],
          [
           "Josh Winder",
           "*04psd*"
          ],
          [
           "Dylan Covey",
           "*01uci*"
          ],
          [
           "Jandel Gustave",
           "*031nm*"
          ],
          [
           "Jake Woodford",
           "*03pol*"
          ],
          [
           "Joan Adon",
           "*04ywo*"
          ],
          [
           "Grant Dayton",
           "*02hks*"
          ],
          [
           "Trevor Williams",
           "*0311b*"
          ],
          [
           "Carlos Estévez",
           "*03mnq*"
          ],
          [
           "José Ruiz",
           "*02i45*"
          ],
          [
           "Jake Eder",
           "*05gwt*"
          ],
          [
           "Zack Greinke",
           "*0005k*"
          ],
          [
           "Jake Diekman",
           "*02iya*"
          ],
          [
           "Caleb Kilian",
           "*04q1w*"
          ],
          [
           "Tyler Gilbert",
           "*03qm3*"
          ],
          [
           "Wes Parsons",
           "*03ao4*"
          ],
          [
           "Matt Waldron",
           "*051e5*"
          ],
          [
           "Connor Overton",
           "*03doq*"
          ],
          [
           "Max Castillo",
           "*04k4u*"
          ],
          [
           "Kyle Ryan",
           "*02hlf*"
          ],
          [
           "Hunter Wood",
           "*03bro*"
          ],
          [
           "Hunter Gaddis",
           "*05143*"
          ],
          [
           "Aaron Brooks",
           "*02bwv*"
          ],
          [
           "Slade Cecconi",
           "*04tk1*"
          ],
          [
           "Corbin Martin",
           "*04afj*"
          ],
          [
           "John Curtiss",
           "*02ob9*"
          ],
          [
           "Chris Flexen",
           "*02n5v*"
          ],
          [
           "Wikelman Gonzalez",
           "*052ht*"
          ],
          [
           "Noé Ramirez",
           "*02bsm*"
          ],
          [
           "Keone Kela",
           "*02n4l*"
          ],
          [
           "Keider Montero",
           "*05a1v*"
          ],
          [
           "Jimmy Nelson",
           "*025em*"
          ],
          [
           "César Valdez",
           "*01u9l*"
          ],
          [
           "Shintaro Fujinami",
           "*02xih*"
          ],
          [
           "Lucas Erceg",
           "*041am*"
          ],
          [
           "Grant Holmes",
           "*03d6p*"
          ],
          [
           "Tommy Milone",
           "*021ue*"
          ],
          [
           "Royber Salinas",
           "*05wy3*"
          ],
          [
           "Justin Grimm",
           "*024p6*"
          ],
          [
           "Drew Anderson",
           "*02nb6*"
          ],
          [
           "Anthony Veneziano",
           "*0517a*"
          ],
          [
           "Conner Menez",
           "*041ym*"
          ],
          [
           "Gus Varland",
           "*04pxq*"
          ],
          [
           "Chris Clarke",
           "*0513o*"
          ],
          [
           "Yoshihisa Hirano",
           "*04lfv*"
          ],
          [
           "Shawn Morimando",
           "*02c50*"
          ],
          [
           "Drew Pomeranz",
           "*01ucb*"
          ],
          [
           "Drew VerHagen",
           "*02myh*"
          ],
          [
           "Sem Robberse",
           "*05gea*"
          ],
          [
           "Simeon Woods Richardson",
           "*04pmp*"
          ],
          [
           "Joe Boyle",
           "*05jpk*"
          ],
          [
           "Sergio Romo",
           "*005k4*"
          ],
          [
           "Alec Marsh",
           "*0512c*"
          ],
          [
           "Chase De Jong",
           "*02mxi*"
          ],
          [
           "Zach Davies",
           "*02i4x*"
          ],
          [
           "José Buttó",
           "*05oz7*"
          ],
          [
           "Joe Barlow",
           "*0429m*"
          ],
          [
           "Austin Gomber",
           "*03dbe*"
          ],
          [
           "Freddy Tarnok",
           "*04efr*"
          ],
          [
           "Trevor Rosenthal",
           "*025fw*"
          ],
          [
           "Josh James",
           "*049dt*"
          ],
          [
           "Forrest Whitley",
           "*041m3*"
          ],
          [
           "Yonny Chirinos",
           "*03zu0*"
          ],
          [
           "Jose Hernandez",
           "*066st*"
          ],
          [
           "Jairo Iriarte",
           "*060q2*"
          ],
          [
           "Geoff Hartlieb",
           "*04yk6*"
          ],
          [
           "Cole Winn",
           "*04paj*"
          ],
          [
           "Peter Lambert",
           "*03poo*"
          ],
          [
           "Kent Emanuel",
           "*02hqe*"
          ],
          [
           "Jay Groome",
           "*03ysp*"
          ],
          [
           "Alec Mills",
           "*02nbq*"
          ],
          [
           "Danny Duffy",
           "*01sil*"
          ],
          [
           "Garrett Richards",
           "*01sld*"
          ],
          [
           "James Kaprielian",
           "*03adt*"
          ],
          [
           "Duane Underwood Jr.",
           "*02mwx*"
          ],
          [
           "Josh Lindblom",
           "*01cf6*"
          ],
          [
           "Vince Velasquez",
           "*028is*"
          ],
          [
           "Austin Davis",
           "*03dji*"
          ],
          [
           "Nick Wittgren",
           "*02n23*"
          ],
          [
           "Chris Archer",
           "*01uoy*"
          ],
          [
           "Connor Seabold",
           "*o3drx*"
          ],
          [
           "Wil Crowe",
           "*0423i*"
          ],
          [
           "Ryan Weathers",
           "*04mnw*"
          ],
          [
           "Jordan Lyles",
           "*01gjf*"
          ],
          [
           "Sean Hjelle",
           "*04nx1*"
          ],
          [
           "Silvino Bracho",
           "*03djz*"
          ],
          [
           "Rony García",
           "*045gt*"
          ],
          [
           "Fernando Abad",
           "*01viz*"
          ],
          [
           "Richard Rodríguez",
           "*03mnn*"
          ],
          [
           "Sean Burke",
           "*05xod*"
          ],
          [
           "Sam Long",
           "*0421l*"
          ],
          [
           "Mike Burrows",
           "*04pvl*"
          ],
          [
           "Brandon Williamson",
           "*05120*"
          ],
          [
           "Carlos Martinez",
           "*01uug*"
          ],
          [
           "Xzavion Curry",
           "*0515h*"
          ],
          [
           "Logan Verrett",
           "*02bs8*"
          ],
          [
           "Garrett Acton",
           "*05ybh*"
          ],
          [
           "Luis Medina",
           "*03zlf*"
          ],
          [
           "Mychal Givens",
           "*01sex*"
          ],
          [
           "Dan Altavilla",
           "*03dec*"
          ],
          [
           "Ben Lively",
           "*0311w*"
          ],
          [
           "José Suarez",
           "*03nqc*"
          ],
          [
           "Andrew Politi",
           "*04pyu*"
          ],
          [
           "Hogan Harris",
           "*04pps*"
          ],
          [
           "David Phelps",
           "*01whj*"
          ],
          [
           "Cristian Mena",
           "*05ita*"
          ],
          [
           "Antonio Senzatela",
           "*02zoa*"
          ],
          [
           "Riley Pint",
           "*03yxv*"
          ],
          [
           "Carlos Carrasco",
           "*01as6*"
          ],
          [
           "Cam Bedrosian",
           "*0240t*"
          ],
          [
           "Gordon Graceffo",
           "*05wxw*"
          ],
          [
           "Adrián Martínez",
           "*05u3c*"
          ],
          [
           "Jesse Biddle",
           "*01vx5*"
          ],
          [
           "Humberto Castellanos",
           "*050if*"
          ],
          [
           "Ken Giles",
           "*02bvf*"
          ],
          [
           "Jonathan Heasley",
           "*04pwx*"
          ],
          [
           "Dan Winkler",
           "*02c5v*"
          ],
          [
           "Blake Parker",
           "*01uts*"
          ],
          [
           "Taylor Cole",
           "*033rm*"
          ],
          [
           "Oliver Pérez",
           "*000qy*"
          ],
          [
           "Jaime Barria",
           "*03ysq*"
          ],
          [
           "Corey Kluber",
           "*01z34*"
          ],
          [
           "Jimmy Yacabonis",
           "*031dt*"
          ],
          [
           "Bryan Mata",
           "*04ahc*"
          ],
          [
           "Reyes Moronta",
           "*042uz*"
          ],
          [
           "Paul Skenes",
           "*05wru*"
          ],
          [
           "Nick Tropeano",
           "*02btn*"
          ],
          [
           "Ben Joyce",
           "*060eu*"
          ],
          [
           "Jordan Holloway",
           "*03dsa*"
          ],
          [
           "Andre Jackson",
           "*04elo*"
          ],
          [
           "Ralph Garza Jr.",
           "*03ywr*"
          ],
          [
           "Drew Rucinski",
           "*03f26*"
          ],
          [
           "Brendan McKay",
           "*04afi*"
          ],
          [
           "Taylor Widener",
           "*041x6*"
          ],
          [
           "Sam Gaviglio",
           "*02bu1*"
          ],
          [
           "Tyler Matzek",
           "*01iz0*"
          ],
          [
           "Logan Allen",
           "*03qnb*"
          ],
          [
           "Shane Greene",
           "*02hds*"
          ],
          [
           "Brad Peacock",
           "*026s0*"
          ],
          [
           "Shun Yamaguchi",
           "*05acn*"
          ],
          [
           "Dylan Dodd",
           "*05uy4*"
          ],
          [
           "Mason Englert",
           "*04pqh*"
          ],
          [
           "Casey Lawrence",
           "*04awd*"
          ],
          [
           "Thaddeus Ward",
           "*04pre*"
          ],
          [
           "Rafael Dolis",
           "*01utq*"
          ],
          [
           "Heath Fillmyer",
           "*03de7*"
          ],
          [
           "Tommy Romero",
           "*04eoc*"
          ],
          [
           "Brent Honeywell",
           "*03d7m*"
          ],
          [
           "Ian Krol",
           "*01ubx*"
          ],
          [
           "Roenis Elías",
           "*02zl7*"
          ],
          [
           "Owen White",
           "*04pms*"
          ],
          [
           "Tekoah Roby",
           "*05jqh*"
          ],
          [
           "Kyle Cody",
           "*03pja*"
          ],
          [
           "Carson Fulmer",
           "*02n67*"
          ],
          [
           "Nick Nelson",
           "*041r9*"
          ],
          [
           "Jackson Kowar",
           "*04mlg*"
          ],
          [
           "Adonis Medina",
           "*03rrh*"
          ],
          [
           "Daniel Castano",
           "*04220*"
          ],
          [
           "Daniel Norris",
           "*025gw*"
          ],
          [
           "Adam Oller",
           "*0422w*"
          ],
          [
           "Caleb Smith",
           "*03753*"
          ],
          [
           "Stefan Crichton",
           "*031gu*"
          ],
          [
           "Andrew Suárez",
           "*02bxb*"
          ],
          [
           "Braden Bristo",
           "*0425q*"
          ],
          [
           "Rex Brothers",
           "*01sbf*"
          ],
          [
           "Daniel Gossett",
           "*02c2f*"
          ],
          [
           "Noah Syndergaard",
           "*025ew*"
          ],
          [
           "Dillon Peters",
           "*02c5u*"
          ],
          [
           "Rich Hill",
           "*0008c*"
          ],
          [
           "Jordan Balazovic",
           "*041sc*"
          ],
          [
           "Brad Brach",
           "*021ja*"
          ],
          [
           "Mike Minor",
           "*01sej*"
          ],
          [
           "Robby Snelling",
           "*061mh*"
          ],
          [
           "Jake Newberry",
           "*02yn4*"
          ],
          [
           "Cory Abbott",
           "*04ef6*"
          ],
          [
           "Cal Quantrill",
           "*03yxh*"
          ],
          [
           "Brandon Bailey",
           "*041sp*"
          ],
          [
           "Matt Swarmer",
           "*0422n*"
          ],
          [
           "Paolo Espino",
           "*02yxb*"
          ],
          [
           "Tim Adleman",
           "*040kr*"
          ],
          [
           "Andre Scrubb",
           "*041u2*"
          ],
          [
           "Trevor Cahill",
           "*01c1q*"
          ],
          [
           "Kyle Barraclough",
           "*02n0z*"
          ],
          [
           "Luis Cessa",
           "*03am2*"
          ],
          [
           "Daniel Lynch IV",
           "*04pma*"
          ],
          [
           "Luke Bard",
           "*02he4*"
          ],
          [
           "Ty Madden",
           "*05oqe*"
          ],
          [
           "Nick Avila",
           "*066sq*"
          ],
          [
           "Miguel Yajure",
           "*04qp0*"
          ],
          [
           "Jonathan Holder",
           "*03dex*"
          ],
          [
           "Joey Wentz",
           "*041pr*"
          ],
          [
           "Evan Reifert",
           "*05y0r*"
          ],
          [
           "Jon Duplantier",
           "*041qq*"
          ],
          [
           "Emiliano Teodo",
           "*05uo4*"
          ],
          [
           "Lewis Thorpe",
           "*02yop*"
          ],
          [
           "Tyler Beede",
           "*02bq5*"
          ],
          [
           "Adam Wainwright",
           "*000wm*"
          ],
          [
           "Luis Avilán",
           "*02nod*"
          ],
          [
           "Nick Margevicius",
           "*04eie*"
          ],
          [
           "Luis Patiño",
           "*04k22*"
          ],
          [
           "Aníbal Sánchez",
           "*000v3*"
          ],
          [
           "Wily Peralta",
           "*01sfv*"
          ],
          [
           "Derek Holland",
           "*01c1k*"
          ],
          [
           "Robert Dugger",
           "*0421i*"
          ],
          [
           "Brandon Finnegan",
           "*03d6m*"
          ],
          [
           "Zac Lowther",
           "*04ef9*"
          ],
          [
           "Zach Thompson",
           "*03de5*"
          ],
          [
           "Aaron Barrett",
           "*02hjz*"
          ],
          [
           "Bryan Mitchell",
           "*025ki*"
          ],
          [
           "Taylor Williams",
           "*03742*"
          ],
          [
           "Pedro Báez",
           "*01sdu*"
          ],
          [
           "Hunter Strickland",
           "*01ses*"
          ],
          [
           "Félix Peña",
           "*03rea*"
          ],
          [
           "Jackson Rutledge",
           "*04yte*"
          ],
          [
           "Yusmeiro Petit",
           "*000sw*"
          ],
          [
           "Tayron Guerrero",
           "*026t9*"
          ],
          [
           "Kwang Hyun Kim",
           "*057vg*"
          ],
          [
           "Matt Andriese",
           "*02bsc*"
          ],
          [
           "Jacob Misiorowski",
           "*061yu*"
          ],
          [
           "Tyler Zuber",
           "*04ehi*"
          ],
          [
           "David Hess",
           "*03del*"
          ],
          [
           "Asher Wojciechowski",
           "*0241w*"
          ],
          [
           "Kyle Muller",
           "*041q4*"
          ],
          [
           "Drew Steckenrider",
           "*02n1f*"
          ],
          [
           "Ross Detwiler",
           "*000z0*"
          ],
          [
           "Matt Koch",
           "*02bzh*"
          ],
          [
           "Sean Nolin",
           "*02hia*"
          ],
          [
           "Blayne Enlow",
           "*04ak4*"
          ],
          [
           "José Lopez",
           "*03zld*"
          ],
          [
           "Mike Wright Jr.",
           "*02brt*"
          ],
          [
           "Brandon Kintzler",
           "*022o7*"
          ],
          [
           "Marcus Walden",
           "*03c8t*"
          ],
          [
           "Ryne Nelson",
           "*04yid*"
          ],
          [
           "Matt Harvey",
           "*01uv3*"
          ],
          [
           "Matt Hall",
           "*03qlt*"
          ],
          [
           "Blade Tidwell",
           "*05u2q*"
          ],
          [
           "José Ureña",
           "*02j6w*"
          ],
          [
           "Juan Minaya",
           "*03yvx*"
          ],
          [
           "Brad Keller",
           "*0312l*"
          ],
          [
           "Ryder Jones",
           "*0311d*"
          ],
          [
           "Tyler Chatwood",
           "*01sfa*"
          ],
          [
           "Steven Brault",
           "*031d7*"
          ],
          [
           "Michael Pineda",
           "*01fi0*"
          ],
          [
           "Peyton Battenfield",
           "*05177*"
          ],
          [
           "Yefry Ramírez",
           "*0436n*"
          ],
          [
           "Joe Biagini",
           "*03qht*"
          ],
          [
           "Dylan Bundy",
           "*0269b*"
          ],
          [
           "Easton McGee",
           "*041rp*"
          ],
          [
           "Davis Martin",
           "*04pxf*"
          ],
          [
           "Sam Freeman",
           "*021o1*"
          ],
          [
           "Masahiro Tanaka",
           "*02j71*"
          ],
          [
           "Tony Santillan",
           "*03poq*"
          ],
          [
           "Trevor Hildenberger",
           "*03dtu*"
          ],
          [
           "Jason Alexander",
           "*05xze*"
          ],
          [
           "Dan Straily",
           "*01uut*"
          ],
          [
           "Beau Burrows",
           "*03pj3*"
          ],
          [
           "Anthony Banda",
           "*02n2v*"
          ],
          [
           "Jared Shuster",
           "*05jp2*"
          ],
          [
           "Jefry Rodriguez",
           "*03ay3*"
          ],
          [
           "Tommy Henry",
           "*0512a*"
          ],
          [
           "Kyle Freeland",
           "*03ca3*"
          ],
          [
           "Chase Anderson",
           "*026k6*"
          ],
          [
           "Robert Gsellman",
           "*02c0c*"
          ],
          [
           "Jhoulys Chacín",
           "*01cgs*"
          ],
          [
           "Johnny Cueto",
           "*0055e*"
          ],
          [
           "Justus Sheffield",
           "*03c9c*"
          ],
          [
           "Dereck Rodríguez",
           "*02buj*"
          ],
          [
           "Chad Kuhl",
           "*03179*"
          ],
          [
           "Brett de Geus",
           "*0524m*"
          ],
          [
           "Jackson Jobe",
           "*05rb0*"
          ],
          [
           "Glenn Sparkman",
           "*031fw*"
          ],
          [
           "Sean Doolittle",
           "*01cj2*"
          ],
          [
           "Griff McGarry",
           "*05uni*"
          ],
          [
           "Dellin Betances",
           "*01ciq*"
          ],
          [
           "Mike Mayers",
           "*0316b*"
          ],
          [
           "Zack Godley",
           "*0312u*"
          ],
          [
           "Mike Montgomery",
           "*01s9g*"
          ],
          [
           "Riley Smith",
           "*04260*"
          ],
          [
           "Vladimir Gutierrez",
           "*03mmw*"
          ],
          [
           "Austin Cox",
           "*04pra*"
          ],
          [
           "Corey Oswalt",
           "*02n0s*"
          ],
          [
           "Chance Adams",
           "*03qle*"
          ],
          [
           "Adrian Sampson",
           "*02c2m*"
          ],
          [
           "Tyler Thornburg",
           "*025f5*"
          ],
          [
           "Nick Neidert",
           "*03pp0*"
          ],
          [
           "Matt Shoemaker",
           "*02d54*"
          ],
          [
           "Brett Kennedy",
           "*03qpo*"
          ],
          [
           "Deivi García",
           "*0406o*"
          ],
          [
           "T.J. Zeuch",
           "*041m5*"
          ],
          [
           "Aaron Sanchez",
           "*0241y*"
          ],
          [
           "Enrique Burgos",
           "*01uau*"
          ],
          [
           "Hansel Robles",
           "*02vmh*"
          ],
          [
           "Braden Shipley",
           "*02z98*"
          ],
          [
           "Michel Baez",
           "*04akb*"
          ],
          [
           "Connor Thomas",
           "*0513x*"
          ],
          [
           "Konnor Pilkington",
           "*04muw*"
          ],
          [
           "James Jones",
           "*01sup*"
          ],
          [
           "Jake Faria",
           "*02by3*"
          ],
          [
           "Madison Bumgarner",
           "*01cdg*"
          ],
          [
           "Franklyn Kilome",
           "*03m1y*"
          ],
          [
           "Robert Stock",
           "*01shb*"
          ],
          [
           "Jackson Tetreault",
           "*04eip*"
          ],
          [
           "Hirokazu Sawamura",
           "*05rbx*"
          ],
          [
           "Patrick Corbin",
           "*01xfr*"
          ],
          [
           "Edgar García",
           "*01ud7*"
          ],
          [
           "Shaun Anderson",
           "*041qm*"
          ],
          [
           "Ty Blach",
           "*02mzi*"
          ],
          [
           "Anderson Espinoza",
           "*03g4b*"
          ],
          [
           "Devin Smeltzer",
           "*041ry*"
          ],
          [
           "Jordan Yamamoto",
           "*03djm*"
          ],
          [
           "Drew Hutchison",
           "*025kq*"
          ],
          [
           "Dillon Overton",
           "*0311a*"
          ],
          [
           "Travis Lakins Sr.",
           "*03qlx*"
          ],
          [
           "Kohei Arihara",
           "*05gdd*"
          ],
          [
           "Yadier Álvarez",
           "*03mod*"
          ],
          [
           "Daniel Ponce de Leon",
           "*0313g*"
          ],
          [
           "Mark Appel",
           "*02b2j*"
          ],
          [
           "Conner Greene",
           "*03749*"
          ],
          [
           "JC Ramírez",
           null
          ],
          [
           "Sterling Sharp",
           "*0424b*"
          ],
          [
           "Zach Logue",
           "*04ejq*"
          ],
          [
           "Phillips Valdez",
           "*040bu*"
          ],
          [
           "Mike Morin",
           "*02n4y*"
          ],
          [
           "Bryan Garcia",
           "*041sr*"
          ],
          [
           "Jerad Eickhoff",
           "*02c29*"
          ],
          [
           "Robbie Erlin",
           "*01ub5*"
          ],
          [
           "Cy Sneed",
           "*03da9*"
          ],
          [
           "Fernando Romero",
           "*03aqg*"
          ],
          [
           "Daniel Mengden",
           "*03dav*"
          ],
          [
           "Brailyn Marquez",
           "*04390*"
          ],
          [
           "Elvis Luciano",
           "*04n0d*"
          ],
          [
           "Justin Dunn",
           "*041m4*"
          ],
          [
           "Andrew Moore",
           "*03pp8*"
          ],
          [
           "Justin Jarvis",
           "*04prb*"
          ],
          [
           "Bubba Chandler",
           "*05rik*"
          ],
          [
           "Iván Nova",
           "*01sct*"
          ],
          [
           "Eric Skoglund",
           "*02c2x*"
          ],
          [
           "A.J. Alexy",
           "*0429o*"
          ],
          [
           "Franklin Pérez",
           "*03lfx*"
          ],
          [
           "Justin Nicolino",
           "*028e3*"
          ],
          [
           "Chi Chi González",
           "*0310y*"
          ],
          [
           "Thomas Eshelman",
           "*03c81*"
          ],
          [
           "Asa Lacy",
           "*059qm*"
          ],
          [
           "Ryan Castellani",
           "*03d79*"
          ],
          [
           "Joe Palumbo",
           "*03mf6*"
          ],
          [
           "Noah Song",
           "*05134*"
          ],
          [
           "Joe Wieland",
           "*01sh5*"
          ],
          [
           "Josh Rogers",
           "*03qpd*"
          ]
         ],
         "hovertemplate": "warp=%{x}<br>fpts=%{y}<br>name=%{customdata[0]}<br>fantraxid=%{customdata[1]}<extra></extra>",
         "legendgroup": "",
         "marker": {
          "color": "#636efa",
          "symbol": "circle"
         },
         "mode": "markers",
         "name": "",
         "showlegend": false,
         "type": "scattergl",
         "x": [
          6.8,
          6.5,
          6.5,
          5.1,
          5,
          5,
          4.9,
          4.9,
          4.8,
          4.8,
          4.7,
          4.5,
          4.4,
          4.2,
          4.1,
          4,
          3.9,
          3.9,
          3.9,
          3.8,
          3.8,
          3.8,
          3.7,
          3.7,
          3.7,
          3.6,
          3.6,
          3.5,
          3.5,
          3.5,
          3.5,
          3.4,
          3.3,
          3.3,
          3.3,
          3.2,
          3.2,
          3.2,
          3.2,
          3.1,
          3.1,
          3.1,
          3.1,
          3.1,
          3.1,
          3.1,
          3,
          3,
          3,
          2.9,
          2.9,
          2.9,
          2.9,
          2.9,
          2.8,
          2.8,
          2.8,
          2.7,
          2.7,
          2.7,
          2.7,
          2.7,
          2.7,
          2.6,
          2.6,
          2.6,
          2.6,
          2.6,
          2.5,
          2.5,
          2.5,
          2.5,
          2.4,
          2.3,
          2.3,
          2.3,
          2.3,
          2.3,
          2.2,
          2.2,
          2.2,
          2.2,
          2.2,
          2.2,
          2.2,
          2.2,
          2.1,
          2.1,
          2.1,
          2.1,
          2,
          2,
          2,
          2,
          2,
          1.9,
          1.9,
          1.9,
          1.9,
          1.9,
          1.9,
          1.9,
          1.9,
          1.9,
          1.9,
          1.8,
          1.8,
          1.8,
          1.8,
          1.8,
          1.8,
          1.8,
          1.8,
          1.8,
          1.7,
          1.7,
          1.7,
          1.7,
          1.7,
          1.7,
          1.7,
          1.7,
          1.7,
          1.7,
          1.7,
          1.7,
          1.6,
          1.6,
          1.6,
          1.6,
          1.6,
          1.6,
          1.6,
          1.6,
          1.6,
          1.6,
          1.6,
          1.5,
          1.5,
          1.5,
          1.5,
          1.5,
          1.5,
          1.5,
          1.5,
          1.5,
          1.4,
          1.4,
          1.4,
          1.4,
          1.4,
          1.4,
          1.4,
          1.4,
          1.4,
          1.4,
          1.4,
          1.4,
          1.4,
          1.4,
          1.3,
          1.3,
          1.3,
          1.3,
          1.3,
          1.3,
          1.3,
          1.3,
          1.3,
          1.3,
          1.3,
          1.3,
          1.3,
          1.3,
          1.2,
          1.2,
          1.2,
          1.2,
          1.2,
          1.2,
          1.2,
          1.2,
          1.1,
          1.1,
          1.1,
          1.1,
          1.1,
          1.1,
          1.1,
          1.1,
          1.1,
          1.1,
          1.1,
          1,
          1,
          1,
          1,
          1,
          1,
          1,
          1,
          1,
          1,
          1,
          1,
          1,
          1,
          1,
          1,
          1,
          0.9,
          0.9,
          0.9,
          0.9,
          0.9,
          0.9,
          0.9,
          0.9,
          0.9,
          0.8,
          0.8,
          0.8,
          0.8,
          0.8,
          0.8,
          0.8,
          0.8,
          0.8,
          0.8,
          0.8,
          0.8,
          0.8,
          0.8,
          0.8,
          0.8,
          0.8,
          0.8,
          0.8,
          0.8,
          0.8,
          0.8,
          0.8,
          0.8,
          0.8,
          0.8,
          0.8,
          0.8,
          0.7,
          0.7,
          0.7,
          0.7,
          0.7,
          0.7,
          0.7,
          0.7,
          0.7,
          0.7,
          0.7,
          0.7,
          0.7,
          0.7,
          0.7,
          0.7,
          0.7,
          0.7,
          0.7,
          0.7,
          0.6,
          0.6,
          0.6,
          0.6,
          0.6,
          0.6,
          0.6,
          0.6,
          0.6,
          0.6,
          0.6,
          0.6,
          0.6,
          0.6,
          0.6,
          0.6,
          0.6,
          0.6,
          0.6,
          0.6,
          0.6,
          0.6,
          0.6,
          0.6,
          0.6,
          0.6,
          0.6,
          0.6,
          0.6,
          0.6,
          0.6,
          0.6,
          0.6,
          0.6,
          0.5,
          0.5,
          0.5,
          0.5,
          0.5,
          0.5,
          0.5,
          0.5,
          0.5,
          0.5,
          0.5,
          0.5,
          0.5,
          0.5,
          0.5,
          0.5,
          0.5,
          0.5,
          0.5,
          0.5,
          0.5,
          0.5,
          0.5,
          0.5,
          0.5,
          0.5,
          0.5,
          0.5,
          0.5,
          0.5,
          0.5,
          0.5,
          0.5,
          0.5,
          0.5,
          0.5,
          0.5,
          0.5,
          0.5,
          0.5,
          0.5,
          0.4,
          0.4,
          0.4,
          0.4,
          0.4,
          0.4,
          0.4,
          0.4,
          0.4,
          0.4,
          0.4,
          0.4,
          0.4,
          0.4,
          0.4,
          0.4,
          0.4,
          0.4,
          0.4,
          0.4,
          0.4,
          0.4,
          0.4,
          0.4,
          0.4,
          0.4,
          0.4,
          0.4,
          0.4,
          0.4,
          0.4,
          0.4,
          0.4,
          0.4,
          0.4,
          0.4,
          0.4,
          0.4,
          0.4,
          0.4,
          0.4,
          0.4,
          0.4,
          0.4,
          0.4,
          0.4,
          0.4,
          0.4,
          0.4,
          0.4,
          0.3,
          0.3,
          0.3,
          0.3,
          0.3,
          0.3,
          0.3,
          0.3,
          0.3,
          0.3,
          0.3,
          0.3,
          0.3,
          0.3,
          0.3,
          0.3,
          0.3,
          0.3,
          0.3,
          0.3,
          0.3,
          0.3,
          0.3,
          0.3,
          0.3,
          0.3,
          0.3,
          0.3,
          0.3,
          0.3,
          0.3,
          0.3,
          0.3,
          0.3,
          0.3,
          0.3,
          0.3,
          0.3,
          0.3,
          0.3,
          0.3,
          0.3,
          0.3,
          0.3,
          0.3,
          0.3,
          0.3,
          0.3,
          0.3,
          0.3,
          0.3,
          0.3,
          0.3,
          0.3,
          0.3,
          0.3,
          0.3,
          0.3,
          0.3,
          0.3,
          0.3,
          0.3,
          0.3,
          0.2,
          0.2,
          0.2,
          0.2,
          0.2,
          0.2,
          0.2,
          0.2,
          0.2,
          0.2,
          0.2,
          0.2,
          0.2,
          0.2,
          0.2,
          0.2,
          0.2,
          0.2,
          0.2,
          0.2,
          0.2,
          0.2,
          0.2,
          0.2,
          0.2,
          0.2,
          0.2,
          0.2,
          0.2,
          0.2,
          0.2,
          0.2,
          0.2,
          0.2,
          0.2,
          0.2,
          0.2,
          0.2,
          0.2,
          0.2,
          0.2,
          0.2,
          0.2,
          0.2,
          0.2,
          0.2,
          0.2,
          0.2,
          0.2,
          0.2,
          0.2,
          0.2,
          0.2,
          0.2,
          0.2,
          0.2,
          0.2,
          0.2,
          0.2,
          0.2,
          0.2,
          0.2,
          0.2,
          0.2,
          0.2,
          0.1,
          0.1,
          0.1,
          0.1,
          0.1,
          0.1,
          0.1,
          0.1,
          0.1,
          0.1,
          0.1,
          0.1,
          0.1,
          0.1,
          0.1,
          0.1,
          0.1,
          0.1,
          0.1,
          0.1,
          0.1,
          0.1,
          0.1,
          0.1,
          0.1,
          0.1,
          0.1,
          0.1,
          0.1,
          0.1,
          0.1,
          0.1,
          0.1,
          0.1,
          0.1,
          0.1,
          0.1,
          0.1,
          0.1,
          0.1,
          0.1,
          0.1,
          0.1,
          0.1,
          0.1,
          0.1,
          0.1,
          0.1,
          0.1,
          0.1,
          0.1,
          0.1,
          0.1,
          0.1,
          0.1,
          0.1,
          0.1,
          0.1,
          0.1,
          0.1,
          0.1,
          0.1,
          0.1,
          0.1,
          0.1,
          0.1,
          0.1,
          0.1,
          0.1,
          0.1,
          0.1,
          0.1,
          0.1,
          0.1,
          0.1,
          0.1,
          0.1,
          0.1,
          0.1,
          0.1,
          0.1,
          0.1,
          0.1,
          0.1,
          0.1,
          0.1,
          0.1,
          0.1,
          0.1,
          0.1,
          0,
          0,
          0,
          0,
          0,
          0,
          0,
          0,
          0,
          0,
          0,
          0,
          0,
          0,
          0,
          0,
          0,
          0,
          0,
          0,
          0,
          0,
          0,
          0,
          0,
          0,
          0,
          0,
          0,
          0,
          0,
          0,
          0,
          0,
          0,
          0,
          0,
          0,
          0,
          0,
          0,
          0,
          0,
          0,
          0,
          0,
          0,
          0,
          0,
          0,
          0,
          0,
          0,
          0,
          0,
          0,
          0,
          0,
          0,
          0,
          0,
          0,
          0,
          0,
          0,
          0,
          0,
          0,
          0,
          0,
          0,
          0,
          0,
          0,
          0,
          0,
          0,
          0,
          0,
          0,
          0,
          0,
          0,
          0,
          0,
          0,
          0,
          0,
          0,
          -0.1,
          -0.1,
          -0.1,
          -0.1,
          -0.1,
          -0.1,
          -0.1,
          -0.1,
          -0.1,
          -0.1,
          -0.1,
          -0.1,
          -0.1,
          -0.1,
          -0.1,
          -0.1,
          -0.1,
          -0.1,
          -0.1,
          -0.1,
          -0.1,
          -0.1,
          -0.1,
          -0.1,
          -0.1,
          -0.1,
          -0.1,
          -0.1,
          -0.1,
          -0.1,
          -0.1,
          -0.1,
          -0.1,
          -0.1,
          -0.1,
          -0.1,
          -0.1,
          -0.1,
          -0.1,
          -0.1,
          -0.1,
          -0.1,
          -0.1,
          -0.1,
          -0.1,
          -0.1,
          -0.1,
          -0.1,
          -0.1,
          -0.1,
          -0.1,
          -0.1,
          -0.1,
          -0.1,
          -0.2,
          -0.2,
          -0.2,
          -0.2,
          -0.2,
          -0.2,
          -0.2,
          -0.2,
          -0.2,
          -0.2,
          -0.2,
          -0.2,
          -0.2,
          -0.2,
          -0.2,
          -0.2,
          -0.2,
          -0.2,
          -0.2,
          -0.2,
          -0.2,
          -0.2,
          -0.2,
          -0.2,
          -0.2,
          -0.2,
          -0.2,
          -0.2,
          -0.2,
          -0.2,
          -0.2,
          -0.2,
          -0.2,
          -0.2,
          -0.2,
          -0.2,
          -0.2,
          -0.2,
          -0.2,
          -0.2,
          -0.2,
          -0.2,
          -0.2,
          -0.2,
          -0.2,
          -0.3,
          -0.3,
          -0.3,
          -0.3,
          -0.3,
          -0.3,
          -0.3,
          -0.3,
          -0.3,
          -0.3,
          -0.3,
          -0.3,
          -0.3,
          -0.3,
          -0.3,
          -0.3,
          -0.3,
          -0.3,
          -0.3,
          -0.3,
          -0.3,
          -0.3,
          -0.3,
          -0.3,
          -0.3,
          -0.3,
          -0.3,
          -0.3,
          -0.3,
          -0.3,
          -0.3,
          -0.3,
          -0.3,
          -0.3,
          -0.3,
          -0.3,
          -0.3,
          -0.4,
          -0.4,
          -0.4,
          -0.4,
          -0.4,
          -0.4,
          -0.4,
          -0.4,
          -0.4,
          -0.4,
          -0.4,
          -0.4,
          -0.4,
          -0.4,
          -0.4,
          -0.4,
          -0.4,
          -0.4,
          -0.4,
          -0.4,
          -0.4,
          -0.4,
          -0.4,
          -0.4,
          -0.4,
          -0.4,
          -0.4,
          -0.4,
          -0.4,
          -0.4,
          -0.4,
          -0.4,
          -0.4,
          -0.5,
          -0.5,
          -0.5,
          -0.5,
          -0.5,
          -0.5,
          -0.5,
          -0.5,
          -0.5,
          -0.5,
          -0.5,
          -0.5,
          -0.6,
          -0.6,
          -0.6,
          -0.6,
          -0.6,
          -0.6,
          -0.6,
          -0.6,
          -0.6,
          -0.6,
          -0.6,
          -0.7,
          -0.7,
          -0.7,
          -0.7,
          -0.7,
          -0.7,
          -0.7,
          -0.7,
          -0.7,
          -0.7,
          -0.7,
          -0.8,
          -0.8,
          -0.8,
          -0.8,
          -0.9,
          -0.9,
          -1.2,
          3.7,
          3.6,
          3.5,
          3.5,
          3.4,
          3.4,
          3.3,
          3.3,
          3.3,
          3.3,
          3.1,
          3.1,
          3.1,
          3,
          2.9,
          2.8,
          2.8,
          2.8,
          2.7,
          2.7,
          2.5,
          2.3,
          2.3,
          2.2,
          2.2,
          2.2,
          2.2,
          2.2,
          2.2,
          2.1,
          2,
          2,
          2,
          2,
          2,
          1.9,
          1.9,
          1.8,
          1.8,
          1.8,
          1.8,
          1.8,
          1.8,
          1.7,
          1.7,
          1.7,
          1.7,
          1.7,
          1.6,
          1.6,
          1.6,
          1.6,
          1.6,
          1.6,
          1.6,
          1.5,
          1.5,
          1.5,
          1.5,
          1.4,
          1.4,
          1.4,
          1.4,
          1.4,
          1.3,
          1.3,
          1.3,
          1.3,
          1.3,
          1.3,
          1.3,
          1.3,
          1.2,
          1.2,
          1.2,
          1.2,
          1.2,
          1.2,
          1.2,
          1.2,
          1.2,
          1.2,
          1.2,
          1.2,
          1.2,
          1.1,
          1.1,
          1.1,
          1.1,
          1.1,
          1.1,
          1.1,
          1.1,
          1.1,
          1,
          1,
          1,
          1,
          1,
          1,
          1,
          1,
          1,
          1,
          1,
          1,
          1,
          1,
          0.9,
          0.9,
          0.9,
          0.9,
          0.9,
          0.9,
          0.9,
          0.9,
          0.9,
          0.9,
          0.9,
          0.9,
          0.9,
          0.9,
          0.9,
          0.9,
          0.8,
          0.8,
          0.8,
          0.8,
          0.8,
          0.8,
          0.8,
          0.8,
          0.8,
          0.8,
          0.8,
          0.8,
          0.8,
          0.7,
          0.7,
          0.7,
          0.7,
          0.7,
          0.7,
          0.7,
          0.7,
          0.7,
          0.7,
          0.7,
          0.7,
          0.7,
          0.7,
          0.7,
          0.7,
          0.7,
          0.7,
          0.7,
          0.7,
          0.7,
          0.7,
          0.7,
          0.7,
          0.7,
          0.6,
          0.6,
          0.6,
          0.6,
          0.6,
          0.6,
          0.6,
          0.6,
          0.6,
          0.6,
          0.6,
          0.6,
          0.6,
          0.6,
          0.6,
          0.6,
          0.6,
          0.6,
          0.6,
          0.6,
          0.6,
          0.6,
          0.6,
          0.6,
          0.6,
          0.6,
          0.6,
          0.6,
          0.6,
          0.6,
          0.6,
          0.6,
          0.6,
          0.6,
          0.6,
          0.6,
          0.5,
          0.5,
          0.5,
          0.5,
          0.5,
          0.5,
          0.5,
          0.5,
          0.5,
          0.5,
          0.5,
          0.5,
          0.5,
          0.5,
          0.5,
          0.5,
          0.5,
          0.5,
          0.5,
          0.5,
          0.5,
          0.5,
          0.5,
          0.5,
          0.5,
          0.5,
          0.5,
          0.5,
          0.5,
          0.5,
          0.5,
          0.5,
          0.5,
          0.5,
          0.5,
          0.5,
          0.5,
          0.4,
          0.4,
          0.4,
          0.4,
          0.4,
          0.4,
          0.4,
          0.4,
          0.4,
          0.4,
          0.4,
          0.4,
          0.4,
          0.4,
          0.4,
          0.4,
          0.4,
          0.4,
          0.4,
          0.4,
          0.4,
          0.4,
          0.4,
          0.4,
          0.4,
          0.4,
          0.4,
          0.4,
          0.4,
          0.4,
          0.4,
          0.4,
          0.4,
          0.4,
          0.4,
          0.4,
          0.4,
          0.4,
          0.4,
          0.4,
          0.4,
          0.4,
          0.4,
          0.4,
          0.4,
          0.4,
          0.3,
          0.3,
          0.3,
          0.3,
          0.3,
          0.3,
          0.3,
          0.3,
          0.3,
          0.3,
          0.3,
          0.3,
          0.3,
          0.3,
          0.3,
          0.3,
          0.3,
          0.3,
          0.3,
          0.3,
          0.3,
          0.3,
          0.3,
          0.3,
          0.3,
          0.3,
          0.3,
          0.3,
          0.3,
          0.3,
          0.3,
          0.3,
          0.3,
          0.3,
          0.3,
          0.3,
          0.3,
          0.3,
          0.3,
          0.3,
          0.3,
          0.3,
          0.3,
          0.3,
          0.3,
          0.3,
          0.3,
          0.3,
          0.3,
          0.3,
          0.3,
          0.3,
          0.3,
          0.3,
          0.3,
          0.3,
          0.3,
          0.3,
          0.3,
          0.3,
          0.3,
          0.3,
          0.3,
          0.3,
          0.3,
          0.3,
          0.3,
          0.3,
          0.3,
          0.3,
          0.3,
          0.3,
          0.2,
          0.2,
          0.2,
          0.2,
          0.2,
          0.2,
          0.2,
          0.2,
          0.2,
          0.2,
          0.2,
          0.2,
          0.2,
          0.2,
          0.2,
          0.2,
          0.2,
          0.2,
          0.2,
          0.2,
          0.2,
          0.2,
          0.2,
          0.2,
          0.2,
          0.2,
          0.2,
          0.2,
          0.2,
          0.2,
          0.2,
          0.2,
          0.2,
          0.2,
          0.2,
          0.2,
          0.2,
          0.2,
          0.2,
          0.2,
          0.2,
          0.2,
          0.2,
          0.2,
          0.2,
          0.2,
          0.2,
          0.2,
          0.2,
          0.2,
          0.2,
          0.2,
          0.2,
          0.2,
          0.2,
          0.2,
          0.2,
          0.2,
          0.2,
          0.2,
          0.2,
          0.2,
          0.2,
          0.2,
          0.2,
          0.2,
          0.2,
          0.2,
          0.2,
          0.2,
          0.2,
          0.2,
          0.2,
          0.2,
          0.1,
          0.1,
          0.1,
          0.1,
          0.1,
          0.1,
          0.1,
          0.1,
          0.1,
          0.1,
          0.1,
          0.1,
          0.1,
          0.1,
          0.1,
          0.1,
          0.1,
          0.1,
          0.1,
          0.1,
          0.1,
          0.1,
          0.1,
          0.1,
          0.1,
          0.1,
          0.1,
          0.1,
          0.1,
          0.1,
          0.1,
          0.1,
          0.1,
          0.1,
          0.1,
          0.1,
          0.1,
          0.1,
          0.1,
          0.1,
          0.1,
          0.1,
          0.1,
          0.1,
          0.1,
          0.1,
          0.1,
          0.1,
          0.1,
          0.1,
          0.1,
          0.1,
          0.1,
          0.1,
          0.1,
          0.1,
          0.1,
          0.1,
          0.1,
          0.1,
          0.1,
          0.1,
          0.1,
          0.1,
          0.1,
          0.1,
          0.1,
          0.1,
          0.1,
          0.1,
          0.1,
          0.1,
          0.1,
          0.1,
          0.1,
          0.1,
          0.1,
          0.1,
          0.1,
          0.1,
          0.1,
          0.1,
          0.1,
          0.1,
          0.1,
          0.1,
          0.1,
          0.1,
          0.1,
          0.1,
          0.1,
          0.1,
          0.1,
          0.1,
          0.1,
          0.1,
          0.1,
          0.1,
          0.1,
          0.1,
          0.1,
          0.1,
          0.1,
          0.1,
          0.1,
          0.1,
          0.1,
          0.1,
          0.1,
          0.1,
          0.1,
          0.1,
          0.1,
          0.1,
          0.1,
          0.1,
          0.1,
          0,
          0,
          0,
          0,
          0,
          0,
          0,
          0,
          0,
          0,
          0,
          0,
          0,
          0,
          0,
          0,
          0,
          0,
          0,
          0,
          0,
          0,
          0,
          0,
          0,
          0,
          0,
          0,
          0,
          0,
          0,
          0,
          0,
          0,
          0,
          0,
          0,
          0,
          0,
          0,
          0,
          0,
          0,
          0,
          0,
          0,
          0,
          0,
          0,
          0,
          0,
          0,
          0,
          0,
          0,
          0,
          0,
          0,
          0,
          0,
          0,
          0,
          0,
          0,
          0,
          0,
          0,
          0,
          0,
          0,
          0,
          0,
          0,
          0,
          0,
          0,
          0,
          0,
          0,
          0,
          0,
          0,
          0,
          0,
          0,
          0,
          0,
          0,
          0,
          0,
          0,
          0,
          0,
          0,
          0,
          0,
          0,
          0,
          0,
          0,
          0,
          0,
          0,
          0,
          0,
          0,
          0,
          0,
          0,
          0,
          0,
          0,
          -0.1,
          -0.1,
          -0.1,
          -0.1,
          -0.1,
          -0.1,
          -0.1,
          -0.1,
          -0.1,
          -0.1,
          -0.1,
          -0.1,
          -0.1,
          -0.1,
          -0.1,
          -0.1,
          -0.1,
          -0.1,
          -0.1,
          -0.1,
          -0.1,
          -0.1,
          -0.1,
          -0.1,
          -0.1,
          -0.1,
          -0.1,
          -0.1,
          -0.1,
          -0.1,
          -0.1,
          -0.1,
          -0.1,
          -0.1,
          -0.1,
          -0.1,
          -0.1,
          -0.1,
          -0.1,
          -0.1,
          -0.1,
          -0.1,
          -0.1,
          -0.1,
          -0.1,
          -0.1,
          -0.1,
          -0.1,
          -0.1,
          -0.1,
          -0.1,
          -0.1,
          -0.1,
          -0.1,
          -0.1,
          -0.1,
          -0.1,
          -0.1,
          -0.1,
          -0.1,
          -0.1,
          -0.1,
          -0.1,
          -0.1,
          -0.1,
          -0.1,
          -0.1,
          -0.1,
          -0.1,
          -0.1,
          -0.1,
          -0.1,
          -0.1,
          -0.1,
          -0.1,
          -0.1,
          -0.1,
          -0.1,
          -0.1,
          -0.1,
          -0.1,
          -0.1,
          -0.1,
          -0.1,
          -0.1,
          -0.1,
          -0.1,
          -0.1,
          -0.1,
          -0.1,
          -0.1,
          -0.1,
          -0.1,
          -0.1,
          -0.1,
          -0.1,
          -0.1,
          -0.2,
          -0.2,
          -0.2,
          -0.2,
          -0.2,
          -0.2,
          -0.2,
          -0.2,
          -0.2,
          -0.2,
          -0.2,
          -0.2,
          -0.2,
          -0.2,
          -0.2,
          -0.2,
          -0.2,
          -0.2,
          -0.2,
          -0.2,
          -0.2,
          -0.2,
          -0.2,
          -0.2,
          -0.2,
          -0.2,
          -0.2,
          -0.2,
          -0.2,
          -0.2,
          -0.2,
          -0.2,
          -0.2,
          -0.2,
          -0.2,
          -0.2,
          -0.2,
          -0.2,
          -0.2,
          -0.2,
          -0.2,
          -0.2,
          -0.2,
          -0.2,
          -0.2,
          -0.2,
          -0.2,
          -0.2,
          -0.2,
          -0.2,
          -0.2,
          -0.2,
          -0.2,
          -0.2,
          -0.2,
          -0.2,
          -0.2,
          -0.2,
          -0.2,
          -0.2,
          -0.2,
          -0.2,
          -0.2,
          -0.2,
          -0.2,
          -0.2,
          -0.2,
          -0.2,
          -0.2,
          -0.2,
          -0.2,
          -0.2,
          -0.2,
          -0.2,
          -0.2,
          -0.2,
          -0.2,
          -0.3,
          -0.3,
          -0.3,
          -0.3,
          -0.3,
          -0.3,
          -0.3,
          -0.3,
          -0.3,
          -0.3,
          -0.3,
          -0.3,
          -0.3,
          -0.3,
          -0.3,
          -0.3,
          -0.3,
          -0.3,
          -0.3,
          -0.3,
          -0.3,
          -0.3,
          -0.3,
          -0.3,
          -0.3,
          -0.3,
          -0.3,
          -0.3,
          -0.3,
          -0.3,
          -0.3,
          -0.3,
          -0.3,
          -0.3,
          -0.3,
          -0.3,
          -0.3,
          -0.3,
          -0.3,
          -0.3,
          -0.3,
          -0.3,
          -0.3,
          -0.3,
          -0.3,
          -0.3,
          -0.3,
          -0.3,
          -0.3,
          -0.3,
          -0.3,
          -0.3,
          -0.3,
          -0.3,
          -0.3,
          -0.3,
          -0.3,
          -0.3,
          -0.3,
          -0.3,
          -0.4,
          -0.4,
          -0.4,
          -0.4,
          -0.4,
          -0.4,
          -0.4,
          -0.4,
          -0.4,
          -0.4,
          -0.4,
          -0.4,
          -0.4,
          -0.4,
          -0.4,
          -0.4,
          -0.4,
          -0.4,
          -0.4,
          -0.4,
          -0.4,
          -0.4,
          -0.4,
          -0.4,
          -0.4,
          -0.4,
          -0.4,
          -0.4,
          -0.4,
          -0.4,
          -0.4,
          -0.4,
          -0.4,
          -0.4,
          -0.4,
          -0.4,
          -0.4,
          -0.4,
          -0.4,
          -0.4,
          -0.4,
          -0.5,
          -0.5,
          -0.5,
          -0.5,
          -0.5,
          -0.5,
          -0.5,
          -0.5,
          -0.5,
          -0.5,
          -0.5,
          -0.5,
          -0.5,
          -0.5,
          -0.5,
          -0.5,
          -0.5,
          -0.5,
          -0.5,
          -0.5,
          -0.5,
          -0.5,
          -0.5,
          -0.5,
          -0.5,
          -0.5,
          -0.6,
          -0.6,
          -0.6,
          -0.6,
          -0.6,
          -0.6,
          -0.6,
          -0.6,
          -0.6,
          -0.6,
          -0.6,
          -0.7,
          -0.7,
          -0.7,
          -0.7,
          -0.7,
          -0.7,
          -0.7,
          -0.7,
          -0.7,
          -0.8,
          -0.8,
          -0.8,
          -0.8,
          -0.9,
          -0.9,
          -1,
          -1,
          -1.1,
          -1.1
         ],
         "xaxis": "x",
         "y": [
          243.75,
          262.25,
          292.08110235730874,
          226.5,
          171,
          180.25,
          205,
          210.25,
          218,
          188.5,
          210.25,
          172.75,
          177.75,
          206,
          189.5,
          198.5,
          178.75,
          192.75,
          199.5,
          191.75,
          172.75,
          157,
          194.25,
          180.75,
          172.5,
          152.25,
          173,
          160.5,
          140,
          155.25,
          150,
          175,
          155.75,
          140,
          103.25,
          101.25,
          156,
          169.25,
          129.25,
          161.25,
          138.25,
          167.5,
          111,
          147.75,
          177.75,
          171.5,
          159.25,
          161.75,
          164,
          142.25,
          147,
          163,
          176,
          148.5,
          106,
          145,
          142,
          132.5,
          111.25,
          134.25,
          136.25,
          133.75,
          144,
          171.25,
          140.5,
          108.25,
          149.5,
          164,
          125.5,
          126.75,
          121.25,
          149.5,
          45.25,
          150.5,
          120.5,
          145.25,
          120.75,
          151.5,
          149,
          133,
          149,
          108.25,
          139.25,
          115,
          118.5,
          136.5,
          155.25,
          138.75,
          139.25,
          139.5,
          144.75,
          124.75,
          126,
          92.75,
          141.25,
          129,
          117.25,
          117.5,
          138.25,
          125,
          97.25,
          69,
          84,
          86.75,
          141.75,
          103.25,
          150,
          119.5,
          105.5,
          114,
          89.5,
          74.75,
          111.75,
          135.75,
          98.75,
          139,
          127,
          95,
          132.75,
          135.5,
          131.25,
          103.5,
          100,
          139.25,
          90.75,
          131.5,
          117,
          122,
          134.25,
          131,
          103.5,
          102,
          130,
          92.5,
          113.25,
          119,
          119.25,
          104.25,
          121.75,
          129.5,
          106.25,
          109.5,
          93.5,
          114.25,
          104,
          121.25,
          102.5,
          128.25,
          96.75,
          110.5,
          118.5,
          97,
          127,
          105.25,
          69.5,
          140.25,
          121,
          120.25,
          112.75,
          127,
          76.25,
          93,
          92,
          108.25,
          87.5,
          45.25,
          94.25,
          105.75,
          87,
          94.25,
          110.5,
          128.25,
          105.75,
          135,
          103.75,
          93.5,
          113.75,
          86.75,
          112.75,
          92.75,
          43.5,
          94.25,
          83.25,
          106.75,
          123,
          92,
          128.25,
          95,
          81.25,
          65,
          115.25,
          80.5,
          56,
          122.25,
          84,
          106.5,
          77,
          85.5,
          90.25,
          46,
          100.5,
          106.25,
          50.75,
          78.75,
          54,
          116.25,
          43.75,
          55.5,
          107,
          77.75,
          89.75,
          103,
          97.5,
          87.25,
          66.75,
          83.25,
          63,
          99,
          84,
          101,
          91.25,
          63.25,
          55,
          63,
          119.5,
          73,
          68.75,
          116.25,
          68,
          90,
          63.75,
          73,
          110,
          99.25,
          46.25,
          57.75,
          92.75,
          81.75,
          71.25,
          96.75,
          72,
          61,
          57.5,
          109.5,
          52.5,
          78.75,
          26.5,
          19.25,
          94,
          85.75,
          88,
          37.25,
          60.75,
          91,
          80,
          53,
          92,
          84.75,
          50.75,
          33.5,
          43,
          76.5,
          66.75,
          66,
          57.25,
          53.5,
          44,
          48.25,
          83.75,
          49.5,
          66.5,
          48.25,
          53,
          46.75,
          49.25,
          124.25,
          55,
          42.25,
          54.5,
          57.25,
          71.75,
          55.75,
          44.25,
          84,
          50.25,
          44.75,
          67.25,
          53.75,
          96.75,
          59.75,
          79.75,
          45.25,
          101.75,
          48,
          65.75,
          50.25,
          55.25,
          71.5,
          50.25,
          58.25,
          28.25,
          34.75,
          51.5,
          85.25,
          41.25,
          50.75,
          45.25,
          44,
          67.75,
          47.25,
          36.5,
          42.25,
          42.75,
          58.5,
          53,
          51.5,
          60.75,
          68.5,
          52.5,
          40.5,
          47.25,
          42.25,
          49.75,
          42.75,
          79.25,
          48.25,
          46,
          58,
          53.25,
          50.25,
          66.25,
          44.75,
          89.5,
          40.5,
          62,
          73,
          51.75,
          51.5,
          51.75,
          88.5,
          55.5,
          51.75,
          25,
          40.75,
          23.75,
          47.5,
          47,
          37.25,
          67.25,
          37,
          56,
          33.75,
          31.25,
          47.75,
          64.75,
          53.25,
          54.25,
          51.25,
          57.75,
          59.5,
          41.75,
          68,
          50.25,
          32,
          26.5,
          52,
          53.5,
          41,
          35.25,
          49.75,
          41.75,
          41,
          42,
          45.25,
          67.5,
          51.25,
          53.5,
          47.75,
          98.5,
          50,
          47.25,
          45.5,
          44.75,
          55.5,
          38,
          50.25,
          44.5,
          47.25,
          34.5,
          47.5,
          33.5,
          49,
          43.25,
          46.25,
          40.75,
          26,
          41,
          40.25,
          21.75,
          19,
          40.25,
          98,
          48.5,
          15,
          47.75,
          47,
          31.25,
          42.25,
          42.25,
          76,
          42.5,
          41.5,
          65,
          46,
          54.25,
          16,
          38.5,
          28,
          43.25,
          14,
          46.5,
          30.25,
          38.5,
          36.25,
          47.75,
          48,
          46,
          45.25,
          49.75,
          46,
          83.75,
          38,
          41.25,
          43.75,
          49.5,
          51,
          42.5,
          21.5,
          35.5,
          28.75,
          38.5,
          29,
          44.75,
          52,
          28.5,
          65,
          44.25,
          23,
          67.25,
          28.25,
          33.5,
          50.5,
          53.75,
          53.75,
          25.5,
          45,
          30.25,
          55,
          55.75,
          44.75,
          47.25,
          68.5,
          34,
          38.25,
          37,
          30,
          46,
          41,
          38.25,
          36.75,
          29.25,
          16.5,
          23.75,
          18.5,
          48,
          31.75,
          24,
          23,
          35.5,
          13.25,
          13,
          39,
          18.5,
          47.75,
          30.25,
          39.75,
          39.5,
          48.5,
          42.5,
          33.25,
          20,
          31.5,
          49.5,
          22,
          35.75,
          37,
          38.75,
          29.5,
          20.75,
          50.5,
          42,
          24,
          46.5,
          22.5,
          45.25,
          43.25,
          17.5,
          13.25,
          37,
          19,
          42.25,
          47.75,
          25.75,
          36.75,
          40,
          42.25,
          49.25,
          41,
          29.25,
          26.75,
          1.25,
          56.75,
          41.25,
          16.75,
          38.75,
          20,
          12.25,
          39.25,
          46.25,
          38.25,
          45.5,
          44.25,
          39.75,
          34,
          83,
          27,
          14.25,
          29.5,
          5,
          39.25,
          37,
          33.5,
          40,
          31.25,
          45.25,
          42.75,
          26.25,
          54.75,
          17.25,
          42,
          41.25,
          33.75,
          39.75,
          12,
          46.5,
          11.75,
          36.75,
          14,
          13.5,
          15.25,
          23,
          49,
          23.75,
          35.5,
          3.25,
          48.75,
          18,
          50.75,
          43,
          29.5,
          52.25,
          15,
          40.5,
          5.5,
          50,
          43.75,
          9.25,
          37.5,
          40.5,
          36.25,
          16,
          4.75,
          42.25,
          48.5,
          35.5,
          13.75,
          32.25,
          11.5,
          4.5,
          42,
          43.75,
          13,
          18.25,
          28.5,
          46.5,
          29.25,
          68,
          36.75,
          16.5,
          47.25,
          18.75,
          18,
          4.5,
          42.25,
          39.75,
          56.5,
          42,
          47.5,
          8.25,
          61,
          54.75,
          11.5,
          42.25,
          6,
          37.75,
          13.5,
          3,
          57.25,
          46,
          3.75,
          38.25,
          39.25,
          6,
          26.5,
          38.5,
          31.25,
          40.75,
          4.75,
          44,
          40.25,
          36,
          4.5,
          4.5,
          5.25,
          3.75,
          1.75,
          4,
          41.75,
          51.25,
          14.5,
          2,
          9.75,
          37.5,
          20.75,
          3.75,
          28.5,
          37.25,
          37,
          37.25,
          32.25,
          31.25,
          2.75,
          60.25,
          61.5,
          38.5,
          35.25,
          21,
          43.5,
          4.5,
          32.25,
          6.5,
          8.25,
          10,
          50.5,
          5.25,
          38.75,
          2.75,
          39.75,
          44.5,
          33.5,
          3.75,
          2.25,
          36.25,
          9,
          5,
          4.25,
          9,
          42.5,
          4.25,
          51.5,
          29.5,
          89,
          5.25,
          4.5,
          40.5,
          37.75,
          37.25,
          44.75,
          10.5,
          27,
          62,
          10.25,
          37.5,
          12,
          11,
          46.5,
          5,
          38.5,
          14.75,
          40.5,
          42,
          37.75,
          36.75,
          35.5,
          41.5,
          9.5,
          18.75,
          44,
          37.75,
          36,
          32.75,
          43,
          83,
          28,
          12,
          42,
          43.5,
          10.5,
          32.25,
          37.75,
          36.5,
          36,
          34,
          30.75,
          39.25,
          18,
          34,
          37.25,
          15,
          41.75,
          25,
          8.75,
          33.75,
          35.5,
          33.75,
          42.75,
          28.5,
          41,
          50.5,
          41.75,
          40,
          27,
          42.75,
          7.25,
          43.5,
          49,
          9.25,
          37.75,
          2.25,
          40.25,
          6,
          16.5,
          30.75,
          34.5,
          33.5,
          37,
          32.25,
          37.75,
          35.5,
          15,
          64.5,
          15.25,
          25,
          37.5,
          42,
          36.25,
          36,
          13.75,
          35.25,
          40.25,
          26,
          36,
          38,
          37.75,
          37.25,
          21.75,
          36,
          41,
          39,
          35,
          32.25,
          42,
          46.25,
          30.5,
          38.5,
          34.75,
          44.5,
          36.25,
          29,
          35.75,
          32.5,
          41.75,
          36.25,
          31,
          35.25,
          40.75,
          8.25,
          36.75,
          28.25,
          32,
          24.75,
          24,
          26.75,
          15.5,
          37.25,
          33,
          24,
          45.5,
          30,
          31.5,
          29.25,
          65.25,
          27.75,
          32.75,
          40.75,
          37.25,
          37,
          32.75,
          33,
          34.25,
          38,
          59.25,
          40.5,
          33.5,
          33.25,
          27.5,
          26.25,
          29,
          39.5,
          31,
          36.75,
          28.25,
          21.75,
          37.5,
          39.25,
          26.75,
          30,
          23.25,
          29.75,
          33.25,
          31,
          33.5,
          29.75,
          23.75,
          34.25,
          31,
          29.5,
          35,
          27.5,
          28.25,
          46.25,
          26.5,
          34.25,
          29.5,
          32.75,
          29,
          36,
          27,
          66.25,
          28,
          30.5,
          31,
          33.25,
          41.25,
          31.25,
          38.5,
          30,
          27.75,
          31.25,
          25.5,
          30.25,
          27,
          25,
          32.25,
          34.75,
          35.25,
          22.5,
          47.25,
          32.75,
          28.25,
          29,
          29.25,
          31.5,
          22.25,
          27.75,
          24.75,
          24.5,
          18.5,
          37.75,
          29.75,
          14.5,
          19.5,
          21.5,
          41.25,
          18,
          31.75,
          21.25,
          26,
          22.75,
          52.25,
          24.75,
          47.75,
          30,
          31,
          24.25,
          20.75,
          34.5,
          11,
          34,
          304.17331993131836,
          275.95827135877533,
          280.2419931653077,
          303.13192281640414,
          287.02816145020745,
          245.81045780464288,
          222.1394243455054,
          265.6144853554673,
          265.49903292146047,
          247.73359140389124,
          256.56933115999084,
          244.13882155845081,
          251.53082662871282,
          264.4994654952445,
          243.6091875157934,
          233.98726369398443,
          229.6100375517447,
          268.7484706303426,
          252.69354598046553,
          242.81779826803003,
          267.24703199115766,
          245.53379458362735,
          252.4115117176642,
          215.68930693066355,
          249.86920615610154,
          255.70716455462326,
          249.6998159651169,
          213.72594189909645,
          248.90893149564073,
          242.60733287758745,
          243.28439253131634,
          222.860497878501,
          233.9401890563432,
          235.06332537646378,
          206.16819865936353,
          209.1475293968933,
          205.58133096126767,
          219.72148266014838,
          219.3805389657646,
          202.81017408020998,
          208.84322971003144,
          242.56526601286606,
          225.10326283366248,
          161.78307954456037,
          214.0359652759174,
          184.1968484971231,
          209.30933403999836,
          186.25326091317348,
          203.49963940346635,
          174.35421854489607,
          159.8281320082414,
          218.68893575966823,
          159.62093461679052,
          198.25194292484352,
          224.8965493964731,
          232.71473928558038,
          166.0674255216094,
          224.30524863313886,
          166.0418370646193,
          218.27186535789536,
          106.77754810327416,
          206.41634819238024,
          181.79417481053807,
          179.95083484291195,
          163.41252787545244,
          154.00889580398226,
          137.0669315995054,
          214.58204092505477,
          148.3204900415302,
          167.2761444322263,
          179.23863510967493,
          162.82273338488054,
          192.08990735231637,
          177.83384605504207,
          226.6450525053241,
          207.08321573683853,
          220.57447785360057,
          159.01917555859862,
          177.57432798177948,
          157.72618330630493,
          168.9006731941837,
          187.16717783308619,
          72.3908635707131,
          130.54306467811594,
          184.44801701689596,
          198.13850466623822,
          200.35613517200744,
          200.71449503550338,
          158.7825196281781,
          178.17027487208074,
          205.01449662887495,
          107.18053757532017,
          135.95797047427297,
          202.22982450403717,
          197.66342611763312,
          74.34326954261005,
          206.60697282787916,
          240.9843011071912,
          117.01830879625012,
          183.768108585956,
          216.3612114464035,
          198.12539635782636,
          157.52157537851787,
          157.73709173060422,
          104.1280639111545,
          143.88657168076648,
          196.44913960956097,
          160.30924439171315,
          194.65553516907585,
          134.86070995978676,
          134.54429724169145,
          127.03004745244866,
          116.98771565285038,
          178.36518925893148,
          160.65698412014234,
          191.90133478675753,
          118.94943030311964,
          212.83943011174975,
          206.53865197730295,
          210.379122189711,
          109.9584628217823,
          182.5856268215279,
          216.85440824476055,
          122.64988248067323,
          125.86829442035301,
          147.11276249181742,
          162.14648869984225,
          74.71898537273422,
          198.18037414362948,
          193.18699533228846,
          134.630789595205,
          168.2899152173951,
          157.3235215664466,
          112.76162736903525,
          109.52211055020048,
          233.28924416471665,
          137.72875383491456,
          157.7427639673832,
          175.32283529245882,
          134.84368223880597,
          89.24043176457583,
          155.53457711582698,
          56.35453341212177,
          167.75708535099335,
          183.42813346073976,
          102.90327423377457,
          113.57008660135936,
          123.2501602007579,
          64.7666906411239,
          154.11798453784937,
          89.57579338401204,
          197.61620919435381,
          143.6216277344994,
          171.36076933824452,
          166.95919558313287,
          181.00807204850713,
          159.74207666584172,
          95.691392762759,
          144.32060572651292,
          149.54921274221522,
          86.10493908510439,
          79.48099550516665,
          148.39616515292124,
          115.88871547997218,
          115.94448164363362,
          67.2639906411239,
          162.63312782012218,
          67.71939611024037,
          116.37374059977154,
          143.87739188083336,
          164.2210404634006,
          134.0442066101687,
          123.13592729499906,
          156.1059963695577,
          99.59797020989741,
          103.93358023383959,
          148.7795919038723,
          123.75712745913161,
          163.59895867158207,
          147.5191620687452,
          89.67100959870167,
          64.34416251758974,
          57.128922557865515,
          183.6974662525923,
          145.8491988112692,
          99.26652893330943,
          103.14743415163375,
          193.92117943050383,
          121.79392620716918,
          197.08179437494599,
          179.86104196246734,
          96.71898822667647,
          191.02023271204064,
          98.04173428036391,
          131.920525496937,
          138.0870767501114,
          211.9304265793568,
          196.91548904349986,
          112.43963439405553,
          146.00512374489264,
          156.94468761900686,
          130.17220542551067,
          178.2545767063995,
          93.95808434553449,
          149.31332512956334,
          143.54697171046897,
          116.65199149193083,
          149.71868665654594,
          104.97431632469197,
          80.06678785937375,
          166.00520308467745,
          218.36281095153032,
          102.01271522065487,
          92.51160576818806,
          172.85100166792063,
          170.91894195709222,
          151.0105380590389,
          195.70996329554163,
          124.3700138533112,
          110.52798127052135,
          67.335179702891,
          79.68796562112304,
          191.5141192125525,
          65.91625157935681,
          64.17480157935681,
          113.3390617046326,
          104.31585902593966,
          63.4982406411239,
          111.06605080140488,
          112.61308621150327,
          142.47424559160575,
          141.6772421256624,
          156.77917987814536,
          85.48968080101213,
          91.2901810903748,
          106.18841833374806,
          135.91571504089526,
          98.27540002272006,
          205.54425202934377,
          84.35648506394134,
          86.07607068085504,
          135.49739637097684,
          157.23888662910727,
          94.75914676175125,
          139.7565331121379,
          161.1841072372681,
          65.65905157935681,
          110.60411397635623,
          140.15436790588743,
          110.64518986317198,
          87.69305733473016,
          124.26160576818808,
          145.63700951997598,
          75.60289860809401,
          51.70293382832431,
          97.75830365376069,
          65.65725157935681,
          158.47604732041307,
          162.5664258014049,
          199.84252615395334,
          87.87027644845314,
          126.83001181255977,
          63.95542892493909,
          84.72638758438192,
          101.56432123426687,
          101.58443431353108,
          104.50342477974216,
          110.30473522808549,
          145.4289468940555,
          155.71913471236712,
          83.87902753395224,
          64.99464064112391,
          124.70680549980456,
          155.26080256185327,
          140.44064812169984,
          72.42251985659328,
          61.74642345582262,
          85.06161693693355,
          67.86042423377457,
          46.73413645655662,
          165.16326919676519,
          71.11293305037239,
          91.62227964440062,
          170.3007261894015,
          128.3168065393336,
          94.90474282693829,
          61.52616798670617,
          82.09188003846148,
          95.72078026862222,
          55.06161235720384,
          75.72350557305579,
          137.44449880247475,
          73.41546562112305,
          73.36946598910042,
          63.30816251758973,
          90.56806251758972,
          81.15241242512138,
          141.73648318007633,
          41.73673763663519,
          141.31812914792076,
          64.82076251758973,
          58.34072383982514,
          84.72275725527321,
          84.68025792787232,
          89.2351906411239,
          62.58114404435158,
          107.1850286841641,
          62.39825157935681,
          92.06422020989741,
          137.70632892493907,
          52.39833387257178,
          59.63100901629423,
          154.2694881987841,
          82.12554021038557,
          162.85037033228846,
          118.98136926936031,
          106.84673671159878,
          160.87358092869204,
          154.10036340787852,
          176.80515279153693,
          79.62908349425042,
          172.3286958713376,
          149.27513620180022,
          54.37211264872261,
          62.9820406411239,
          197.1374086845403,
          88.7536062803657,
          64.61222423377457,
          92.90363439405553,
          62.729773455822624,
          101.29079114380674,
          87.86280880702739,
          70.04263149399941,
          61.06536251758971,
          42.505818697599345,
          70.96921798670617,
          79.17840520114946,
          112.50360517292697,
          81.71807107590651,
          99.14392774130057,
          81.39433899595687,
          81.91279740507143,
          79.01922519684064,
          85.77332634847805,
          102.16604598889103,
          65.02753517200746,
          62.196428924939084,
          135.08234647832631,
          57.85282906578052,
          63.68609611024037,
          65.067179702891,
          63.57706251758973,
          108.7348257215128,
          62.76581798670617,
          60.39238439405554,
          65.7279906411239,
          133.66674170184612,
          73.68806853467227,
          99.2201078252687,
          56.35076284890127,
          96.07815653419223,
          62.06221251758971,
          63.88835157935682,
          60.60003986317198,
          68.42100550002154,
          129.4366287633016,
          62.896001579356806,
          78.09574909422355,
          25.177490938402023,
          76.99275059540183,
          62.01806798670617,
          83.60005704847327,
          61.431128924939074,
          83.08890498447238,
          63.935196110240355,
          118.30132589957047,
          110.36876437600782,
          60.80681251758973,
          60.95857328261987,
          62.81311251758971,
          66.42576329554166,
          62.51536798670617,
          111.13439836468517,
          63.60320704847327,
          65.59737423377456,
          63.09735704847328,
          62.31446251758971,
          93.26698320286712,
          63.85230704847327,
          81.85512931839456,
          71.57097068483691,
          117.19795280451831,
          63.63880157935682,
          60.01761798670617,
          72.58240924495016,
          62.264917986706166,
          49.640442696734326,
          62.27481798670617,
          46.57771932615366,
          63.09645704847326,
          33.34899276902113,
          61.35095704847327,
          63.893301579356816,
          63.430246110240375,
          62.80906251758973,
          61.935196110240355,
          134.58824522831932,
          133.25219309867978,
          122.794343073318,
          59.67419922791132,
          62.35545704847326,
          62.84195704847327,
          40.51227736186293,
          62.682946110240366,
          62.51403517200746,
          73.75043392971452,
          70.22965328097065,
          62.349157048473266,
          49.31480999714922,
          64.7288906411239,
          61.89105157935681,
          62.305912517589725,
          38.67186822377541,
          42.242477351445494,
          29.512814451453472,
          69.7853376470873,
          58.816173143838824,
          24.85248382502279,
          36.51903564961015,
          89.93558738360623,
          21.758744306622443,
          60.84195704847327,
          62.42799611024037,
          115.09458883922326,
          17.128793448946308,
          87.71835037889956,
          145.67289393596232,
          96.32804623102098,
          121.3915676619091,
          62.67167892493907,
          60.25681798670617,
          91.57455598445175,
          182.53753701544187,
          24.878485160280977,
          19.43983203674679,
          51.873574601208944,
          61.679796110240375,
          36.932208037037576,
          62.83072423377455,
          62.456840641123904,
          107.89857854507413,
          54.41846094849358,
          38.91634532056195,
          131.45574122595,
          36.43704816321926,
          64.89204721885024,
          42.68545468721198,
          48.253241844964634,
          94.23723074711188,
          52.48055631609899,
          32.2187352862014,
          98.77231537817966,
          64.38070157935681,
          60.71717345582263,
          62.590157048473266,
          96.90765225119839,
          96.64631988334776,
          61.72122345582264,
          90.81741199895511,
          59.67662892493908,
          24.02707417787038,
          62.099157048473266,
          58.84688986317199,
          16.85595794061915,
          87.17677010140969,
          18.370825518679286,
          20.647787580616946,
          75.08726339258374,
          64.35404100715871,
          79.97219411608597,
          34.57163750586324,
          90.77253040297073,
          70.53723986830232,
          59.974373455822615,
          86.3292658650711,
          18.050089711652568,
          29.149563932896754,
          56.730299519771236,
          39.73608387304076,
          62.46402345582263,
          60.839257048473264,
          63.005917986706166,
          36.195652504761895,
          60.97212345582261,
          37.25246220827369,
          21.06601219873454,
          63.47201004608703,
          64.88565157935682,
          62.30681251758973,
          60.01041798670617,
          47.23265658353653,
          35.33752486020703,
          76.38952011132257,
          59.09958986317198,
          71.56675318133188,
          65.75913570706525,
          119.48441745612621,
          19.915096742629142,
          97.68431260230668,
          101.1055256655862,
          62.25726798670617,
          61.264917986706166,
          30.079897963866372,
          44.314944420219014,
          59.20283422150912,
          58.83582430662955,
          61.71717345582263,
          61.22077345582264,
          60.761317986706175,
          34.944441518718634,
          63.340157048473266,
          36.77525684776683,
          59.17527892493908,
          59.170778924939086,
          60.172128924939074,
          63.33747423377456,
          60.345089863171985,
          78.64978711174884,
          34.449294514571015,
          59.270447429022944,
          62.42529611024037,
          28.19544826158375,
          32.107082231557506,
          21.791705237251332,
          62.9635906411239,
          36.56093962381387,
          38.020118192901734,
          59.505900801404884,
          61.59375704847327,
          79.18037854241031,
          61.59103986317198,
          60.92707892493908,
          127.01258533364495,
          61.47167345582261,
          61.7050406411239,
          61.83340704847327,
          91.78294566869025,
          17.3568009677433,
          59.377084394055544,
          15.866536059143803,
          18.13700550613454,
          32.68333117235577,
          58.216706270521335,
          21.77313807034231,
          93.87123049256941,
          60.712223455822624,
          59.99286798670617,
          61.79016251758973,
          90.2206901224893,
          82.59514422564861,
          76.96346877573866,
          63.16525789348395,
          60.66854611024036,
          147.9702804150113,
          61.37258439405554,
          97.33554149001725,
          75.48991489167167,
          68.56288165782452,
          33.30477741617043,
          58.13021720875425,
          60.87215157935681,
          59.62258439405554,
          32.960420743067296,
          23.55627312503526,
          61.45367345582264,
          61.16404611024036,
          16.733401966816725,
          61.58700704847326,
          12.584764365888454,
          43.98839302527138,
          59.74511798670618,
          58.17122892493907,
          60.50276798670616,
          59.28699533228845,
          58.540595332288426,
          59.83293986317198,
          37.96811527395084,
          58.91672892493908,
          174.46645080213779,
          60.24151798670617,
          118.1579263081412,
          25.96086348068971,
          61.3762015793568,
          61.081157048473266,
          38.07117417730402,
          59.38068439405552,
          59.462673455822625,
          55.84861411349533,
          60.79241251758973,
          61.99783517200746,
          130.93044072526203,
          21.764976302013256,
          58.875267208754245,
          60.33295704847327,
          17.616640678933464,
          60.28611251758972,
          60.75141798670617,
          58.913111739637806,
          14.511166235047334,
          60.330257048473264,
          60.423028924939075,
          37.13169941613227,
          18.971028461255845,
          22.598092461165933,
          61.005017986706164,
          82.58883153167424,
          23.112413730155133,
          156.13411799476813,
          62.32442423377456,
          56.26398086568172,
          21.398988209061468,
          140.04500857821373,
          72.38667465917801,
          55.56090190941437,
          59.08743986317199,
          60.84013986317198,
          63.08655704847326,
          59.50186798670616,
          59.838339863171974,
          29.29148510494871,
          61.74511798670618,
          61.787912517589724,
          13.746446608879108,
          96.08213311242187,
          59.28971251758973,
          59.50276798670616,
          59.54734533228844,
          28.6280519482197,
          78.19235463266891,
          59.83473986317198,
          35.0289182153166,
          65.88817400498611,
          57.914028924939075,
          58.127534394055544,
          64.61086355708555,
          60.505017986706164,
          138.89867871112392,
          186.3802162262578,
          62.043762517589705,
          13.318134231863908,
          57.671661739637806,
          89.20982299406508,
          67.48790080140488,
          59.37663439405554,
          17.45193343534819,
          90.57721487489846,
          57.28204533228843,
          27.65220019778979,
          58.57483986317198,
          60.78116251758971,
          53.26833718571072,
          57.95140627052134,
          55.33706888265577,
          23.530442974979696,
          58.66627892493908,
          99.98062804129823,
          61.4455906411239,
          60.28701251758972,
          61.28341251758972,
          32.08270902879679,
          62.484785172007456,
          58.665811739637796,
          83.78433898817796,
          161.66938127125428,
          59.40682892493908,
          57.36898439405554,
          62.40819611024037,
          58.74781798670617,
          59.49286798670617,
          27.94269536158473,
          59.73926798670617,
          62.70766008985395,
          57.449606270521336,
          58.621234394055534,
          60.161778924939085,
          59.23656798670616,
          60.993767986706175,
          30.89928076171982,
          28.21348793851775,
          99.06880737544671,
          59.615834394055526,
          33.35942946034901,
          58.77981251758971,
          58.86673439405553,
          32.330608604377126,
          59.41402892493909,
          152.1498669662167,
          49.353110167610026,
          61.077557048473274,
          62.071707048473264,
          66.02711144307689,
          58.28789533228842,
          100.66437294645917,
          42.011742245548824,
          27.549398856013255,
          15.68151178324358,
          129.87158728172537,
          57.66356173963779,
          32.82128014867063,
          57.99195080140489,
          59.27711251758971,
          58.82393986317198,
          58.70052345582263,
          59.827539863171985,
          59.86988439405553,
          59.49286798670617,
          62.150546110240356,
          57.62168439405553,
          58.90772892493908,
          57.78609533228845,
          60.69917345582263,
          101.3659423011636,
          161.31648336643832,
          69.85532665562482,
          60.20457345582264,
          58.03251251758972,
          57.661761739637804,
          57.49195080140489,
          11.714173854419393,
          57.866284394055526,
          60.951423455822635,
          65.00894861728246,
          58.61448439405552,
          106.79279743128794,
          58.74960080140489,
          60.287462517589724,
          82.16519927718431,
          60.82620704847327,
          60.74061798670617,
          98.36925555417565,
          94.02627233609344,
          60.15772892493908,
          43.52834885797127,
          58.78521251758972,
          32.40184969087428,
          57.36896720875425,
          40.09764904116882,
          60.07843986317199,
          59.65817892493908,
          59.61718439405553,
          45.964714074959396,
          60.90414611024036,
          56.86628439405553,
          64.10640157935681,
          30.079693902799207,
          60.80865704847327,
          58.647378924939076,
          59.854584394055536,
          58.73520080140489,
          149.77534886103507,
          57.736550801404896,
          58.15052892493908,
          65.56306931574179,
          60.89109611024037,
          27.369514224754838,
          59.48296798670617,
          81.69415103981784,
          61.265879702891006,
          59.738367986706166,
          57.56538986317198,
          57.32213986317198,
          58.90007892493908,
          60.194673455822624,
          59.070789863171974,
          73.66377759764565,
          58.01899533228845,
          58.19332345582262,
          58.64872892493908,
          59.47891798670618,
          35.772848373340814,
          47.75128209374616,
          56.99195080140489,
          75.47585063976742,
          59.227117986706176,
          58.35818439405554,
          58.695123455822625,
          59.069439863171986,
          57.89962892493908,
          57.23475080140489,
          56.20266638944148,
          59.15277892493907,
          58.28069533228844,
          58.688823455822615,
          57.249907264605525,
          59.02171251758973,
          59.06403986317198,
          56.52934533228843,
          60.10728439405554,
          60.906165931178826,
          58.94017345582262,
          57.06583986317198,
          58.521695332288424,
          58.76856251758972,
          61.39919611024037,
          57.65232892493907,
          57.1581617396378,
          57.522595332288425,
          58.31943986317197,
          58.89602892493909,
          59.64827892493908,
          58.07393986317198,
          58.35503439405554,
          59.35773439405554,
          59.27351251758973,
          154.20054893392822,
          57.940623455822625,
          59.14782892493908,
          57.03474533228844,
          57.27664533228844,
          60.55955704847327,
          58.14602892493909,
          58.76766251758972,
          56.737900801404884,
          42.828273911953836,
          58.85593439405554,
          59.94422345582262,
          58.56898986317197,
          58.104134394055535,
          58.68792345582264,
          109.52869077606942,
          62.6775906411239,
          57.67847345582262,
          59.258212517589705,
          57.26314533228843,
          57.59693439405553,
          55.60141720875424,
          58.59558439405552,
          56.853217208754245,
          70.98190513200142,
          57.099184394055534,
          57.559089863171984,
          57.809539863171985,
          58.01539533228844,
          57.34243439405552,
          58.517195332288445,
          57.22890080140488,
          57.14107892493908,
          55.720350801404884,
          57.80233986317197,
          58.767195332288445,
          56.67757345582262,
          58.10098439405553,
          59.749486704267696,
          57.4009617396378,
          60.514062517589714,
          57.767645332288446,
          57.3987117396378,
          60.173090641123906,
          59.178473455822626,
          56.31493986317198,
          58.10548439405554,
          124.81854369296421,
          57.310439863171986,
          57.350534394055536,
          56.52259533228843,
          57.47620080140489,
          57.85188439405553,
          59.72171798670617,
          57.05638986317198,
          56.93520627052135,
          57.6428617396378,
          94.19310698748986,
          56.18430627052135,
          57.63207892493908,
          58.508662517589705,
          55.92890627052134,
          59.18162345582263,
          57.58883439405553,
          58.93207345582263,
          58.34648439405552,
          58.35098439405553,
          56.85771720875424,
          56.93745627052135,
          58.09333439405552,
          58.51944533228845,
          55.8937617396378,
          55.645561739637806,
          58.604134394055535,
          59.053689863171975,
          55.69420627052135,
          60.25551251758973,
          57.37487892493908,
          55.26087814698715,
          56.38207892493908,
          56.79693986317198,
          55.71540080140489,
          61.88767316073232,
          57.08973439405553,
          105.54408204082807,
          158.4629266649824,
          55.75549533228843,
          56.50909533228844,
          56.25819533228844,
          54.34556720875423,
          55.9622508014049,
          56.46810080140488,
          57.879828924939076,
          55.3744117396378,
          56.46630080140489,
          56.33613439405554,
          59.09378439405552,
          59.871746110240366,
          60.252812517589724,
          56.927556270521336,
          58.087034394055536,
          57.54423986317199,
          54.59151720875424,
          57.38207892493908,
          57.259995332288426,
          56.71990080140488,
          55.17935627052134,
          55.71855080140488,
          56.094234394055526,
          54.88611173963779,
          55.21945080140488,
          55.96585080140489,
          74.7852352712485,
          54.886561739637806,
          56.42215627052134,
          56.75774533228844,
          57.67487345582263,
          56.32488439405552,
          57.37127892493908,
          56.16763908522006,
          57.119478924939074,
          56.54063986317198,
          56.247845332288435,
          55.2127008014049,
          56.53748986317198,
          56.03208986317198,
          55.1221617396378,
          56.582534394055536,
          165.33412487428487,
          57.120828924939076,
          55.83881720875425,
          53.7153836161036,
          56.53343986317197,
          54.6253117396378,
          56.2109008014049,
          54.75099533228844,
          56.377111739637805,
          56.49154533228844,
          54.8820617396378,
          56.87217892493908,
          56.825334394055524,
          55.24649533228843,
          56.035239863171974,
          54.155956270521344,
          53.5280226778707,
          54.82441720875424,
          55.90460627052134,
          54.660006270521336,
          54.94650080140489,
          55.07756720875423,
          54.830267208754236,
          54.8730617396378,
          54.156406270521344,
          54.99514533228843,
          58.342496110240376,
          54.64515627052134,
          54.97894533228843,
          53.82216720875424,
          54.19020080140489,
          55.97849533228843,
          53.023072677870694,
          52.6046117396378,
          55.224462517589714,
          52.842911739637806,
          52.39063908522006,
          51.1050445543365,
          51.525305492569416,
          56.492957048473265,
          52.701045332288444,
          55.60737345582262,
          53.03886720875424,
          51.949678146987154,
          48.53255002345296
         ],
         "yaxis": "y"
        },
        {
         "alignmentgroup": "True",
         "bingroup": "x",
         "hovertemplate": "warp=%{x}<br>count=%{y}<extra></extra>",
         "legendgroup": "",
         "marker": {
          "color": "#636efa"
         },
         "name": "",
         "offsetgroup": "",
         "opacity": 0.5,
         "showlegend": false,
         "type": "histogram",
         "x": [
          6.8,
          6.5,
          6.5,
          5.1,
          5,
          5,
          4.9,
          4.9,
          4.8,
          4.8,
          4.7,
          4.5,
          4.4,
          4.2,
          4.1,
          4,
          3.9,
          3.9,
          3.9,
          3.8,
          3.8,
          3.8,
          3.7,
          3.7,
          3.7,
          3.6,
          3.6,
          3.5,
          3.5,
          3.5,
          3.5,
          3.4,
          3.3,
          3.3,
          3.3,
          3.2,
          3.2,
          3.2,
          3.2,
          3.1,
          3.1,
          3.1,
          3.1,
          3.1,
          3.1,
          3.1,
          3,
          3,
          3,
          2.9,
          2.9,
          2.9,
          2.9,
          2.9,
          2.8,
          2.8,
          2.8,
          2.7,
          2.7,
          2.7,
          2.7,
          2.7,
          2.7,
          2.6,
          2.6,
          2.6,
          2.6,
          2.6,
          2.5,
          2.5,
          2.5,
          2.5,
          2.4,
          2.3,
          2.3,
          2.3,
          2.3,
          2.3,
          2.2,
          2.2,
          2.2,
          2.2,
          2.2,
          2.2,
          2.2,
          2.2,
          2.1,
          2.1,
          2.1,
          2.1,
          2,
          2,
          2,
          2,
          2,
          1.9,
          1.9,
          1.9,
          1.9,
          1.9,
          1.9,
          1.9,
          1.9,
          1.9,
          1.9,
          1.8,
          1.8,
          1.8,
          1.8,
          1.8,
          1.8,
          1.8,
          1.8,
          1.8,
          1.7,
          1.7,
          1.7,
          1.7,
          1.7,
          1.7,
          1.7,
          1.7,
          1.7,
          1.7,
          1.7,
          1.7,
          1.6,
          1.6,
          1.6,
          1.6,
          1.6,
          1.6,
          1.6,
          1.6,
          1.6,
          1.6,
          1.6,
          1.5,
          1.5,
          1.5,
          1.5,
          1.5,
          1.5,
          1.5,
          1.5,
          1.5,
          1.4,
          1.4,
          1.4,
          1.4,
          1.4,
          1.4,
          1.4,
          1.4,
          1.4,
          1.4,
          1.4,
          1.4,
          1.4,
          1.4,
          1.3,
          1.3,
          1.3,
          1.3,
          1.3,
          1.3,
          1.3,
          1.3,
          1.3,
          1.3,
          1.3,
          1.3,
          1.3,
          1.3,
          1.2,
          1.2,
          1.2,
          1.2,
          1.2,
          1.2,
          1.2,
          1.2,
          1.1,
          1.1,
          1.1,
          1.1,
          1.1,
          1.1,
          1.1,
          1.1,
          1.1,
          1.1,
          1.1,
          1,
          1,
          1,
          1,
          1,
          1,
          1,
          1,
          1,
          1,
          1,
          1,
          1,
          1,
          1,
          1,
          1,
          0.9,
          0.9,
          0.9,
          0.9,
          0.9,
          0.9,
          0.9,
          0.9,
          0.9,
          0.8,
          0.8,
          0.8,
          0.8,
          0.8,
          0.8,
          0.8,
          0.8,
          0.8,
          0.8,
          0.8,
          0.8,
          0.8,
          0.8,
          0.8,
          0.8,
          0.8,
          0.8,
          0.8,
          0.8,
          0.8,
          0.8,
          0.8,
          0.8,
          0.8,
          0.8,
          0.8,
          0.8,
          0.7,
          0.7,
          0.7,
          0.7,
          0.7,
          0.7,
          0.7,
          0.7,
          0.7,
          0.7,
          0.7,
          0.7,
          0.7,
          0.7,
          0.7,
          0.7,
          0.7,
          0.7,
          0.7,
          0.7,
          0.6,
          0.6,
          0.6,
          0.6,
          0.6,
          0.6,
          0.6,
          0.6,
          0.6,
          0.6,
          0.6,
          0.6,
          0.6,
          0.6,
          0.6,
          0.6,
          0.6,
          0.6,
          0.6,
          0.6,
          0.6,
          0.6,
          0.6,
          0.6,
          0.6,
          0.6,
          0.6,
          0.6,
          0.6,
          0.6,
          0.6,
          0.6,
          0.6,
          0.6,
          0.5,
          0.5,
          0.5,
          0.5,
          0.5,
          0.5,
          0.5,
          0.5,
          0.5,
          0.5,
          0.5,
          0.5,
          0.5,
          0.5,
          0.5,
          0.5,
          0.5,
          0.5,
          0.5,
          0.5,
          0.5,
          0.5,
          0.5,
          0.5,
          0.5,
          0.5,
          0.5,
          0.5,
          0.5,
          0.5,
          0.5,
          0.5,
          0.5,
          0.5,
          0.5,
          0.5,
          0.5,
          0.5,
          0.5,
          0.5,
          0.5,
          0.4,
          0.4,
          0.4,
          0.4,
          0.4,
          0.4,
          0.4,
          0.4,
          0.4,
          0.4,
          0.4,
          0.4,
          0.4,
          0.4,
          0.4,
          0.4,
          0.4,
          0.4,
          0.4,
          0.4,
          0.4,
          0.4,
          0.4,
          0.4,
          0.4,
          0.4,
          0.4,
          0.4,
          0.4,
          0.4,
          0.4,
          0.4,
          0.4,
          0.4,
          0.4,
          0.4,
          0.4,
          0.4,
          0.4,
          0.4,
          0.4,
          0.4,
          0.4,
          0.4,
          0.4,
          0.4,
          0.4,
          0.4,
          0.4,
          0.4,
          0.3,
          0.3,
          0.3,
          0.3,
          0.3,
          0.3,
          0.3,
          0.3,
          0.3,
          0.3,
          0.3,
          0.3,
          0.3,
          0.3,
          0.3,
          0.3,
          0.3,
          0.3,
          0.3,
          0.3,
          0.3,
          0.3,
          0.3,
          0.3,
          0.3,
          0.3,
          0.3,
          0.3,
          0.3,
          0.3,
          0.3,
          0.3,
          0.3,
          0.3,
          0.3,
          0.3,
          0.3,
          0.3,
          0.3,
          0.3,
          0.3,
          0.3,
          0.3,
          0.3,
          0.3,
          0.3,
          0.3,
          0.3,
          0.3,
          0.3,
          0.3,
          0.3,
          0.3,
          0.3,
          0.3,
          0.3,
          0.3,
          0.3,
          0.3,
          0.3,
          0.3,
          0.3,
          0.3,
          0.2,
          0.2,
          0.2,
          0.2,
          0.2,
          0.2,
          0.2,
          0.2,
          0.2,
          0.2,
          0.2,
          0.2,
          0.2,
          0.2,
          0.2,
          0.2,
          0.2,
          0.2,
          0.2,
          0.2,
          0.2,
          0.2,
          0.2,
          0.2,
          0.2,
          0.2,
          0.2,
          0.2,
          0.2,
          0.2,
          0.2,
          0.2,
          0.2,
          0.2,
          0.2,
          0.2,
          0.2,
          0.2,
          0.2,
          0.2,
          0.2,
          0.2,
          0.2,
          0.2,
          0.2,
          0.2,
          0.2,
          0.2,
          0.2,
          0.2,
          0.2,
          0.2,
          0.2,
          0.2,
          0.2,
          0.2,
          0.2,
          0.2,
          0.2,
          0.2,
          0.2,
          0.2,
          0.2,
          0.2,
          0.2,
          0.1,
          0.1,
          0.1,
          0.1,
          0.1,
          0.1,
          0.1,
          0.1,
          0.1,
          0.1,
          0.1,
          0.1,
          0.1,
          0.1,
          0.1,
          0.1,
          0.1,
          0.1,
          0.1,
          0.1,
          0.1,
          0.1,
          0.1,
          0.1,
          0.1,
          0.1,
          0.1,
          0.1,
          0.1,
          0.1,
          0.1,
          0.1,
          0.1,
          0.1,
          0.1,
          0.1,
          0.1,
          0.1,
          0.1,
          0.1,
          0.1,
          0.1,
          0.1,
          0.1,
          0.1,
          0.1,
          0.1,
          0.1,
          0.1,
          0.1,
          0.1,
          0.1,
          0.1,
          0.1,
          0.1,
          0.1,
          0.1,
          0.1,
          0.1,
          0.1,
          0.1,
          0.1,
          0.1,
          0.1,
          0.1,
          0.1,
          0.1,
          0.1,
          0.1,
          0.1,
          0.1,
          0.1,
          0.1,
          0.1,
          0.1,
          0.1,
          0.1,
          0.1,
          0.1,
          0.1,
          0.1,
          0.1,
          0.1,
          0.1,
          0.1,
          0.1,
          0.1,
          0.1,
          0.1,
          0.1,
          0,
          0,
          0,
          0,
          0,
          0,
          0,
          0,
          0,
          0,
          0,
          0,
          0,
          0,
          0,
          0,
          0,
          0,
          0,
          0,
          0,
          0,
          0,
          0,
          0,
          0,
          0,
          0,
          0,
          0,
          0,
          0,
          0,
          0,
          0,
          0,
          0,
          0,
          0,
          0,
          0,
          0,
          0,
          0,
          0,
          0,
          0,
          0,
          0,
          0,
          0,
          0,
          0,
          0,
          0,
          0,
          0,
          0,
          0,
          0,
          0,
          0,
          0,
          0,
          0,
          0,
          0,
          0,
          0,
          0,
          0,
          0,
          0,
          0,
          0,
          0,
          0,
          0,
          0,
          0,
          0,
          0,
          0,
          0,
          0,
          0,
          0,
          0,
          0,
          -0.1,
          -0.1,
          -0.1,
          -0.1,
          -0.1,
          -0.1,
          -0.1,
          -0.1,
          -0.1,
          -0.1,
          -0.1,
          -0.1,
          -0.1,
          -0.1,
          -0.1,
          -0.1,
          -0.1,
          -0.1,
          -0.1,
          -0.1,
          -0.1,
          -0.1,
          -0.1,
          -0.1,
          -0.1,
          -0.1,
          -0.1,
          -0.1,
          -0.1,
          -0.1,
          -0.1,
          -0.1,
          -0.1,
          -0.1,
          -0.1,
          -0.1,
          -0.1,
          -0.1,
          -0.1,
          -0.1,
          -0.1,
          -0.1,
          -0.1,
          -0.1,
          -0.1,
          -0.1,
          -0.1,
          -0.1,
          -0.1,
          -0.1,
          -0.1,
          -0.1,
          -0.1,
          -0.1,
          -0.2,
          -0.2,
          -0.2,
          -0.2,
          -0.2,
          -0.2,
          -0.2,
          -0.2,
          -0.2,
          -0.2,
          -0.2,
          -0.2,
          -0.2,
          -0.2,
          -0.2,
          -0.2,
          -0.2,
          -0.2,
          -0.2,
          -0.2,
          -0.2,
          -0.2,
          -0.2,
          -0.2,
          -0.2,
          -0.2,
          -0.2,
          -0.2,
          -0.2,
          -0.2,
          -0.2,
          -0.2,
          -0.2,
          -0.2,
          -0.2,
          -0.2,
          -0.2,
          -0.2,
          -0.2,
          -0.2,
          -0.2,
          -0.2,
          -0.2,
          -0.2,
          -0.2,
          -0.3,
          -0.3,
          -0.3,
          -0.3,
          -0.3,
          -0.3,
          -0.3,
          -0.3,
          -0.3,
          -0.3,
          -0.3,
          -0.3,
          -0.3,
          -0.3,
          -0.3,
          -0.3,
          -0.3,
          -0.3,
          -0.3,
          -0.3,
          -0.3,
          -0.3,
          -0.3,
          -0.3,
          -0.3,
          -0.3,
          -0.3,
          -0.3,
          -0.3,
          -0.3,
          -0.3,
          -0.3,
          -0.3,
          -0.3,
          -0.3,
          -0.3,
          -0.3,
          -0.4,
          -0.4,
          -0.4,
          -0.4,
          -0.4,
          -0.4,
          -0.4,
          -0.4,
          -0.4,
          -0.4,
          -0.4,
          -0.4,
          -0.4,
          -0.4,
          -0.4,
          -0.4,
          -0.4,
          -0.4,
          -0.4,
          -0.4,
          -0.4,
          -0.4,
          -0.4,
          -0.4,
          -0.4,
          -0.4,
          -0.4,
          -0.4,
          -0.4,
          -0.4,
          -0.4,
          -0.4,
          -0.4,
          -0.5,
          -0.5,
          -0.5,
          -0.5,
          -0.5,
          -0.5,
          -0.5,
          -0.5,
          -0.5,
          -0.5,
          -0.5,
          -0.5,
          -0.6,
          -0.6,
          -0.6,
          -0.6,
          -0.6,
          -0.6,
          -0.6,
          -0.6,
          -0.6,
          -0.6,
          -0.6,
          -0.7,
          -0.7,
          -0.7,
          -0.7,
          -0.7,
          -0.7,
          -0.7,
          -0.7,
          -0.7,
          -0.7,
          -0.7,
          -0.8,
          -0.8,
          -0.8,
          -0.8,
          -0.9,
          -0.9,
          -1.2,
          3.7,
          3.6,
          3.5,
          3.5,
          3.4,
          3.4,
          3.3,
          3.3,
          3.3,
          3.3,
          3.1,
          3.1,
          3.1,
          3,
          2.9,
          2.8,
          2.8,
          2.8,
          2.7,
          2.7,
          2.5,
          2.3,
          2.3,
          2.2,
          2.2,
          2.2,
          2.2,
          2.2,
          2.2,
          2.1,
          2,
          2,
          2,
          2,
          2,
          1.9,
          1.9,
          1.8,
          1.8,
          1.8,
          1.8,
          1.8,
          1.8,
          1.7,
          1.7,
          1.7,
          1.7,
          1.7,
          1.6,
          1.6,
          1.6,
          1.6,
          1.6,
          1.6,
          1.6,
          1.5,
          1.5,
          1.5,
          1.5,
          1.4,
          1.4,
          1.4,
          1.4,
          1.4,
          1.3,
          1.3,
          1.3,
          1.3,
          1.3,
          1.3,
          1.3,
          1.3,
          1.2,
          1.2,
          1.2,
          1.2,
          1.2,
          1.2,
          1.2,
          1.2,
          1.2,
          1.2,
          1.2,
          1.2,
          1.2,
          1.1,
          1.1,
          1.1,
          1.1,
          1.1,
          1.1,
          1.1,
          1.1,
          1.1,
          1,
          1,
          1,
          1,
          1,
          1,
          1,
          1,
          1,
          1,
          1,
          1,
          1,
          1,
          0.9,
          0.9,
          0.9,
          0.9,
          0.9,
          0.9,
          0.9,
          0.9,
          0.9,
          0.9,
          0.9,
          0.9,
          0.9,
          0.9,
          0.9,
          0.9,
          0.8,
          0.8,
          0.8,
          0.8,
          0.8,
          0.8,
          0.8,
          0.8,
          0.8,
          0.8,
          0.8,
          0.8,
          0.8,
          0.7,
          0.7,
          0.7,
          0.7,
          0.7,
          0.7,
          0.7,
          0.7,
          0.7,
          0.7,
          0.7,
          0.7,
          0.7,
          0.7,
          0.7,
          0.7,
          0.7,
          0.7,
          0.7,
          0.7,
          0.7,
          0.7,
          0.7,
          0.7,
          0.7,
          0.6,
          0.6,
          0.6,
          0.6,
          0.6,
          0.6,
          0.6,
          0.6,
          0.6,
          0.6,
          0.6,
          0.6,
          0.6,
          0.6,
          0.6,
          0.6,
          0.6,
          0.6,
          0.6,
          0.6,
          0.6,
          0.6,
          0.6,
          0.6,
          0.6,
          0.6,
          0.6,
          0.6,
          0.6,
          0.6,
          0.6,
          0.6,
          0.6,
          0.6,
          0.6,
          0.6,
          0.5,
          0.5,
          0.5,
          0.5,
          0.5,
          0.5,
          0.5,
          0.5,
          0.5,
          0.5,
          0.5,
          0.5,
          0.5,
          0.5,
          0.5,
          0.5,
          0.5,
          0.5,
          0.5,
          0.5,
          0.5,
          0.5,
          0.5,
          0.5,
          0.5,
          0.5,
          0.5,
          0.5,
          0.5,
          0.5,
          0.5,
          0.5,
          0.5,
          0.5,
          0.5,
          0.5,
          0.5,
          0.4,
          0.4,
          0.4,
          0.4,
          0.4,
          0.4,
          0.4,
          0.4,
          0.4,
          0.4,
          0.4,
          0.4,
          0.4,
          0.4,
          0.4,
          0.4,
          0.4,
          0.4,
          0.4,
          0.4,
          0.4,
          0.4,
          0.4,
          0.4,
          0.4,
          0.4,
          0.4,
          0.4,
          0.4,
          0.4,
          0.4,
          0.4,
          0.4,
          0.4,
          0.4,
          0.4,
          0.4,
          0.4,
          0.4,
          0.4,
          0.4,
          0.4,
          0.4,
          0.4,
          0.4,
          0.4,
          0.3,
          0.3,
          0.3,
          0.3,
          0.3,
          0.3,
          0.3,
          0.3,
          0.3,
          0.3,
          0.3,
          0.3,
          0.3,
          0.3,
          0.3,
          0.3,
          0.3,
          0.3,
          0.3,
          0.3,
          0.3,
          0.3,
          0.3,
          0.3,
          0.3,
          0.3,
          0.3,
          0.3,
          0.3,
          0.3,
          0.3,
          0.3,
          0.3,
          0.3,
          0.3,
          0.3,
          0.3,
          0.3,
          0.3,
          0.3,
          0.3,
          0.3,
          0.3,
          0.3,
          0.3,
          0.3,
          0.3,
          0.3,
          0.3,
          0.3,
          0.3,
          0.3,
          0.3,
          0.3,
          0.3,
          0.3,
          0.3,
          0.3,
          0.3,
          0.3,
          0.3,
          0.3,
          0.3,
          0.3,
          0.3,
          0.3,
          0.3,
          0.3,
          0.3,
          0.3,
          0.3,
          0.3,
          0.2,
          0.2,
          0.2,
          0.2,
          0.2,
          0.2,
          0.2,
          0.2,
          0.2,
          0.2,
          0.2,
          0.2,
          0.2,
          0.2,
          0.2,
          0.2,
          0.2,
          0.2,
          0.2,
          0.2,
          0.2,
          0.2,
          0.2,
          0.2,
          0.2,
          0.2,
          0.2,
          0.2,
          0.2,
          0.2,
          0.2,
          0.2,
          0.2,
          0.2,
          0.2,
          0.2,
          0.2,
          0.2,
          0.2,
          0.2,
          0.2,
          0.2,
          0.2,
          0.2,
          0.2,
          0.2,
          0.2,
          0.2,
          0.2,
          0.2,
          0.2,
          0.2,
          0.2,
          0.2,
          0.2,
          0.2,
          0.2,
          0.2,
          0.2,
          0.2,
          0.2,
          0.2,
          0.2,
          0.2,
          0.2,
          0.2,
          0.2,
          0.2,
          0.2,
          0.2,
          0.2,
          0.2,
          0.2,
          0.2,
          0.1,
          0.1,
          0.1,
          0.1,
          0.1,
          0.1,
          0.1,
          0.1,
          0.1,
          0.1,
          0.1,
          0.1,
          0.1,
          0.1,
          0.1,
          0.1,
          0.1,
          0.1,
          0.1,
          0.1,
          0.1,
          0.1,
          0.1,
          0.1,
          0.1,
          0.1,
          0.1,
          0.1,
          0.1,
          0.1,
          0.1,
          0.1,
          0.1,
          0.1,
          0.1,
          0.1,
          0.1,
          0.1,
          0.1,
          0.1,
          0.1,
          0.1,
          0.1,
          0.1,
          0.1,
          0.1,
          0.1,
          0.1,
          0.1,
          0.1,
          0.1,
          0.1,
          0.1,
          0.1,
          0.1,
          0.1,
          0.1,
          0.1,
          0.1,
          0.1,
          0.1,
          0.1,
          0.1,
          0.1,
          0.1,
          0.1,
          0.1,
          0.1,
          0.1,
          0.1,
          0.1,
          0.1,
          0.1,
          0.1,
          0.1,
          0.1,
          0.1,
          0.1,
          0.1,
          0.1,
          0.1,
          0.1,
          0.1,
          0.1,
          0.1,
          0.1,
          0.1,
          0.1,
          0.1,
          0.1,
          0.1,
          0.1,
          0.1,
          0.1,
          0.1,
          0.1,
          0.1,
          0.1,
          0.1,
          0.1,
          0.1,
          0.1,
          0.1,
          0.1,
          0.1,
          0.1,
          0.1,
          0.1,
          0.1,
          0.1,
          0.1,
          0.1,
          0.1,
          0.1,
          0.1,
          0.1,
          0.1,
          0,
          0,
          0,
          0,
          0,
          0,
          0,
          0,
          0,
          0,
          0,
          0,
          0,
          0,
          0,
          0,
          0,
          0,
          0,
          0,
          0,
          0,
          0,
          0,
          0,
          0,
          0,
          0,
          0,
          0,
          0,
          0,
          0,
          0,
          0,
          0,
          0,
          0,
          0,
          0,
          0,
          0,
          0,
          0,
          0,
          0,
          0,
          0,
          0,
          0,
          0,
          0,
          0,
          0,
          0,
          0,
          0,
          0,
          0,
          0,
          0,
          0,
          0,
          0,
          0,
          0,
          0,
          0,
          0,
          0,
          0,
          0,
          0,
          0,
          0,
          0,
          0,
          0,
          0,
          0,
          0,
          0,
          0,
          0,
          0,
          0,
          0,
          0,
          0,
          0,
          0,
          0,
          0,
          0,
          0,
          0,
          0,
          0,
          0,
          0,
          0,
          0,
          0,
          0,
          0,
          0,
          0,
          0,
          0,
          0,
          0,
          0,
          -0.1,
          -0.1,
          -0.1,
          -0.1,
          -0.1,
          -0.1,
          -0.1,
          -0.1,
          -0.1,
          -0.1,
          -0.1,
          -0.1,
          -0.1,
          -0.1,
          -0.1,
          -0.1,
          -0.1,
          -0.1,
          -0.1,
          -0.1,
          -0.1,
          -0.1,
          -0.1,
          -0.1,
          -0.1,
          -0.1,
          -0.1,
          -0.1,
          -0.1,
          -0.1,
          -0.1,
          -0.1,
          -0.1,
          -0.1,
          -0.1,
          -0.1,
          -0.1,
          -0.1,
          -0.1,
          -0.1,
          -0.1,
          -0.1,
          -0.1,
          -0.1,
          -0.1,
          -0.1,
          -0.1,
          -0.1,
          -0.1,
          -0.1,
          -0.1,
          -0.1,
          -0.1,
          -0.1,
          -0.1,
          -0.1,
          -0.1,
          -0.1,
          -0.1,
          -0.1,
          -0.1,
          -0.1,
          -0.1,
          -0.1,
          -0.1,
          -0.1,
          -0.1,
          -0.1,
          -0.1,
          -0.1,
          -0.1,
          -0.1,
          -0.1,
          -0.1,
          -0.1,
          -0.1,
          -0.1,
          -0.1,
          -0.1,
          -0.1,
          -0.1,
          -0.1,
          -0.1,
          -0.1,
          -0.1,
          -0.1,
          -0.1,
          -0.1,
          -0.1,
          -0.1,
          -0.1,
          -0.1,
          -0.1,
          -0.1,
          -0.1,
          -0.1,
          -0.1,
          -0.2,
          -0.2,
          -0.2,
          -0.2,
          -0.2,
          -0.2,
          -0.2,
          -0.2,
          -0.2,
          -0.2,
          -0.2,
          -0.2,
          -0.2,
          -0.2,
          -0.2,
          -0.2,
          -0.2,
          -0.2,
          -0.2,
          -0.2,
          -0.2,
          -0.2,
          -0.2,
          -0.2,
          -0.2,
          -0.2,
          -0.2,
          -0.2,
          -0.2,
          -0.2,
          -0.2,
          -0.2,
          -0.2,
          -0.2,
          -0.2,
          -0.2,
          -0.2,
          -0.2,
          -0.2,
          -0.2,
          -0.2,
          -0.2,
          -0.2,
          -0.2,
          -0.2,
          -0.2,
          -0.2,
          -0.2,
          -0.2,
          -0.2,
          -0.2,
          -0.2,
          -0.2,
          -0.2,
          -0.2,
          -0.2,
          -0.2,
          -0.2,
          -0.2,
          -0.2,
          -0.2,
          -0.2,
          -0.2,
          -0.2,
          -0.2,
          -0.2,
          -0.2,
          -0.2,
          -0.2,
          -0.2,
          -0.2,
          -0.2,
          -0.2,
          -0.2,
          -0.2,
          -0.2,
          -0.2,
          -0.3,
          -0.3,
          -0.3,
          -0.3,
          -0.3,
          -0.3,
          -0.3,
          -0.3,
          -0.3,
          -0.3,
          -0.3,
          -0.3,
          -0.3,
          -0.3,
          -0.3,
          -0.3,
          -0.3,
          -0.3,
          -0.3,
          -0.3,
          -0.3,
          -0.3,
          -0.3,
          -0.3,
          -0.3,
          -0.3,
          -0.3,
          -0.3,
          -0.3,
          -0.3,
          -0.3,
          -0.3,
          -0.3,
          -0.3,
          -0.3,
          -0.3,
          -0.3,
          -0.3,
          -0.3,
          -0.3,
          -0.3,
          -0.3,
          -0.3,
          -0.3,
          -0.3,
          -0.3,
          -0.3,
          -0.3,
          -0.3,
          -0.3,
          -0.3,
          -0.3,
          -0.3,
          -0.3,
          -0.3,
          -0.3,
          -0.3,
          -0.3,
          -0.3,
          -0.3,
          -0.4,
          -0.4,
          -0.4,
          -0.4,
          -0.4,
          -0.4,
          -0.4,
          -0.4,
          -0.4,
          -0.4,
          -0.4,
          -0.4,
          -0.4,
          -0.4,
          -0.4,
          -0.4,
          -0.4,
          -0.4,
          -0.4,
          -0.4,
          -0.4,
          -0.4,
          -0.4,
          -0.4,
          -0.4,
          -0.4,
          -0.4,
          -0.4,
          -0.4,
          -0.4,
          -0.4,
          -0.4,
          -0.4,
          -0.4,
          -0.4,
          -0.4,
          -0.4,
          -0.4,
          -0.4,
          -0.4,
          -0.4,
          -0.5,
          -0.5,
          -0.5,
          -0.5,
          -0.5,
          -0.5,
          -0.5,
          -0.5,
          -0.5,
          -0.5,
          -0.5,
          -0.5,
          -0.5,
          -0.5,
          -0.5,
          -0.5,
          -0.5,
          -0.5,
          -0.5,
          -0.5,
          -0.5,
          -0.5,
          -0.5,
          -0.5,
          -0.5,
          -0.5,
          -0.6,
          -0.6,
          -0.6,
          -0.6,
          -0.6,
          -0.6,
          -0.6,
          -0.6,
          -0.6,
          -0.6,
          -0.6,
          -0.7,
          -0.7,
          -0.7,
          -0.7,
          -0.7,
          -0.7,
          -0.7,
          -0.7,
          -0.7,
          -0.8,
          -0.8,
          -0.8,
          -0.8,
          -0.9,
          -0.9,
          -1,
          -1,
          -1.1,
          -1.1
         ],
         "xaxis": "x3",
         "yaxis": "y3"
        },
        {
         "alignmentgroup": "True",
         "bingroup": "y",
         "hovertemplate": "fpts=%{y}<br>count=%{x}<extra></extra>",
         "legendgroup": "",
         "marker": {
          "color": "#636efa"
         },
         "name": "",
         "offsetgroup": "",
         "opacity": 0.5,
         "showlegend": false,
         "type": "histogram",
         "xaxis": "x2",
         "y": [
          243.75,
          262.25,
          292.08110235730874,
          226.5,
          171,
          180.25,
          205,
          210.25,
          218,
          188.5,
          210.25,
          172.75,
          177.75,
          206,
          189.5,
          198.5,
          178.75,
          192.75,
          199.5,
          191.75,
          172.75,
          157,
          194.25,
          180.75,
          172.5,
          152.25,
          173,
          160.5,
          140,
          155.25,
          150,
          175,
          155.75,
          140,
          103.25,
          101.25,
          156,
          169.25,
          129.25,
          161.25,
          138.25,
          167.5,
          111,
          147.75,
          177.75,
          171.5,
          159.25,
          161.75,
          164,
          142.25,
          147,
          163,
          176,
          148.5,
          106,
          145,
          142,
          132.5,
          111.25,
          134.25,
          136.25,
          133.75,
          144,
          171.25,
          140.5,
          108.25,
          149.5,
          164,
          125.5,
          126.75,
          121.25,
          149.5,
          45.25,
          150.5,
          120.5,
          145.25,
          120.75,
          151.5,
          149,
          133,
          149,
          108.25,
          139.25,
          115,
          118.5,
          136.5,
          155.25,
          138.75,
          139.25,
          139.5,
          144.75,
          124.75,
          126,
          92.75,
          141.25,
          129,
          117.25,
          117.5,
          138.25,
          125,
          97.25,
          69,
          84,
          86.75,
          141.75,
          103.25,
          150,
          119.5,
          105.5,
          114,
          89.5,
          74.75,
          111.75,
          135.75,
          98.75,
          139,
          127,
          95,
          132.75,
          135.5,
          131.25,
          103.5,
          100,
          139.25,
          90.75,
          131.5,
          117,
          122,
          134.25,
          131,
          103.5,
          102,
          130,
          92.5,
          113.25,
          119,
          119.25,
          104.25,
          121.75,
          129.5,
          106.25,
          109.5,
          93.5,
          114.25,
          104,
          121.25,
          102.5,
          128.25,
          96.75,
          110.5,
          118.5,
          97,
          127,
          105.25,
          69.5,
          140.25,
          121,
          120.25,
          112.75,
          127,
          76.25,
          93,
          92,
          108.25,
          87.5,
          45.25,
          94.25,
          105.75,
          87,
          94.25,
          110.5,
          128.25,
          105.75,
          135,
          103.75,
          93.5,
          113.75,
          86.75,
          112.75,
          92.75,
          43.5,
          94.25,
          83.25,
          106.75,
          123,
          92,
          128.25,
          95,
          81.25,
          65,
          115.25,
          80.5,
          56,
          122.25,
          84,
          106.5,
          77,
          85.5,
          90.25,
          46,
          100.5,
          106.25,
          50.75,
          78.75,
          54,
          116.25,
          43.75,
          55.5,
          107,
          77.75,
          89.75,
          103,
          97.5,
          87.25,
          66.75,
          83.25,
          63,
          99,
          84,
          101,
          91.25,
          63.25,
          55,
          63,
          119.5,
          73,
          68.75,
          116.25,
          68,
          90,
          63.75,
          73,
          110,
          99.25,
          46.25,
          57.75,
          92.75,
          81.75,
          71.25,
          96.75,
          72,
          61,
          57.5,
          109.5,
          52.5,
          78.75,
          26.5,
          19.25,
          94,
          85.75,
          88,
          37.25,
          60.75,
          91,
          80,
          53,
          92,
          84.75,
          50.75,
          33.5,
          43,
          76.5,
          66.75,
          66,
          57.25,
          53.5,
          44,
          48.25,
          83.75,
          49.5,
          66.5,
          48.25,
          53,
          46.75,
          49.25,
          124.25,
          55,
          42.25,
          54.5,
          57.25,
          71.75,
          55.75,
          44.25,
          84,
          50.25,
          44.75,
          67.25,
          53.75,
          96.75,
          59.75,
          79.75,
          45.25,
          101.75,
          48,
          65.75,
          50.25,
          55.25,
          71.5,
          50.25,
          58.25,
          28.25,
          34.75,
          51.5,
          85.25,
          41.25,
          50.75,
          45.25,
          44,
          67.75,
          47.25,
          36.5,
          42.25,
          42.75,
          58.5,
          53,
          51.5,
          60.75,
          68.5,
          52.5,
          40.5,
          47.25,
          42.25,
          49.75,
          42.75,
          79.25,
          48.25,
          46,
          58,
          53.25,
          50.25,
          66.25,
          44.75,
          89.5,
          40.5,
          62,
          73,
          51.75,
          51.5,
          51.75,
          88.5,
          55.5,
          51.75,
          25,
          40.75,
          23.75,
          47.5,
          47,
          37.25,
          67.25,
          37,
          56,
          33.75,
          31.25,
          47.75,
          64.75,
          53.25,
          54.25,
          51.25,
          57.75,
          59.5,
          41.75,
          68,
          50.25,
          32,
          26.5,
          52,
          53.5,
          41,
          35.25,
          49.75,
          41.75,
          41,
          42,
          45.25,
          67.5,
          51.25,
          53.5,
          47.75,
          98.5,
          50,
          47.25,
          45.5,
          44.75,
          55.5,
          38,
          50.25,
          44.5,
          47.25,
          34.5,
          47.5,
          33.5,
          49,
          43.25,
          46.25,
          40.75,
          26,
          41,
          40.25,
          21.75,
          19,
          40.25,
          98,
          48.5,
          15,
          47.75,
          47,
          31.25,
          42.25,
          42.25,
          76,
          42.5,
          41.5,
          65,
          46,
          54.25,
          16,
          38.5,
          28,
          43.25,
          14,
          46.5,
          30.25,
          38.5,
          36.25,
          47.75,
          48,
          46,
          45.25,
          49.75,
          46,
          83.75,
          38,
          41.25,
          43.75,
          49.5,
          51,
          42.5,
          21.5,
          35.5,
          28.75,
          38.5,
          29,
          44.75,
          52,
          28.5,
          65,
          44.25,
          23,
          67.25,
          28.25,
          33.5,
          50.5,
          53.75,
          53.75,
          25.5,
          45,
          30.25,
          55,
          55.75,
          44.75,
          47.25,
          68.5,
          34,
          38.25,
          37,
          30,
          46,
          41,
          38.25,
          36.75,
          29.25,
          16.5,
          23.75,
          18.5,
          48,
          31.75,
          24,
          23,
          35.5,
          13.25,
          13,
          39,
          18.5,
          47.75,
          30.25,
          39.75,
          39.5,
          48.5,
          42.5,
          33.25,
          20,
          31.5,
          49.5,
          22,
          35.75,
          37,
          38.75,
          29.5,
          20.75,
          50.5,
          42,
          24,
          46.5,
          22.5,
          45.25,
          43.25,
          17.5,
          13.25,
          37,
          19,
          42.25,
          47.75,
          25.75,
          36.75,
          40,
          42.25,
          49.25,
          41,
          29.25,
          26.75,
          1.25,
          56.75,
          41.25,
          16.75,
          38.75,
          20,
          12.25,
          39.25,
          46.25,
          38.25,
          45.5,
          44.25,
          39.75,
          34,
          83,
          27,
          14.25,
          29.5,
          5,
          39.25,
          37,
          33.5,
          40,
          31.25,
          45.25,
          42.75,
          26.25,
          54.75,
          17.25,
          42,
          41.25,
          33.75,
          39.75,
          12,
          46.5,
          11.75,
          36.75,
          14,
          13.5,
          15.25,
          23,
          49,
          23.75,
          35.5,
          3.25,
          48.75,
          18,
          50.75,
          43,
          29.5,
          52.25,
          15,
          40.5,
          5.5,
          50,
          43.75,
          9.25,
          37.5,
          40.5,
          36.25,
          16,
          4.75,
          42.25,
          48.5,
          35.5,
          13.75,
          32.25,
          11.5,
          4.5,
          42,
          43.75,
          13,
          18.25,
          28.5,
          46.5,
          29.25,
          68,
          36.75,
          16.5,
          47.25,
          18.75,
          18,
          4.5,
          42.25,
          39.75,
          56.5,
          42,
          47.5,
          8.25,
          61,
          54.75,
          11.5,
          42.25,
          6,
          37.75,
          13.5,
          3,
          57.25,
          46,
          3.75,
          38.25,
          39.25,
          6,
          26.5,
          38.5,
          31.25,
          40.75,
          4.75,
          44,
          40.25,
          36,
          4.5,
          4.5,
          5.25,
          3.75,
          1.75,
          4,
          41.75,
          51.25,
          14.5,
          2,
          9.75,
          37.5,
          20.75,
          3.75,
          28.5,
          37.25,
          37,
          37.25,
          32.25,
          31.25,
          2.75,
          60.25,
          61.5,
          38.5,
          35.25,
          21,
          43.5,
          4.5,
          32.25,
          6.5,
          8.25,
          10,
          50.5,
          5.25,
          38.75,
          2.75,
          39.75,
          44.5,
          33.5,
          3.75,
          2.25,
          36.25,
          9,
          5,
          4.25,
          9,
          42.5,
          4.25,
          51.5,
          29.5,
          89,
          5.25,
          4.5,
          40.5,
          37.75,
          37.25,
          44.75,
          10.5,
          27,
          62,
          10.25,
          37.5,
          12,
          11,
          46.5,
          5,
          38.5,
          14.75,
          40.5,
          42,
          37.75,
          36.75,
          35.5,
          41.5,
          9.5,
          18.75,
          44,
          37.75,
          36,
          32.75,
          43,
          83,
          28,
          12,
          42,
          43.5,
          10.5,
          32.25,
          37.75,
          36.5,
          36,
          34,
          30.75,
          39.25,
          18,
          34,
          37.25,
          15,
          41.75,
          25,
          8.75,
          33.75,
          35.5,
          33.75,
          42.75,
          28.5,
          41,
          50.5,
          41.75,
          40,
          27,
          42.75,
          7.25,
          43.5,
          49,
          9.25,
          37.75,
          2.25,
          40.25,
          6,
          16.5,
          30.75,
          34.5,
          33.5,
          37,
          32.25,
          37.75,
          35.5,
          15,
          64.5,
          15.25,
          25,
          37.5,
          42,
          36.25,
          36,
          13.75,
          35.25,
          40.25,
          26,
          36,
          38,
          37.75,
          37.25,
          21.75,
          36,
          41,
          39,
          35,
          32.25,
          42,
          46.25,
          30.5,
          38.5,
          34.75,
          44.5,
          36.25,
          29,
          35.75,
          32.5,
          41.75,
          36.25,
          31,
          35.25,
          40.75,
          8.25,
          36.75,
          28.25,
          32,
          24.75,
          24,
          26.75,
          15.5,
          37.25,
          33,
          24,
          45.5,
          30,
          31.5,
          29.25,
          65.25,
          27.75,
          32.75,
          40.75,
          37.25,
          37,
          32.75,
          33,
          34.25,
          38,
          59.25,
          40.5,
          33.5,
          33.25,
          27.5,
          26.25,
          29,
          39.5,
          31,
          36.75,
          28.25,
          21.75,
          37.5,
          39.25,
          26.75,
          30,
          23.25,
          29.75,
          33.25,
          31,
          33.5,
          29.75,
          23.75,
          34.25,
          31,
          29.5,
          35,
          27.5,
          28.25,
          46.25,
          26.5,
          34.25,
          29.5,
          32.75,
          29,
          36,
          27,
          66.25,
          28,
          30.5,
          31,
          33.25,
          41.25,
          31.25,
          38.5,
          30,
          27.75,
          31.25,
          25.5,
          30.25,
          27,
          25,
          32.25,
          34.75,
          35.25,
          22.5,
          47.25,
          32.75,
          28.25,
          29,
          29.25,
          31.5,
          22.25,
          27.75,
          24.75,
          24.5,
          18.5,
          37.75,
          29.75,
          14.5,
          19.5,
          21.5,
          41.25,
          18,
          31.75,
          21.25,
          26,
          22.75,
          52.25,
          24.75,
          47.75,
          30,
          31,
          24.25,
          20.75,
          34.5,
          11,
          34,
          304.17331993131836,
          275.95827135877533,
          280.2419931653077,
          303.13192281640414,
          287.02816145020745,
          245.81045780464288,
          222.1394243455054,
          265.6144853554673,
          265.49903292146047,
          247.73359140389124,
          256.56933115999084,
          244.13882155845081,
          251.53082662871282,
          264.4994654952445,
          243.6091875157934,
          233.98726369398443,
          229.6100375517447,
          268.7484706303426,
          252.69354598046553,
          242.81779826803003,
          267.24703199115766,
          245.53379458362735,
          252.4115117176642,
          215.68930693066355,
          249.86920615610154,
          255.70716455462326,
          249.6998159651169,
          213.72594189909645,
          248.90893149564073,
          242.60733287758745,
          243.28439253131634,
          222.860497878501,
          233.9401890563432,
          235.06332537646378,
          206.16819865936353,
          209.1475293968933,
          205.58133096126767,
          219.72148266014838,
          219.3805389657646,
          202.81017408020998,
          208.84322971003144,
          242.56526601286606,
          225.10326283366248,
          161.78307954456037,
          214.0359652759174,
          184.1968484971231,
          209.30933403999836,
          186.25326091317348,
          203.49963940346635,
          174.35421854489607,
          159.8281320082414,
          218.68893575966823,
          159.62093461679052,
          198.25194292484352,
          224.8965493964731,
          232.71473928558038,
          166.0674255216094,
          224.30524863313886,
          166.0418370646193,
          218.27186535789536,
          106.77754810327416,
          206.41634819238024,
          181.79417481053807,
          179.95083484291195,
          163.41252787545244,
          154.00889580398226,
          137.0669315995054,
          214.58204092505477,
          148.3204900415302,
          167.2761444322263,
          179.23863510967493,
          162.82273338488054,
          192.08990735231637,
          177.83384605504207,
          226.6450525053241,
          207.08321573683853,
          220.57447785360057,
          159.01917555859862,
          177.57432798177948,
          157.72618330630493,
          168.9006731941837,
          187.16717783308619,
          72.3908635707131,
          130.54306467811594,
          184.44801701689596,
          198.13850466623822,
          200.35613517200744,
          200.71449503550338,
          158.7825196281781,
          178.17027487208074,
          205.01449662887495,
          107.18053757532017,
          135.95797047427297,
          202.22982450403717,
          197.66342611763312,
          74.34326954261005,
          206.60697282787916,
          240.9843011071912,
          117.01830879625012,
          183.768108585956,
          216.3612114464035,
          198.12539635782636,
          157.52157537851787,
          157.73709173060422,
          104.1280639111545,
          143.88657168076648,
          196.44913960956097,
          160.30924439171315,
          194.65553516907585,
          134.86070995978676,
          134.54429724169145,
          127.03004745244866,
          116.98771565285038,
          178.36518925893148,
          160.65698412014234,
          191.90133478675753,
          118.94943030311964,
          212.83943011174975,
          206.53865197730295,
          210.379122189711,
          109.9584628217823,
          182.5856268215279,
          216.85440824476055,
          122.64988248067323,
          125.86829442035301,
          147.11276249181742,
          162.14648869984225,
          74.71898537273422,
          198.18037414362948,
          193.18699533228846,
          134.630789595205,
          168.2899152173951,
          157.3235215664466,
          112.76162736903525,
          109.52211055020048,
          233.28924416471665,
          137.72875383491456,
          157.7427639673832,
          175.32283529245882,
          134.84368223880597,
          89.24043176457583,
          155.53457711582698,
          56.35453341212177,
          167.75708535099335,
          183.42813346073976,
          102.90327423377457,
          113.57008660135936,
          123.2501602007579,
          64.7666906411239,
          154.11798453784937,
          89.57579338401204,
          197.61620919435381,
          143.6216277344994,
          171.36076933824452,
          166.95919558313287,
          181.00807204850713,
          159.74207666584172,
          95.691392762759,
          144.32060572651292,
          149.54921274221522,
          86.10493908510439,
          79.48099550516665,
          148.39616515292124,
          115.88871547997218,
          115.94448164363362,
          67.2639906411239,
          162.63312782012218,
          67.71939611024037,
          116.37374059977154,
          143.87739188083336,
          164.2210404634006,
          134.0442066101687,
          123.13592729499906,
          156.1059963695577,
          99.59797020989741,
          103.93358023383959,
          148.7795919038723,
          123.75712745913161,
          163.59895867158207,
          147.5191620687452,
          89.67100959870167,
          64.34416251758974,
          57.128922557865515,
          183.6974662525923,
          145.8491988112692,
          99.26652893330943,
          103.14743415163375,
          193.92117943050383,
          121.79392620716918,
          197.08179437494599,
          179.86104196246734,
          96.71898822667647,
          191.02023271204064,
          98.04173428036391,
          131.920525496937,
          138.0870767501114,
          211.9304265793568,
          196.91548904349986,
          112.43963439405553,
          146.00512374489264,
          156.94468761900686,
          130.17220542551067,
          178.2545767063995,
          93.95808434553449,
          149.31332512956334,
          143.54697171046897,
          116.65199149193083,
          149.71868665654594,
          104.97431632469197,
          80.06678785937375,
          166.00520308467745,
          218.36281095153032,
          102.01271522065487,
          92.51160576818806,
          172.85100166792063,
          170.91894195709222,
          151.0105380590389,
          195.70996329554163,
          124.3700138533112,
          110.52798127052135,
          67.335179702891,
          79.68796562112304,
          191.5141192125525,
          65.91625157935681,
          64.17480157935681,
          113.3390617046326,
          104.31585902593966,
          63.4982406411239,
          111.06605080140488,
          112.61308621150327,
          142.47424559160575,
          141.6772421256624,
          156.77917987814536,
          85.48968080101213,
          91.2901810903748,
          106.18841833374806,
          135.91571504089526,
          98.27540002272006,
          205.54425202934377,
          84.35648506394134,
          86.07607068085504,
          135.49739637097684,
          157.23888662910727,
          94.75914676175125,
          139.7565331121379,
          161.1841072372681,
          65.65905157935681,
          110.60411397635623,
          140.15436790588743,
          110.64518986317198,
          87.69305733473016,
          124.26160576818808,
          145.63700951997598,
          75.60289860809401,
          51.70293382832431,
          97.75830365376069,
          65.65725157935681,
          158.47604732041307,
          162.5664258014049,
          199.84252615395334,
          87.87027644845314,
          126.83001181255977,
          63.95542892493909,
          84.72638758438192,
          101.56432123426687,
          101.58443431353108,
          104.50342477974216,
          110.30473522808549,
          145.4289468940555,
          155.71913471236712,
          83.87902753395224,
          64.99464064112391,
          124.70680549980456,
          155.26080256185327,
          140.44064812169984,
          72.42251985659328,
          61.74642345582262,
          85.06161693693355,
          67.86042423377457,
          46.73413645655662,
          165.16326919676519,
          71.11293305037239,
          91.62227964440062,
          170.3007261894015,
          128.3168065393336,
          94.90474282693829,
          61.52616798670617,
          82.09188003846148,
          95.72078026862222,
          55.06161235720384,
          75.72350557305579,
          137.44449880247475,
          73.41546562112305,
          73.36946598910042,
          63.30816251758973,
          90.56806251758972,
          81.15241242512138,
          141.73648318007633,
          41.73673763663519,
          141.31812914792076,
          64.82076251758973,
          58.34072383982514,
          84.72275725527321,
          84.68025792787232,
          89.2351906411239,
          62.58114404435158,
          107.1850286841641,
          62.39825157935681,
          92.06422020989741,
          137.70632892493907,
          52.39833387257178,
          59.63100901629423,
          154.2694881987841,
          82.12554021038557,
          162.85037033228846,
          118.98136926936031,
          106.84673671159878,
          160.87358092869204,
          154.10036340787852,
          176.80515279153693,
          79.62908349425042,
          172.3286958713376,
          149.27513620180022,
          54.37211264872261,
          62.9820406411239,
          197.1374086845403,
          88.7536062803657,
          64.61222423377457,
          92.90363439405553,
          62.729773455822624,
          101.29079114380674,
          87.86280880702739,
          70.04263149399941,
          61.06536251758971,
          42.505818697599345,
          70.96921798670617,
          79.17840520114946,
          112.50360517292697,
          81.71807107590651,
          99.14392774130057,
          81.39433899595687,
          81.91279740507143,
          79.01922519684064,
          85.77332634847805,
          102.16604598889103,
          65.02753517200746,
          62.196428924939084,
          135.08234647832631,
          57.85282906578052,
          63.68609611024037,
          65.067179702891,
          63.57706251758973,
          108.7348257215128,
          62.76581798670617,
          60.39238439405554,
          65.7279906411239,
          133.66674170184612,
          73.68806853467227,
          99.2201078252687,
          56.35076284890127,
          96.07815653419223,
          62.06221251758971,
          63.88835157935682,
          60.60003986317198,
          68.42100550002154,
          129.4366287633016,
          62.896001579356806,
          78.09574909422355,
          25.177490938402023,
          76.99275059540183,
          62.01806798670617,
          83.60005704847327,
          61.431128924939074,
          83.08890498447238,
          63.935196110240355,
          118.30132589957047,
          110.36876437600782,
          60.80681251758973,
          60.95857328261987,
          62.81311251758971,
          66.42576329554166,
          62.51536798670617,
          111.13439836468517,
          63.60320704847327,
          65.59737423377456,
          63.09735704847328,
          62.31446251758971,
          93.26698320286712,
          63.85230704847327,
          81.85512931839456,
          71.57097068483691,
          117.19795280451831,
          63.63880157935682,
          60.01761798670617,
          72.58240924495016,
          62.264917986706166,
          49.640442696734326,
          62.27481798670617,
          46.57771932615366,
          63.09645704847326,
          33.34899276902113,
          61.35095704847327,
          63.893301579356816,
          63.430246110240375,
          62.80906251758973,
          61.935196110240355,
          134.58824522831932,
          133.25219309867978,
          122.794343073318,
          59.67419922791132,
          62.35545704847326,
          62.84195704847327,
          40.51227736186293,
          62.682946110240366,
          62.51403517200746,
          73.75043392971452,
          70.22965328097065,
          62.349157048473266,
          49.31480999714922,
          64.7288906411239,
          61.89105157935681,
          62.305912517589725,
          38.67186822377541,
          42.242477351445494,
          29.512814451453472,
          69.7853376470873,
          58.816173143838824,
          24.85248382502279,
          36.51903564961015,
          89.93558738360623,
          21.758744306622443,
          60.84195704847327,
          62.42799611024037,
          115.09458883922326,
          17.128793448946308,
          87.71835037889956,
          145.67289393596232,
          96.32804623102098,
          121.3915676619091,
          62.67167892493907,
          60.25681798670617,
          91.57455598445175,
          182.53753701544187,
          24.878485160280977,
          19.43983203674679,
          51.873574601208944,
          61.679796110240375,
          36.932208037037576,
          62.83072423377455,
          62.456840641123904,
          107.89857854507413,
          54.41846094849358,
          38.91634532056195,
          131.45574122595,
          36.43704816321926,
          64.89204721885024,
          42.68545468721198,
          48.253241844964634,
          94.23723074711188,
          52.48055631609899,
          32.2187352862014,
          98.77231537817966,
          64.38070157935681,
          60.71717345582263,
          62.590157048473266,
          96.90765225119839,
          96.64631988334776,
          61.72122345582264,
          90.81741199895511,
          59.67662892493908,
          24.02707417787038,
          62.099157048473266,
          58.84688986317199,
          16.85595794061915,
          87.17677010140969,
          18.370825518679286,
          20.647787580616946,
          75.08726339258374,
          64.35404100715871,
          79.97219411608597,
          34.57163750586324,
          90.77253040297073,
          70.53723986830232,
          59.974373455822615,
          86.3292658650711,
          18.050089711652568,
          29.149563932896754,
          56.730299519771236,
          39.73608387304076,
          62.46402345582263,
          60.839257048473264,
          63.005917986706166,
          36.195652504761895,
          60.97212345582261,
          37.25246220827369,
          21.06601219873454,
          63.47201004608703,
          64.88565157935682,
          62.30681251758973,
          60.01041798670617,
          47.23265658353653,
          35.33752486020703,
          76.38952011132257,
          59.09958986317198,
          71.56675318133188,
          65.75913570706525,
          119.48441745612621,
          19.915096742629142,
          97.68431260230668,
          101.1055256655862,
          62.25726798670617,
          61.264917986706166,
          30.079897963866372,
          44.314944420219014,
          59.20283422150912,
          58.83582430662955,
          61.71717345582263,
          61.22077345582264,
          60.761317986706175,
          34.944441518718634,
          63.340157048473266,
          36.77525684776683,
          59.17527892493908,
          59.170778924939086,
          60.172128924939074,
          63.33747423377456,
          60.345089863171985,
          78.64978711174884,
          34.449294514571015,
          59.270447429022944,
          62.42529611024037,
          28.19544826158375,
          32.107082231557506,
          21.791705237251332,
          62.9635906411239,
          36.56093962381387,
          38.020118192901734,
          59.505900801404884,
          61.59375704847327,
          79.18037854241031,
          61.59103986317198,
          60.92707892493908,
          127.01258533364495,
          61.47167345582261,
          61.7050406411239,
          61.83340704847327,
          91.78294566869025,
          17.3568009677433,
          59.377084394055544,
          15.866536059143803,
          18.13700550613454,
          32.68333117235577,
          58.216706270521335,
          21.77313807034231,
          93.87123049256941,
          60.712223455822624,
          59.99286798670617,
          61.79016251758973,
          90.2206901224893,
          82.59514422564861,
          76.96346877573866,
          63.16525789348395,
          60.66854611024036,
          147.9702804150113,
          61.37258439405554,
          97.33554149001725,
          75.48991489167167,
          68.56288165782452,
          33.30477741617043,
          58.13021720875425,
          60.87215157935681,
          59.62258439405554,
          32.960420743067296,
          23.55627312503526,
          61.45367345582264,
          61.16404611024036,
          16.733401966816725,
          61.58700704847326,
          12.584764365888454,
          43.98839302527138,
          59.74511798670618,
          58.17122892493907,
          60.50276798670616,
          59.28699533228845,
          58.540595332288426,
          59.83293986317198,
          37.96811527395084,
          58.91672892493908,
          174.46645080213779,
          60.24151798670617,
          118.1579263081412,
          25.96086348068971,
          61.3762015793568,
          61.081157048473266,
          38.07117417730402,
          59.38068439405552,
          59.462673455822625,
          55.84861411349533,
          60.79241251758973,
          61.99783517200746,
          130.93044072526203,
          21.764976302013256,
          58.875267208754245,
          60.33295704847327,
          17.616640678933464,
          60.28611251758972,
          60.75141798670617,
          58.913111739637806,
          14.511166235047334,
          60.330257048473264,
          60.423028924939075,
          37.13169941613227,
          18.971028461255845,
          22.598092461165933,
          61.005017986706164,
          82.58883153167424,
          23.112413730155133,
          156.13411799476813,
          62.32442423377456,
          56.26398086568172,
          21.398988209061468,
          140.04500857821373,
          72.38667465917801,
          55.56090190941437,
          59.08743986317199,
          60.84013986317198,
          63.08655704847326,
          59.50186798670616,
          59.838339863171974,
          29.29148510494871,
          61.74511798670618,
          61.787912517589724,
          13.746446608879108,
          96.08213311242187,
          59.28971251758973,
          59.50276798670616,
          59.54734533228844,
          28.6280519482197,
          78.19235463266891,
          59.83473986317198,
          35.0289182153166,
          65.88817400498611,
          57.914028924939075,
          58.127534394055544,
          64.61086355708555,
          60.505017986706164,
          138.89867871112392,
          186.3802162262578,
          62.043762517589705,
          13.318134231863908,
          57.671661739637806,
          89.20982299406508,
          67.48790080140488,
          59.37663439405554,
          17.45193343534819,
          90.57721487489846,
          57.28204533228843,
          27.65220019778979,
          58.57483986317198,
          60.78116251758971,
          53.26833718571072,
          57.95140627052134,
          55.33706888265577,
          23.530442974979696,
          58.66627892493908,
          99.98062804129823,
          61.4455906411239,
          60.28701251758972,
          61.28341251758972,
          32.08270902879679,
          62.484785172007456,
          58.665811739637796,
          83.78433898817796,
          161.66938127125428,
          59.40682892493908,
          57.36898439405554,
          62.40819611024037,
          58.74781798670617,
          59.49286798670617,
          27.94269536158473,
          59.73926798670617,
          62.70766008985395,
          57.449606270521336,
          58.621234394055534,
          60.161778924939085,
          59.23656798670616,
          60.993767986706175,
          30.89928076171982,
          28.21348793851775,
          99.06880737544671,
          59.615834394055526,
          33.35942946034901,
          58.77981251758971,
          58.86673439405553,
          32.330608604377126,
          59.41402892493909,
          152.1498669662167,
          49.353110167610026,
          61.077557048473274,
          62.071707048473264,
          66.02711144307689,
          58.28789533228842,
          100.66437294645917,
          42.011742245548824,
          27.549398856013255,
          15.68151178324358,
          129.87158728172537,
          57.66356173963779,
          32.82128014867063,
          57.99195080140489,
          59.27711251758971,
          58.82393986317198,
          58.70052345582263,
          59.827539863171985,
          59.86988439405553,
          59.49286798670617,
          62.150546110240356,
          57.62168439405553,
          58.90772892493908,
          57.78609533228845,
          60.69917345582263,
          101.3659423011636,
          161.31648336643832,
          69.85532665562482,
          60.20457345582264,
          58.03251251758972,
          57.661761739637804,
          57.49195080140489,
          11.714173854419393,
          57.866284394055526,
          60.951423455822635,
          65.00894861728246,
          58.61448439405552,
          106.79279743128794,
          58.74960080140489,
          60.287462517589724,
          82.16519927718431,
          60.82620704847327,
          60.74061798670617,
          98.36925555417565,
          94.02627233609344,
          60.15772892493908,
          43.52834885797127,
          58.78521251758972,
          32.40184969087428,
          57.36896720875425,
          40.09764904116882,
          60.07843986317199,
          59.65817892493908,
          59.61718439405553,
          45.964714074959396,
          60.90414611024036,
          56.86628439405553,
          64.10640157935681,
          30.079693902799207,
          60.80865704847327,
          58.647378924939076,
          59.854584394055536,
          58.73520080140489,
          149.77534886103507,
          57.736550801404896,
          58.15052892493908,
          65.56306931574179,
          60.89109611024037,
          27.369514224754838,
          59.48296798670617,
          81.69415103981784,
          61.265879702891006,
          59.738367986706166,
          57.56538986317198,
          57.32213986317198,
          58.90007892493908,
          60.194673455822624,
          59.070789863171974,
          73.66377759764565,
          58.01899533228845,
          58.19332345582262,
          58.64872892493908,
          59.47891798670618,
          35.772848373340814,
          47.75128209374616,
          56.99195080140489,
          75.47585063976742,
          59.227117986706176,
          58.35818439405554,
          58.695123455822625,
          59.069439863171986,
          57.89962892493908,
          57.23475080140489,
          56.20266638944148,
          59.15277892493907,
          58.28069533228844,
          58.688823455822615,
          57.249907264605525,
          59.02171251758973,
          59.06403986317198,
          56.52934533228843,
          60.10728439405554,
          60.906165931178826,
          58.94017345582262,
          57.06583986317198,
          58.521695332288424,
          58.76856251758972,
          61.39919611024037,
          57.65232892493907,
          57.1581617396378,
          57.522595332288425,
          58.31943986317197,
          58.89602892493909,
          59.64827892493908,
          58.07393986317198,
          58.35503439405554,
          59.35773439405554,
          59.27351251758973,
          154.20054893392822,
          57.940623455822625,
          59.14782892493908,
          57.03474533228844,
          57.27664533228844,
          60.55955704847327,
          58.14602892493909,
          58.76766251758972,
          56.737900801404884,
          42.828273911953836,
          58.85593439405554,
          59.94422345582262,
          58.56898986317197,
          58.104134394055535,
          58.68792345582264,
          109.52869077606942,
          62.6775906411239,
          57.67847345582262,
          59.258212517589705,
          57.26314533228843,
          57.59693439405553,
          55.60141720875424,
          58.59558439405552,
          56.853217208754245,
          70.98190513200142,
          57.099184394055534,
          57.559089863171984,
          57.809539863171985,
          58.01539533228844,
          57.34243439405552,
          58.517195332288445,
          57.22890080140488,
          57.14107892493908,
          55.720350801404884,
          57.80233986317197,
          58.767195332288445,
          56.67757345582262,
          58.10098439405553,
          59.749486704267696,
          57.4009617396378,
          60.514062517589714,
          57.767645332288446,
          57.3987117396378,
          60.173090641123906,
          59.178473455822626,
          56.31493986317198,
          58.10548439405554,
          124.81854369296421,
          57.310439863171986,
          57.350534394055536,
          56.52259533228843,
          57.47620080140489,
          57.85188439405553,
          59.72171798670617,
          57.05638986317198,
          56.93520627052135,
          57.6428617396378,
          94.19310698748986,
          56.18430627052135,
          57.63207892493908,
          58.508662517589705,
          55.92890627052134,
          59.18162345582263,
          57.58883439405553,
          58.93207345582263,
          58.34648439405552,
          58.35098439405553,
          56.85771720875424,
          56.93745627052135,
          58.09333439405552,
          58.51944533228845,
          55.8937617396378,
          55.645561739637806,
          58.604134394055535,
          59.053689863171975,
          55.69420627052135,
          60.25551251758973,
          57.37487892493908,
          55.26087814698715,
          56.38207892493908,
          56.79693986317198,
          55.71540080140489,
          61.88767316073232,
          57.08973439405553,
          105.54408204082807,
          158.4629266649824,
          55.75549533228843,
          56.50909533228844,
          56.25819533228844,
          54.34556720875423,
          55.9622508014049,
          56.46810080140488,
          57.879828924939076,
          55.3744117396378,
          56.46630080140489,
          56.33613439405554,
          59.09378439405552,
          59.871746110240366,
          60.252812517589724,
          56.927556270521336,
          58.087034394055536,
          57.54423986317199,
          54.59151720875424,
          57.38207892493908,
          57.259995332288426,
          56.71990080140488,
          55.17935627052134,
          55.71855080140488,
          56.094234394055526,
          54.88611173963779,
          55.21945080140488,
          55.96585080140489,
          74.7852352712485,
          54.886561739637806,
          56.42215627052134,
          56.75774533228844,
          57.67487345582263,
          56.32488439405552,
          57.37127892493908,
          56.16763908522006,
          57.119478924939074,
          56.54063986317198,
          56.247845332288435,
          55.2127008014049,
          56.53748986317198,
          56.03208986317198,
          55.1221617396378,
          56.582534394055536,
          165.33412487428487,
          57.120828924939076,
          55.83881720875425,
          53.7153836161036,
          56.53343986317197,
          54.6253117396378,
          56.2109008014049,
          54.75099533228844,
          56.377111739637805,
          56.49154533228844,
          54.8820617396378,
          56.87217892493908,
          56.825334394055524,
          55.24649533228843,
          56.035239863171974,
          54.155956270521344,
          53.5280226778707,
          54.82441720875424,
          55.90460627052134,
          54.660006270521336,
          54.94650080140489,
          55.07756720875423,
          54.830267208754236,
          54.8730617396378,
          54.156406270521344,
          54.99514533228843,
          58.342496110240376,
          54.64515627052134,
          54.97894533228843,
          53.82216720875424,
          54.19020080140489,
          55.97849533228843,
          53.023072677870694,
          52.6046117396378,
          55.224462517589714,
          52.842911739637806,
          52.39063908522006,
          51.1050445543365,
          51.525305492569416,
          56.492957048473265,
          52.701045332288444,
          55.60737345582262,
          53.03886720875424,
          51.949678146987154,
          48.53255002345296
         ],
         "yaxis": "y2"
        }
       ],
       "layout": {
        "barmode": "overlay",
        "legend": {
         "tracegroupgap": 0
        },
        "margin": {
         "t": 60
        },
        "template": {
         "data": {
          "bar": [
           {
            "error_x": {
             "color": "#f2f5fa"
            },
            "error_y": {
             "color": "#f2f5fa"
            },
            "marker": {
             "line": {
              "color": "rgb(17,17,17)",
              "width": 0.5
             },
             "pattern": {
              "fillmode": "overlay",
              "size": 10,
              "solidity": 0.2
             }
            },
            "type": "bar"
           }
          ],
          "barpolar": [
           {
            "marker": {
             "line": {
              "color": "rgb(17,17,17)",
              "width": 0.5
             },
             "pattern": {
              "fillmode": "overlay",
              "size": 10,
              "solidity": 0.2
             }
            },
            "type": "barpolar"
           }
          ],
          "carpet": [
           {
            "aaxis": {
             "endlinecolor": "#A2B1C6",
             "gridcolor": "#506784",
             "linecolor": "#506784",
             "minorgridcolor": "#506784",
             "startlinecolor": "#A2B1C6"
            },
            "baxis": {
             "endlinecolor": "#A2B1C6",
             "gridcolor": "#506784",
             "linecolor": "#506784",
             "minorgridcolor": "#506784",
             "startlinecolor": "#A2B1C6"
            },
            "type": "carpet"
           }
          ],
          "choropleth": [
           {
            "colorbar": {
             "outlinewidth": 0,
             "ticks": ""
            },
            "type": "choropleth"
           }
          ],
          "contour": [
           {
            "colorbar": {
             "outlinewidth": 0,
             "ticks": ""
            },
            "colorscale": [
             [
              0,
              "#0d0887"
             ],
             [
              0.1111111111111111,
              "#46039f"
             ],
             [
              0.2222222222222222,
              "#7201a8"
             ],
             [
              0.3333333333333333,
              "#9c179e"
             ],
             [
              0.4444444444444444,
              "#bd3786"
             ],
             [
              0.5555555555555556,
              "#d8576b"
             ],
             [
              0.6666666666666666,
              "#ed7953"
             ],
             [
              0.7777777777777778,
              "#fb9f3a"
             ],
             [
              0.8888888888888888,
              "#fdca26"
             ],
             [
              1,
              "#f0f921"
             ]
            ],
            "type": "contour"
           }
          ],
          "contourcarpet": [
           {
            "colorbar": {
             "outlinewidth": 0,
             "ticks": ""
            },
            "type": "contourcarpet"
           }
          ],
          "heatmap": [
           {
            "colorbar": {
             "outlinewidth": 0,
             "ticks": ""
            },
            "colorscale": [
             [
              0,
              "#0d0887"
             ],
             [
              0.1111111111111111,
              "#46039f"
             ],
             [
              0.2222222222222222,
              "#7201a8"
             ],
             [
              0.3333333333333333,
              "#9c179e"
             ],
             [
              0.4444444444444444,
              "#bd3786"
             ],
             [
              0.5555555555555556,
              "#d8576b"
             ],
             [
              0.6666666666666666,
              "#ed7953"
             ],
             [
              0.7777777777777778,
              "#fb9f3a"
             ],
             [
              0.8888888888888888,
              "#fdca26"
             ],
             [
              1,
              "#f0f921"
             ]
            ],
            "type": "heatmap"
           }
          ],
          "heatmapgl": [
           {
            "colorbar": {
             "outlinewidth": 0,
             "ticks": ""
            },
            "colorscale": [
             [
              0,
              "#0d0887"
             ],
             [
              0.1111111111111111,
              "#46039f"
             ],
             [
              0.2222222222222222,
              "#7201a8"
             ],
             [
              0.3333333333333333,
              "#9c179e"
             ],
             [
              0.4444444444444444,
              "#bd3786"
             ],
             [
              0.5555555555555556,
              "#d8576b"
             ],
             [
              0.6666666666666666,
              "#ed7953"
             ],
             [
              0.7777777777777778,
              "#fb9f3a"
             ],
             [
              0.8888888888888888,
              "#fdca26"
             ],
             [
              1,
              "#f0f921"
             ]
            ],
            "type": "heatmapgl"
           }
          ],
          "histogram": [
           {
            "marker": {
             "pattern": {
              "fillmode": "overlay",
              "size": 10,
              "solidity": 0.2
             }
            },
            "type": "histogram"
           }
          ],
          "histogram2d": [
           {
            "colorbar": {
             "outlinewidth": 0,
             "ticks": ""
            },
            "colorscale": [
             [
              0,
              "#0d0887"
             ],
             [
              0.1111111111111111,
              "#46039f"
             ],
             [
              0.2222222222222222,
              "#7201a8"
             ],
             [
              0.3333333333333333,
              "#9c179e"
             ],
             [
              0.4444444444444444,
              "#bd3786"
             ],
             [
              0.5555555555555556,
              "#d8576b"
             ],
             [
              0.6666666666666666,
              "#ed7953"
             ],
             [
              0.7777777777777778,
              "#fb9f3a"
             ],
             [
              0.8888888888888888,
              "#fdca26"
             ],
             [
              1,
              "#f0f921"
             ]
            ],
            "type": "histogram2d"
           }
          ],
          "histogram2dcontour": [
           {
            "colorbar": {
             "outlinewidth": 0,
             "ticks": ""
            },
            "colorscale": [
             [
              0,
              "#0d0887"
             ],
             [
              0.1111111111111111,
              "#46039f"
             ],
             [
              0.2222222222222222,
              "#7201a8"
             ],
             [
              0.3333333333333333,
              "#9c179e"
             ],
             [
              0.4444444444444444,
              "#bd3786"
             ],
             [
              0.5555555555555556,
              "#d8576b"
             ],
             [
              0.6666666666666666,
              "#ed7953"
             ],
             [
              0.7777777777777778,
              "#fb9f3a"
             ],
             [
              0.8888888888888888,
              "#fdca26"
             ],
             [
              1,
              "#f0f921"
             ]
            ],
            "type": "histogram2dcontour"
           }
          ],
          "mesh3d": [
           {
            "colorbar": {
             "outlinewidth": 0,
             "ticks": ""
            },
            "type": "mesh3d"
           }
          ],
          "parcoords": [
           {
            "line": {
             "colorbar": {
              "outlinewidth": 0,
              "ticks": ""
             }
            },
            "type": "parcoords"
           }
          ],
          "pie": [
           {
            "automargin": true,
            "type": "pie"
           }
          ],
          "scatter": [
           {
            "marker": {
             "line": {
              "color": "#283442"
             }
            },
            "type": "scatter"
           }
          ],
          "scatter3d": [
           {
            "line": {
             "colorbar": {
              "outlinewidth": 0,
              "ticks": ""
             }
            },
            "marker": {
             "colorbar": {
              "outlinewidth": 0,
              "ticks": ""
             }
            },
            "type": "scatter3d"
           }
          ],
          "scattercarpet": [
           {
            "marker": {
             "colorbar": {
              "outlinewidth": 0,
              "ticks": ""
             }
            },
            "type": "scattercarpet"
           }
          ],
          "scattergeo": [
           {
            "marker": {
             "colorbar": {
              "outlinewidth": 0,
              "ticks": ""
             }
            },
            "type": "scattergeo"
           }
          ],
          "scattergl": [
           {
            "marker": {
             "line": {
              "color": "#283442"
             }
            },
            "type": "scattergl"
           }
          ],
          "scattermapbox": [
           {
            "marker": {
             "colorbar": {
              "outlinewidth": 0,
              "ticks": ""
             }
            },
            "type": "scattermapbox"
           }
          ],
          "scatterpolar": [
           {
            "marker": {
             "colorbar": {
              "outlinewidth": 0,
              "ticks": ""
             }
            },
            "type": "scatterpolar"
           }
          ],
          "scatterpolargl": [
           {
            "marker": {
             "colorbar": {
              "outlinewidth": 0,
              "ticks": ""
             }
            },
            "type": "scatterpolargl"
           }
          ],
          "scatterternary": [
           {
            "marker": {
             "colorbar": {
              "outlinewidth": 0,
              "ticks": ""
             }
            },
            "type": "scatterternary"
           }
          ],
          "surface": [
           {
            "colorbar": {
             "outlinewidth": 0,
             "ticks": ""
            },
            "colorscale": [
             [
              0,
              "#0d0887"
             ],
             [
              0.1111111111111111,
              "#46039f"
             ],
             [
              0.2222222222222222,
              "#7201a8"
             ],
             [
              0.3333333333333333,
              "#9c179e"
             ],
             [
              0.4444444444444444,
              "#bd3786"
             ],
             [
              0.5555555555555556,
              "#d8576b"
             ],
             [
              0.6666666666666666,
              "#ed7953"
             ],
             [
              0.7777777777777778,
              "#fb9f3a"
             ],
             [
              0.8888888888888888,
              "#fdca26"
             ],
             [
              1,
              "#f0f921"
             ]
            ],
            "type": "surface"
           }
          ],
          "table": [
           {
            "cells": {
             "fill": {
              "color": "#506784"
             },
             "line": {
              "color": "rgb(17,17,17)"
             }
            },
            "header": {
             "fill": {
              "color": "#2a3f5f"
             },
             "line": {
              "color": "rgb(17,17,17)"
             }
            },
            "type": "table"
           }
          ]
         },
         "layout": {
          "annotationdefaults": {
           "arrowcolor": "#f2f5fa",
           "arrowhead": 0,
           "arrowwidth": 1
          },
          "autotypenumbers": "strict",
          "coloraxis": {
           "colorbar": {
            "outlinewidth": 0,
            "ticks": ""
           }
          },
          "colorscale": {
           "diverging": [
            [
             0,
             "#8e0152"
            ],
            [
             0.1,
             "#c51b7d"
            ],
            [
             0.2,
             "#de77ae"
            ],
            [
             0.3,
             "#f1b6da"
            ],
            [
             0.4,
             "#fde0ef"
            ],
            [
             0.5,
             "#f7f7f7"
            ],
            [
             0.6,
             "#e6f5d0"
            ],
            [
             0.7,
             "#b8e186"
            ],
            [
             0.8,
             "#7fbc41"
            ],
            [
             0.9,
             "#4d9221"
            ],
            [
             1,
             "#276419"
            ]
           ],
           "sequential": [
            [
             0,
             "#0d0887"
            ],
            [
             0.1111111111111111,
             "#46039f"
            ],
            [
             0.2222222222222222,
             "#7201a8"
            ],
            [
             0.3333333333333333,
             "#9c179e"
            ],
            [
             0.4444444444444444,
             "#bd3786"
            ],
            [
             0.5555555555555556,
             "#d8576b"
            ],
            [
             0.6666666666666666,
             "#ed7953"
            ],
            [
             0.7777777777777778,
             "#fb9f3a"
            ],
            [
             0.8888888888888888,
             "#fdca26"
            ],
            [
             1,
             "#f0f921"
            ]
           ],
           "sequentialminus": [
            [
             0,
             "#0d0887"
            ],
            [
             0.1111111111111111,
             "#46039f"
            ],
            [
             0.2222222222222222,
             "#7201a8"
            ],
            [
             0.3333333333333333,
             "#9c179e"
            ],
            [
             0.4444444444444444,
             "#bd3786"
            ],
            [
             0.5555555555555556,
             "#d8576b"
            ],
            [
             0.6666666666666666,
             "#ed7953"
            ],
            [
             0.7777777777777778,
             "#fb9f3a"
            ],
            [
             0.8888888888888888,
             "#fdca26"
            ],
            [
             1,
             "#f0f921"
            ]
           ]
          },
          "colorway": [
           "#636efa",
           "#EF553B",
           "#00cc96",
           "#ab63fa",
           "#FFA15A",
           "#19d3f3",
           "#FF6692",
           "#B6E880",
           "#FF97FF",
           "#FECB52"
          ],
          "font": {
           "color": "#f2f5fa"
          },
          "geo": {
           "bgcolor": "rgb(17,17,17)",
           "lakecolor": "rgb(17,17,17)",
           "landcolor": "rgb(17,17,17)",
           "showlakes": true,
           "showland": true,
           "subunitcolor": "#506784"
          },
          "hoverlabel": {
           "align": "left"
          },
          "hovermode": "closest",
          "mapbox": {
           "style": "dark"
          },
          "paper_bgcolor": "rgb(17,17,17)",
          "plot_bgcolor": "rgb(17,17,17)",
          "polar": {
           "angularaxis": {
            "gridcolor": "#506784",
            "linecolor": "#506784",
            "ticks": ""
           },
           "bgcolor": "rgb(17,17,17)",
           "radialaxis": {
            "gridcolor": "#506784",
            "linecolor": "#506784",
            "ticks": ""
           }
          },
          "scene": {
           "xaxis": {
            "backgroundcolor": "rgb(17,17,17)",
            "gridcolor": "#506784",
            "gridwidth": 2,
            "linecolor": "#506784",
            "showbackground": true,
            "ticks": "",
            "zerolinecolor": "#C8D4E3"
           },
           "yaxis": {
            "backgroundcolor": "rgb(17,17,17)",
            "gridcolor": "#506784",
            "gridwidth": 2,
            "linecolor": "#506784",
            "showbackground": true,
            "ticks": "",
            "zerolinecolor": "#C8D4E3"
           },
           "zaxis": {
            "backgroundcolor": "rgb(17,17,17)",
            "gridcolor": "#506784",
            "gridwidth": 2,
            "linecolor": "#506784",
            "showbackground": true,
            "ticks": "",
            "zerolinecolor": "#C8D4E3"
           }
          },
          "shapedefaults": {
           "line": {
            "color": "#f2f5fa"
           }
          },
          "sliderdefaults": {
           "bgcolor": "#C8D4E3",
           "bordercolor": "rgb(17,17,17)",
           "borderwidth": 1,
           "tickwidth": 0
          },
          "ternary": {
           "aaxis": {
            "gridcolor": "#506784",
            "linecolor": "#506784",
            "ticks": ""
           },
           "baxis": {
            "gridcolor": "#506784",
            "linecolor": "#506784",
            "ticks": ""
           },
           "bgcolor": "rgb(17,17,17)",
           "caxis": {
            "gridcolor": "#506784",
            "linecolor": "#506784",
            "ticks": ""
           }
          },
          "title": {
           "x": 0.05
          },
          "updatemenudefaults": {
           "bgcolor": "#506784",
           "borderwidth": 0
          },
          "xaxis": {
           "automargin": true,
           "gridcolor": "#283442",
           "linecolor": "#506784",
           "ticks": "",
           "title": {
            "standoff": 15
           },
           "zerolinecolor": "#283442",
           "zerolinewidth": 2
          },
          "yaxis": {
           "automargin": true,
           "gridcolor": "#283442",
           "linecolor": "#506784",
           "ticks": "",
           "title": {
            "standoff": 15
           },
           "zerolinecolor": "#283442",
           "zerolinewidth": 2
          }
         }
        },
        "xaxis": {
         "anchor": "y",
         "domain": [
          0,
          0.7363
         ],
         "title": {
          "text": "warp"
         }
        },
        "xaxis2": {
         "anchor": "y2",
         "domain": [
          0.7413,
          1
         ],
         "matches": "x2",
         "showgrid": true,
         "showline": false,
         "showticklabels": false,
         "ticks": ""
        },
        "xaxis3": {
         "anchor": "y3",
         "domain": [
          0,
          0.7363
         ],
         "matches": "x",
         "showgrid": true,
         "showticklabels": false
        },
        "xaxis4": {
         "anchor": "y4",
         "domain": [
          0.7413,
          1
         ],
         "matches": "x2",
         "showgrid": true,
         "showline": false,
         "showticklabels": false,
         "ticks": ""
        },
        "yaxis": {
         "anchor": "x",
         "domain": [
          0,
          0.7326
         ],
         "title": {
          "text": "fpts"
         }
        },
        "yaxis2": {
         "anchor": "x2",
         "domain": [
          0,
          0.7326
         ],
         "matches": "y",
         "showgrid": true,
         "showticklabels": false
        },
        "yaxis3": {
         "anchor": "x3",
         "domain": [
          0.7426,
          1
         ],
         "matches": "y3",
         "showgrid": true,
         "showline": false,
         "showticklabels": false,
         "ticks": ""
        },
        "yaxis4": {
         "anchor": "x4",
         "domain": [
          0.7426,
          1
         ],
         "matches": "y3",
         "showgrid": true,
         "showline": false,
         "showticklabels": false,
         "ticks": ""
        }
       }
      }
     },
     "metadata": {},
     "output_type": "display_data"
    }
   ],
   "source": [
    "fig = px.scatter(\n",
    "    df_pecota_all[[\"name\", \"age\", \"pa\", \"warp\", \"fantraxid\", \"fpts\"]],\n",
    "    x=\"warp\",\n",
    "    y=\"fpts\",\n",
    "    # color = \"pa\",\n",
    "    hover_data=[\"name\", \"fantraxid\"],\n",
    "    marginal_x=\"histogram\",\n",
    "    marginal_y=\"histogram\",\n",
    ")\n",
    "fig.show()"
   ]
  },
  {
   "cell_type": "code",
   "execution_count": 9,
   "metadata": {},
   "outputs": [
    {
     "name": "stdout",
     "output_type": "stream",
     "text": [
      "requesting player IDs. status code: 200\n"
     ]
    },
    {
     "data": {
      "text/plain": [
       "{'statsIncId': 10835,\n",
       " 'rotowireId': 12739,\n",
       " 'sportRadarId': '80de60c9-74e3-4a50-b128-b3dc7456a254',\n",
       " 'name': 'Ohtani, Shohei',\n",
       " 'fantraxId': '02yc4',\n",
       " 'team': 'LAD',\n",
       " 'position': 'DH'}"
      ]
     },
     "execution_count": 9,
     "metadata": {},
     "output_type": "execute_result"
    }
   ],
   "source": [
    "fetch_playerIDs()[\"02yc4\"]"
   ]
  },
  {
   "cell_type": "code",
   "execution_count": 10,
   "metadata": {},
   "outputs": [
    {
     "name": "stdout",
     "output_type": "stream",
     "text": [
      "requesting player IDs. status code: 200\n"
     ]
    },
    {
     "data": {
      "text/plain": [
       "{'name': 'Ohtani-P, Shohei',\n",
       " 'fantraxId': '06als',\n",
       " 'team': 'LAD',\n",
       " 'position': 'SP'}"
      ]
     },
     "execution_count": 10,
     "metadata": {},
     "output_type": "execute_result"
    }
   ],
   "source": [
    "fetch_playerIDs()[\"06als\"]"
   ]
  },
  {
   "cell_type": "code",
   "execution_count": null,
   "metadata": {},
   "outputs": [],
   "source": []
  }
 ],
 "metadata": {
  "kernelspec": {
   "display_name": "sports-env",
   "language": "python",
   "name": "python3"
  },
  "language_info": {
   "codemirror_mode": {
    "name": "ipython",
    "version": 3
   },
   "file_extension": ".py",
   "mimetype": "text/x-python",
   "name": "python",
   "nbconvert_exporter": "python",
   "pygments_lexer": "ipython3",
   "version": "3.12.1"
  }
 },
 "nbformat": 4,
 "nbformat_minor": 2
}
